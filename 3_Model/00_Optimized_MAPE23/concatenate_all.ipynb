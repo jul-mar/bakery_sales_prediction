{
 "cells": [
  {
   "cell_type": "markdown",
   "metadata": {},
   "source": [
    "Nachdem jeder von uns eine lineare Regression über 2 Warengruppen berechnet hat und bereits mit der richtigen id zum hochkaden versehen hat werden diese files nun hier zusammen geführt. Die finale datei kann dann bei kaggle hochgeladen werden."
   ]
  },
  {
   "cell_type": "code",
   "execution_count": 8,
   "metadata": {},
   "outputs": [],
   "source": [
    "import pandas as pd\n",
    "import numpy as np"
   ]
  },
  {
   "cell_type": "code",
   "execution_count": 9,
   "metadata": {},
   "outputs": [
    {
     "name": "stdout",
     "output_type": "stream",
     "text": [
      "        id     Umsatz\n",
      "0  1808011  135.10450\n",
      "1  1808021  147.67903\n",
      "2  1808031  140.65598\n",
      "3  1808041  155.17026\n",
      "4  1808051   86.69878\n",
      "        id     Umsatz\n",
      "0  1808012  485.14615\n",
      "1  1808022  484.47586\n",
      "2  1808032  484.47586\n",
      "3  1808042  592.04785\n",
      "4  1808052  609.59204\n",
      "        id     Umsatz\n",
      "0  1808013  258.26862\n",
      "1  1808023  268.59085\n",
      "2  1808033  271.55487\n",
      "3  1808043  338.71643\n",
      "4  1808053  329.19388\n",
      "        id      Umsatz\n",
      "0  1808014   73.967450\n",
      "1  1808024   70.697174\n",
      "2  1808034   70.717990\n",
      "3  1808044   67.746765\n",
      "4  1808054  110.582275\n",
      "        id     Umsatz\n",
      "0  1808015  245.06833\n",
      "1  1808025  233.28333\n",
      "2  1808035  245.47070\n",
      "3  1808045  268.57720\n",
      "4  1808055  274.72842\n",
      "        id     Umsatz\n",
      "0  1811016  57.934290\n",
      "1  1811026  49.913746\n",
      "2  1811036  72.943030\n",
      "3  1811046  50.086536\n",
      "4  1811056  43.231420\n"
     ]
    }
   ],
   "source": [
    "#load the data\n",
    "#Warengruppe_1 = Brot\n",
    "df_1 = pd.read_csv('./Brot_Umsatzvorhersage.csv')\n",
    "print(df_1.head())\n",
    "\n",
    "#Warengruppe_2 = Brötchen\n",
    "df_2 = pd.read_csv('./Broetchen_Umsatzvorhersage.csv')\n",
    "print(df_2.head())\n",
    "\n",
    "#Warengruppe_3 = Croissants\n",
    "df_3 = pd.read_csv('./predictions_croissant.csv')\n",
    "print(df_3.head())\n",
    "\n",
    "#Warengruppe_4 = Konditorei\n",
    "df_4 = pd.read_csv('./02_Konditorei_predictions.csv')\n",
    "print(df_4.head())\n",
    "\n",
    "#Warengruppe_5 = Kuchen\n",
    "df_5 = pd.read_csv('./02_Kuchen_predictions.csv')\n",
    "print(df_5.head())\n",
    "\n",
    "#Warengruppe_6 = Saisonbrot\n",
    "df_6 = pd.read_csv('./02_Saisonbrot_predictions.csv')\n",
    "print(df_6.head())"
   ]
  },
  {
   "cell_type": "code",
   "execution_count": 10,
   "metadata": {},
   "outputs": [
    {
     "name": "stdout",
     "output_type": "stream",
     "text": [
      "        id     Umsatz\n",
      "0  1808011  135.10450\n",
      "1  1808021  147.67903\n",
      "2  1808031  140.65598\n",
      "3  1808041  155.17026\n",
      "4  1808051   86.69878\n",
      "         id     Umsatz\n",
      "51  1812226  94.735230\n",
      "52  1812236  79.472374\n",
      "53  1812246  49.586230\n",
      "54  1812276  58.051350\n",
      "55  1812286  59.125233\n",
      "(1830, 2)\n"
     ]
    }
   ],
   "source": [
    "#concatenate the data\n",
    "df = pd.concat([df_1, df_2, df_3, df_4, df_5, df_6])\n",
    "print(df.head())\n",
    "print(df.tail())\n",
    "\n",
    "print(df.shape)"
   ]
  },
  {
   "cell_type": "code",
   "execution_count": 11,
   "metadata": {},
   "outputs": [
    {
     "name": "stdout",
     "output_type": "stream",
     "text": [
      "        id  Umsatz\n",
      "0  1808011       0\n",
      "1  1808021       0\n",
      "2  1808031       0\n",
      "3  1808041       0\n",
      "4  1808051       0\n",
      "           id  Umsatz\n",
      "1825  1812226       0\n",
      "1826  1812236       0\n",
      "1827  1812246       0\n",
      "1828  1812276       0\n",
      "1829  1812286       0\n",
      "(1830, 2)\n"
     ]
    }
   ],
   "source": [
    "#als kontrolle einmal die samplesubmission einlesen\n",
    "df_sample = pd.read_csv('./sample_submission.csv')\n",
    "print(df_sample.head())\n",
    "print(df_sample.tail())\n",
    "print(df_sample.shape)"
   ]
  },
  {
   "cell_type": "code",
   "execution_count": 12,
   "metadata": {},
   "outputs": [],
   "source": [
    "#export the data\n",
    "df.to_csv('./Umsatzvorhersage_Team12.csv', index=False)"
   ]
  },
  {
   "cell_type": "code",
   "execution_count": null,
   "metadata": {},
   "outputs": [],
   "source": []
  }
 ],
 "metadata": {
  "kernelspec": {
   "display_name": ".venv",
   "language": "python",
   "name": "python3"
  },
  "language_info": {
   "codemirror_mode": {
    "name": "ipython",
    "version": 3
   },
   "file_extension": ".py",
   "mimetype": "text/x-python",
   "name": "python",
   "nbconvert_exporter": "python",
   "pygments_lexer": "ipython3",
   "version": "3.12.1"
  }
 },
 "nbformat": 4,
 "nbformat_minor": 2
}
