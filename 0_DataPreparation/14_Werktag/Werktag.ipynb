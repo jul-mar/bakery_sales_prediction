{
 "cells": [
  {
   "cell_type": "code",
   "execution_count": 12,
   "metadata": {},
   "outputs": [],
   "source": [
    "import pandas as pd\n",
    "\n",
    "# Daten laden\n",
    "df_wochentage = pd.read_csv(\"/workspaces/bakery_sales_prediction/0_DataPreparation/09_Wochentage/wochentage_bis_2019.csv\")\n",
    "df_feiertage = pd.read_csv(\"/workspaces/bakery_sales_prediction/0_DataPreparation/04_Feiertage/feiertage_final.csv\", sep=';')\n"
   ]
  },
  {
   "cell_type": "code",
   "execution_count": 13,
   "metadata": {},
   "outputs": [
    {
     "name": "stdout",
     "output_type": "stream",
     "text": [
      "        Datum  Montag  Dienstag  Mittwoch  Donnerstag  Freitag  Samstag  \\\n",
      "0  2013-07-01       1         0         0           0        0        0   \n",
      "1  2013-07-02       0         1         0           0        0        0   \n",
      "2  2013-07-03       0         0         1           0        0        0   \n",
      "3  2013-07-04       0         0         0           1        0        0   \n",
      "4  2013-07-05       0         0         0           0        1        0   \n",
      "\n",
      "   Sonntag  Feiertag  \n",
      "0        0         0  \n",
      "1        0         0  \n",
      "2        0         0  \n",
      "3        0         0  \n",
      "4        0         0  \n"
     ]
    }
   ],
   "source": [
    "# mergen\n",
    "df = pd.merge(df_wochentage, df_feiertage, how='left', left_on='Datum', right_on='Datum')\n",
    "print(df.head())"
   ]
  },
  {
   "cell_type": "code",
   "execution_count": 14,
   "metadata": {},
   "outputs": [
    {
     "name": "stdout",
     "output_type": "stream",
     "text": [
      "        Datum  Montag  Dienstag  Mittwoch  Donnerstag  Freitag  Samstag  \\\n",
      "0  2013-07-01       1         0         0           0        0        0   \n",
      "1  2013-07-02       0         1         0           0        0        0   \n",
      "2  2013-07-03       0         0         1           0        0        0   \n",
      "3  2013-07-04       0         0         0           1        0        0   \n",
      "4  2013-07-05       0         0         0           0        1        0   \n",
      "\n",
      "   Sonntag  Feiertag  Werktag  \n",
      "0        0         0        1  \n",
      "1        0         0        1  \n",
      "2        0         0        1  \n",
      "3        0         0        1  \n",
      "4        0         0        1  \n"
     ]
    }
   ],
   "source": [
    "# Werktage erstellen\n",
    "df['Werktag'] = (\n",
    "    df[['Montag', 'Dienstag', 'Mittwoch', 'Donnerstag', 'Freitag']].sum(axis=1) > 0\n",
    ") & (df['Feiertag'] == 0)\n",
    "# In 0/1 umwandeln\n",
    "df['Werktag'] = df['Werktag'].astype(int)\n",
    "print(df.head())"
   ]
  },
  {
   "cell_type": "code",
   "execution_count": 15,
   "metadata": {},
   "outputs": [],
   "source": [
    "#abspeichern, alles raus außer Datum und Werktage\n",
    "# Wähle die Spalten \"Datum\" und \"Werktag\" aus\n",
    "df_final = df[[\"Datum\", \"Werktag\"]]\n",
    "\n",
    "# Speichere das DataFrame als CSV\n",
    "df_final.to_csv(\"Werktag.csv\", index=False)"
   ]
  }
 ],
 "metadata": {
  "kernelspec": {
   "display_name": ".venv",
   "language": "python",
   "name": "python3"
  },
  "language_info": {
   "codemirror_mode": {
    "name": "ipython",
    "version": 3
   },
   "file_extension": ".py",
   "mimetype": "text/x-python",
   "name": "python",
   "nbconvert_exporter": "python",
   "pygments_lexer": "ipython3",
   "version": "3.12.1"
  }
 },
 "nbformat": 4,
 "nbformat_minor": 2
}
