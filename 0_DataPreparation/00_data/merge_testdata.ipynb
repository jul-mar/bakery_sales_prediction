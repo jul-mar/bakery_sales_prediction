{
 "cells": [
  {
   "cell_type": "markdown",
   "metadata": {},
   "source": [
    "Hier werden alle Daten aus verschiedenen Quellen zu einem großen Dataframe zusammen gefasst. Das sind zum einen die Daten welche uns vom Kurs zu Verfügung gestellt wurden, als auch die daten welche wir selber noch gefunden haben."
   ]
  },
  {
   "cell_type": "code",
   "execution_count": 1,
   "metadata": {},
   "outputs": [],
   "source": [
    "#packete für data handling laden\n",
    "import pandas as pd\n",
    "import numpy as np\n",
    "import matplotlib.pyplot as plt\n",
    "import seaborn as sns\n",
    "import os"
   ]
  },
  {
   "cell_type": "code",
   "execution_count": 2,
   "metadata": {},
   "outputs": [
    {
     "name": "stdout",
     "output_type": "stream",
     "text": [
      "        id       Datum  Warengruppe\n",
      "0  1808011  2018-08-01            1\n",
      "1  1808021  2018-08-02            1\n",
      "2  1808031  2018-08-03            1\n",
      "3  1808041  2018-08-04            1\n",
      "4  1808051  2018-08-05            1\n",
      "           id       Datum  Warengruppe\n",
      "1825  1812226  2018-12-22            6\n",
      "1826  1812236  2018-12-23            6\n",
      "1827  1812246  2018-12-24            6\n",
      "1828  1812276  2018-12-27            6\n",
      "1829  1812286  2018-12-28            6\n",
      "(1830, 3)\n"
     ]
    }
   ],
   "source": [
    "#Einlesen der Basisidaten, welche wir zur verfügung gestellt bekommen haben\n",
    "\n",
    "#Umsatzdaten\n",
    "umsatz = pd.read_csv(\"/workspaces/bakery_sales_prediction/0_DataPreparation/00_data/test.csv\")\n",
    "print(umsatz.head())\n",
    "print(umsatz.tail())\n",
    "print(umsatz.shape)\n"
   ]
  },
  {
   "cell_type": "code",
   "execution_count": 3,
   "metadata": {},
   "outputs": [
    {
     "name": "stdout",
     "output_type": "stream",
     "text": [
      "        id       Datum  Warengruppe_1  Warengruppe_2  Warengruppe_3  \\\n",
      "0  1808011  2018-08-01              1              0              0   \n",
      "1  1808021  2018-08-02              1              0              0   \n",
      "2  1808031  2018-08-03              1              0              0   \n",
      "3  1808041  2018-08-04              1              0              0   \n",
      "4  1808051  2018-08-05              1              0              0   \n",
      "\n",
      "   Warengruppe_4  Warengruppe_5  Warengruppe_6  \n",
      "0              0              0              0  \n",
      "1              0              0              0  \n",
      "2              0              0              0  \n",
      "3              0              0              0  \n",
      "4              0              0              0  \n"
     ]
    }
   ],
   "source": [
    "#Warengruppen one hot encoden\n",
    "\n",
    "umsatz = pd.get_dummies(umsatz, columns=['Warengruppe'])\n",
    "umsatz = umsatz * 1\n",
    "print(umsatz.head())"
   ]
  },
  {
   "cell_type": "code",
   "execution_count": 4,
   "metadata": {},
   "outputs": [
    {
     "name": "stdout",
     "output_type": "stream",
     "text": [
      "        Datum  Temp_Very_Cold  Temp_Cold  Temp_Mild  Temp_Warm  Temp_Hot  \\\n",
      "0  2012-01-01               0          1          0          0         0   \n",
      "1  2012-01-02               0          1          0          0         0   \n",
      "2  2012-01-03               0          1          0          0         0   \n",
      "3  2012-01-04               0          1          0          0         0   \n",
      "4  2012-01-05               0          1          0          0         0   \n",
      "\n",
      "   Cloud_Clear  Cloud_Partly_Cloudy  Cloud_Cloudy  Wind_Light  Wind_Moderate  \\\n",
      "0            0                    0             1           0              1   \n",
      "1            0                    0             1           0              1   \n",
      "2            0                    0             1           0              0   \n",
      "3            0                    1             0           0              0   \n",
      "4            0                    0             1           0              0   \n",
      "\n",
      "   Wind_Strong  Weather_Good  Weather_Light_Issues  Weather_Moderate  \\\n",
      "0            0             0                     1                 0   \n",
      "1            0             0                     1                 0   \n",
      "2            1             0                     1                 0   \n",
      "3            1             0                     0                 0   \n",
      "4            1             0                     0                 0   \n",
      "\n",
      "   Weather_Severe  \n",
      "0               0  \n",
      "1               0  \n",
      "2               0  \n",
      "3               1  \n",
      "4               1  \n",
      "           Datum  Temp_Very_Cold  Temp_Cold  Temp_Mild  Temp_Warm  Temp_Hot  \\\n",
      "2765  2019-07-28               0          0          0          1         0   \n",
      "2766  2019-07-29               0          0          0          0         1   \n",
      "2767  2019-07-30               0          0          0          1         0   \n",
      "2768  2019-07-31               0          0          0          1         0   \n",
      "2769  2019-08-01               0          0          0          1         0   \n",
      "\n",
      "      Cloud_Clear  Cloud_Partly_Cloudy  Cloud_Cloudy  Wind_Light  \\\n",
      "2765            0                    1             0           0   \n",
      "2766            0                    0             1           1   \n",
      "2767            0                    0             1           1   \n",
      "2768            0                    0             1           1   \n",
      "2769            0                    1             0           0   \n",
      "\n",
      "      Wind_Moderate  Wind_Strong  Weather_Good  Weather_Light_Issues  \\\n",
      "2765              1            0             0                     0   \n",
      "2766              0            0             0                     1   \n",
      "2767              0            0             0                     1   \n",
      "2768              0            0             0                     1   \n",
      "2769              1            0             0                     1   \n",
      "\n",
      "      Weather_Moderate  Weather_Severe  \n",
      "2765                 1               0  \n",
      "2766                 0               0  \n",
      "2767                 0               0  \n",
      "2768                 0               0  \n",
      "2769                 0               0  \n",
      "(2770, 16)\n"
     ]
    }
   ],
   "source": [
    "#Wetterdaten\n",
    "wetter = pd.read_csv(\"/workspaces/bakery_sales_prediction/0_DataPreparation/07_Wetter/07_wetter.csv\")\n",
    "print(wetter.head())\n",
    "print(wetter.tail())\n",
    "print(wetter.shape)"
   ]
  },
  {
   "cell_type": "code",
   "execution_count": 5,
   "metadata": {},
   "outputs": [
    {
     "name": "stdout",
     "output_type": "stream",
     "text": [
      "        id       Datum  Warengruppe_1  Warengruppe_2  Warengruppe_3  \\\n",
      "0  1808011  2018-08-01              1              0              0   \n",
      "1  1808021  2018-08-02              1              0              0   \n",
      "2  1808031  2018-08-03              1              0              0   \n",
      "3  1808041  2018-08-04              1              0              0   \n",
      "4  1808051  2018-08-05              1              0              0   \n",
      "\n",
      "   Warengruppe_4  Warengruppe_5  Warengruppe_6  Temp_Very_Cold  Temp_Cold  \\\n",
      "0              0              0              0               0          0   \n",
      "1              0              0              0               0          0   \n",
      "2              0              0              0               0          0   \n",
      "3              0              0              0               0          0   \n",
      "4              0              0              0               0          0   \n",
      "\n",
      "   ...  Cloud_Clear  Cloud_Partly_Cloudy  Cloud_Cloudy  Wind_Light  \\\n",
      "0  ...            1                    0             0           0   \n",
      "1  ...            1                    0             0           0   \n",
      "2  ...            1                    0             0           0   \n",
      "3  ...            0                    1             0           0   \n",
      "4  ...            0                    0             1           0   \n",
      "\n",
      "   Wind_Moderate  Wind_Strong  Weather_Good  Weather_Light_Issues  \\\n",
      "0              1            0             1                     0   \n",
      "1              1            0             1                     0   \n",
      "2              1            0             1                     0   \n",
      "3              1            0             1                     0   \n",
      "4              1            0             0                     1   \n",
      "\n",
      "   Weather_Moderate  Weather_Severe  \n",
      "0                 0               0  \n",
      "1                 0               0  \n",
      "2                 0               0  \n",
      "3                 0               0  \n",
      "4                 0               0  \n",
      "\n",
      "[5 rows x 23 columns]\n",
      "(1830, 23)\n"
     ]
    }
   ],
   "source": [
    "#nun können die Umsatzdaten mit den Wetterdaten zusammengeführt werden\n",
    "#merge the data\n",
    "data = pd.merge(umsatz,wetter, how='left', on='Datum')\n",
    "print(data.head())\n",
    "print(data.shape)\n",
    "\n",
    "#es werden nur die Zeilen behalten, für welche es Umsatzdaten gibt"
   ]
  },
  {
   "cell_type": "code",
   "execution_count": 6,
   "metadata": {},
   "outputs": [
    {
     "name": "stdout",
     "output_type": "stream",
     "text": [
      "        Datum  KielerWoche\n",
      "0  2012-06-16            1\n",
      "1  2012-06-17            1\n",
      "2  2012-06-18            1\n",
      "3  2012-06-19            1\n",
      "4  2012-06-20            1\n",
      "         Datum  KielerWoche\n",
      "67  2019-06-26            1\n",
      "68  2019-06-27            1\n",
      "69  2019-06-28            1\n",
      "70  2019-06-29            1\n",
      "71  2019-06-30            1\n",
      "(72, 2)\n"
     ]
    }
   ],
   "source": [
    "#Kieler Woche Daten\n",
    "kiwo = pd.read_csv(\"/workspaces/bakery_sales_prediction/0_DataPreparation/kiwo.csv\")\n",
    "print(kiwo.head())\n",
    "print(kiwo.tail())\n",
    "print(kiwo.shape)"
   ]
  },
  {
   "cell_type": "code",
   "execution_count": null,
   "metadata": {},
   "outputs": [
    {
     "name": "stdout",
     "output_type": "stream",
     "text": [
      "        id       Datum  Warengruppe_1  Warengruppe_2  Warengruppe_3  \\\n",
      "0  1808011  2018-08-01              1              0              0   \n",
      "1  1808021  2018-08-02              1              0              0   \n",
      "2  1808031  2018-08-03              1              0              0   \n",
      "3  1808041  2018-08-04              1              0              0   \n",
      "4  1808051  2018-08-05              1              0              0   \n",
      "\n",
      "   Warengruppe_4  Warengruppe_5  Warengruppe_6  Temp_Very_Cold  Temp_Cold  \\\n",
      "0              0              0              0               0          0   \n",
      "1              0              0              0               0          0   \n",
      "2              0              0              0               0          0   \n",
      "3              0              0              0               0          0   \n",
      "4              0              0              0               0          0   \n",
      "\n",
      "   ...  Cloud_Partly_Cloudy  Cloud_Cloudy  Wind_Light  Wind_Moderate  \\\n",
      "0  ...                    0             0           0              1   \n",
      "1  ...                    0             0           0              1   \n",
      "2  ...                    0             0           0              1   \n",
      "3  ...                    1             0           0              1   \n",
      "4  ...                    0             1           0              1   \n",
      "\n",
      "   Wind_Strong  Weather_Good  Weather_Light_Issues  Weather_Moderate  \\\n",
      "0            0             1                     0                 0   \n",
      "1            0             1                     0                 0   \n",
      "2            0             1                     0                 0   \n",
      "3            0             1                     0                 0   \n",
      "4            0             0                     1                 0   \n",
      "\n",
      "   Weather_Severe  KielerWoche  \n",
      "0               0          NaN  \n",
      "1               0          NaN  \n",
      "2               0          NaN  \n",
      "3               0          NaN  \n",
      "4               0          NaN  \n",
      "\n",
      "[5 rows x 24 columns]\n",
      "(1830, 24)\n",
      "        id       Datum  Warengruppe_1  Warengruppe_2  Warengruppe_3  \\\n",
      "0  1808011  2018-08-01              1              0              0   \n",
      "1  1808021  2018-08-02              1              0              0   \n",
      "2  1808031  2018-08-03              1              0              0   \n",
      "3  1808041  2018-08-04              1              0              0   \n",
      "4  1808051  2018-08-05              1              0              0   \n",
      "\n",
      "   Warengruppe_4  Warengruppe_5  Warengruppe_6  Temp_Very_Cold  Temp_Cold  \\\n",
      "0              0              0              0               0          0   \n",
      "1              0              0              0               0          0   \n",
      "2              0              0              0               0          0   \n",
      "3              0              0              0               0          0   \n",
      "4              0              0              0               0          0   \n",
      "\n",
      "   ...  Cloud_Partly_Cloudy  Cloud_Cloudy  Wind_Light  Wind_Moderate  \\\n",
      "0  ...                    0             0           0              1   \n",
      "1  ...                    0             0           0              1   \n",
      "2  ...                    0             0           0              1   \n",
      "3  ...                    1             0           0              1   \n",
      "4  ...                    0             1           0              1   \n",
      "\n",
      "   Wind_Strong  Weather_Good  Weather_Light_Issues  Weather_Moderate  \\\n",
      "0            0             1                     0                 0   \n",
      "1            0             1                     0                 0   \n",
      "2            0             1                     0                 0   \n",
      "3            0             1                     0                 0   \n",
      "4            0             0                     1                 0   \n",
      "\n",
      "   Weather_Severe  KielerWoche  \n",
      "0               0            0  \n",
      "1               0            0  \n",
      "2               0            0  \n",
      "3               0            0  \n",
      "4               0            0  \n",
      "\n",
      "[5 rows x 24 columns]\n",
      "(1830, 24)\n"
     ]
    }
   ],
   "source": [
    "# und nun noch die Kieler Woche Daten hinzufügen\n",
    "data = pd.merge(data, kiwo, how='left', on='Datum')\n",
    "print(data.head())\n",
    "print(data.shape)\n",
    "\n",
    "#im moment steht da eine 1.0 wenn es Kieler Woche ist und eine NaN wenn nicht. Das ändern wir jetzt\n",
    "data['KielerWoche'] = data['KielerWoche'].fillna(0)\n",
    "data['KielerWoche'] = data['KielerWoche'].astype(int)\n",
    "print(data.head())\n",
    "print(data.shape)"
   ]
  },
  {
   "cell_type": "code",
   "execution_count": null,
   "metadata": {},
   "outputs": [
    {
     "name": "stdout",
     "output_type": "stream",
     "text": [
      "        Datum  Montag  Dienstag  Mittwoch  Donnerstag  Freitag  Samstag  \\\n",
      "0  2013-07-01       1         0         0           0        0        0   \n",
      "1  2013-07-02       0         1         0           0        0        0   \n",
      "2  2013-07-03       0         0         1           0        0        0   \n",
      "3  2013-07-04       0         0         0           1        0        0   \n",
      "4  2013-07-05       0         0         0           0        1        0   \n",
      "\n",
      "   Sonntag  \n",
      "0        0  \n",
      "1        0  \n",
      "2        0  \n",
      "3        0  \n",
      "4        0  \n",
      "        id       Datum  Warengruppe_1  Warengruppe_2  Warengruppe_3  \\\n",
      "0  1808011  2018-08-01              1              0              0   \n",
      "1  1808021  2018-08-02              1              0              0   \n",
      "2  1808031  2018-08-03              1              0              0   \n",
      "3  1808041  2018-08-04              1              0              0   \n",
      "4  1808051  2018-08-05              1              0              0   \n",
      "\n",
      "   Warengruppe_4  Warengruppe_5  Warengruppe_6  Temp_Very_Cold  Temp_Cold  \\\n",
      "0              0              0              0               0          0   \n",
      "1              0              0              0               0          0   \n",
      "2              0              0              0               0          0   \n",
      "3              0              0              0               0          0   \n",
      "4              0              0              0               0          0   \n",
      "\n",
      "   ...  Weather_Moderate  Weather_Severe  KielerWoche  Montag  Dienstag  \\\n",
      "0  ...                 0               0            0       0         0   \n",
      "1  ...                 0               0            0       0         0   \n",
      "2  ...                 0               0            0       0         0   \n",
      "3  ...                 0               0            0       0         0   \n",
      "4  ...                 0               0            0       0         0   \n",
      "\n",
      "   Mittwoch  Donnerstag  Freitag  Samstag  Sonntag  \n",
      "0         1           0        0        0        0  \n",
      "1         0           1        0        0        0  \n",
      "2         0           0        1        0        0  \n",
      "3         0           0        0        1        0  \n",
      "4         0           0        0        0        1  \n",
      "\n",
      "[5 rows x 31 columns]\n",
      "(1830, 31)\n"
     ]
    }
   ],
   "source": [
    "#Wochentage hinzugefügen\n",
    "wochentag = pd.read_csv(\"/workspaces/bakery_sales_prediction/0_DataPreparation/09_Wochentage/wochentage_bis_2019.csv\")\n",
    "print(wochentag.head())\n",
    "\n",
    "#mergen der Daten\n",
    "data = pd.merge(data, wochentag, how='left', on='Datum')\n",
    "print(data.head())\n",
    "print(data.shape)"
   ]
  },
  {
   "cell_type": "markdown",
   "metadata": {},
   "source": [
    "Nun haben wir alle Basisidaten zusammen geführt. Jetzt können noch die Variablen, welche wir selber gesucht haben hinzugefügt werden."
   ]
  },
  {
   "cell_type": "code",
   "execution_count": 9,
   "metadata": {},
   "outputs": [
    {
     "name": "stdout",
     "output_type": "stream",
     "text": [
      "        Datum    VPI\n",
      "0  2013-07-01  0.931\n",
      "1  2013-07-02  0.931\n",
      "2  2013-07-03  0.931\n",
      "3  2013-07-04  0.931\n",
      "4  2013-07-05  0.931\n",
      "(2222, 2)\n",
      "        id       Datum  Warengruppe_1  Warengruppe_2  Warengruppe_3  \\\n",
      "0  1808011  2018-08-01              1              0              0   \n",
      "1  1808021  2018-08-02              1              0              0   \n",
      "2  1808031  2018-08-03              1              0              0   \n",
      "3  1808041  2018-08-04              1              0              0   \n",
      "4  1808051  2018-08-05              1              0              0   \n",
      "\n",
      "   Warengruppe_4  Warengruppe_5  Warengruppe_6  Temp_Very_Cold  Temp_Cold  \\\n",
      "0              0              0              0               0          0   \n",
      "1              0              0              0               0          0   \n",
      "2              0              0              0               0          0   \n",
      "3              0              0              0               0          0   \n",
      "4              0              0              0               0          0   \n",
      "\n",
      "   ...  Weather_Severe  KielerWoche  Montag  Dienstag  Mittwoch  Donnerstag  \\\n",
      "0  ...               0            0       0         0         1           0   \n",
      "1  ...               0            0       0         0         0           1   \n",
      "2  ...               0            0       0         0         0           0   \n",
      "3  ...               0            0       0         0         0           0   \n",
      "4  ...               0            0       0         0         0           0   \n",
      "\n",
      "   Freitag  Samstag  Sonntag    VPI  \n",
      "0        0        0        0  0.984  \n",
      "1        0        0        0  0.984  \n",
      "2        1        0        0  0.984  \n",
      "3        0        1        0  0.984  \n",
      "4        0        0        1  0.984  \n",
      "\n",
      "[5 rows x 32 columns]\n",
      "(1830, 32)\n"
     ]
    }
   ],
   "source": [
    "#hinzufügen der Inflationsdaten\n",
    "#einlesen der Daten\n",
    "inflation = pd.read_csv(\"/workspaces/bakery_sales_prediction/0_DataPreparation/02_Verbraucherpreisindex/vpi_daily.csv\")\n",
    "print(inflation.head())\n",
    "print(inflation.shape)\n",
    "\n",
    "#mergen der Daten\n",
    "data = pd.merge(data, inflation, how='left', on='Datum')    \n",
    "print(data.head())\n",
    "print(data.shape)"
   ]
  },
  {
   "cell_type": "code",
   "execution_count": 10,
   "metadata": {},
   "outputs": [
    {
     "name": "stdout",
     "output_type": "stream",
     "text": [
      "        Datum  Number_of_ships  Ship\n",
      "0  2013-07-01              0.0     0\n",
      "1  2013-07-02              0.0     0\n",
      "2  2013-07-03              0.0     0\n",
      "3  2013-07-04              0.0     0\n",
      "4  2013-07-05              1.0     1\n"
     ]
    }
   ],
   "source": [
    "#hinzufügen der Kreuzfahrschiffsdaten\n",
    "schiffe = pd.read_csv(\"/workspaces/bakery_sales_prediction/0_DataPreparation/01_Kreuzfahrtschiffe/Alle_Schiffe.csv\")\n",
    "print(schiffe.head())\n"
   ]
  },
  {
   "cell_type": "code",
   "execution_count": null,
   "metadata": {},
   "outputs": [
    {
     "name": "stdout",
     "output_type": "stream",
     "text": [
      "        id       Datum  Warengruppe_1  Warengruppe_2  Warengruppe_3  \\\n",
      "0  1808011  2018-08-01              1              0              0   \n",
      "1  1808021  2018-08-02              1              0              0   \n",
      "2  1808031  2018-08-03              1              0              0   \n",
      "3  1808041  2018-08-04              1              0              0   \n",
      "4  1808051  2018-08-05              1              0              0   \n",
      "\n",
      "   Warengruppe_4  Warengruppe_5  Warengruppe_6  Temp_Very_Cold  Temp_Cold  \\\n",
      "0              0              0              0               0          0   \n",
      "1              0              0              0               0          0   \n",
      "2              0              0              0               0          0   \n",
      "3              0              0              0               0          0   \n",
      "4              0              0              0               0          0   \n",
      "\n",
      "   ...  Montag  Dienstag  Mittwoch  Donnerstag  Freitag  Samstag  Sonntag  \\\n",
      "0  ...       0         0         1           0        0        0        0   \n",
      "1  ...       0         0         0           1        0        0        0   \n",
      "2  ...       0         0         0           0        1        0        0   \n",
      "3  ...       0         0         0           0        0        1        0   \n",
      "4  ...       0         0         0           0        0        0        1   \n",
      "\n",
      "     VPI  Number_of_ships  Ship  \n",
      "0  0.984              0.0     0  \n",
      "1  0.984              0.0     0  \n",
      "2  0.984              0.0     0  \n",
      "3  0.984              1.0     1  \n",
      "4  0.984              0.0     0  \n",
      "\n",
      "[5 rows x 34 columns]\n",
      "(1830, 34)\n"
     ]
    }
   ],
   "source": [
    "#merge the data\n",
    "data = pd.merge(data, schiffe, how='left', left_on='Datum', right_on='Datum')\n",
    "\n",
    "#fill NaN with False\n",
    "data['Ship'] = data['Ship'].fillna(False)\n",
    "\n",
    "print(data.head())\n",
    "print(data.shape)"
   ]
  },
  {
   "cell_type": "code",
   "execution_count": 12,
   "metadata": {},
   "outputs": [
    {
     "name": "stdout",
     "output_type": "stream",
     "text": [
      "        Datum  Heimspiel\n",
      "0  2013-01-01          0\n",
      "1  2013-01-02          0\n",
      "2  2013-01-03          0\n",
      "3  2013-01-04          0\n",
      "4  2013-01-05          0\n",
      "(2922, 2)\n"
     ]
    }
   ],
   "source": [
    "#importieren der heimspiel daten\n",
    "heimspiele = pd.read_csv(\"/workspaces/bakery_sales_prediction/0_DataPreparation/03_Heimspiele/Kiel_Heimspiele.csv\", sep=',')\n",
    "\n",
    "print(heimspiele.head())\n",
    "print(heimspiele.shape)"
   ]
  },
  {
   "cell_type": "code",
   "execution_count": null,
   "metadata": {},
   "outputs": [
    {
     "name": "stdout",
     "output_type": "stream",
     "text": [
      "        id       Datum  Warengruppe_1  Warengruppe_2  Warengruppe_3  \\\n",
      "0  1808011  2018-08-01              1              0              0   \n",
      "1  1808021  2018-08-02              1              0              0   \n",
      "2  1808031  2018-08-03              1              0              0   \n",
      "3  1808041  2018-08-04              1              0              0   \n",
      "4  1808051  2018-08-05              1              0              0   \n",
      "\n",
      "   Warengruppe_4  Warengruppe_5  Warengruppe_6  Temp_Very_Cold  Temp_Cold  \\\n",
      "0              0              0              0               0          0   \n",
      "1              0              0              0               0          0   \n",
      "2              0              0              0               0          0   \n",
      "3              0              0              0               0          0   \n",
      "4              0              0              0               0          0   \n",
      "\n",
      "   ...  Dienstag  Mittwoch  Donnerstag  Freitag  Samstag  Sonntag    VPI  \\\n",
      "0  ...         0         1           0        0        0        0  0.984   \n",
      "1  ...         0         0           1        0        0        0  0.984   \n",
      "2  ...         0         0           0        1        0        0  0.984   \n",
      "3  ...         0         0           0        0        1        0  0.984   \n",
      "4  ...         0         0           0        0        0        1  0.984   \n",
      "\n",
      "   Number_of_ships  Ship  Heimspiel  \n",
      "0              0.0     0          0  \n",
      "1              0.0     0          0  \n",
      "2              0.0     0          0  \n",
      "3              1.0     1          0  \n",
      "4              0.0     0          0  \n",
      "\n",
      "[5 rows x 35 columns]\n",
      "(1830, 35)\n"
     ]
    }
   ],
   "source": [
    "#mergen der heimspiel Daten\n",
    "data = pd.merge(data, heimspiele, how='left', left_on='Datum', right_on='Datum')\n",
    "print(data.head())\n",
    "print(data.shape)"
   ]
  },
  {
   "cell_type": "code",
   "execution_count": 14,
   "metadata": {},
   "outputs": [
    {
     "name": "stdout",
     "output_type": "stream",
     "text": [
      "        Datum  Feiertag\n",
      "0  2013-07-01         0\n",
      "1  2013-07-02         0\n",
      "2  2013-07-03         0\n",
      "3  2013-07-04         0\n",
      "4  2013-07-05         0\n",
      "(2375, 2)\n"
     ]
    }
   ],
   "source": [
    "#Feiertagsdaten hochladen\n",
    "feiertage = pd.read_csv(\"/workspaces/bakery_sales_prediction/0_DataPreparation/04_Feiertage/feiertage_final.csv\", sep=';')\n",
    "print(feiertage.head())\n",
    "print(feiertage.shape)"
   ]
  },
  {
   "cell_type": "code",
   "execution_count": 15,
   "metadata": {},
   "outputs": [
    {
     "name": "stdout",
     "output_type": "stream",
     "text": [
      "        id       Datum  Warengruppe_1  Warengruppe_2  Warengruppe_3  \\\n",
      "0  1808011  2018-08-01              1              0              0   \n",
      "1  1808021  2018-08-02              1              0              0   \n",
      "2  1808031  2018-08-03              1              0              0   \n",
      "3  1808041  2018-08-04              1              0              0   \n",
      "4  1808051  2018-08-05              1              0              0   \n",
      "\n",
      "   Warengruppe_4  Warengruppe_5  Warengruppe_6  Temp_Very_Cold  Temp_Cold  \\\n",
      "0              0              0              0               0          0   \n",
      "1              0              0              0               0          0   \n",
      "2              0              0              0               0          0   \n",
      "3              0              0              0               0          0   \n",
      "4              0              0              0               0          0   \n",
      "\n",
      "   ...  Mittwoch  Donnerstag  Freitag  Samstag  Sonntag    VPI  \\\n",
      "0  ...         1           0        0        0        0  0.984   \n",
      "1  ...         0           1        0        0        0  0.984   \n",
      "2  ...         0           0        1        0        0  0.984   \n",
      "3  ...         0           0        0        1        0  0.984   \n",
      "4  ...         0           0        0        0        1  0.984   \n",
      "\n",
      "   Number_of_ships  Ship  Heimspiel  Feiertag  \n",
      "0              0.0     0          0         0  \n",
      "1              0.0     0          0         0  \n",
      "2              0.0     0          0         0  \n",
      "3              1.0     1          0         0  \n",
      "4              0.0     0          0         0  \n",
      "\n",
      "[5 rows x 36 columns]\n",
      "(1830, 36)\n"
     ]
    }
   ],
   "source": [
    "#und mergen der feiertagsdaten\n",
    "data = pd.merge(data, feiertage, how='left', left_on='Datum', right_on='Datum')\n",
    "print(data.head())\n",
    "print(data.shape)"
   ]
  },
  {
   "cell_type": "code",
   "execution_count": 16,
   "metadata": {},
   "outputs": [
    {
     "name": "stdout",
     "output_type": "stream",
     "text": [
      "        Datum  is_holiday\n",
      "0  2013-01-01           0\n",
      "1  2013-01-02           0\n",
      "2  2013-01-03           0\n",
      "3  2013-01-04           0\n",
      "4  2013-01-05           0\n",
      "        id       Datum  Warengruppe_1  Warengruppe_2  Warengruppe_3  \\\n",
      "0  1808011  2018-08-01              1              0              0   \n",
      "1  1808021  2018-08-02              1              0              0   \n",
      "2  1808031  2018-08-03              1              0              0   \n",
      "3  1808041  2018-08-04              1              0              0   \n",
      "4  1808051  2018-08-05              1              0              0   \n",
      "\n",
      "   Warengruppe_4  Warengruppe_5  Warengruppe_6  Temp_Very_Cold  Temp_Cold  \\\n",
      "0              0              0              0               0          0   \n",
      "1              0              0              0               0          0   \n",
      "2              0              0              0               0          0   \n",
      "3              0              0              0               0          0   \n",
      "4              0              0              0               0          0   \n",
      "\n",
      "   ...  Donnerstag  Freitag  Samstag  Sonntag    VPI  Number_of_ships  Ship  \\\n",
      "0  ...           0        0        0        0  0.984              0.0     0   \n",
      "1  ...           1        0        0        0  0.984              0.0     0   \n",
      "2  ...           0        1        0        0  0.984              0.0     0   \n",
      "3  ...           0        0        1        0  0.984              1.0     1   \n",
      "4  ...           0        0        0        1  0.984              0.0     0   \n",
      "\n",
      "   Heimspiel  Feiertag  is_holiday  \n",
      "0          0         0           1  \n",
      "1          0         0           1  \n",
      "2          0         0           1  \n",
      "3          0         0           1  \n",
      "4          0         0           1  \n",
      "\n",
      "[5 rows x 37 columns]\n"
     ]
    }
   ],
   "source": [
    "#hinzufügen der Feriendaten\n",
    "ferien = pd.read_csv(\"/workspaces/bakery_sales_prediction/0_DataPreparation/06_Ferientage/06_ferientage.csv\")\n",
    "print(ferien.head())\n",
    "\n",
    "#und mergen der Feriendaten\n",
    "data = pd.merge(data, ferien, how='left', left_on='Datum', right_on='Datum')\n",
    "print(data.head())"
   ]
  },
  {
   "cell_type": "code",
   "execution_count": null,
   "metadata": {},
   "outputs": [
    {
     "name": "stdout",
     "output_type": "stream",
     "text": [
      "        Datum  Weihnachtsmarkt  Markt\n",
      "0  2013-01-01                0      0\n",
      "1  2013-01-02                0      0\n",
      "2  2013-01-03                0      0\n",
      "3  2013-01-04                0      0\n",
      "4  2013-01-05                0      0\n",
      "        id       Datum  Warengruppe_1  Warengruppe_2  Warengruppe_3  \\\n",
      "0  1808011  2018-08-01              1              0              0   \n",
      "1  1808021  2018-08-02              1              0              0   \n",
      "2  1808031  2018-08-03              1              0              0   \n",
      "3  1808041  2018-08-04              1              0              0   \n",
      "4  1808051  2018-08-05              1              0              0   \n",
      "\n",
      "   Warengruppe_4  Warengruppe_5  Warengruppe_6  Temp_Very_Cold  Temp_Cold  \\\n",
      "0              0              0              0               0          0   \n",
      "1              0              0              0               0          0   \n",
      "2              0              0              0               0          0   \n",
      "3              0              0              0               0          0   \n",
      "4              0              0              0               0          0   \n",
      "\n",
      "   ...  Samstag  Sonntag    VPI  Number_of_ships  Ship  Heimspiel  Feiertag  \\\n",
      "0  ...        0        0  0.984              0.0     0          0         0   \n",
      "1  ...        0        0  0.984              0.0     0          0         0   \n",
      "2  ...        0        0  0.984              0.0     0          0         0   \n",
      "3  ...        1        0  0.984              1.0     1          0         0   \n",
      "4  ...        0        1  0.984              0.0     0          0         0   \n",
      "\n",
      "   is_holiday  Weihnachtsmarkt  Markt  \n",
      "0           1                0      0  \n",
      "1           1                0      0  \n",
      "2           1                0      0  \n",
      "3           1                0      0  \n",
      "4           1                0      0  \n",
      "\n",
      "[5 rows x 39 columns]\n"
     ]
    }
   ],
   "source": [
    "#hinzufügen der Märkte\n",
    "marktdaten = pd.read_csv(\"/workspaces/bakery_sales_prediction/0_DataPreparation/08_Maerkte/maekte_final.csv\")\n",
    "print(marktdaten.head())\n",
    "\n",
    "#und mergen der Marktdaten\n",
    "data = pd.merge(data, marktdaten, how='left', left_on='Datum', right_on='Datum')\n",
    "print(data.head())"
   ]
  },
  {
   "cell_type": "code",
   "execution_count": 18,
   "metadata": {},
   "outputs": [
    {
     "name": "stdout",
     "output_type": "stream",
     "text": [
      "        Datum  Ostertag\n",
      "0  2013-07-01         0\n",
      "1  2013-07-02         0\n",
      "2  2013-07-03         0\n",
      "3  2013-07-04         0\n",
      "4  2013-07-05         0\n",
      "        id       Datum  Warengruppe_1  Warengruppe_2  Warengruppe_3  \\\n",
      "0  1808011  2018-08-01              1              0              0   \n",
      "1  1808021  2018-08-02              1              0              0   \n",
      "2  1808031  2018-08-03              1              0              0   \n",
      "3  1808041  2018-08-04              1              0              0   \n",
      "4  1808051  2018-08-05              1              0              0   \n",
      "\n",
      "   Warengruppe_4  Warengruppe_5  Warengruppe_6  Temp_Very_Cold  Temp_Cold  \\\n",
      "0              0              0              0               0          0   \n",
      "1              0              0              0               0          0   \n",
      "2              0              0              0               0          0   \n",
      "3              0              0              0               0          0   \n",
      "4              0              0              0               0          0   \n",
      "\n",
      "   ...  Sonntag    VPI  Number_of_ships  Ship  Heimspiel  Feiertag  \\\n",
      "0  ...        0  0.984              0.0     0          0         0   \n",
      "1  ...        0  0.984              0.0     0          0         0   \n",
      "2  ...        0  0.984              0.0     0          0         0   \n",
      "3  ...        0  0.984              1.0     1          0         0   \n",
      "4  ...        1  0.984              0.0     0          0         0   \n",
      "\n",
      "   is_holiday  Weihnachtsmarkt  Markt  Ostertag  \n",
      "0           1                0      0         0  \n",
      "1           1                0      0         0  \n",
      "2           1                0      0         0  \n",
      "3           1                0      0         0  \n",
      "4           1                0      0         0  \n",
      "\n",
      "[5 rows x 40 columns]\n"
     ]
    }
   ],
   "source": [
    "#hinzufügen der Ostertage (Ostersamstag und Gründonnerstag)\n",
    "Ostertag = pd.read_csv(\"/workspaces/bakery_sales_prediction/0_DataPreparation/10_Ostertag/Ostertage.csv\")\n",
    "print(Ostertag.head())\n",
    "\n",
    "#und mergen der Ostertage\n",
    "data = pd.merge(data, Ostertag, how='left', left_on='Datum', right_on='Datum')\n",
    "print(data.head())"
   ]
  },
  {
   "cell_type": "markdown",
   "metadata": {},
   "source": [
    "Damit sind alle Daten gemerged und der df kann als csv zur weiteren Bearbeitung exportiert werden."
   ]
  },
  {
   "cell_type": "code",
   "execution_count": 19,
   "metadata": {},
   "outputs": [],
   "source": [
    "#exportieren der Daten als csv\n",
    "data.to_csv(\"Testdaten.csv\", index=False)"
   ]
  }
 ],
 "metadata": {
  "kernelspec": {
   "display_name": ".venv",
   "language": "python",
   "name": "python3"
  },
  "language_info": {
   "codemirror_mode": {
    "name": "ipython",
    "version": 3
   },
   "file_extension": ".py",
   "mimetype": "text/x-python",
   "name": "python",
   "nbconvert_exporter": "python",
   "pygments_lexer": "ipython3",
   "version": "3.12.1"
  }
 },
 "nbformat": 4,
 "nbformat_minor": 2
}
