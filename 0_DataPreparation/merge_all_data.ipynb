{
 "cells": [
  {
   "cell_type": "markdown",
   "metadata": {},
   "source": [
    "Hier werden alle Daten aus verschiedenen Quellen zu einem großen Dataframe zusammen gefasst. Das sind zum einen die Daten welche uns vom Kurs zu Verfügung gestellt wurden, als auch die daten welche wir selber noch gefunden haben."
   ]
  },
  {
   "cell_type": "code",
   "execution_count": 38,
   "metadata": {},
   "outputs": [],
   "source": [
    "#packete für data handling laden\n",
    "import pandas as pd\n",
    "import numpy as np\n",
    "import matplotlib.pyplot as plt\n",
    "import seaborn as sns\n",
    "import os"
   ]
  },
  {
   "cell_type": "code",
   "execution_count": 39,
   "metadata": {},
   "outputs": [
    {
     "name": "stdout",
     "output_type": "stream",
     "text": [
      "        Datum  Bewoelkung  Temperatur  Windgeschwindigkeit  Wettercode\n",
      "0  2012-01-01         8.0      9.8250                   14        58.0\n",
      "1  2012-01-02         7.0      7.4375                   12         NaN\n",
      "2  2012-01-03         8.0      5.5375                   18        63.0\n",
      "3  2012-01-04         4.0      5.6875                   19        80.0\n",
      "4  2012-01-05         6.0      5.3000                   23        80.0\n",
      "           Datum  Bewoelkung  Temperatur  Windgeschwindigkeit  Wettercode\n",
      "2596  2019-07-28         3.0     23.3500                   14         5.0\n",
      "2597  2019-07-29         6.0     25.2500                    7        61.0\n",
      "2598  2019-07-30         7.0     20.7375                    8        61.0\n",
      "2599  2019-07-31         6.0     20.4500                    7        61.0\n",
      "2600  2019-08-01         5.0     21.0625                    9        61.0\n",
      "(2601, 5)\n",
      "        Datum  Warengruppe      Umsatz\n",
      "0  2013-07-01            1  148.828353\n",
      "1  2013-07-02            1  159.793757\n",
      "2  2013-07-03            1  111.885594\n",
      "3  2013-07-04            1  168.864941\n",
      "4  2013-07-05            1  171.280754\n",
      "           Datum  Warengruppe     Umsatz\n",
      "9329  2017-12-21            6  87.471228\n",
      "9330  2017-12-22            6  71.911652\n",
      "9331  2017-12-23            6  84.062223\n",
      "9332  2017-12-24            6  60.981969\n",
      "9333  2017-12-27            6  34.972644\n",
      "(9334, 3)\n",
      "        Datum  KielerWoche\n",
      "0  2012-06-16            1\n",
      "1  2012-06-17            1\n",
      "2  2012-06-18            1\n",
      "3  2012-06-19            1\n",
      "4  2012-06-20            1\n",
      "         Datum  KielerWoche\n",
      "67  2019-06-26            1\n",
      "68  2019-06-27            1\n",
      "69  2019-06-28            1\n",
      "70  2019-06-29            1\n",
      "71  2019-06-30            1\n",
      "(72, 2)\n"
     ]
    }
   ],
   "source": [
    "#Einlesen der Basisidaten, welche wir zur verfügung gestellt bekommen haben\n",
    "#Wetterdaten\n",
    "wetter = pd.read_csv(\"../wetter.csv\")\n",
    "print(wetter.head())\n",
    "print(wetter.tail())\n",
    "print(wetter.shape)\n",
    "\n",
    "#Umsatzdaten\n",
    "umsatz = pd.read_csv(\"../umsatzdaten_gekuerzt.csv\")\n",
    "print(umsatz.head())\n",
    "print(umsatz.tail())\n",
    "print(umsatz.shape)\n",
    "\n",
    "#Kieler Woche Daten\n",
    "kiwo = pd.read_csv(\"../kiwo.csv\")\n",
    "print(kiwo.head())\n",
    "print(kiwo.tail())\n",
    "print(kiwo.shape)"
   ]
  },
  {
   "cell_type": "markdown",
   "metadata": {},
   "source": [
    "Die Umsatzdaten sind im long format nach Warengruppen. Bedeutet, dass jedes Datum mehrmals vorkommt. Das ist zum mergen der Daten nicht ideal. Daher den dataframe vom long format ins wide format bringen. \n",
    "In diesem Zuge werden direkt auch die Warengruppen richtig benannt"
   ]
  },
  {
   "cell_type": "code",
   "execution_count": 40,
   "metadata": {},
   "outputs": [
    {
     "name": "stdout",
     "output_type": "stream",
     "text": [
      "        Datum        Brot   Broetchen   Crossaint  Konditorei      Kuchen  \\\n",
      "0  2013-07-01  148.828353  535.856285  201.198426   65.890169  317.475875   \n",
      "1  2013-07-02  159.793757  546.780787  265.261254   74.543917  383.628682   \n",
      "2  2013-07-03  111.885594  427.343259  210.260241   69.262728  305.523072   \n",
      "3  2013-07-04  168.864941  454.859641  190.686641   61.490175  308.408168   \n",
      "4  2013-07-05  171.280754  492.818804  181.644870   86.759861  355.518770   \n",
      "\n",
      "   Saisonbrot  \n",
      "0         NaN  \n",
      "1         NaN  \n",
      "2         NaN  \n",
      "3         NaN  \n",
      "4         NaN  \n",
      "           Datum        Brot   Broetchen   Crossaint  Konditorei      Kuchen  \\\n",
      "1814  2018-07-27  198.225523  677.415844  333.774099   65.563734  297.867853   \n",
      "1815  2018-07-28  214.470393  716.576825  371.819770   54.047422  290.024007   \n",
      "1816  2018-07-29  129.801991  721.822447  433.820697  128.952852  335.823557   \n",
      "1817  2018-07-30  148.541340  616.358562  348.770346   71.822977  324.965348   \n",
      "1818  2018-07-31  123.075682  586.081666  285.872616   57.102795  261.341313   \n",
      "\n",
      "      Saisonbrot  \n",
      "1814         NaN  \n",
      "1815         NaN  \n",
      "1816         NaN  \n",
      "1817         NaN  \n",
      "1818         NaN  \n",
      "(1819, 7)\n"
     ]
    }
   ],
   "source": [
    "#get the umsart data in the wide format\n",
    "# Pivot the DataFrame\n",
    "umsatz_shaped = umsatz.pivot(index='Datum', columns='Warengruppe', values='Umsatz')\n",
    "\n",
    "# Reset the index to make 'date' a column again\n",
    "umsatz_shaped.reset_index(inplace=True)\n",
    "\n",
    "#get colums names right\n",
    "umsatz_shaped.columns = ['Datum', 'Brot', 'Broetchen', 'Crossaint', 'Konditorei', 'Kuchen', 'Saisonbrot']\n",
    "\n",
    "print(umsatz_shaped.head())\n",
    "print(umsatz_shaped.tail())    \n",
    "print(umsatz_shaped.shape)"
   ]
  },
  {
   "cell_type": "code",
   "execution_count": 49,
   "metadata": {},
   "outputs": [
    {
     "name": "stdout",
     "output_type": "stream",
     "text": [
      "        Datum        Brot   Broetchen   Crossaint  Konditorei      Kuchen  \\\n",
      "0  2013-07-01  148.828353  535.856285  201.198426   65.890169  317.475875   \n",
      "1  2013-07-02  159.793757  546.780787  265.261254   74.543917  383.628682   \n",
      "2  2013-07-03  111.885594  427.343259  210.260241   69.262728  305.523072   \n",
      "3  2013-07-04  168.864941  454.859641  190.686641   61.490175  308.408168   \n",
      "4  2013-07-05  171.280754  492.818804  181.644870   86.759861  355.518770   \n",
      "\n",
      "   Saisonbrot  Umsatz_total  \n",
      "0         0.0          1269  \n",
      "1         0.0          1430  \n",
      "2         0.0          1124  \n",
      "3         0.0          1184  \n",
      "4         0.0          1288  \n",
      "(1819, 8)\n"
     ]
    }
   ],
   "source": [
    "#aufräumen der Daten. NaN durch 0 ersetzen\n",
    "umsatz_shaped.fillna(0, inplace=True)\n",
    "\n",
    "#Eine Spalte hinzufügen in welcher der Gesamtumsatz steht\n",
    "umsatz_shaped['Umsatz_total'] = umsatz_shaped['Brot'] + umsatz_shaped['Broetchen'] + umsatz_shaped['Crossaint'] + umsatz_shaped['Konditorei'] + umsatz_shaped['Kuchen'] + umsatz_shaped['Saisonbrot']\n",
    "umsatz_shaped['Umsatz_total'] = umsatz_shaped['Umsatz_total'].astype(int)\n",
    "print(umsatz_shaped.head())\n",
    "print(umsatz_shaped.shape)"
   ]
  },
  {
   "cell_type": "code",
   "execution_count": null,
   "metadata": {},
   "outputs": [
    {
     "name": "stdout",
     "output_type": "stream",
     "text": [
      "        Datum        Brot   Broetchen   Crossaint  Konditorei      Kuchen  \\\n",
      "0  2013-07-01  148.828353  535.856285  201.198426   65.890169  317.475875   \n",
      "1  2013-07-02  159.793757  546.780787  265.261254   74.543917  383.628682   \n",
      "2  2013-07-03  111.885594  427.343259  210.260241   69.262728  305.523072   \n",
      "3  2013-07-04  168.864941  454.859641  190.686641   61.490175  308.408168   \n",
      "4  2013-07-05  171.280754  492.818804  181.644870   86.759861  355.518770   \n",
      "\n",
      "   Saisonbrot  Umsatz_total  Bewoelkung  Temperatur  Windgeschwindigkeit  \\\n",
      "0         0.0          1269         6.0     17.8375                 15.0   \n",
      "1         0.0          1430         3.0     17.3125                 10.0   \n",
      "2         0.0          1124         7.0     21.0750                  6.0   \n",
      "3         0.0          1184         7.0     18.8500                  7.0   \n",
      "4         0.0          1288         5.0     19.9750                 12.0   \n",
      "\n",
      "   Wettercode  \n",
      "0        20.0  \n",
      "1         NaN  \n",
      "2        61.0  \n",
      "3        20.0  \n",
      "4         NaN  \n",
      "(1819, 12)\n"
     ]
    }
   ],
   "source": [
    "#nun können die Umsatzdaten mit den Wetterdaten zusammengeführt werden\n",
    "#merge the data\n",
    "data = pd.merge(umsatz_shaped,wetter, how='left', on='Datum')\n",
    "print(data.head())\n",
    "print(data.shape)\n",
    "\n",
    "#es werden nun die Zeilen behalten, für welche es Umsatzdaten gibt"
   ]
  },
  {
   "cell_type": "code",
   "execution_count": 51,
   "metadata": {},
   "outputs": [
    {
     "name": "stdout",
     "output_type": "stream",
     "text": [
      "        Datum        Brot   Broetchen   Crossaint  Konditorei      Kuchen  \\\n",
      "0  2013-07-01  148.828353  535.856285  201.198426   65.890169  317.475875   \n",
      "1  2013-07-02  159.793757  546.780787  265.261254   74.543917  383.628682   \n",
      "2  2013-07-03  111.885594  427.343259  210.260241   69.262728  305.523072   \n",
      "3  2013-07-04  168.864941  454.859641  190.686641   61.490175  308.408168   \n",
      "4  2013-07-05  171.280754  492.818804  181.644870   86.759861  355.518770   \n",
      "\n",
      "   Saisonbrot  Umsatz_total  Bewoelkung  Temperatur  Windgeschwindigkeit  \\\n",
      "0         0.0          1269         6.0     17.8375                 15.0   \n",
      "1         0.0          1430         3.0     17.3125                 10.0   \n",
      "2         0.0          1124         7.0     21.0750                  6.0   \n",
      "3         0.0          1184         7.0     18.8500                  7.0   \n",
      "4         0.0          1288         5.0     19.9750                 12.0   \n",
      "\n",
      "   Wettercode  KielerWoche  \n",
      "0        20.0          NaN  \n",
      "1         NaN          NaN  \n",
      "2        61.0          NaN  \n",
      "3        20.0          NaN  \n",
      "4         NaN          NaN  \n",
      "(1819, 13)\n",
      "        Datum        Brot   Broetchen   Crossaint  Konditorei      Kuchen  \\\n",
      "0  2013-07-01  148.828353  535.856285  201.198426   65.890169  317.475875   \n",
      "1  2013-07-02  159.793757  546.780787  265.261254   74.543917  383.628682   \n",
      "2  2013-07-03  111.885594  427.343259  210.260241   69.262728  305.523072   \n",
      "3  2013-07-04  168.864941  454.859641  190.686641   61.490175  308.408168   \n",
      "4  2013-07-05  171.280754  492.818804  181.644870   86.759861  355.518770   \n",
      "\n",
      "   Saisonbrot  Umsatz_total  Bewoelkung  Temperatur  Windgeschwindigkeit  \\\n",
      "0         0.0          1269         6.0     17.8375                 15.0   \n",
      "1         0.0          1430         3.0     17.3125                 10.0   \n",
      "2         0.0          1124         7.0     21.0750                  6.0   \n",
      "3         0.0          1184         7.0     18.8500                  7.0   \n",
      "4         0.0          1288         5.0     19.9750                 12.0   \n",
      "\n",
      "   Wettercode  KielerWoche  \n",
      "0        20.0            0  \n",
      "1         NaN            0  \n",
      "2        61.0            0  \n",
      "3        20.0            0  \n",
      "4         NaN            0  \n"
     ]
    }
   ],
   "source": [
    "# und nun noch die Kieler Woche Daten hinzufügen\n",
    "data = pd.merge(data, kiwo, how='left', on='Datum')\n",
    "print(data.head())\n",
    "print(data.shape)\n",
    "\n",
    "#im moment steht da eine 1.0 wenn es Kieler Woche ist und eine NaN wenn nicht. Das ändern wir jetzt\n",
    "data['KielerWoche'] = data['KielerWoche'].fillna(0)\n",
    "data['KielerWoche'] = data['KielerWoche'].astype(int)\n",
    "print(data.head())\t"
   ]
  },
  {
   "cell_type": "markdown",
   "metadata": {},
   "source": [
    "Nun haben wir alle Basisidaten zusammen geführt. Jetzt können noch die Variablen, welche wir selber gesucht haben hinzugefügt werden."
   ]
  },
  {
   "cell_type": "code",
   "execution_count": 52,
   "metadata": {},
   "outputs": [
    {
     "name": "stdout",
     "output_type": "stream",
     "text": [
      "        Datum   VPI\n",
      "0  2013-07-01  98.9\n",
      "1  2013-07-02  98.9\n",
      "2  2013-07-03  98.9\n",
      "3  2013-07-04  98.9\n",
      "4  2013-07-05  98.9\n",
      "           Datum    VPI\n",
      "1852  2018-07-27  104.4\n",
      "1853  2018-07-28  104.4\n",
      "1854  2018-07-29  104.4\n",
      "1855  2018-07-30  104.4\n",
      "1856  2018-07-31  104.4\n",
      "(1857, 2)\n"
     ]
    }
   ],
   "source": [
    "#hinzufügen der Inflationsdaten\n",
    "#einlesen der Daten\n",
    "inflation = pd.read_csv(\"./Verbraucherpreisindex/vpi_daily.csv\")\n",
    "print(inflation.head())\n",
    "print(inflation.tail())\n",
    "print(inflation.shape)\n"
   ]
  },
  {
   "cell_type": "code",
   "execution_count": 53,
   "metadata": {},
   "outputs": [
    {
     "name": "stdout",
     "output_type": "stream",
     "text": [
      "        Datum        Brot   Broetchen   Crossaint  Konditorei      Kuchen  \\\n",
      "0  2013-07-01  148.828353  535.856285  201.198426   65.890169  317.475875   \n",
      "1  2013-07-02  159.793757  546.780787  265.261254   74.543917  383.628682   \n",
      "2  2013-07-03  111.885594  427.343259  210.260241   69.262728  305.523072   \n",
      "3  2013-07-04  168.864941  454.859641  190.686641   61.490175  308.408168   \n",
      "4  2013-07-05  171.280754  492.818804  181.644870   86.759861  355.518770   \n",
      "\n",
      "   Saisonbrot  Umsatz_total  Bewoelkung  Temperatur  Windgeschwindigkeit  \\\n",
      "0         0.0          1269         6.0     17.8375                 15.0   \n",
      "1         0.0          1430         3.0     17.3125                 10.0   \n",
      "2         0.0          1124         7.0     21.0750                  6.0   \n",
      "3         0.0          1184         7.0     18.8500                  7.0   \n",
      "4         0.0          1288         5.0     19.9750                 12.0   \n",
      "\n",
      "   Wettercode  KielerWoche   VPI  \n",
      "0        20.0            0  98.9  \n",
      "1         NaN            0  98.9  \n",
      "2        61.0            0  98.9  \n",
      "3        20.0            0  98.9  \n",
      "4         NaN            0  98.9  \n",
      "(1819, 14)\n"
     ]
    }
   ],
   "source": [
    "#mergen der Daten\n",
    "data = pd.merge(data, inflation, how='left', on='Datum')    \n",
    "print(data.head())\n",
    "print(data.shape)"
   ]
  },
  {
   "cell_type": "code",
   "execution_count": 46,
   "metadata": {},
   "outputs": [
    {
     "name": "stdout",
     "output_type": "stream",
     "text": [
      "  Weekday Arrival_date Departure_date      Ship       Pier\n",
      "0      So     31.03.12       31.03.12  AIDAcara  Ostseekai\n",
      "1      So     07.04.12       07.04.12  AIDAcara  Ostseekai\n",
      "2      So     14.04.12       14.04.12  AIDAcara  Ostseekai\n",
      "3      So     21.04.12       21.04.12  AIDAcara  Ostseekai\n",
      "4      So     28.04.12       28.04.12  AIDAcara  Ostseekai\n",
      "  Arrival_date Departure_date      Ship\n",
      "0     31.03.12       31.03.12  AIDAcara\n",
      "1     07.04.12       07.04.12  AIDAcara\n",
      "2     14.04.12       14.04.12  AIDAcara\n",
      "3     21.04.12       21.04.12  AIDAcara\n",
      "4     28.04.12       28.04.12  AIDAcara\n",
      "  Arrival_date Departure_date      Ship\n",
      "0   2012-03-31       31.03.12  AIDAcara\n",
      "1   2012-07-04       07.04.12  AIDAcara\n",
      "2   2012-04-14       14.04.12  AIDAcara\n",
      "3   2012-04-21       21.04.12  AIDAcara\n",
      "4   2012-04-28       28.04.12  AIDAcara\n",
      "<class 'str'>\n"
     ]
    },
    {
     "name": "stderr",
     "output_type": "stream",
     "text": [
      "/tmp/ipykernel_32987/1555327337.py:10: UserWarning: Could not infer format, so each element will be parsed individually, falling back to `dateutil`. To ensure parsing is consistent and as-expected, please specify a format.\n",
      "  schiffe['Arrival_date'] = pd.to_datetime(schiffe['Arrival_date'])\n"
     ]
    }
   ],
   "source": [
    "#hinzufügen der Kreuzfahrschfissdaten\n",
    "schiffe = pd.read_csv(\"./01_Kreuzfahrtschiffe/kiel_all.csv\")\n",
    "print(schiffe.head())\n",
    "\n",
    "#create a subset of the data\n",
    "schiffe = schiffe[['Arrival_date', 'Departure_date','Ship']]\n",
    "print(schiffe.head())\n",
    "\n",
    "#format arrival and departure date\n",
    "schiffe['Arrival_date'] = pd.to_datetime(schiffe['Arrival_date'])\n",
    "#converte the date to a string for merging\n",
    "schiffe['Arrival_date'] = schiffe['Arrival_date'].dt.strftime('%Y-%m-%d')\n",
    "#schiffe['Departure_date'] = pd.to_datetime(schiffe['Departure_date'], format='%Y-%m-%d')\n",
    "print(schiffe.head())\n",
    "\n",
    "print(type(data['Datum'][0]))"
   ]
  },
  {
   "cell_type": "code",
   "execution_count": 54,
   "metadata": {},
   "outputs": [
    {
     "name": "stdout",
     "output_type": "stream",
     "text": [
      "        Datum        Brot   Broetchen   Crossaint  Konditorei      Kuchen  \\\n",
      "0  2013-07-01  148.828353  535.856285  201.198426   65.890169  317.475875   \n",
      "1  2013-07-02  159.793757  546.780787  265.261254   74.543917  383.628682   \n",
      "2  2013-07-03  111.885594  427.343259  210.260241   69.262728  305.523072   \n",
      "3  2013-07-04  168.864941  454.859641  190.686641   61.490175  308.408168   \n",
      "4  2013-07-05  171.280754  492.818804  181.644870   86.759861  355.518770   \n",
      "\n",
      "   Saisonbrot  Umsatz_total  Bewoelkung  Temperatur  Windgeschwindigkeit  \\\n",
      "0         0.0          1269         6.0     17.8375                 15.0   \n",
      "1         0.0          1430         3.0     17.3125                 10.0   \n",
      "2         0.0          1124         7.0     21.0750                  6.0   \n",
      "3         0.0          1184         7.0     18.8500                  7.0   \n",
      "4         0.0          1288         5.0     19.9750                 12.0   \n",
      "\n",
      "   Wettercode  KielerWoche   VPI Arrival_date Departure_date        Ship  \\\n",
      "0        20.0            0  98.9          NaN            NaN         NaN   \n",
      "1         NaN            0  98.9          NaN            NaN         NaN   \n",
      "2        61.0            0  98.9          NaN            NaN         NaN   \n",
      "3        20.0            0  98.9          NaN            NaN         NaN   \n",
      "4         NaN            0  98.9   2013-07-05       07.05.13  MSC Poesia   \n",
      "\n",
      "      _merge  \n",
      "0  left_only  \n",
      "1  left_only  \n",
      "2  left_only  \n",
      "3  left_only  \n",
      "4       both  \n",
      "(1952, 18)\n"
     ]
    }
   ],
   "source": [
    "#merge the data\n",
    "data = pd.merge(data, schiffe, how='left', left_on='Datum', right_on='Arrival_date', indicator=True)\n",
    "print(data.head())\n",
    "print(data.shape)"
   ]
  },
  {
   "cell_type": "code",
   "execution_count": null,
   "metadata": {},
   "outputs": [],
   "source": [
    "#Achtung an manchen Tagen kommen mehrere Schiffe an. Das müssen wir noch bereinigen\t\n",
    "data['Ship'] = data['Ship'].fillna(0)\n",
    "data['Ship'] = data['Ship'].astype(int)\n",
    "print(data.head())"
   ]
  }
 ],
 "metadata": {
  "kernelspec": {
   "display_name": "Python 3",
   "language": "python",
   "name": "python3"
  },
  "language_info": {
   "codemirror_mode": {
    "name": "ipython",
    "version": 3
   },
   "file_extension": ".py",
   "mimetype": "text/x-python",
   "name": "python",
   "nbconvert_exporter": "python",
   "pygments_lexer": "ipython3",
   "version": "3.12.1"
  }
 },
 "nbformat": 4,
 "nbformat_minor": 2
}
