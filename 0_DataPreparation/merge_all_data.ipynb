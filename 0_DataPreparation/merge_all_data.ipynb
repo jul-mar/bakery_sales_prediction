{
 "cells": [
  {
   "cell_type": "markdown",
   "metadata": {},
   "source": [
    "Hier werden alle Daten aus verschiedenen Quellen zu einem großen Dataframe zusammen gefasst. Das sind zum einen die Daten welche uns vom Kurs zu Verfügung gestellt wurden, als auch die daten welche wir selber noch gefunden haben."
   ]
  },
  {
   "cell_type": "code",
   "execution_count": 1,
   "metadata": {},
   "outputs": [],
   "source": [
    "#packete für data handling laden\n",
    "import pandas as pd\n",
    "import numpy as np\n",
    "import matplotlib.pyplot as plt\n",
    "import seaborn as sns\n",
    "import os"
   ]
  },
  {
   "cell_type": "code",
   "execution_count": 2,
   "metadata": {},
   "outputs": [
    {
     "name": "stdout",
     "output_type": "stream",
     "text": [
      "        Datum  Temp_Very_Cold  Temp_Cold  Temp_Mild  Temp_Warm  Temp_Hot  \\\n",
      "0  2012-01-01               0          1          0          0         0   \n",
      "1  2012-01-02               0          1          0          0         0   \n",
      "2  2012-01-03               0          1          0          0         0   \n",
      "3  2012-01-04               0          1          0          0         0   \n",
      "4  2012-01-05               0          1          0          0         0   \n",
      "\n",
      "   Cloud_Clear  Cloud_Partly_Cloudy  Cloud_Cloudy  Wind_Light  Wind_Moderate  \\\n",
      "0            0                    0             1           0              1   \n",
      "1            0                    0             1           0              1   \n",
      "2            0                    0             1           0              0   \n",
      "3            0                    1             0           0              0   \n",
      "4            0                    0             1           0              0   \n",
      "\n",
      "   Wind_Strong  Weather_Good  Weather_Light_Issues  Weather_Moderate  \\\n",
      "0            0             0                     1                 0   \n",
      "1            0             0                     0                 0   \n",
      "2            1             0                     1                 0   \n",
      "3            1             0                     0                 0   \n",
      "4            1             0                     0                 0   \n",
      "\n",
      "   Weather_Severe  Weather_Unknown  \n",
      "0               0                0  \n",
      "1               0                1  \n",
      "2               0                0  \n",
      "3               1                0  \n",
      "4               1                0  \n",
      "           Datum  Temp_Very_Cold  Temp_Cold  Temp_Mild  Temp_Warm  Temp_Hot  \\\n",
      "2596  2019-07-28               0          0          0          1         0   \n",
      "2597  2019-07-29               0          0          0          0         1   \n",
      "2598  2019-07-30               0          0          0          1         0   \n",
      "2599  2019-07-31               0          0          0          1         0   \n",
      "2600  2019-08-01               0          0          0          1         0   \n",
      "\n",
      "      Cloud_Clear  Cloud_Partly_Cloudy  Cloud_Cloudy  Wind_Light  \\\n",
      "2596            0                    1             0           0   \n",
      "2597            0                    0             1           1   \n",
      "2598            0                    0             1           1   \n",
      "2599            0                    0             1           1   \n",
      "2600            0                    1             0           0   \n",
      "\n",
      "      Wind_Moderate  Wind_Strong  Weather_Good  Weather_Light_Issues  \\\n",
      "2596              1            0             0                     0   \n",
      "2597              0            0             0                     1   \n",
      "2598              0            0             0                     1   \n",
      "2599              0            0             0                     1   \n",
      "2600              1            0             0                     1   \n",
      "\n",
      "      Weather_Moderate  Weather_Severe  Weather_Unknown  \n",
      "2596                 1               0                0  \n",
      "2597                 0               0                0  \n",
      "2598                 0               0                0  \n",
      "2599                 0               0                0  \n",
      "2600                 0               0                0  \n",
      "(2601, 17)\n",
      "        Datum  Warengruppe      Umsatz\n",
      "0  2013-07-01            1  148.828353\n",
      "1  2013-07-02            1  159.793757\n",
      "2  2013-07-03            1  111.885594\n",
      "3  2013-07-04            1  168.864941\n",
      "4  2013-07-05            1  171.280754\n",
      "           Datum  Warengruppe     Umsatz\n",
      "9329  2017-12-21            6  87.471228\n",
      "9330  2017-12-22            6  71.911652\n",
      "9331  2017-12-23            6  84.062223\n",
      "9332  2017-12-24            6  60.981969\n",
      "9333  2017-12-27            6  34.972644\n",
      "(9334, 3)\n",
      "        Datum  KielerWoche\n",
      "0  2012-06-16            1\n",
      "1  2012-06-17            1\n",
      "2  2012-06-18            1\n",
      "3  2012-06-19            1\n",
      "4  2012-06-20            1\n",
      "         Datum  KielerWoche\n",
      "67  2019-06-26            1\n",
      "68  2019-06-27            1\n",
      "69  2019-06-28            1\n",
      "70  2019-06-29            1\n",
      "71  2019-06-30            1\n",
      "(72, 2)\n"
     ]
    }
   ],
   "source": [
    "#Einlesen der Basisidaten, welche wir zur verfügung gestellt bekommen haben\n",
    "#Wetterdaten\n",
    "wetter = pd.read_csv(\"/workspaces/bakery_sales_prediction/0_DataPreparation/07_Wetter/07_wetter.csv\")\n",
    "print(wetter.head())\n",
    "print(wetter.tail())\n",
    "print(wetter.shape)\n",
    "\n",
    "#Umsatzdaten\n",
    "umsatz = pd.read_csv(\"/workspaces/bakery_sales_prediction/0_DataPreparation/umsatzdaten_gekuerzt.csv\")\n",
    "print(umsatz.head())\n",
    "print(umsatz.tail())\n",
    "print(umsatz.shape)\n",
    "\n",
    "#Kieler Woche Daten\n",
    "kiwo = pd.read_csv(\"/workspaces/bakery_sales_prediction/0_DataPreparation/kiwo.csv\")\n",
    "print(kiwo.head())\n",
    "print(kiwo.tail())\n",
    "print(kiwo.shape)"
   ]
  },
  {
   "cell_type": "markdown",
   "metadata": {},
   "source": [
    "Die Umsatzdaten sind im long format nach Warengruppen. Bedeutet, dass jedes Datum mehrmals vorkommt. Das ist zum mergen der Daten nicht ideal. Daher den dataframe vom long format ins wide format bringen. \n",
    "In diesem Zuge werden direkt auch die Warengruppen richtig benannt und eine Spalte mit den Wochentagen eingefügt"
   ]
  },
  {
   "cell_type": "code",
   "execution_count": 3,
   "metadata": {},
   "outputs": [
    {
     "name": "stdout",
     "output_type": "stream",
     "text": [
      "        Datum        Brot   Broetchen   Croissant  Konditorei      Kuchen  \\\n",
      "0  2013-07-01  148.828353  535.856285  201.198426   65.890169  317.475875   \n",
      "1  2013-07-02  159.793757  546.780787  265.261254   74.543917  383.628682   \n",
      "2  2013-07-03  111.885594  427.343259  210.260241   69.262728  305.523072   \n",
      "3  2013-07-04  168.864941  454.859641  190.686641   61.490175  308.408168   \n",
      "4  2013-07-05  171.280754  492.818804  181.644870   86.759861  355.518770   \n",
      "\n",
      "   Saisonbrot  \n",
      "0         NaN  \n",
      "1         NaN  \n",
      "2         NaN  \n",
      "3         NaN  \n",
      "4         NaN  \n",
      "           Datum        Brot   Broetchen   Croissant  Konditorei      Kuchen  \\\n",
      "1814  2018-07-27  198.225523  677.415844  333.774099   65.563734  297.867853   \n",
      "1815  2018-07-28  214.470393  716.576825  371.819770   54.047422  290.024007   \n",
      "1816  2018-07-29  129.801991  721.822447  433.820697  128.952852  335.823557   \n",
      "1817  2018-07-30  148.541340  616.358562  348.770346   71.822977  324.965348   \n",
      "1818  2018-07-31  123.075682  586.081666  285.872616   57.102795  261.341313   \n",
      "\n",
      "      Saisonbrot  \n",
      "1814         NaN  \n",
      "1815         NaN  \n",
      "1816         NaN  \n",
      "1817         NaN  \n",
      "1818         NaN  \n",
      "(1819, 7)\n"
     ]
    }
   ],
   "source": [
    "#get the umsatz data in the wide format\n",
    "# Pivot the DataFrame\n",
    "umsatz_shaped = umsatz.pivot(index='Datum', columns='Warengruppe', values='Umsatz')\n",
    "\n",
    "# Reset the index to make 'date' a column again\n",
    "umsatz_shaped.reset_index(inplace=True)\n",
    "\n",
    "#get colums names right\n",
    "umsatz_shaped.columns = ['Datum', 'Brot', 'Broetchen', 'Croissant', 'Konditorei', 'Kuchen', 'Saisonbrot']\n",
    "\n",
    "\n",
    "print(umsatz_shaped.head())\n",
    "print(umsatz_shaped.tail())    \n",
    "print(umsatz_shaped.shape)"
   ]
  },
  {
   "cell_type": "code",
   "execution_count": 4,
   "metadata": {},
   "outputs": [
    {
     "name": "stdout",
     "output_type": "stream",
     "text": [
      "        Datum        Brot   Broetchen   Croissant  Konditorei      Kuchen  \\\n",
      "0  2013-07-01  148.828353  535.856285  201.198426   65.890169  317.475875   \n",
      "1  2013-07-02  159.793757  546.780787  265.261254   74.543917  383.628682   \n",
      "2  2013-07-03  111.885594  427.343259  210.260241   69.262728  305.523072   \n",
      "3  2013-07-04  168.864941  454.859641  190.686641   61.490175  308.408168   \n",
      "4  2013-07-05  171.280754  492.818804  181.644870   86.759861  355.518770   \n",
      "\n",
      "   Saisonbrot  Umsatz_total  \n",
      "0         0.0          1269  \n",
      "1         0.0          1430  \n",
      "2         0.0          1124  \n",
      "3         0.0          1184  \n",
      "4         0.0          1288  \n",
      "(1819, 8)\n"
     ]
    }
   ],
   "source": [
    "#aufräumen der Daten. NaN durch 0 ersetzen\n",
    "umsatz_shaped.fillna(0, inplace=True)\n",
    "\n",
    "#Eine Spalte hinzufügen in welcher der Gesamtumsatz steht\n",
    "umsatz_shaped['Umsatz_total'] = umsatz_shaped['Brot'] + umsatz_shaped['Broetchen'] + umsatz_shaped['Croissant'] + umsatz_shaped['Konditorei'] + umsatz_shaped['Kuchen'] + umsatz_shaped['Saisonbrot']\n",
    "umsatz_shaped['Umsatz_total'] = umsatz_shaped['Umsatz_total'].astype(int)\n",
    "\n",
    "\n",
    "print(umsatz_shaped.head())\n",
    "print(umsatz_shaped.shape)"
   ]
  },
  {
   "cell_type": "code",
   "execution_count": 5,
   "metadata": {},
   "outputs": [
    {
     "name": "stdout",
     "output_type": "stream",
     "text": [
      "        Datum        Brot   Broetchen   Croissant  Konditorei      Kuchen  \\\n",
      "0  2013-07-01  148.828353  535.856285  201.198426   65.890169  317.475875   \n",
      "1  2013-07-02  159.793757  546.780787  265.261254   74.543917  383.628682   \n",
      "2  2013-07-03  111.885594  427.343259  210.260241   69.262728  305.523072   \n",
      "3  2013-07-04  168.864941  454.859641  190.686641   61.490175  308.408168   \n",
      "4  2013-07-05  171.280754  492.818804  181.644870   86.759861  355.518770   \n",
      "\n",
      "   Saisonbrot  Umsatz_total  Temp_Very_Cold  Temp_Cold  ...  \\\n",
      "0         0.0          1269             0.0        0.0  ...   \n",
      "1         0.0          1430             0.0        0.0  ...   \n",
      "2         0.0          1124             0.0        0.0  ...   \n",
      "3         0.0          1184             0.0        0.0  ...   \n",
      "4         0.0          1288             0.0        0.0  ...   \n",
      "\n",
      "   Cloud_Partly_Cloudy  Cloud_Cloudy  Wind_Light  Wind_Moderate  Wind_Strong  \\\n",
      "0                  0.0           1.0         0.0            1.0          0.0   \n",
      "1                  1.0           0.0         0.0            1.0          0.0   \n",
      "2                  0.0           1.0         1.0            0.0          0.0   \n",
      "3                  0.0           1.0         1.0            0.0          0.0   \n",
      "4                  1.0           0.0         0.0            1.0          0.0   \n",
      "\n",
      "   Weather_Good  Weather_Light_Issues  Weather_Moderate  Weather_Severe  \\\n",
      "0           0.0                   1.0               0.0             0.0   \n",
      "1           0.0                   0.0               0.0             0.0   \n",
      "2           0.0                   1.0               0.0             0.0   \n",
      "3           0.0                   1.0               0.0             0.0   \n",
      "4           0.0                   0.0               0.0             0.0   \n",
      "\n",
      "   Weather_Unknown  \n",
      "0              0.0  \n",
      "1              1.0  \n",
      "2              0.0  \n",
      "3              0.0  \n",
      "4              1.0  \n",
      "\n",
      "[5 rows x 24 columns]\n",
      "(1819, 24)\n"
     ]
    }
   ],
   "source": [
    "#nun können die Umsatzdaten mit den Wetterdaten zusammengeführt werden\n",
    "#merge the data\n",
    "data = pd.merge(umsatz_shaped,wetter, how='left', on='Datum')\n",
    "print(data.head())\n",
    "print(data.shape)\n",
    "\n",
    "#es werden nun die Zeilen behalten, für welche es Umsatzdaten gibt"
   ]
  },
  {
   "cell_type": "code",
   "execution_count": 6,
   "metadata": {},
   "outputs": [
    {
     "name": "stdout",
     "output_type": "stream",
     "text": [
      "        Datum        Brot   Broetchen   Croissant  Konditorei      Kuchen  \\\n",
      "0  2013-07-01  148.828353  535.856285  201.198426   65.890169  317.475875   \n",
      "1  2013-07-02  159.793757  546.780787  265.261254   74.543917  383.628682   \n",
      "2  2013-07-03  111.885594  427.343259  210.260241   69.262728  305.523072   \n",
      "3  2013-07-04  168.864941  454.859641  190.686641   61.490175  308.408168   \n",
      "4  2013-07-05  171.280754  492.818804  181.644870   86.759861  355.518770   \n",
      "\n",
      "   Saisonbrot  Umsatz_total  Temp_Very_Cold  Temp_Cold  ...  Cloud_Cloudy  \\\n",
      "0         0.0          1269             0.0        0.0  ...           1.0   \n",
      "1         0.0          1430             0.0        0.0  ...           0.0   \n",
      "2         0.0          1124             0.0        0.0  ...           1.0   \n",
      "3         0.0          1184             0.0        0.0  ...           1.0   \n",
      "4         0.0          1288             0.0        0.0  ...           0.0   \n",
      "\n",
      "   Wind_Light  Wind_Moderate  Wind_Strong  Weather_Good  Weather_Light_Issues  \\\n",
      "0         0.0            1.0          0.0           0.0                   1.0   \n",
      "1         0.0            1.0          0.0           0.0                   0.0   \n",
      "2         1.0            0.0          0.0           0.0                   1.0   \n",
      "3         1.0            0.0          0.0           0.0                   1.0   \n",
      "4         0.0            1.0          0.0           0.0                   0.0   \n",
      "\n",
      "   Weather_Moderate  Weather_Severe  Weather_Unknown  KielerWoche  \n",
      "0               0.0             0.0              0.0          NaN  \n",
      "1               0.0             0.0              1.0          NaN  \n",
      "2               0.0             0.0              0.0          NaN  \n",
      "3               0.0             0.0              0.0          NaN  \n",
      "4               0.0             0.0              1.0          NaN  \n",
      "\n",
      "[5 rows x 25 columns]\n",
      "(1819, 25)\n",
      "        Datum        Brot   Broetchen   Croissant  Konditorei      Kuchen  \\\n",
      "0  2013-07-01  148.828353  535.856285  201.198426   65.890169  317.475875   \n",
      "1  2013-07-02  159.793757  546.780787  265.261254   74.543917  383.628682   \n",
      "2  2013-07-03  111.885594  427.343259  210.260241   69.262728  305.523072   \n",
      "3  2013-07-04  168.864941  454.859641  190.686641   61.490175  308.408168   \n",
      "4  2013-07-05  171.280754  492.818804  181.644870   86.759861  355.518770   \n",
      "\n",
      "   Saisonbrot  Umsatz_total  Temp_Very_Cold  Temp_Cold  ...  Cloud_Cloudy  \\\n",
      "0         0.0          1269             0.0        0.0  ...           1.0   \n",
      "1         0.0          1430             0.0        0.0  ...           0.0   \n",
      "2         0.0          1124             0.0        0.0  ...           1.0   \n",
      "3         0.0          1184             0.0        0.0  ...           1.0   \n",
      "4         0.0          1288             0.0        0.0  ...           0.0   \n",
      "\n",
      "   Wind_Light  Wind_Moderate  Wind_Strong  Weather_Good  Weather_Light_Issues  \\\n",
      "0         0.0            1.0          0.0           0.0                   1.0   \n",
      "1         0.0            1.0          0.0           0.0                   0.0   \n",
      "2         1.0            0.0          0.0           0.0                   1.0   \n",
      "3         1.0            0.0          0.0           0.0                   1.0   \n",
      "4         0.0            1.0          0.0           0.0                   0.0   \n",
      "\n",
      "   Weather_Moderate  Weather_Severe  Weather_Unknown  KielerWoche  \n",
      "0               0.0             0.0              0.0            0  \n",
      "1               0.0             0.0              1.0            0  \n",
      "2               0.0             0.0              0.0            0  \n",
      "3               0.0             0.0              0.0            0  \n",
      "4               0.0             0.0              1.0            0  \n",
      "\n",
      "[5 rows x 25 columns]\n"
     ]
    }
   ],
   "source": [
    "# und nun noch die Kieler Woche Daten hinzufügen\n",
    "data = pd.merge(data, kiwo, how='left', on='Datum')\n",
    "print(data.head())\n",
    "print(data.shape)\n",
    "\n",
    "#im moment steht da eine 1.0 wenn es Kieler Woche ist und eine NaN wenn nicht. Das ändern wir jetzt\n",
    "data['KielerWoche'] = data['KielerWoche'].fillna(0)\n",
    "data['KielerWoche'] = data['KielerWoche'].astype(int)\n",
    "print(data.head())\t"
   ]
  },
  {
   "cell_type": "code",
   "execution_count": 9,
   "metadata": {},
   "outputs": [
    {
     "name": "stdout",
     "output_type": "stream",
     "text": [
      "        Datum  Montag  Dienstag  Mittwoch  Donnerstag  Freitag  Samstag  \\\n",
      "0  2013-07-01       1         0         0           0        0        0   \n",
      "1  2013-07-02       0         1         0           0        0        0   \n",
      "2  2013-07-03       0         0         1           0        0        0   \n",
      "3  2013-07-04       0         0         0           1        0        0   \n",
      "4  2013-07-05       0         0         0           0        1        0   \n",
      "\n",
      "   Sonntag  \n",
      "0        0  \n",
      "1        0  \n",
      "2        0  \n",
      "3        0  \n",
      "4        0  \n",
      "        Datum        Brot   Broetchen   Croissant  Konditorei      Kuchen  \\\n",
      "0  2013-07-01  148.828353  535.856285  201.198426   65.890169  317.475875   \n",
      "1  2013-07-02  159.793757  546.780787  265.261254   74.543917  383.628682   \n",
      "2  2013-07-03  111.885594  427.343259  210.260241   69.262728  305.523072   \n",
      "3  2013-07-04  168.864941  454.859641  190.686641   61.490175  308.408168   \n",
      "4  2013-07-05  171.280754  492.818804  181.644870   86.759861  355.518770   \n",
      "\n",
      "   Saisonbrot  Umsatz_total  Temp_Very_Cold  Temp_Cold  ...  Weather_Severe  \\\n",
      "0         0.0          1269             0.0        0.0  ...             0.0   \n",
      "1         0.0          1430             0.0        0.0  ...             0.0   \n",
      "2         0.0          1124             0.0        0.0  ...             0.0   \n",
      "3         0.0          1184             0.0        0.0  ...             0.0   \n",
      "4         0.0          1288             0.0        0.0  ...             0.0   \n",
      "\n",
      "   Weather_Unknown  KielerWoche  Montag  Dienstag  Mittwoch  Donnerstag  \\\n",
      "0              0.0            0       1         0         0           0   \n",
      "1              1.0            0       0         1         0           0   \n",
      "2              0.0            0       0         0         1           0   \n",
      "3              0.0            0       0         0         0           1   \n",
      "4              1.0            0       0         0         0           0   \n",
      "\n",
      "   Freitag  Samstag  Sonntag  \n",
      "0        0        0        0  \n",
      "1        0        0        0  \n",
      "2        0        0        0  \n",
      "3        0        0        0  \n",
      "4        1        0        0  \n",
      "\n",
      "[5 rows x 32 columns]\n"
     ]
    }
   ],
   "source": [
    "#als letztes werden noch die Wochentage hinzugefügt\n",
    "wochentag = pd.read_csv(\"./09_Wochentage/Wochentage.csv\")\n",
    "print(wochentag.head())\n",
    "\n",
    "#mergen der Daten\n",
    "data = pd.merge(data, wochentag, how='left', on='Datum')\n",
    "print(data.head())"
   ]
  },
  {
   "cell_type": "markdown",
   "metadata": {},
   "source": [
    "Nun haben wir alle Basisidaten zusammen geführt. Jetzt können noch die Variablen, welche wir selber gesucht haben hinzugefügt werden."
   ]
  },
  {
   "cell_type": "code",
   "execution_count": 10,
   "metadata": {},
   "outputs": [
    {
     "name": "stdout",
     "output_type": "stream",
     "text": [
      "        Datum   VPI\n",
      "0  2013-07-01  98.9\n",
      "1  2013-07-02  98.9\n",
      "2  2013-07-03  98.9\n",
      "3  2013-07-04  98.9\n",
      "4  2013-07-05  98.9\n",
      "           Datum    VPI\n",
      "1852  2018-07-27  104.4\n",
      "1853  2018-07-28  104.4\n",
      "1854  2018-07-29  104.4\n",
      "1855  2018-07-30  104.4\n",
      "1856  2018-07-31  104.4\n",
      "(1857, 2)\n"
     ]
    }
   ],
   "source": [
    "#hinzufügen der Inflationsdaten\n",
    "#einlesen der Daten\n",
    "inflation = pd.read_csv(\"./02_Verbraucherpreisindex/vpi_daily.csv\")\n",
    "print(inflation.head())\n",
    "print(inflation.tail())\n",
    "print(inflation.shape)\n"
   ]
  },
  {
   "cell_type": "code",
   "execution_count": 11,
   "metadata": {},
   "outputs": [
    {
     "name": "stdout",
     "output_type": "stream",
     "text": [
      "        Datum        Brot   Broetchen   Croissant  Konditorei      Kuchen  \\\n",
      "0  2013-07-01  148.828353  535.856285  201.198426   65.890169  317.475875   \n",
      "1  2013-07-02  159.793757  546.780787  265.261254   74.543917  383.628682   \n",
      "2  2013-07-03  111.885594  427.343259  210.260241   69.262728  305.523072   \n",
      "3  2013-07-04  168.864941  454.859641  190.686641   61.490175  308.408168   \n",
      "4  2013-07-05  171.280754  492.818804  181.644870   86.759861  355.518770   \n",
      "\n",
      "   Saisonbrot  Umsatz_total  Temp_Very_Cold  Temp_Cold  ...  Weather_Unknown  \\\n",
      "0         0.0          1269             0.0        0.0  ...              0.0   \n",
      "1         0.0          1430             0.0        0.0  ...              1.0   \n",
      "2         0.0          1124             0.0        0.0  ...              0.0   \n",
      "3         0.0          1184             0.0        0.0  ...              0.0   \n",
      "4         0.0          1288             0.0        0.0  ...              1.0   \n",
      "\n",
      "   KielerWoche  Montag  Dienstag  Mittwoch  Donnerstag  Freitag  Samstag  \\\n",
      "0            0       1         0         0           0        0        0   \n",
      "1            0       0         1         0           0        0        0   \n",
      "2            0       0         0         1           0        0        0   \n",
      "3            0       0         0         0           1        0        0   \n",
      "4            0       0         0         0           0        1        0   \n",
      "\n",
      "   Sonntag   VPI  \n",
      "0        0  98.9  \n",
      "1        0  98.9  \n",
      "2        0  98.9  \n",
      "3        0  98.9  \n",
      "4        0  98.9  \n",
      "\n",
      "[5 rows x 33 columns]\n",
      "(1819, 33)\n"
     ]
    }
   ],
   "source": [
    "#mergen der Daten\n",
    "data = pd.merge(data, inflation, how='left', on='Datum')    \n",
    "print(data.head())\n",
    "print(data.shape)"
   ]
  },
  {
   "cell_type": "code",
   "execution_count": 12,
   "metadata": {},
   "outputs": [
    {
     "name": "stdout",
     "output_type": "stream",
     "text": [
      "  Arival_date  Number_of_ships  Ship\n",
      "0  2012-01-07                2  True\n",
      "1  2012-01-09                2  True\n",
      "2  2012-02-05                1  True\n",
      "3  2012-02-06                2  True\n",
      "4  2012-02-07                1  True\n"
     ]
    }
   ],
   "source": [
    "#hinzufügen der Kreuzfahrschfissdaten\n",
    "schiffe = pd.read_csv(\"./01_Kreuzfahrtschiffe/Alle_Schiffe.csv\")\n",
    "print(schiffe.head())\n"
   ]
  },
  {
   "cell_type": "code",
   "execution_count": 13,
   "metadata": {},
   "outputs": [
    {
     "name": "stdout",
     "output_type": "stream",
     "text": [
      "        Datum        Brot   Broetchen   Croissant  Konditorei      Kuchen  \\\n",
      "0  2013-07-01  148.828353  535.856285  201.198426   65.890169  317.475875   \n",
      "1  2013-07-02  159.793757  546.780787  265.261254   74.543917  383.628682   \n",
      "2  2013-07-03  111.885594  427.343259  210.260241   69.262728  305.523072   \n",
      "3  2013-07-04  168.864941  454.859641  190.686641   61.490175  308.408168   \n",
      "4  2013-07-05  171.280754  492.818804  181.644870   86.759861  355.518770   \n",
      "\n",
      "   Saisonbrot  Umsatz_total  Temp_Very_Cold  Temp_Cold  ...  Montag  Dienstag  \\\n",
      "0         0.0          1269             0.0        0.0  ...       1         0   \n",
      "1         0.0          1430             0.0        0.0  ...       0         1   \n",
      "2         0.0          1124             0.0        0.0  ...       0         0   \n",
      "3         0.0          1184             0.0        0.0  ...       0         0   \n",
      "4         0.0          1288             0.0        0.0  ...       0         0   \n",
      "\n",
      "   Mittwoch  Donnerstag  Freitag  Samstag  Sonntag   VPI  Number_of_ships  \\\n",
      "0         0           0        0        0        0  98.9              NaN   \n",
      "1         0           0        0        0        0  98.9              NaN   \n",
      "2         1           0        0        0        0  98.9              NaN   \n",
      "3         0           1        0        0        0  98.9              NaN   \n",
      "4         0           0        1        0        0  98.9              1.0   \n",
      "\n",
      "    Ship  \n",
      "0  False  \n",
      "1  False  \n",
      "2  False  \n",
      "3  False  \n",
      "4   True  \n",
      "\n",
      "[5 rows x 35 columns]\n",
      "(1819, 35)\n"
     ]
    },
    {
     "name": "stderr",
     "output_type": "stream",
     "text": [
      "/tmp/ipykernel_3214/2747539301.py:6: FutureWarning: Downcasting object dtype arrays on .fillna, .ffill, .bfill is deprecated and will change in a future version. Call result.infer_objects(copy=False) instead. To opt-in to the future behavior, set `pd.set_option('future.no_silent_downcasting', True)`\n",
      "  data['Ship'] = data['Ship'].fillna(False)\n"
     ]
    }
   ],
   "source": [
    "#merge the data\n",
    "data = pd.merge(data, schiffe, how='left', left_on='Datum', right_on='Arival_date')\n",
    "#delete extra column Arival_date\n",
    "data.drop('Arival_date', axis=1, inplace=True)\n",
    "#fill NaN with False\n",
    "data['Ship'] = data['Ship'].fillna(False)\n",
    "\n",
    "print(data.head())\n",
    "print(data.shape)"
   ]
  },
  {
   "cell_type": "code",
   "execution_count": 14,
   "metadata": {},
   "outputs": [
    {
     "name": "stdout",
     "output_type": "stream",
     "text": [
      "        Datum  Heimspiel\n",
      "0  2013-01-01          0\n",
      "1  2013-01-02          0\n",
      "2  2013-01-03          0\n",
      "3  2013-01-04          0\n",
      "4  2013-01-05          0\n",
      "(2922, 2)\n"
     ]
    }
   ],
   "source": [
    "#importieren der heimspiel daten\n",
    "heimspiele = pd.read_csv(\"./03_Heimspiele/Kiel_Heimspiele.csv\", sep=',')\n",
    "\n",
    "print(heimspiele.head())\n",
    "print(heimspiele.shape)"
   ]
  },
  {
   "cell_type": "code",
   "execution_count": 15,
   "metadata": {},
   "outputs": [
    {
     "name": "stdout",
     "output_type": "stream",
     "text": [
      "        Datum        Brot   Broetchen   Croissant  Konditorei      Kuchen  \\\n",
      "0  2013-07-01  148.828353  535.856285  201.198426   65.890169  317.475875   \n",
      "1  2013-07-02  159.793757  546.780787  265.261254   74.543917  383.628682   \n",
      "2  2013-07-03  111.885594  427.343259  210.260241   69.262728  305.523072   \n",
      "3  2013-07-04  168.864941  454.859641  190.686641   61.490175  308.408168   \n",
      "4  2013-07-05  171.280754  492.818804  181.644870   86.759861  355.518770   \n",
      "\n",
      "   Saisonbrot  Umsatz_total  Temp_Very_Cold  Temp_Cold  ...  Dienstag  \\\n",
      "0         0.0          1269             0.0        0.0  ...         0   \n",
      "1         0.0          1430             0.0        0.0  ...         1   \n",
      "2         0.0          1124             0.0        0.0  ...         0   \n",
      "3         0.0          1184             0.0        0.0  ...         0   \n",
      "4         0.0          1288             0.0        0.0  ...         0   \n",
      "\n",
      "   Mittwoch  Donnerstag  Freitag  Samstag  Sonntag   VPI  Number_of_ships  \\\n",
      "0         0           0        0        0        0  98.9              NaN   \n",
      "1         0           0        0        0        0  98.9              NaN   \n",
      "2         1           0        0        0        0  98.9              NaN   \n",
      "3         0           1        0        0        0  98.9              NaN   \n",
      "4         0           0        1        0        0  98.9              1.0   \n",
      "\n",
      "    Ship  Heimspiel  \n",
      "0  False          0  \n",
      "1  False          0  \n",
      "2  False          0  \n",
      "3  False          0  \n",
      "4   True          0  \n",
      "\n",
      "[5 rows x 36 columns]\n",
      "(1819, 36)\n"
     ]
    }
   ],
   "source": [
    "#mergen der heimspiel Daten\n",
    "data = pd.merge(data, heimspiele, how='left', left_on='Datum', right_on='Datum')\n",
    "print(data.head())\n",
    "print(data.shape)"
   ]
  },
  {
   "cell_type": "code",
   "execution_count": 16,
   "metadata": {},
   "outputs": [
    {
     "name": "stdout",
     "output_type": "stream",
     "text": [
      "        Datum  Feiertag\n",
      "0  2013-07-01         0\n",
      "1  2013-07-02         0\n",
      "2  2013-07-03         0\n",
      "3  2013-07-04         0\n",
      "4  2013-07-05         0\n",
      "(1645, 2)\n"
     ]
    }
   ],
   "source": [
    "#Feiertagsdaten hochladen\n",
    "feiertage = pd.read_csv(\"./04_Feiertage/feiertage_final.csv\", sep=';')\n",
    "print(feiertage.head())\n",
    "print(feiertage.shape)"
   ]
  },
  {
   "cell_type": "code",
   "execution_count": 17,
   "metadata": {},
   "outputs": [
    {
     "name": "stdout",
     "output_type": "stream",
     "text": [
      "        Datum        Brot   Broetchen   Croissant  Konditorei      Kuchen  \\\n",
      "0  2013-07-01  148.828353  535.856285  201.198426   65.890169  317.475875   \n",
      "1  2013-07-02  159.793757  546.780787  265.261254   74.543917  383.628682   \n",
      "2  2013-07-03  111.885594  427.343259  210.260241   69.262728  305.523072   \n",
      "3  2013-07-04  168.864941  454.859641  190.686641   61.490175  308.408168   \n",
      "4  2013-07-05  171.280754  492.818804  181.644870   86.759861  355.518770   \n",
      "\n",
      "   Saisonbrot  Umsatz_total  Temp_Very_Cold  Temp_Cold  ...  Mittwoch  \\\n",
      "0         0.0          1269             0.0        0.0  ...         0   \n",
      "1         0.0          1430             0.0        0.0  ...         0   \n",
      "2         0.0          1124             0.0        0.0  ...         1   \n",
      "3         0.0          1184             0.0        0.0  ...         0   \n",
      "4         0.0          1288             0.0        0.0  ...         0   \n",
      "\n",
      "   Donnerstag  Freitag  Samstag  Sonntag   VPI  Number_of_ships   Ship  \\\n",
      "0           0        0        0        0  98.9              NaN  False   \n",
      "1           0        0        0        0  98.9              NaN  False   \n",
      "2           0        0        0        0  98.9              NaN  False   \n",
      "3           1        0        0        0  98.9              NaN  False   \n",
      "4           0        1        0        0  98.9              1.0   True   \n",
      "\n",
      "   Heimspiel  Feiertag  \n",
      "0          0       0.0  \n",
      "1          0       0.0  \n",
      "2          0       0.0  \n",
      "3          0       0.0  \n",
      "4          0       0.0  \n",
      "\n",
      "[5 rows x 37 columns]\n",
      "(1819, 37)\n"
     ]
    }
   ],
   "source": [
    "#und mergen der feiertagsdaten\n",
    "data = pd.merge(data, feiertage, how='left', left_on='Datum', right_on='Datum')\n",
    "print(data.head())\n",
    "print(data.shape)"
   ]
  },
  {
   "cell_type": "code",
   "execution_count": 18,
   "metadata": {},
   "outputs": [
    {
     "name": "stdout",
     "output_type": "stream",
     "text": [
      "        Datum  is_holiday\n",
      "0  2013-01-01           0\n",
      "1  2013-01-02           0\n",
      "2  2013-01-03           0\n",
      "3  2013-01-04           0\n",
      "4  2013-01-05           0\n",
      "        Datum        Brot   Broetchen   Croissant  Konditorei      Kuchen  \\\n",
      "0  2013-07-01  148.828353  535.856285  201.198426   65.890169  317.475875   \n",
      "1  2013-07-02  159.793757  546.780787  265.261254   74.543917  383.628682   \n",
      "2  2013-07-03  111.885594  427.343259  210.260241   69.262728  305.523072   \n",
      "3  2013-07-04  168.864941  454.859641  190.686641   61.490175  308.408168   \n",
      "4  2013-07-05  171.280754  492.818804  181.644870   86.759861  355.518770   \n",
      "\n",
      "   Saisonbrot  Umsatz_total  Temp_Very_Cold  Temp_Cold  ...  Donnerstag  \\\n",
      "0         0.0          1269             0.0        0.0  ...           0   \n",
      "1         0.0          1430             0.0        0.0  ...           0   \n",
      "2         0.0          1124             0.0        0.0  ...           0   \n",
      "3         0.0          1184             0.0        0.0  ...           1   \n",
      "4         0.0          1288             0.0        0.0  ...           0   \n",
      "\n",
      "   Freitag  Samstag  Sonntag   VPI  Number_of_ships   Ship  Heimspiel  \\\n",
      "0        0        0        0  98.9              NaN  False          0   \n",
      "1        0        0        0  98.9              NaN  False          0   \n",
      "2        0        0        0  98.9              NaN  False          0   \n",
      "3        0        0        0  98.9              NaN  False          0   \n",
      "4        1        0        0  98.9              1.0   True          0   \n",
      "\n",
      "   Feiertag  is_holiday  \n",
      "0       0.0           0  \n",
      "1       0.0           0  \n",
      "2       0.0           0  \n",
      "3       0.0           0  \n",
      "4       0.0           0  \n",
      "\n",
      "[5 rows x 38 columns]\n"
     ]
    }
   ],
   "source": [
    "#hinzufügen der Feriendaten\n",
    "ferien = pd.read_csv(\"./06_Ferientage/06_ferientage.csv\")\n",
    "print(ferien.head())\n",
    "\n",
    "#und mergen der Feriendaten\n",
    "data = pd.merge(data, ferien, how='left', left_on='Datum', right_on='Datum')\n",
    "print(data.head())"
   ]
  },
  {
   "cell_type": "code",
   "execution_count": 23,
   "metadata": {},
   "outputs": [
    {
     "name": "stdout",
     "output_type": "stream",
     "text": [
      "        Datum  Weihnachtsmarkt  Markt\n",
      "0  2013-01-01                0      0\n",
      "1  2013-01-02                0      0\n",
      "2  2013-01-03                0      0\n",
      "3  2013-01-04                0      0\n",
      "4  2013-01-05                0      0\n",
      "        Datum        Brot   Broetchen   Croissant  Konditorei      Kuchen  \\\n",
      "0  2013-07-01  148.828353  535.856285  201.198426   65.890169  317.475875   \n",
      "1  2013-07-02  159.793757  546.780787  265.261254   74.543917  383.628682   \n",
      "2  2013-07-03  111.885594  427.343259  210.260241   69.262728  305.523072   \n",
      "3  2013-07-04  168.864941  454.859641  190.686641   61.490175  308.408168   \n",
      "4  2013-07-05  171.280754  492.818804  181.644870   86.759861  355.518770   \n",
      "\n",
      "   Saisonbrot  Umsatz_total  Temp_Very_Cold  Temp_Cold  ...  Samstag  Sonntag  \\\n",
      "0         0.0          1269             0.0        0.0  ...        0        0   \n",
      "1         0.0          1430             0.0        0.0  ...        0        0   \n",
      "2         0.0          1124             0.0        0.0  ...        0        0   \n",
      "3         0.0          1184             0.0        0.0  ...        0        0   \n",
      "4         0.0          1288             0.0        0.0  ...        0        0   \n",
      "\n",
      "    VPI  Number_of_ships   Ship  Heimspiel  Feiertag  is_holiday  \\\n",
      "0  98.9              NaN  False          0       0.0           0   \n",
      "1  98.9              NaN  False          0       0.0           0   \n",
      "2  98.9              NaN  False          0       0.0           0   \n",
      "3  98.9              NaN  False          0       0.0           0   \n",
      "4  98.9              1.0   True          0       0.0           0   \n",
      "\n",
      "   Weihnachtsmarkt  Markt  \n",
      "0                0      0  \n",
      "1                0      0  \n",
      "2                0      0  \n",
      "3                0      0  \n",
      "4                0      0  \n",
      "\n",
      "[5 rows x 40 columns]\n"
     ]
    }
   ],
   "source": [
    "#hinzufügen der Märkte\n",
    "marktdaten = pd.read_csv(\"./08_Maerkte/maekte_final.csv\")\n",
    "print(marktdaten.head())\n",
    "\n",
    "#und mergen der Marktdaten\n",
    "data = pd.merge(data, marktdaten, how='left', left_on='Datum', right_on='Datum')\n",
    "print(data.head())"
   ]
  },
  {
   "cell_type": "markdown",
   "metadata": {},
   "source": [
    "Damit sind alle Daten gemerged und der df kann als csv zur weiteren Bearbeitung exportiert werden."
   ]
  },
  {
   "cell_type": "code",
   "execution_count": 24,
   "metadata": {},
   "outputs": [],
   "source": [
    "#exportieren der Daten als csv\n",
    "data.to_csv(\"data.csv\", index=False)"
   ]
  },
  {
   "cell_type": "code",
   "execution_count": 26,
   "metadata": {},
   "outputs": [
    {
     "name": "stdout",
     "output_type": "stream",
     "text": [
      "(1462, 40)\n",
      "(357, 40)\n"
     ]
    }
   ],
   "source": [
    "#teilern der Daten in einen Trainingsdatensatz und einen Validierungsdatensatz\n",
    "#trinaingsdaten sollen vom 01.07.2013 bis 31.07.20217 gehen\n",
    "#validierungsdaten sollen vom 01.08.2017 bis 31.07.2018 gehen\n",
    "train = data[data['Datum'] < '2017-08-01']\n",
    "valid = data[data['Datum'] >= '2017-08-01']\n",
    "\n",
    "print(train.shape)\n",
    "print(valid.shape)\n",
    "\n",
    "#exportieren der Daten als csv\n",
    "train.to_csv(\"Trainingsdaten.csv\", index=False)\n",
    "valid.to_csv(\"Validierungsdaten.csv\", index=False)\n",
    "\n"
   ]
  },
  {
   "cell_type": "code",
   "execution_count": null,
   "metadata": {},
   "outputs": [],
   "source": []
  }
 ],
 "metadata": {
  "kernelspec": {
   "display_name": "Python 3",
   "language": "python",
   "name": "python3"
  },
  "language_info": {
   "codemirror_mode": {
    "name": "ipython",
    "version": 3
   },
   "file_extension": ".py",
   "mimetype": "text/x-python",
   "name": "python",
   "nbconvert_exporter": "python",
   "pygments_lexer": "ipython3",
   "version": "3.12.1"
  }
 },
 "nbformat": 4,
 "nbformat_minor": 2
}
