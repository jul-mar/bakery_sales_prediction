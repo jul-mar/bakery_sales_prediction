{
 "cells": [
  {
   "cell_type": "markdown",
   "metadata": {},
   "source": [
    "Hier werden alle Daten aus verschiedenen Quellen zu einem großen Dataframe zusammen gefasst. Das sind zum einen die Daten welche uns vom Kurs zu Verfügung gestellt wurden, als auch die daten welche wir selber noch gefunden haben."
   ]
  },
  {
   "cell_type": "code",
   "execution_count": 1,
   "metadata": {},
   "outputs": [],
   "source": [
    "#packete für data handling laden\n",
    "import pandas as pd\n",
    "import numpy as np\n",
    "import matplotlib.pyplot as plt\n",
    "import seaborn as sns\n",
    "import os"
   ]
  },
  {
   "cell_type": "code",
   "execution_count": 7,
   "metadata": {},
   "outputs": [
    {
     "name": "stdout",
     "output_type": "stream",
     "text": [
      "        Datum  Bewoelkung  Temperatur  Windgeschwindigkeit  Wettercode\n",
      "0  2012-01-01         8.0      9.8250                   14        58.0\n",
      "1  2012-01-02         7.0      7.4375                   12         NaN\n",
      "2  2012-01-03         8.0      5.5375                   18        63.0\n",
      "3  2012-01-04         4.0      5.6875                   19        80.0\n",
      "4  2012-01-05         6.0      5.3000                   23        80.0\n",
      "           Datum  Bewoelkung  Temperatur  Windgeschwindigkeit  Wettercode\n",
      "2596  2019-07-28         3.0     23.3500                   14         5.0\n",
      "2597  2019-07-29         6.0     25.2500                    7        61.0\n",
      "2598  2019-07-30         7.0     20.7375                    8        61.0\n",
      "2599  2019-07-31         6.0     20.4500                    7        61.0\n",
      "2600  2019-08-01         5.0     21.0625                    9        61.0\n",
      "(2601, 5)\n",
      "        Datum  Warengruppe      Umsatz\n",
      "0  2013-07-01            1  148.828353\n",
      "1  2013-07-02            1  159.793757\n",
      "2  2013-07-03            1  111.885594\n",
      "3  2013-07-04            1  168.864941\n",
      "4  2013-07-05            1  171.280754\n",
      "           Datum  Warengruppe     Umsatz\n",
      "9329  2017-12-21            6  87.471228\n",
      "9330  2017-12-22            6  71.911652\n",
      "9331  2017-12-23            6  84.062223\n",
      "9332  2017-12-24            6  60.981969\n",
      "9333  2017-12-27            6  34.972644\n",
      "(9334, 3)\n",
      "        Datum  KielerWoche\n",
      "0  2012-06-16            1\n",
      "1  2012-06-17            1\n",
      "2  2012-06-18            1\n",
      "3  2012-06-19            1\n",
      "4  2012-06-20            1\n",
      "         Datum  KielerWoche\n",
      "67  2019-06-26            1\n",
      "68  2019-06-27            1\n",
      "69  2019-06-28            1\n",
      "70  2019-06-29            1\n",
      "71  2019-06-30            1\n",
      "(72, 2)\n"
     ]
    }
   ],
   "source": [
    "#Einlesen der Basisidaten, welche wir zur verfügung gestellt bekommen haben\n",
    "#Wetterdaten\n",
    "wetter = pd.read_csv(\"../wetter.csv\")\n",
    "print(wetter.head())\n",
    "print(wetter.tail())\n",
    "print(wetter.shape)\n",
    "\n",
    "#Umsatzdaten\n",
    "umsatz = pd.read_csv(\"../umsatzdaten_gekuerzt.csv\")\n",
    "print(umsatz.head())\n",
    "print(umsatz.tail())\n",
    "print(umsatz.shape)\n",
    "\n",
    "#Kieler Woche Daten\n",
    "kiwo = pd.read_csv(\"../kiwo.csv\")\n",
    "print(kiwo.head())\n",
    "print(kiwo.tail())\n",
    "print(kiwo.shape)"
   ]
  },
  {
   "cell_type": "markdown",
   "metadata": {},
   "source": [
    "Die Umsatzdaten sind im long format nach Warengruppen. Bedeutet, dass jedes Datum mehrmals vorkommt. Das ist zum mergen der Daten nicht ideal. Daher den dataframe vom long format ins wide format bringen. \n",
    "In diesem Zuge werden direkt auch die Warengruppen richtig benannt"
   ]
  },
  {
   "cell_type": "code",
   "execution_count": 8,
   "metadata": {},
   "outputs": [
    {
     "name": "stdout",
     "output_type": "stream",
     "text": [
      "        Datum        Brot   Broetchen   Crossaint  Konditorei      Kuchen  \\\n",
      "0  2013-07-01  148.828353  535.856285  201.198426   65.890169  317.475875   \n",
      "1  2013-07-02  159.793757  546.780787  265.261254   74.543917  383.628682   \n",
      "2  2013-07-03  111.885594  427.343259  210.260241   69.262728  305.523072   \n",
      "3  2013-07-04  168.864941  454.859641  190.686641   61.490175  308.408168   \n",
      "4  2013-07-05  171.280754  492.818804  181.644870   86.759861  355.518770   \n",
      "\n",
      "   Saisonbrot  \n",
      "0         NaN  \n",
      "1         NaN  \n",
      "2         NaN  \n",
      "3         NaN  \n",
      "4         NaN  \n",
      "           Datum        Brot   Broetchen   Crossaint  Konditorei      Kuchen  \\\n",
      "1814  2018-07-27  198.225523  677.415844  333.774099   65.563734  297.867853   \n",
      "1815  2018-07-28  214.470393  716.576825  371.819770   54.047422  290.024007   \n",
      "1816  2018-07-29  129.801991  721.822447  433.820697  128.952852  335.823557   \n",
      "1817  2018-07-30  148.541340  616.358562  348.770346   71.822977  324.965348   \n",
      "1818  2018-07-31  123.075682  586.081666  285.872616   57.102795  261.341313   \n",
      "\n",
      "      Saisonbrot  \n",
      "1814         NaN  \n",
      "1815         NaN  \n",
      "1816         NaN  \n",
      "1817         NaN  \n",
      "1818         NaN  \n",
      "(1819, 7)\n"
     ]
    }
   ],
   "source": [
    "#get the umsart data in the wide format\n",
    "# Pivot the DataFrame\n",
    "umsatz_shaped = umsatz.pivot(index='Datum', columns='Warengruppe', values='Umsatz')\n",
    "\n",
    "# Reset the index to make 'date' a column again\n",
    "umsatz_shaped.reset_index(inplace=True)\n",
    "\n",
    "#get colums names right\n",
    "umsatz_shaped.columns = ['Datum', 'Brot', 'Broetchen', 'Crossaint', 'Konditorei', 'Kuchen', 'Saisonbrot']\n",
    "\n",
    "print(umsatz_shaped.head())\n",
    "print(umsatz_shaped.tail())    \n",
    "print(umsatz_shaped.shape)"
   ]
  },
  {
   "cell_type": "code",
   "execution_count": 9,
   "metadata": {},
   "outputs": [
    {
     "name": "stdout",
     "output_type": "stream",
     "text": [
      "        Datum        Brot   Broetchen   Crossaint  Konditorei      Kuchen  \\\n",
      "0  2013-07-01  148.828353  535.856285  201.198426   65.890169  317.475875   \n",
      "1  2013-07-02  159.793757  546.780787  265.261254   74.543917  383.628682   \n",
      "2  2013-07-03  111.885594  427.343259  210.260241   69.262728  305.523072   \n",
      "3  2013-07-04  168.864941  454.859641  190.686641   61.490175  308.408168   \n",
      "4  2013-07-05  171.280754  492.818804  181.644870   86.759861  355.518770   \n",
      "\n",
      "   Saisonbrot  Umsatz_total  \n",
      "0         0.0          1269  \n",
      "1         0.0          1430  \n",
      "2         0.0          1124  \n",
      "3         0.0          1184  \n",
      "4         0.0          1288  \n"
     ]
    }
   ],
   "source": [
    "#aufräumen der Daten. NaN durch 0 ersetzen\n",
    "umsatz_shaped.fillna(0, inplace=True)\n",
    "\n",
    "#Eine Spalte hinzufügen in welcher der Gesamtumsatz steht\n",
    "umsatz_shaped['Umsatz_total'] = umsatz_shaped['Brot'] + umsatz_shaped['Broetchen'] + umsatz_shaped['Crossaint'] + umsatz_shaped['Konditorei'] + umsatz_shaped['Kuchen'] + umsatz_shaped['Saisonbrot']\n",
    "umsatz_shaped['Umsatz_total'] = umsatz_shaped['Umsatz_total'].astype(int)\n",
    "print(umsatz_shaped.head())"
   ]
  },
  {
   "cell_type": "code",
   "execution_count": 18,
   "metadata": {},
   "outputs": [
    {
     "name": "stdout",
     "output_type": "stream",
     "text": [
      "        Datum  Bewoelkung  Temperatur  Windgeschwindigkeit  Wettercode  Brot  \\\n",
      "0  2012-01-01         8.0      9.8250                   14        58.0   NaN   \n",
      "1  2012-01-02         7.0      7.4375                   12         NaN   NaN   \n",
      "2  2012-01-03         8.0      5.5375                   18        63.0   NaN   \n",
      "3  2012-01-04         4.0      5.6875                   19        80.0   NaN   \n",
      "4  2012-01-05         6.0      5.3000                   23        80.0   NaN   \n",
      "\n",
      "   Broetchen  Crossaint  Konditorei  Kuchen  Saisonbrot  Umsatz_total  \n",
      "0        NaN        NaN         NaN     NaN         NaN           NaN  \n",
      "1        NaN        NaN         NaN     NaN         NaN           NaN  \n",
      "2        NaN        NaN         NaN     NaN         NaN           NaN  \n",
      "3        NaN        NaN         NaN     NaN         NaN           NaN  \n",
      "4        NaN        NaN         NaN     NaN         NaN           NaN  \n",
      "(2601, 12)\n"
     ]
    }
   ],
   "source": [
    "#nun können die Umsatzdaten mit den Wetterdaten zusammengeführt werden\n",
    "#merge the data\n",
    "data = pd.merge(wetter, umsatz_shaped, how='left', on='Datum')\n",
    "print(data.head())\n",
    "print(data.shape)\n",
    "\n",
    "#es werden nun erstmal alle Zeilen behalten auch wenn es keine Umsatzdaten gibt"
   ]
  },
  {
   "cell_type": "code",
   "execution_count": null,
   "metadata": {},
   "outputs": [
    {
     "name": "stdout",
     "output_type": "stream",
     "text": [
      "        Datum  Bewoelkung  Temperatur  Windgeschwindigkeit  Wettercode  Brot  \\\n",
      "0  2012-01-01         8.0      9.8250                   14        58.0   NaN   \n",
      "1  2012-01-02         7.0      7.4375                   12         NaN   NaN   \n",
      "2  2012-01-03         8.0      5.5375                   18        63.0   NaN   \n",
      "3  2012-01-04         4.0      5.6875                   19        80.0   NaN   \n",
      "4  2012-01-05         6.0      5.3000                   23        80.0   NaN   \n",
      "\n",
      "   Broetchen  Crossaint  Konditorei  Kuchen  Saisonbrot  Umsatz_total  \\\n",
      "0        NaN        NaN         NaN     NaN         NaN           NaN   \n",
      "1        NaN        NaN         NaN     NaN         NaN           NaN   \n",
      "2        NaN        NaN         NaN     NaN         NaN           NaN   \n",
      "3        NaN        NaN         NaN     NaN         NaN           NaN   \n",
      "4        NaN        NaN         NaN     NaN         NaN           NaN   \n",
      "\n",
      "   KielerWoche  \n",
      "0          NaN  \n",
      "1          NaN  \n",
      "2          NaN  \n",
      "3          NaN  \n",
      "4          NaN  \n",
      "(2601, 13)\n",
      "        Datum  Bewoelkung  Temperatur  Windgeschwindigkeit  Wettercode  Brot  \\\n",
      "0  2012-01-01         8.0      9.8250                   14        58.0   NaN   \n",
      "1  2012-01-02         7.0      7.4375                   12         NaN   NaN   \n",
      "2  2012-01-03         8.0      5.5375                   18        63.0   NaN   \n",
      "3  2012-01-04         4.0      5.6875                   19        80.0   NaN   \n",
      "4  2012-01-05         6.0      5.3000                   23        80.0   NaN   \n",
      "\n",
      "   Broetchen  Crossaint  Konditorei  Kuchen  Saisonbrot  Umsatz_total  \\\n",
      "0        NaN        NaN         NaN     NaN         NaN           NaN   \n",
      "1        NaN        NaN         NaN     NaN         NaN           NaN   \n",
      "2        NaN        NaN         NaN     NaN         NaN           NaN   \n",
      "3        NaN        NaN         NaN     NaN         NaN           NaN   \n",
      "4        NaN        NaN         NaN     NaN         NaN           NaN   \n",
      "\n",
      "   KielerWoche  \n",
      "0          0.0  \n",
      "1          0.0  \n",
      "2          0.0  \n",
      "3          0.0  \n",
      "4          0.0  \n"
     ]
    }
   ],
   "source": [
    "# und nun noch die Kieler Woche Daten hinzufügen\n",
    "data = pd.merge(data, kiwo, how='left', on='Datum')\n",
    "print(data.head())\n",
    "print(data.shape)\n",
    "\n",
    "#im moment steht da eine 1.0 wenn es Kieler Woche ist und eine NaN wenn nicht. Das ändern wir jetzt\n",
    "data['KielerWoche'] = data['KielerWoche'].fillna(0)\n",
    "data['KielerWoche'] = data['KielerWoche'].astype(int)\n",
    "print(data.head())\t"
   ]
  },
  {
   "cell_type": "markdown",
   "metadata": {},
   "source": [
    "Nun haben wir alle Basis"
   ]
  }
 ],
 "metadata": {
  "kernelspec": {
   "display_name": "Python 3",
   "language": "python",
   "name": "python3"
  },
  "language_info": {
   "codemirror_mode": {
    "name": "ipython",
    "version": 3
   },
   "file_extension": ".py",
   "mimetype": "text/x-python",
   "name": "python",
   "nbconvert_exporter": "python",
   "pygments_lexer": "ipython3",
   "version": "3.12.1"
  }
 },
 "nbformat": 4,
 "nbformat_minor": 2
}
