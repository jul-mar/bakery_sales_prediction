{
 "cells": [
  {
   "cell_type": "code",
   "execution_count": 1,
   "metadata": {},
   "outputs": [],
   "source": [
    "import pandas as pd\n",
    "\n",
    "# CSV-Datei laden\n",
    "df = pd.read_csv('maerkte_raw.csv', delimiter=';')\n",
    "\n",
    "# Datum als datetime-Objekt behalten\n",
    "df['Datum'] = pd.to_datetime(df['Datum'], format='%d.%m.%Y')\n",
    "\n",
    "# Fehlende Werte in der Spalte \"Weihnachtsmarkt\" und \"Markt\" mit 0 auffüllen und als Ganzzahl speichern\n",
    "df['Weihnachtsmarkt'] = df['Weihnachtsmarkt'].fillna(0).astype(int)\n",
    "df['Markt'] = df['Markt'].fillna(0).astype(int)\n",
    "\n",
    "# Zieldatei mit Komma als Trennzeichen speichern\n",
    "df.to_csv('maekte_final.csv', index=False, sep=',')\n"
   ]
  },
  {
   "cell_type": "code",
   "execution_count": null,
   "metadata": {},
   "outputs": [],
   "source": []
  }
 ],
 "metadata": {
  "kernelspec": {
   "display_name": ".venv",
   "language": "python",
   "name": "python3"
  },
  "language_info": {
   "codemirror_mode": {
    "name": "ipython",
    "version": 3
   },
   "file_extension": ".py",
   "mimetype": "text/x-python",
   "name": "python",
   "nbconvert_exporter": "python",
   "pygments_lexer": "ipython3",
   "version": "3.12.1"
  }
 },
 "nbformat": 4,
 "nbformat_minor": 2
}
