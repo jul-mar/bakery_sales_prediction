{
 "cells": [
  {
   "cell_type": "code",
   "execution_count": 6,
   "metadata": {},
   "outputs": [],
   "source": [
    "import pandas as pd\n",
    "import numpy as np  \n",
    "import matplotlib.pyplot as plt\n",
    "import requests\n",
    "from bs4 import BeautifulSoup"
   ]
  },
  {
   "cell_type": "code",
   "execution_count": 7,
   "metadata": {},
   "outputs": [
    {
     "name": "stdout",
     "output_type": "stream",
     "text": [
      "['Anlaufliste für 2013', '125 Anläufe durch 18 Schiffe von 15 Veranstaltern', 'Tag', 'Ankunft\\xa0 \\xa0Uhrzeit', 'Abfahrt\\xa0 \\xa0Uhrzeit', 'Schiff', 'Liegeplatz', 'Sa', 'Mi', 'Sa', 'Di', 'Mi', 'Do', 'Sa', 'So', 'Di', '13.04.13\\xa0 08:00', '17.04.13\\xa0 08:00', '20.04.13\\xa0 08:00', '23.04.13\\xa0 07:30', '24.04.13\\xa0 08:00', '25.04.13\\xa0 10:00', '27.04.13\\xa0 08:00', '28.04.13\\xa0 10:00', '30.04.13\\xa0 08:00', '13.04.13\\xa0 17:00', '17.04.13\\xa0 17:00', '20.04.13\\xa0 17:00', '23.04.13\\xa0 17:30', '24.04.13\\xa0 17:00', '25.04.13\\xa0 16:00', '27.04.13\\xa0 17:00', '28.04.13\\xa0 16:00', '30.04.13\\xa0 23:00', 'AIDAcara', 'AIDAcara', 'AIDAcara', 'Astor', 'AIDAcara', 'MSC Musica', 'AIDAcara', 'MSC Musica', 'Rotterdam', 'Ostseekai', 'Ostseekai', 'Ostseekai', 'Norwegenkai', 'Ostseekai', 'Ostseekai', 'Ostseekai', 'Ostseekai', 'Ostseekai', 'Tag', 'Ankunft\\xa0 \\xa0Uhrzeit', 'Abfahrt\\xa0 \\xa0Uhrzeit', 'Schiff', 'Liegeplatz', 'Mi', 'Mi', 'Sa', 'So', 'So', 'Di', 'Sa', 'Sa', 'So', 'So', 'Mo', 'Do', 'Sa', 'Sa', 'So', 'Do', 'Sa', 'Sa', 'So', 'Di', 'Mi', 'Mi', 'Do', 'Fr', '01.05.13\\xa0 08:00', '01.05.13\\xa0 09:00', '04.05.13\\xa0 08:00', '05.05.13\\xa0 08:00', '05.05.13\\xa0 08:00', '07.05.13\\xa0 10:00', '10.05.13\\xa0 08:00', '10.05.13\\xa0 08:00', '11.05.13\\xa0 08:00', '11.05.13\\xa0 08:00', '13.05.13\\xa0 08:00', '16.05.13\\xa0 07:00', '18.05.13\\xa0 08:00', '18.05.13\\xa0 10:00', '19.05.13\\xa0 08:00', '23.05.13\\xa0 08:00', '25.05.13\\xa0 08:00', '25.05.13\\xa0 10:00', '26.05.13\\xa0 08:00', '28.05.13\\xa0 08.00', '29.05.13\\xa0 07:00', '29.05.13\\xa0 10:00', '30.05.13\\xa0 07:00', '31.05.13\\xa0 08:00', '01.05.13\\xa0 17:00', '01.05.13\\xa0 17:00', '04.05.13\\xa0 17:00', '05.05.13\\xa0 16:00', '05.05.13\\xa0 17:00', '07.05.13\\xa0 18:00', '10.05.13\\xa0 17:00', '10.05.13\\xa0 18:00', '11.05.13\\xa0 16:00', '11.05.13\\xa0 17:00', '13.05.13\\xa0 16:00', '16.05.13\\xa0 22:00', '18.05.13\\xa0 17:00', '18.05.13\\xa0 18:00', '19.05.13\\xa0 16:00', '23.05.13\\xa0 17:00', '25.05.13\\xa0 17:00', '25.05.13\\xa0 18:00', '26.05.13\\xa0 16:00', '28.05.13\\xa0 23:00', '29.05.13\\xa0 17:00', '29.05.13\\xa0 14:30', '30.05.13\\xa0 17:00', '31.05.13\\xa0 17:30', 'AIDAcara', 'Costa Pacifica', 'AIDAcara', 'MSC Musica', 'Delphin', 'MSC Poesia', 'AIDAcara', 'MSC Poesia', 'MSC Musica', 'Costa Pacifica', 'Delphin', 'Deutschland', 'AIDAcara', 'MSC Poesia', 'MSC Musica', 'Costa Pacifica', 'AIDAcara', 'MSC Poesia', 'MSC Musica', 'Rotterdam', 'Mein Schiff 1', 'Ocean Majesty', 'Eurodam', 'Hamburg', 'Ostseekai', 'Ostseekai', 'Ostseekai', 'Ostseekai', 'Norwegenkai', 'Ostseekai', 'Ostseekai', 'Ostseekai', 'Ostseekai', 'Ostseekai', 'Norwegenkai', 'Norwegenkai', 'Ostseekai', 'Ostseekai', 'Ostseekai', 'Ostseekai', 'Ostseekai', 'Ostseekai', 'Ostseekai', 'Ostseekai', 'Ostseekai', 'Norwegenkai', 'Ostseekai', 'Ostseekai', 'Tag', 'Ankunft\\xa0 \\xa0Uhrzeit', 'Abfahrt\\xa0 \\xa0Uhrzeit', 'Schiff', 'Liegeplatz', 'Sa', 'Sa', 'So', 'Mo', 'Mo', 'Di', 'Sa', 'Sa', 'Sa', 'So', 'So', 'So', 'Mi', 'Do', 'Sa', 'Sa', 'Sa', 'So', 'So', 'Mi', 'Do', 'Sa', 'So', 'Mo', 'Do', 'Fr', 'Fr', 'Sa', 'Sa', 'Sa', 'Sa', 'So', 'So', '01.06.13\\xa0 08:00', '01.06.13\\xa0 10:00', '02.06.13\\xa0 08:00', '03.06.13\\xa0 09:00', '03.06.13\\xa0 10:00', '04.06.13\\xa0 07:00', '08.06.13\\xa0 08:00', '08.06.13\\xa0 08:00', '08.06.13\\xa0 10:00', '09.06.13\\xa0 07:00', '09.06.13\\xa0 07:00', '09.06.13\\xa0 08:00', '12.06.13\\xa0 08:00', '13.06.13\\xa0 09:00', '15.06.13\\xa0 08:00', '15.06.13\\xa0 10:00', '15.06.13\\xa0 10:00', '16.06.13\\xa0 07:00', '16.06.13\\xa0 08:00', '19.06.13\\xa0 07:00', '20.06.13\\xa0 07:00', '22.06.13\\xa0 10:00', '23.06.13\\xa0 08:00', '24.06.13\\xa0 12:00', '27.06.13\\xa0 10:00', '28.06.13\\xa0 06:00', '28.06.13\\xa0 07:00', '29.06.13\\xa0 07:00', '29.06.13\\xa0 07:30', '29.06.13\\xa0 08:00', '29.06.13\\xa0 10:00', '30.06.13\\xa0 08:00', '30.06.13\\xa0 08:00', '01.06.13\\xa0 17:00', '01.06.13\\xa0 18:00', '02.06.13\\xa0 16:00', '03.06.13\\xa0 17:00', '03.06.13\\xa0 19:00', '04.06.13\\xa0 19:00', '08.06.13\\xa0 15:00', '08.06.13\\xa0 17:00', '08.06.13\\xa0 18:00', '09.06.13\\xa0 17:00', '09.06.13\\xa0 19:00', '09.06.13\\xa0 16:00', '12.06.13\\xa0 17:00', '13.06.13\\xa0 17:00', '15.06.13\\xa0 17:00', '15.06.13\\xa0 14:00', '15.06.13\\xa0 18:00', '16.06.13\\xa0 18:00', '16.06.13\\xa0 16:00', '19.06.13\\xa0 17:00', '20.06.13\\xa0 19:00', '22.06.13\\xa0 18:00', '23.06.13\\xa0 16:00', '24.06.13\\xa0 18:00', '27.06.13\\xa0 15:00', '28.06.13\\xa0 18:00', '28.06.13\\xa0 18:00', '29.06.13\\xa0 17:00', '29.06.13\\xa0 17:30', '29.06.13\\xa0 17:00', '29.06.13\\xa0 18:00', '30.06.13\\xa0 16:00', '30.06.13\\xa0 23:59', 'AIDAcara', 'MSC Poesia', 'MSC Musica', 'Costa Pacifica', 'Delphin', 'Mein Schiff 1', 'Ocean Majesty', 'AIDAcara', 'MSC Poesia', 'Eurodam', 'Mein Schiff 1', 'MSC Musica', 'AIDAcara', 'Costa Pacifica', 'AIDAcara', 'Ocean Majesty', 'MSC Poesia', 'Columbus 2', 'MSC Musica', 'Eurodam', 'Mein Schiff 1', 'MSC Poesia', 'MSC Musica', 'Amadea', 'Ocean Majesty', 'Deutschland', 'Columbus 2', 'Eurodam', 'Astor', 'Black Watch', 'MSC Poesia', 'MSC Musica', 'Azamara Quest', 'Ostseekai', 'Ostseekai', 'Ostseekai', 'Ostseekai', 'Norwegenkai', 'Ostseekai', 'Norwegenkai', 'Ostseekai', 'Ostseekai', 'Ostuferhafen', 'Ostseekai', 'Ostseekai', 'Ostseekai', 'Ostseekai', 'Ostseekai', 'Norwegenkai', 'Ostseekai', 'Norwegenkai', 'Ostseekai', 'Ostseekai', 'Ostseekai', 'Ostseekai', 'Ostseekai', 'Ostseekai', 'Norwegenkai', 'Norwegenkai', 'Ostseekai', 'Ostseekai', 'Norwegenkai', 'Ostuferhafen', 'Ostseekai', 'Ostseekai', 'Ostseekai', 'Tag', 'Ankunft\\xa0 \\xa0Uhrzeit', 'Abfahrt\\xa0 \\xa0Uhrzeit', 'Schiff', 'Liegeplatz', 'Di', 'Do', 'Sa', 'So', 'Di', 'Di', 'Di', 'Do', 'Sa', 'Sa', 'So', 'So', 'Mi', 'Do', 'Fr', 'Fr', 'Sa', 'So', 'So', 'Mo', 'Mo', 'Mi', 'Sa', 'So', '02.07.13\\xa0 08:00', '04.07.13\\xa0 07:00', '06.07.13\\xa0 10:00', '07.07.13\\xa0 08:00', '09.07.13\\xa0 07:00', '09.07.13\\xa0 07:00', '09.07.13\\xa0 08:00', '11.07.13\\xa0 10:00', '13.07.13\\xa0 07:30', '13.07.13\\xa0 10:00', '14.07.13\\xa0 07:00', '14.07.13\\xa0 08:00', '17.07.13\\xa0 09:00', '18.07.13\\xa0 07:00', '19.07.13\\xa0 07:00', '19.07.13\\xa0 08:00', '20.07.13\\xa0 10:00', '21.07.13\\xa0 07:00', '21.07.13\\xa0 08:00', '22.07.13\\xa0 07:00', '22.07.13\\xa0 07:00', '24.07.13\\xa0 08:30', '27.07.13\\xa0 10:00', '28.07.13\\xa0 08:00', '02.07.13\\xa0 17:00', '04.07.13\\xa0 19:00', '06.07.13\\xa0 18:00', '07.07.13\\xa0 16:00', '09.07.13\\xa0 17:00', '09.07.13\\xa0 18:00', '09.07.13\\xa0 23:00', '11.07.13\\xa0 14:00', '13.07.13\\xa0 17:30', '13.07.13\\xa0 18:00', '14.07.13\\xa0 19:00', '14.07.13\\xa0 16:00', '17.07.13\\xa0 19:00', '18.07.13\\xa0 17:00', '19.07.13\\xa0 17:00', '19.07.13\\xa0 17:00', '20.07.13\\xa0 18:00', '21.07.13\\xa0 18:00', '21.07.13\\xa0 16:00', '22.07.13\\xa0 19:00', '22.07.13\\xa0 18:00', '24.07.13\\xa0 15:00', '27.07.13\\xa0 18:00', '28.07.13\\xa0 16:00', 'AIDAcara', 'Mein Schiff 1', 'MSC Poesia', 'MSC Musica', 'Eurodam', 'Columbus 2', 'Rotterdam', 'Ocean Majesty', 'Astor', 'MSC Poesia', 'Mein Schiff 1', 'MSC Musica', 'FTI Berlin', 'Rotterdam', 'Eurodam', 'AIDAcara', 'MSC Poesia', 'Columbus 2', 'MSC Musica', 'Mein Schiff 1', 'Europa', 'Ocean Majesty', 'MSC Poesia', 'MSC Musica', 'Ostseekai', 'Ostseekai', 'Ostseekai', 'Ostseekai', 'Ostseekai', 'Norwegenkai', 'Ostseekai', 'Norwegenkai', 'Norwegenkai', 'Ostseekai', 'Ostseekai', 'Ostseekai', 'Ostseekai', 'Ostseekai', 'Ostseekai', 'Ostseekai', 'Ostseekai', 'Norwegenkai', 'Ostseekai', 'Ostseekai', 'Ostseekai', 'Norwegenkai', 'Ostseekai', 'Ostseekai', 'Tag', 'Ankunft\\xa0 \\xa0Uhrzeit', 'Abfahrt\\xa0 \\xa0Uhrzeit', 'Schiff', 'Liegeplatz', 'Fr', 'Sa', 'So', 'Mo', 'Sa', 'Sa', 'Sa', 'So', 'Mo', 'Do', 'Sa', 'So', 'Mi', 'Do', 'Sa', 'Sa', 'So', 'So', 'Di', 'Fr', 'Sa', '02.08.13\\xa0 07:00', '03.08.13\\xa0 10:00', '04.08.13\\xa0 08:00', '05.08.13\\xa0 08:00', '10.08.13\\xa0 08:00', '10.08.13\\xa0 10:00', '10.08.13\\xa0 16:00', '11.08.13\\xa0 08:00', '12.08.13\\xa0 07:00', '15.08.13\\xa0 08:00', '17.08.13\\xa0 10:00', '18.08.13\\xa0 08:00', '21.08.13\\xa0 07:00', '22.08.13\\xa0 07:00', '24.08.13\\xa0 08:00', '24.08.13\\xa0 10:00', '25.08.13\\xa0 08:00', '25.08.13\\xa0 08:00', '27.08.13\\xa0 08:00', '30.08.13\\xa0 07:00', '31.08.13\\xa0 10:00', '02.08.13\\xa0 19:00', '03.08.13\\xa0 18:00', '04.08.13\\xa0 16:00', '05.08.13\\xa0 17:00', '10.08.13\\xa0 17:00', '10.08.13\\xa0 18:00', '10.08.13\\xa0 18:00', '11.08.13\\xa0 16:00', '12.08.13\\xa0 19:00', '15.08.13\\xa0 17:00', '17.08.13\\xa0 18:00', '18.08.13\\xa0 16:00', '21.08.13\\xa0 19:00', '22.08.13\\xa0 19:00', '24.08.13\\xa0 17:00', '24.08.13\\xa0 18:00', '25.08.13\\xa0 16:00', '25.08.13\\xa0 17:00', '27.08.13\\xa0 18:00', '30.08.13\\xa0 19:00', '31.08.13\\xa0 18:00', 'Mein Schiff 1', 'MSC Poesia', 'MSC Musica', 'AIDAcara', 'AIDAcara', 'MSC Poesia', 'Ocean Majesty', 'MSC Musica', 'Mein Schiff 1', 'Costa Pacifica', 'MSC Poesia', 'MSC Musica', 'Europa', 'Mein Schiff 1', 'AIDAcara', 'MSC Poesia', 'MSC Musica', 'Costa Pacifica', 'Hamburg', 'Mein Schiff 1', 'MSC Poesia', 'Ostseekai', 'Ostseekai', 'Ostseekai', 'Ostseekai', 'Ostseekai', 'Ostseekai', 'Norwegenkai', 'Ostseekai', 'Ostseekai', 'Ostseekai', 'Ostseekai', 'Ostseekai', 'Ostseekai', 'Ostseekai', 'Ostseekai', 'Ostseekai', 'Ostseekai', 'Ostseekai', 'Ostseekai', 'Ostseekai', 'Ostseekai', 'Tag', 'Ankunft\\xa0 \\xa0Uhrzeit', 'Abfahrt\\xa0 \\xa0Uhrzeit', 'Schiff', 'Liegeplatz', 'So', 'Di', 'Mi', 'Sa', 'Sa', 'Sa', 'So', 'Mo', 'Sa', 'Sa', 'Sa', 'Sa', '01.09.13\\xa0 08:00', '03.09.13\\xa0 08:00', '04.09.13\\xa0 08:00', '07.09.13\\xa0 08:00', '07.09.13\\xa0 08:00', '07.09.13\\xa0 10:00', '08.09.13\\xa0 08:00', '09.09.13\\xa0 07:00', '14.09.13\\xa0 08:00', '14.09.13\\xa0 10:00', '21.09.13\\xa0 08:00', '28.09.13\\xa0 08:00', '01.09.13\\xa0 16:00', '03.09.13\\xa0 18:00', '04.09.13\\xa0 17:00', '07.09.13\\xa0 17:00', '07.09.13\\xa0 17:00', '07.09.13\\xa0 18:00', '08.09.13\\xa0 16:00', '09.09.13\\xa0 19:00', '14.09.13\\xa0 17:00', '14.09.13\\xa0 18:00', '21.09.13\\xa0 17:00', '28.09.13\\xa0 17:00', 'MSC Musica', 'Deutschland', 'Costa Pacifica', 'AIDAcara', 'Delphin', 'MSC Poesia', 'MSC Musica', 'Mein Schiff 1', 'AIDAcara', 'MSC Poesia', 'AIDAcara', 'AIDAcara', 'Ostseekai', 'Norwegenkai', 'Ostseekai', 'Ostseekai', 'Norwegenkai', 'Ostseekai', 'Ostseekai', 'Ostseekai', 'Ostseekai', 'Ostseekai', 'Ostseekai', 'Ostseekai', 'Tag', 'Ankunft\\xa0 \\xa0Uhrzeit', 'Abfahrt\\xa0 \\xa0Uhrzeit', 'Schiff', 'Liegeplatz', 'Mi', '02.10.13\\xa0 08:00', '02.10.13\\xa0 17:00', 'AIDAcara', 'Ostseekai', 'Tag', 'Ankunft\\xa0 \\xa0Uhrzeit', 'Abfahrt\\xa0 \\xa0Uhrzeit', 'Schiff', 'Liegeplatz', 'Mi', '04.12.13\\xa0 07:00', '04.12.13\\xa0 18:00', 'Black Watch', 'Ostseekai', 'Stand: 27.05.2021', 'Alle Angaben ohne Gewähr', '<– Kiel 2012', 'Kiel 2014 –>']\n",
      "['Anlaufliste für 2013', '125 Anläufe durch 18 Schiffe von 15 Veranstaltern', 'Tag', 'Ankunft   Uhrzeit', 'Abfahrt   Uhrzeit', 'Schiff', 'Liegeplatz', 'Sa', 'Mi', 'Sa', 'Di', 'Mi', 'Do', 'Sa', 'So', 'Di', '13.04.13  08:00', '17.04.13  08:00', '20.04.13  08:00', '23.04.13  07:30', '24.04.13  08:00', '25.04.13  10:00', '27.04.13  08:00', '28.04.13  10:00', '30.04.13  08:00', '13.04.13  17:00', '17.04.13  17:00', '20.04.13  17:00', '23.04.13  17:30', '24.04.13  17:00', '25.04.13  16:00', '27.04.13  17:00', '28.04.13  16:00', '30.04.13  23:00', 'AIDAcara', 'AIDAcara', 'AIDAcara', 'Astor', 'AIDAcara', 'MSC Musica', 'AIDAcara', 'MSC Musica', 'Rotterdam', 'Ostseekai', 'Ostseekai', 'Ostseekai', 'Norwegenkai', 'Ostseekai', 'Ostseekai', 'Ostseekai', 'Ostseekai', 'Ostseekai', 'Tag', 'Ankunft   Uhrzeit', 'Abfahrt   Uhrzeit', 'Schiff', 'Liegeplatz', 'Mi', 'Mi', 'Sa', 'So', 'So', 'Di', 'Sa', 'Sa', 'So', 'So', 'Mo', 'Do', 'Sa', 'Sa', 'So', 'Do', 'Sa', 'Sa', 'So', 'Di', 'Mi', 'Mi', 'Do', 'Fr', '01.05.13  08:00', '01.05.13  09:00', '04.05.13  08:00', '05.05.13  08:00', '05.05.13  08:00', '07.05.13  10:00', '10.05.13  08:00', '10.05.13  08:00', '11.05.13  08:00', '11.05.13  08:00', '13.05.13  08:00', '16.05.13  07:00', '18.05.13  08:00', '18.05.13  10:00', '19.05.13  08:00', '23.05.13  08:00', '25.05.13  08:00', '25.05.13  10:00', '26.05.13  08:00', '28.05.13  08.00', '29.05.13  07:00', '29.05.13  10:00', '30.05.13  07:00', '31.05.13  08:00', '01.05.13  17:00', '01.05.13  17:00', '04.05.13  17:00', '05.05.13  16:00', '05.05.13  17:00', '07.05.13  18:00', '10.05.13  17:00', '10.05.13  18:00', '11.05.13  16:00', '11.05.13  17:00', '13.05.13  16:00', '16.05.13  22:00', '18.05.13  17:00', '18.05.13  18:00', '19.05.13  16:00', '23.05.13  17:00', '25.05.13  17:00', '25.05.13  18:00', '26.05.13  16:00', '28.05.13  23:00', '29.05.13  17:00', '29.05.13  14:30', '30.05.13  17:00', '31.05.13  17:30', 'AIDAcara', 'Costa Pacifica', 'AIDAcara', 'MSC Musica', 'Delphin', 'MSC Poesia', 'AIDAcara', 'MSC Poesia', 'MSC Musica', 'Costa Pacifica', 'Delphin', 'Deutschland', 'AIDAcara', 'MSC Poesia', 'MSC Musica', 'Costa Pacifica', 'AIDAcara', 'MSC Poesia', 'MSC Musica', 'Rotterdam', 'Mein Schiff 1', 'Ocean Majesty', 'Eurodam', 'Hamburg', 'Ostseekai', 'Ostseekai', 'Ostseekai', 'Ostseekai', 'Norwegenkai', 'Ostseekai', 'Ostseekai', 'Ostseekai', 'Ostseekai', 'Ostseekai', 'Norwegenkai', 'Norwegenkai', 'Ostseekai', 'Ostseekai', 'Ostseekai', 'Ostseekai', 'Ostseekai', 'Ostseekai', 'Ostseekai', 'Ostseekai', 'Ostseekai', 'Norwegenkai', 'Ostseekai', 'Ostseekai', 'Tag', 'Ankunft   Uhrzeit', 'Abfahrt   Uhrzeit', 'Schiff', 'Liegeplatz', 'Sa', 'Sa', 'So', 'Mo', 'Mo', 'Di', 'Sa', 'Sa', 'Sa', 'So', 'So', 'So', 'Mi', 'Do', 'Sa', 'Sa', 'Sa', 'So', 'So', 'Mi', 'Do', 'Sa', 'So', 'Mo', 'Do', 'Fr', 'Fr', 'Sa', 'Sa', 'Sa', 'Sa', 'So', 'So', '01.06.13  08:00', '01.06.13  10:00', '02.06.13  08:00', '03.06.13  09:00', '03.06.13  10:00', '04.06.13  07:00', '08.06.13  08:00', '08.06.13  08:00', '08.06.13  10:00', '09.06.13  07:00', '09.06.13  07:00', '09.06.13  08:00', '12.06.13  08:00', '13.06.13  09:00', '15.06.13  08:00', '15.06.13  10:00', '15.06.13  10:00', '16.06.13  07:00', '16.06.13  08:00', '19.06.13  07:00', '20.06.13  07:00', '22.06.13  10:00', '23.06.13  08:00', '24.06.13  12:00', '27.06.13  10:00', '28.06.13  06:00', '28.06.13  07:00', '29.06.13  07:00', '29.06.13  07:30', '29.06.13  08:00', '29.06.13  10:00', '30.06.13  08:00', '30.06.13  08:00', '01.06.13  17:00', '01.06.13  18:00', '02.06.13  16:00', '03.06.13  17:00', '03.06.13  19:00', '04.06.13  19:00', '08.06.13  15:00', '08.06.13  17:00', '08.06.13  18:00', '09.06.13  17:00', '09.06.13  19:00', '09.06.13  16:00', '12.06.13  17:00', '13.06.13  17:00', '15.06.13  17:00', '15.06.13  14:00', '15.06.13  18:00', '16.06.13  18:00', '16.06.13  16:00', '19.06.13  17:00', '20.06.13  19:00', '22.06.13  18:00', '23.06.13  16:00', '24.06.13  18:00', '27.06.13  15:00', '28.06.13  18:00', '28.06.13  18:00', '29.06.13  17:00', '29.06.13  17:30', '29.06.13  17:00', '29.06.13  18:00', '30.06.13  16:00', '30.06.13  23:59', 'AIDAcara', 'MSC Poesia', 'MSC Musica', 'Costa Pacifica', 'Delphin', 'Mein Schiff 1', 'Ocean Majesty', 'AIDAcara', 'MSC Poesia', 'Eurodam', 'Mein Schiff 1', 'MSC Musica', 'AIDAcara', 'Costa Pacifica', 'AIDAcara', 'Ocean Majesty', 'MSC Poesia', 'Columbus 2', 'MSC Musica', 'Eurodam', 'Mein Schiff 1', 'MSC Poesia', 'MSC Musica', 'Amadea', 'Ocean Majesty', 'Deutschland', 'Columbus 2', 'Eurodam', 'Astor', 'Black Watch', 'MSC Poesia', 'MSC Musica', 'Azamara Quest', 'Ostseekai', 'Ostseekai', 'Ostseekai', 'Ostseekai', 'Norwegenkai', 'Ostseekai', 'Norwegenkai', 'Ostseekai', 'Ostseekai', 'Ostuferhafen', 'Ostseekai', 'Ostseekai', 'Ostseekai', 'Ostseekai', 'Ostseekai', 'Norwegenkai', 'Ostseekai', 'Norwegenkai', 'Ostseekai', 'Ostseekai', 'Ostseekai', 'Ostseekai', 'Ostseekai', 'Ostseekai', 'Norwegenkai', 'Norwegenkai', 'Ostseekai', 'Ostseekai', 'Norwegenkai', 'Ostuferhafen', 'Ostseekai', 'Ostseekai', 'Ostseekai', 'Tag', 'Ankunft   Uhrzeit', 'Abfahrt   Uhrzeit', 'Schiff', 'Liegeplatz', 'Di', 'Do', 'Sa', 'So', 'Di', 'Di', 'Di', 'Do', 'Sa', 'Sa', 'So', 'So', 'Mi', 'Do', 'Fr', 'Fr', 'Sa', 'So', 'So', 'Mo', 'Mo', 'Mi', 'Sa', 'So', '02.07.13  08:00', '04.07.13  07:00', '06.07.13  10:00', '07.07.13  08:00', '09.07.13  07:00', '09.07.13  07:00', '09.07.13  08:00', '11.07.13  10:00', '13.07.13  07:30', '13.07.13  10:00', '14.07.13  07:00', '14.07.13  08:00', '17.07.13  09:00', '18.07.13  07:00', '19.07.13  07:00', '19.07.13  08:00', '20.07.13  10:00', '21.07.13  07:00', '21.07.13  08:00', '22.07.13  07:00', '22.07.13  07:00', '24.07.13  08:30', '27.07.13  10:00', '28.07.13  08:00', '02.07.13  17:00', '04.07.13  19:00', '06.07.13  18:00', '07.07.13  16:00', '09.07.13  17:00', '09.07.13  18:00', '09.07.13  23:00', '11.07.13  14:00', '13.07.13  17:30', '13.07.13  18:00', '14.07.13  19:00', '14.07.13  16:00', '17.07.13  19:00', '18.07.13  17:00', '19.07.13  17:00', '19.07.13  17:00', '20.07.13  18:00', '21.07.13  18:00', '21.07.13  16:00', '22.07.13  19:00', '22.07.13  18:00', '24.07.13  15:00', '27.07.13  18:00', '28.07.13  16:00', 'AIDAcara', 'Mein Schiff 1', 'MSC Poesia', 'MSC Musica', 'Eurodam', 'Columbus 2', 'Rotterdam', 'Ocean Majesty', 'Astor', 'MSC Poesia', 'Mein Schiff 1', 'MSC Musica', 'FTI Berlin', 'Rotterdam', 'Eurodam', 'AIDAcara', 'MSC Poesia', 'Columbus 2', 'MSC Musica', 'Mein Schiff 1', 'Europa', 'Ocean Majesty', 'MSC Poesia', 'MSC Musica', 'Ostseekai', 'Ostseekai', 'Ostseekai', 'Ostseekai', 'Ostseekai', 'Norwegenkai', 'Ostseekai', 'Norwegenkai', 'Norwegenkai', 'Ostseekai', 'Ostseekai', 'Ostseekai', 'Ostseekai', 'Ostseekai', 'Ostseekai', 'Ostseekai', 'Ostseekai', 'Norwegenkai', 'Ostseekai', 'Ostseekai', 'Ostseekai', 'Norwegenkai', 'Ostseekai', 'Ostseekai', 'Tag', 'Ankunft   Uhrzeit', 'Abfahrt   Uhrzeit', 'Schiff', 'Liegeplatz', 'Fr', 'Sa', 'So', 'Mo', 'Sa', 'Sa', 'Sa', 'So', 'Mo', 'Do', 'Sa', 'So', 'Mi', 'Do', 'Sa', 'Sa', 'So', 'So', 'Di', 'Fr', 'Sa', '02.08.13  07:00', '03.08.13  10:00', '04.08.13  08:00', '05.08.13  08:00', '10.08.13  08:00', '10.08.13  10:00', '10.08.13  16:00', '11.08.13  08:00', '12.08.13  07:00', '15.08.13  08:00', '17.08.13  10:00', '18.08.13  08:00', '21.08.13  07:00', '22.08.13  07:00', '24.08.13  08:00', '24.08.13  10:00', '25.08.13  08:00', '25.08.13  08:00', '27.08.13  08:00', '30.08.13  07:00', '31.08.13  10:00', '02.08.13  19:00', '03.08.13  18:00', '04.08.13  16:00', '05.08.13  17:00', '10.08.13  17:00', '10.08.13  18:00', '10.08.13  18:00', '11.08.13  16:00', '12.08.13  19:00', '15.08.13  17:00', '17.08.13  18:00', '18.08.13  16:00', '21.08.13  19:00', '22.08.13  19:00', '24.08.13  17:00', '24.08.13  18:00', '25.08.13  16:00', '25.08.13  17:00', '27.08.13  18:00', '30.08.13  19:00', '31.08.13  18:00', 'Mein Schiff 1', 'MSC Poesia', 'MSC Musica', 'AIDAcara', 'AIDAcara', 'MSC Poesia', 'Ocean Majesty', 'MSC Musica', 'Mein Schiff 1', 'Costa Pacifica', 'MSC Poesia', 'MSC Musica', 'Europa', 'Mein Schiff 1', 'AIDAcara', 'MSC Poesia', 'MSC Musica', 'Costa Pacifica', 'Hamburg', 'Mein Schiff 1', 'MSC Poesia', 'Ostseekai', 'Ostseekai', 'Ostseekai', 'Ostseekai', 'Ostseekai', 'Ostseekai', 'Norwegenkai', 'Ostseekai', 'Ostseekai', 'Ostseekai', 'Ostseekai', 'Ostseekai', 'Ostseekai', 'Ostseekai', 'Ostseekai', 'Ostseekai', 'Ostseekai', 'Ostseekai', 'Ostseekai', 'Ostseekai', 'Ostseekai', 'Tag', 'Ankunft   Uhrzeit', 'Abfahrt   Uhrzeit', 'Schiff', 'Liegeplatz', 'So', 'Di', 'Mi', 'Sa', 'Sa', 'Sa', 'So', 'Mo', 'Sa', 'Sa', 'Sa', 'Sa', '01.09.13  08:00', '03.09.13  08:00', '04.09.13  08:00', '07.09.13  08:00', '07.09.13  08:00', '07.09.13  10:00', '08.09.13  08:00', '09.09.13  07:00', '14.09.13  08:00', '14.09.13  10:00', '21.09.13  08:00', '28.09.13  08:00', '01.09.13  16:00', '03.09.13  18:00', '04.09.13  17:00', '07.09.13  17:00', '07.09.13  17:00', '07.09.13  18:00', '08.09.13  16:00', '09.09.13  19:00', '14.09.13  17:00', '14.09.13  18:00', '21.09.13  17:00', '28.09.13  17:00', 'MSC Musica', 'Deutschland', 'Costa Pacifica', 'AIDAcara', 'Delphin', 'MSC Poesia', 'MSC Musica', 'Mein Schiff 1', 'AIDAcara', 'MSC Poesia', 'AIDAcara', 'AIDAcara', 'Ostseekai', 'Norwegenkai', 'Ostseekai', 'Ostseekai', 'Norwegenkai', 'Ostseekai', 'Ostseekai', 'Ostseekai', 'Ostseekai', 'Ostseekai', 'Ostseekai', 'Ostseekai', 'Tag', 'Ankunft   Uhrzeit', 'Abfahrt   Uhrzeit', 'Schiff', 'Liegeplatz', 'Mi', '02.10.13  08:00', '02.10.13  17:00', 'AIDAcara', 'Ostseekai', 'Tag', 'Ankunft   Uhrzeit', 'Abfahrt   Uhrzeit', 'Schiff', 'Liegeplatz', 'Mi', '04.12.13  07:00', '04.12.13  18:00', 'Black Watch', 'Ostseekai', 'Stand: 27.05.2021', 'Alle Angaben ohne Gewähr', '<– Kiel 2012', 'Kiel 2014 –>']\n",
      "['Tag', 'Ankunft   Uhrzeit', 'Abfahrt   Uhrzeit', 'Schiff', 'Liegeplatz', 'Sa', 'Mi', 'Sa', 'Di', 'Mi', 'Do', 'Sa', 'So', 'Di', '13.04.13  08:00', '17.04.13  08:00', '20.04.13  08:00', '23.04.13  07:30', '24.04.13  08:00', '25.04.13  10:00', '27.04.13  08:00', '28.04.13  10:00', '30.04.13  08:00', '13.04.13  17:00', '17.04.13  17:00', '20.04.13  17:00', '23.04.13  17:30', '24.04.13  17:00', '25.04.13  16:00', '27.04.13  17:00', '28.04.13  16:00', '30.04.13  23:00', 'AIDAcara', 'AIDAcara', 'AIDAcara', 'Astor', 'AIDAcara', 'MSC Musica', 'AIDAcara', 'MSC Musica', 'Rotterdam', 'Ostseekai', 'Ostseekai', 'Ostseekai', 'Norwegenkai', 'Ostseekai', 'Ostseekai', 'Ostseekai', 'Ostseekai', 'Ostseekai', 'Tag', 'Ankunft   Uhrzeit', 'Abfahrt   Uhrzeit', 'Schiff', 'Liegeplatz', 'Mi', 'Mi', 'Sa', 'So', 'So', 'Di', 'Sa', 'Sa', 'So', 'So', 'Mo', 'Do', 'Sa', 'Sa', 'So', 'Do', 'Sa', 'Sa', 'So', 'Di', 'Mi', 'Mi', 'Do', 'Fr', '01.05.13  08:00', '01.05.13  09:00', '04.05.13  08:00', '05.05.13  08:00', '05.05.13  08:00', '07.05.13  10:00', '10.05.13  08:00', '10.05.13  08:00', '11.05.13  08:00', '11.05.13  08:00', '13.05.13  08:00', '16.05.13  07:00', '18.05.13  08:00', '18.05.13  10:00', '19.05.13  08:00', '23.05.13  08:00', '25.05.13  08:00', '25.05.13  10:00', '26.05.13  08:00', '28.05.13  08.00', '29.05.13  07:00', '29.05.13  10:00', '30.05.13  07:00', '31.05.13  08:00', '01.05.13  17:00', '01.05.13  17:00', '04.05.13  17:00', '05.05.13  16:00', '05.05.13  17:00', '07.05.13  18:00', '10.05.13  17:00', '10.05.13  18:00', '11.05.13  16:00', '11.05.13  17:00', '13.05.13  16:00', '16.05.13  22:00', '18.05.13  17:00', '18.05.13  18:00', '19.05.13  16:00', '23.05.13  17:00', '25.05.13  17:00', '25.05.13  18:00', '26.05.13  16:00', '28.05.13  23:00', '29.05.13  17:00', '29.05.13  14:30', '30.05.13  17:00', '31.05.13  17:30', 'AIDAcara', 'Costa Pacifica', 'AIDAcara', 'MSC Musica', 'Delphin', 'MSC Poesia', 'AIDAcara', 'MSC Poesia', 'MSC Musica', 'Costa Pacifica', 'Delphin', 'Deutschland', 'AIDAcara', 'MSC Poesia', 'MSC Musica', 'Costa Pacifica', 'AIDAcara', 'MSC Poesia', 'MSC Musica', 'Rotterdam', 'Mein Schiff 1', 'Ocean Majesty', 'Eurodam', 'Hamburg', 'Ostseekai', 'Ostseekai', 'Ostseekai', 'Ostseekai', 'Norwegenkai', 'Ostseekai', 'Ostseekai', 'Ostseekai', 'Ostseekai', 'Ostseekai', 'Norwegenkai', 'Norwegenkai', 'Ostseekai', 'Ostseekai', 'Ostseekai', 'Ostseekai', 'Ostseekai', 'Ostseekai', 'Ostseekai', 'Ostseekai', 'Ostseekai', 'Norwegenkai', 'Ostseekai', 'Ostseekai', 'Tag', 'Ankunft   Uhrzeit', 'Abfahrt   Uhrzeit', 'Schiff', 'Liegeplatz', 'Sa', 'Sa', 'So', 'Mo', 'Mo', 'Di', 'Sa', 'Sa', 'Sa', 'So', 'So', 'So', 'Mi', 'Do', 'Sa', 'Sa', 'Sa', 'So', 'So', 'Mi', 'Do', 'Sa', 'So', 'Mo', 'Do', 'Fr', 'Fr', 'Sa', 'Sa', 'Sa', 'Sa', 'So', 'So', '01.06.13  08:00', '01.06.13  10:00', '02.06.13  08:00', '03.06.13  09:00', '03.06.13  10:00', '04.06.13  07:00', '08.06.13  08:00', '08.06.13  08:00', '08.06.13  10:00', '09.06.13  07:00', '09.06.13  07:00', '09.06.13  08:00', '12.06.13  08:00', '13.06.13  09:00', '15.06.13  08:00', '15.06.13  10:00', '15.06.13  10:00', '16.06.13  07:00', '16.06.13  08:00', '19.06.13  07:00', '20.06.13  07:00', '22.06.13  10:00', '23.06.13  08:00', '24.06.13  12:00', '27.06.13  10:00', '28.06.13  06:00', '28.06.13  07:00', '29.06.13  07:00', '29.06.13  07:30', '29.06.13  08:00', '29.06.13  10:00', '30.06.13  08:00', '30.06.13  08:00', '01.06.13  17:00', '01.06.13  18:00', '02.06.13  16:00', '03.06.13  17:00', '03.06.13  19:00', '04.06.13  19:00', '08.06.13  15:00', '08.06.13  17:00', '08.06.13  18:00', '09.06.13  17:00', '09.06.13  19:00', '09.06.13  16:00', '12.06.13  17:00', '13.06.13  17:00', '15.06.13  17:00', '15.06.13  14:00', '15.06.13  18:00', '16.06.13  18:00', '16.06.13  16:00', '19.06.13  17:00', '20.06.13  19:00', '22.06.13  18:00', '23.06.13  16:00', '24.06.13  18:00', '27.06.13  15:00', '28.06.13  18:00', '28.06.13  18:00', '29.06.13  17:00', '29.06.13  17:30', '29.06.13  17:00', '29.06.13  18:00', '30.06.13  16:00', '30.06.13  23:59', 'AIDAcara', 'MSC Poesia', 'MSC Musica', 'Costa Pacifica', 'Delphin', 'Mein Schiff 1', 'Ocean Majesty', 'AIDAcara', 'MSC Poesia', 'Eurodam', 'Mein Schiff 1', 'MSC Musica', 'AIDAcara', 'Costa Pacifica', 'AIDAcara', 'Ocean Majesty', 'MSC Poesia', 'Columbus 2', 'MSC Musica', 'Eurodam', 'Mein Schiff 1', 'MSC Poesia', 'MSC Musica', 'Amadea', 'Ocean Majesty', 'Deutschland', 'Columbus 2', 'Eurodam', 'Astor', 'Black Watch', 'MSC Poesia', 'MSC Musica', 'Azamara Quest', 'Ostseekai', 'Ostseekai', 'Ostseekai', 'Ostseekai', 'Norwegenkai', 'Ostseekai', 'Norwegenkai', 'Ostseekai', 'Ostseekai', 'Ostuferhafen', 'Ostseekai', 'Ostseekai', 'Ostseekai', 'Ostseekai', 'Ostseekai', 'Norwegenkai', 'Ostseekai', 'Norwegenkai', 'Ostseekai', 'Ostseekai', 'Ostseekai', 'Ostseekai', 'Ostseekai', 'Ostseekai', 'Norwegenkai', 'Norwegenkai', 'Ostseekai', 'Ostseekai', 'Norwegenkai', 'Ostuferhafen', 'Ostseekai', 'Ostseekai', 'Ostseekai', 'Tag', 'Ankunft   Uhrzeit', 'Abfahrt   Uhrzeit', 'Schiff', 'Liegeplatz', 'Di', 'Do', 'Sa', 'So', 'Di', 'Di', 'Di', 'Do', 'Sa', 'Sa', 'So', 'So', 'Mi', 'Do', 'Fr', 'Fr', 'Sa', 'So', 'So', 'Mo', 'Mo', 'Mi', 'Sa', 'So', '02.07.13  08:00', '04.07.13  07:00', '06.07.13  10:00', '07.07.13  08:00', '09.07.13  07:00', '09.07.13  07:00', '09.07.13  08:00', '11.07.13  10:00', '13.07.13  07:30', '13.07.13  10:00', '14.07.13  07:00', '14.07.13  08:00', '17.07.13  09:00', '18.07.13  07:00', '19.07.13  07:00', '19.07.13  08:00', '20.07.13  10:00', '21.07.13  07:00', '21.07.13  08:00', '22.07.13  07:00', '22.07.13  07:00', '24.07.13  08:30', '27.07.13  10:00', '28.07.13  08:00', '02.07.13  17:00', '04.07.13  19:00', '06.07.13  18:00', '07.07.13  16:00', '09.07.13  17:00', '09.07.13  18:00', '09.07.13  23:00', '11.07.13  14:00', '13.07.13  17:30', '13.07.13  18:00', '14.07.13  19:00', '14.07.13  16:00', '17.07.13  19:00', '18.07.13  17:00', '19.07.13  17:00', '19.07.13  17:00', '20.07.13  18:00', '21.07.13  18:00', '21.07.13  16:00', '22.07.13  19:00', '22.07.13  18:00', '24.07.13  15:00', '27.07.13  18:00', '28.07.13  16:00', 'AIDAcara', 'Mein Schiff 1', 'MSC Poesia', 'MSC Musica', 'Eurodam', 'Columbus 2', 'Rotterdam', 'Ocean Majesty', 'Astor', 'MSC Poesia', 'Mein Schiff 1', 'MSC Musica', 'FTI Berlin', 'Rotterdam', 'Eurodam', 'AIDAcara', 'MSC Poesia', 'Columbus 2', 'MSC Musica', 'Mein Schiff 1', 'Europa', 'Ocean Majesty', 'MSC Poesia', 'MSC Musica', 'Ostseekai', 'Ostseekai', 'Ostseekai', 'Ostseekai', 'Ostseekai', 'Norwegenkai', 'Ostseekai', 'Norwegenkai', 'Norwegenkai', 'Ostseekai', 'Ostseekai', 'Ostseekai', 'Ostseekai', 'Ostseekai', 'Ostseekai', 'Ostseekai', 'Ostseekai', 'Norwegenkai', 'Ostseekai', 'Ostseekai', 'Ostseekai', 'Norwegenkai', 'Ostseekai', 'Ostseekai', 'Tag', 'Ankunft   Uhrzeit', 'Abfahrt   Uhrzeit', 'Schiff', 'Liegeplatz', 'Fr', 'Sa', 'So', 'Mo', 'Sa', 'Sa', 'Sa', 'So', 'Mo', 'Do', 'Sa', 'So', 'Mi', 'Do', 'Sa', 'Sa', 'So', 'So', 'Di', 'Fr', 'Sa', '02.08.13  07:00', '03.08.13  10:00', '04.08.13  08:00', '05.08.13  08:00', '10.08.13  08:00', '10.08.13  10:00', '10.08.13  16:00', '11.08.13  08:00', '12.08.13  07:00', '15.08.13  08:00', '17.08.13  10:00', '18.08.13  08:00', '21.08.13  07:00', '22.08.13  07:00', '24.08.13  08:00', '24.08.13  10:00', '25.08.13  08:00', '25.08.13  08:00', '27.08.13  08:00', '30.08.13  07:00', '31.08.13  10:00', '02.08.13  19:00', '03.08.13  18:00', '04.08.13  16:00', '05.08.13  17:00', '10.08.13  17:00', '10.08.13  18:00', '10.08.13  18:00', '11.08.13  16:00', '12.08.13  19:00', '15.08.13  17:00', '17.08.13  18:00', '18.08.13  16:00', '21.08.13  19:00', '22.08.13  19:00', '24.08.13  17:00', '24.08.13  18:00', '25.08.13  16:00', '25.08.13  17:00', '27.08.13  18:00', '30.08.13  19:00', '31.08.13  18:00', 'Mein Schiff 1', 'MSC Poesia', 'MSC Musica', 'AIDAcara', 'AIDAcara', 'MSC Poesia', 'Ocean Majesty', 'MSC Musica', 'Mein Schiff 1', 'Costa Pacifica', 'MSC Poesia', 'MSC Musica', 'Europa', 'Mein Schiff 1', 'AIDAcara', 'MSC Poesia', 'MSC Musica', 'Costa Pacifica', 'Hamburg', 'Mein Schiff 1', 'MSC Poesia', 'Ostseekai', 'Ostseekai', 'Ostseekai', 'Ostseekai', 'Ostseekai', 'Ostseekai', 'Norwegenkai', 'Ostseekai', 'Ostseekai', 'Ostseekai', 'Ostseekai', 'Ostseekai', 'Ostseekai', 'Ostseekai', 'Ostseekai', 'Ostseekai', 'Ostseekai', 'Ostseekai', 'Ostseekai', 'Ostseekai', 'Ostseekai', 'Tag', 'Ankunft   Uhrzeit', 'Abfahrt   Uhrzeit', 'Schiff', 'Liegeplatz', 'So', 'Di', 'Mi', 'Sa', 'Sa', 'Sa', 'So', 'Mo', 'Sa', 'Sa', 'Sa', 'Sa', '01.09.13  08:00', '03.09.13  08:00', '04.09.13  08:00', '07.09.13  08:00', '07.09.13  08:00', '07.09.13  10:00', '08.09.13  08:00', '09.09.13  07:00', '14.09.13  08:00', '14.09.13  10:00', '21.09.13  08:00', '28.09.13  08:00', '01.09.13  16:00', '03.09.13  18:00', '04.09.13  17:00', '07.09.13  17:00', '07.09.13  17:00', '07.09.13  18:00', '08.09.13  16:00', '09.09.13  19:00', '14.09.13  17:00', '14.09.13  18:00', '21.09.13  17:00', '28.09.13  17:00', 'MSC Musica', 'Deutschland', 'Costa Pacifica', 'AIDAcara', 'Delphin', 'MSC Poesia', 'MSC Musica', 'Mein Schiff 1', 'AIDAcara', 'MSC Poesia', 'AIDAcara', 'AIDAcara', 'Ostseekai', 'Norwegenkai', 'Ostseekai', 'Ostseekai', 'Norwegenkai', 'Ostseekai', 'Ostseekai', 'Ostseekai', 'Ostseekai', 'Ostseekai', 'Ostseekai', 'Ostseekai', 'Tag', 'Ankunft   Uhrzeit', 'Abfahrt   Uhrzeit', 'Schiff', 'Liegeplatz', 'Mi', '02.10.13  08:00', '02.10.13  17:00', 'AIDAcara', 'Ostseekai', 'Tag', 'Ankunft   Uhrzeit', 'Abfahrt   Uhrzeit', 'Schiff', 'Liegeplatz', 'Mi', '04.12.13  07:00', '04.12.13  18:00', 'Black Watch', 'Ostseekai']\n"
     ]
    }
   ],
   "source": [
    "# i want to get data from a pdf file froma website\n",
    "# i will use the pandas library to do this\n",
    "# i will use the read_html method to get the data\n",
    "\n",
    "\n",
    "url = 'https://kreuzfahrtschiffehamburg.de/kiel-2013/'\n",
    "response = requests.get(url)\n",
    "html_content = response.text\n",
    "#parse the html content\n",
    "soup = BeautifulSoup(html_content, \"lxml\")\n",
    "#text = soup.get_text()\n",
    "# Extract text from all paragraphs\n",
    "paragraphs = soup.find_all('p')\n",
    "paragraphs = [p.get_text() for p in paragraphs]\n",
    "print(paragraphs)\n",
    "\n",
    "\n",
    "#I want to remove \\xa0 \\xa from the text\n",
    "\n",
    "removed =[]\n",
    "for p in paragraphs:\n",
    "    text = p.replace('\\xa0', ' ')\n",
    "    #text = text.strip()\n",
    "    #text = text.split('\\n')\n",
    "    removed.append(text)\n",
    "\n",
    "print(removed)\n",
    "\n",
    "#remove first 7 elements\n",
    "removed = removed[2:]\n",
    "removed = removed[:-4]\n",
    "print(removed)\n",
    "\n"
   ]
  },
  {
   "cell_type": "code",
   "execution_count": 48,
   "metadata": {},
   "outputs": [
    {
     "name": "stdout",
     "output_type": "stream",
     "text": [
      "['Tag', 'Ankunft   Uhrzeit', 'Abfahrt   Uhrzeit', 'Schiff', 'Liegeplatz', 'So', '31.03.12  08:00', '31.03.12  17:00', 'AIDAcara', 'Ostseekai', 'Tag', 'Ankunft   Uhrzeit', 'Abfahrt   Uhrzeit', 'Schiff', 'Liegeplatz', 'So', 'So', 'So', 'So', 'So', '07.04.12  08:00', '14.04.12  08:00', '21.04.12  08:00', '28.04.12  08:00', '28.04.12  08:00', '07.04.12  17:00', '14.04.12  17:00', '21.04.12  17:00', '28.04.12  17:00', '28.04.12  16:00', 'AIDAcara', 'AIDAcara', 'AIDAcara', 'AIDAcara', 'MSC Lirica', 'Ostseekai', 'Ostseekai', 'Ostseekai', 'Ostseekai', 'Ostseekai', 'Tag', 'Ankunft   Uhrzeit', 'Abfahrt   Uhrzeit', 'Schiff', 'Liegeplatz', 'Mi', 'Do', 'Sa', 'Sa', 'So', 'Mo', 'Mo', 'Do', 'Sa', 'Sa', 'Mo', 'Di', 'Di', 'Do', 'Sa', 'Sa', 'Sa', 'So', 'Di', 'Mi', 'Do', 'Fr', 'Sa', 'Sa', 'Sa', 'Mi', '02.05.12  08:00', '03.05.12  09:00', '05.05.12  08:00', '05.05.12  10:00', '06.05.12  09:00', '07.05.12  07:00', '07.05.12  09:00', '10.05.12  10:00', '12.05.12  08:00', '12.05.12  10:00', '14.05.12  08:00', '15.05.12  08:00', '15.05.12  09:00', '17.05.12  07:00', '19.05.12  08:00', '19.05.12  09:00', '19.05.12  10:00', '20.05.12  07:00', '22.05.12  08:00', '23.05.12  10:00', '24.05.12  08:00', '25.05.12  09:00', '26.05.12  08:00', '26.05.12  10:00', '26.05.12  10:00', '30.05.12  07:00', '02.05.12  17:00', '03.05.12  16:00', '05.05.12  17:00', '05.05.12  18:00', '06.05.12  17:00', '07.05.12  19:00', '07.05.12  16:00', '10.05.12  15:00', '12.05.12  17:00', '12.05.12  18:00', '14.05.12  17:00', '15.05.12  20:00', '15.05.12  19:00', '17.05.12  19:00', '19.05.12  17:00', '19.05.12  15:00', '19.05.12  18:00', '20.05.12  19:00', '22.05.12  17:00', '23.05.12  18:00', '24.05.12  17:00', '25.05.12  19:00', '26.05.12  17:00', '26.05.12  15:00', '26.05.12  18:00', '30.05.12  19:00', 'AIDAcara', 'MSC Lirica', 'AIDAcara', 'MSC Poesia', 'Delphin', 'Mein Schiff 2', 'MSC Lirica', 'Princess Daphne', 'AIDAcara', 'MSC Poesia', 'Delphin', 'AIDAcara', 'Artania', 'Mein Schiff 2', 'AIDAcara', 'Princess Daphne', 'MSC Poesia', 'Mein Schiff 2', 'AIDAcara', 'Delphin', 'Costa Pacifica', 'Artania', 'AIDAcara', 'Princess Daphne', 'MSC Poesia', 'Mein Schiff 2', 'Ostseekai', 'Ostseekai', 'Ostseekai', 'Ostseekai', 'Norwegenkai', 'Ostseekai', 'Ostseekai', 'Norwegenkai', 'Ostseekai', 'Ostseekai', 'Norwegenkai', 'Ostseekai', 'Ostseekai', 'Ostseekai', 'Ostseekai', 'Norwegenkai', 'Ostseekai', 'Ostseekai', 'Ostseekai', 'Norwegenkai', 'Ostseekai', 'Ostseekai', 'Ostseekai', 'Norwegenkai', 'Ostseekai', 'Ostseekai', 'Tag', 'Ankunft   Uhrzeit', 'Abfahrt   Uhrzeit', 'Schiff', 'Liegeplatz', 'Sa', 'Sa', 'So', 'So', 'Mo', 'Mo', 'Di', 'Do', 'Sa', 'Sa', 'Fr', 'Sa', 'So', 'So', 'So', 'Di', 'Mi', 'Fr', 'Fr', 'Fr', 'Sa', 'Sa', 'Sa', 'So', 'Di', 'Fr', 'Sa', '02.06.12  08:00', '02.06.12  10:00', '03.06.12  08:00', '03.06.12  09.00', '04.06.12  07:00', '04.06.12  09:00', '05.06.12  09:00', '07.06.12  07:00', '09.06.12  08:00', '09.06.12  10:00', '15.06.12  08:00', '16.06.12  10:00', '17.06.12  07:00', '17.06.12  09:00', '17.06.12  11:00', '19.06.12  08:00', '20.06.12  07:00', '22.06.12  07:00', '22.06.12  08:00', '22.06.12  09:00', '23.06.12  08:00', '23.06.12  09:00', '23.06.12  10:00', '24.06.12  08:00', '26.06.12  06:00', '29.06.12  11:00', '30.06.12  10:00', '02.06.12  17:00', '02.06.12  18:00', '03.06.12  17:00', '03.06.12  16.00', '04.06.12  19:00', '04.06.12  19:00', '05.06.12  15:00', '07.06.12  19:00', '09.06.12  17:00', '09.06.12  18:00', '15.06.12  18:00', '16.06.12  18:00', '17.06.12  19:00', '17.06.12  16:00', '17.06.12  15:00', '19.06.12  23:00', '20.06.12  20:00', '22.06.12  18:00', '22.06.12  18:00', '22.06.12  19:00', '23.06.12  17:00', '23.06.12  20:00', '23.06.12  18:00', '24.06.12  16:00', '26.06.12  17:00', '29.06.12  15:00', '30.06.12  18:00', 'AIDAcara', 'MSC Poesia', 'Costa Pacifica', 'MSC Magnifica', 'Delphin', 'Artania', 'Princess Daphne', 'Mein Schiff 2', 'AIDAcara', 'MSC Poesia', 'Eurodam', 'MSC Poesia', 'Mein Schiff 2', 'MSC Magnifica', 'Princess Daphne', 'Rotterdam', 'Columbus 2', 'Star Flyer', 'Hamburg', 'Artania', 'AIDAcara', 'Star Flyer', 'MSC Poesia', 'MSC Magnifica', 'Black Watch', 'Princess Daphne', 'MSC Poesia', 'Ostseekai', 'Ostseekai', 'Ostseekai', 'Ostseekai', 'Norwegenkai', 'Ostseekai', 'Ostseekai', 'Ostseekai', 'Ostseekai', 'Ostseekai', 'Ostseekai', 'Ostseekai', 'Ostseekai', 'Ostseekai', 'Norwegenkai', 'Ostseekai', 'Ostseekai', 'Norwegenkai', 'Ostseekai', 'Ostseekai', 'Ostseekai', 'Norwegenkai', 'Ostseekai', 'Ostseekai', 'Ostseekai', 'Ostseekai', 'Ostseekai', 'Tag', 'Ankunft   Uhrzeit', 'Abfahrt   Uhrzeit', 'Schiff', 'Liegeplatz', 'So', 'So', 'Mo', 'Di', 'Do', 'Sa', 'So', 'Mo', 'Di', 'Di', 'Fr', 'Sa', 'So', 'Fr', 'Sa', 'Sa', 'So', 'Mo', 'Mo', 'Di', 'Fr', 'Fr', 'Sa', 'So', '01.07.12  07:00', '01.07.12  08:00', '02.07.12  07:00', '03.07.12  08:00', '05.07.12  07:00', '07.07.12  10:00', '08.07.12  08:00', '09.07.12  07:00', '10.07.12  08:00', '10.07.12  09:00', '13.07.12  08:00', '14.07.12  10:00', '15.07.12  08:00', '20.07.12  09:00', '21.07.12  07:00', '21.07.12  10:00', '22.07.12  08:00', '23.07.12  08:00', '23.07.12  07:00', '24.07.12  09:00', '27.07.12  07:30', '27.07.12  08:00', '28.07.12  10:00', '29.07.12  08:00', '01.07.12  19:00', '01.07.12  16:00', '02.07.12  18:00', '03.07.12  18:00', '05.07.12  19:00', '07.07.12  18:00', '08.07.12  16:00', '09.07.12  19:00', '10.07.12  19:00', '10.07.12  15:00', '13.07.12  18:00', '14.07.12  18:00', '15.07.12  16:00', '20.07.12  15:00', '21.07.12  18:00', '21.07.12  18:00', '22.07.12  16:00', '23.07.12  18:00', '23.07.12  17:00', '24.07.12  18:00', '27.07.12  19:30', '27.07.12  19:00', '28.07.12  18:00', '29.07.12  16:00', 'Mein Schiff 2', 'MSC Magnifica', 'Columbus 2', 'Eurodam', 'Europa', 'MSC Poesia', 'MSC Magnifica', 'Mein Schiff 2', 'AIDAcara', 'Princess Daphne', 'Eurodam', 'MSC Poesia', 'MSC Magnifica', 'Princess Daphne', 'Columbus 2', 'MSC Poesia', 'MSC Magnifica', 'Eurodam', 'Europa', 'Queen Elizabeth', 'Astor', 'AIDAcara', 'MSC Poesia', 'MSC Magnifica', 'Ostseekai', 'Ostseekai', 'Ostseekai', 'Ostseekai', 'Ostseekai', 'Ostseekai', 'Ostseekai', 'Ostseekai', 'Ostseekai', 'Ostseekai', 'Ostseekai', 'Ostseekai', 'Ostseekai', 'Norwegenkai', 'Ostseekai', 'Ostseekai', 'Ostseekai', 'Ostseekai', 'Ostseekai', 'Ostseekai', 'Norwegenkai', 'Ostseekai', 'Ostseekai', 'Ostseekai', 'Tag', 'Ankunft   Uhrzeit', 'Abfahrt   Uhrzeit', 'Schiff', 'Liegeplatz', 'Do', 'Sa', 'Sa', 'So', 'Di', 'Di', 'Fr', 'Sa', 'So', 'So', 'Mo', 'Di', 'Di', 'Do', 'Fr', 'Sa', 'So', 'Di', 'Mi', 'Fr', 'Fr', 'Sa', 'So', 'So', 'Mo', 'Mo', 'Di', 'Fr', 'Fr', '02.08.12  07:00', '04.08.12  10:00', '04.08.12  14:00', '05.08.12  08:00', '07.08.12  08:00', '07.08.12  08:00', '10.08.12  08:00', '11.08.12  10:00', '12.08.12  08:00', '12.08.12  08:00', '13.08.12  08:00', '14.08.12  07:00', '14.08.12  08:00', '16.08.12  07:00', '17.08.12  08:00', '18.08.12  10:00', '19.09.12  08:00', '21.09.12  08:00', '22.08.12  08.00', '24.08.12  07:00', '24.08.12  08:00', '25.08.12  10:00', '26.08.12  07:00', '26.08.12  08:00', '27.08.12  08:00', '27.08.12  08:00', '28.08.12  07:00', '31.08.12  08:00', '31.08.12  08:00', '02.08.12  13:30', '04.08.12  18:00', '04.08.12  23:30', '05.08.12  06:00', '07.08.12  18:00', '07.08.12  18:00', '10.08.12  17:00', '11.08.12  18:00', '12.08.12  16:00', '12.08.12  18:00', '13.08.12  17:00', '14.08.12  19:00', '14.08.12  16:00', '16.08.12  19:00', '17.08.12  16:00', '18.08.12  18:00', '19.09.12  16:00', '21.09.12  17:00', '22.08.12  17:00', '24.08.12  23:00', '24.08.12  17:00', '25.08.12  18:00', '26.08.12  19:00', '26.08.12  16:00', '27.08.12  17:00', '27.08.12  18:00', '28.08.12  19:00', '31.08.12  20:00', '31.08.12  20:00', 'Columbus 2', 'MSC Poesia', 'Gann', 'MSC Magnifica', 'Eurodam', 'Hamburg', 'Costa Pacifica', 'MSC Poesia', 'MSC Magnifica', 'Europa', 'AIDAcara', 'Columbus 2', 'Delphin', 'Mein Schiff 2', 'Hamburg', 'MSC Poesia', 'MSC Magnifica', 'Costa Pacifica', 'Arion', 'Europa', 'Thomson Spirit', 'MSC Poesia', 'Mein Schiff 2', 'MSC Magnifica', 'AIDAcara', 'Delphin', 'Europa', 'AIDAcara', 'Deutschland', 'Ostseekai', 'Ostseekai', 'Ostseekai', 'Ostseekai', 'Ostseekai', 'Ostseekai', 'Ostseekai', 'Ostseekai', 'Ostseekai', 'Ostseekai', 'Ostseekai', 'Ostseekai', 'Norwegenkai', 'Ostseekai', 'Ostseekai', 'Ostseekai', 'Ostseekai', 'Ostseekai', 'Norwegenkai', 'Ostseekai', 'Ostseekai', 'Ostseekai', 'Ostseekai', 'Ostseekai', 'Ostseekai', 'Norwegenkai', 'Ostseekai', 'Ostseekai', 'Ostseekai', 'Tag', 'Ankunft   Uhrzeit', 'Abfahrt   Uhrzeit', 'Schiff', 'Liegeplatz', 'Sa', 'Sa', 'So', 'Mo', 'Mo', 'Di', 'Di', 'Mi', 'Sa', 'Sa', 'Sa', 'So', 'Fr', 'Fr', 'Sa', 'So', 'Sa', 'Sa', '01.09.12  08:00', '01.09.12  10:00', '02.09.12  08:00', '03.09.12  06:00', '03.09.12  07:30', '04.09.12  08:00', '04.09.12  08:00', '05.09.12  07:00', '08.09.12  08:00', '08.09.12  08:00', '08.09.12  10:00', '09.09.12  08:00', '14.09.12  06:00', '14.09.12  07:30', '15.09.12  08:00', '16.09.12  08:00', '22.09.12  08:00', '29.09.12  08:00', '01.09.12  17:00', '01.09.12  18:00', '02.09.12  16:00', '03.09.12  20:00', '03.09.12  17:30', '04.09.12  17:00', '04.09.12  18:00', '05.09.12  19:00', '08.09.12  17:00', '08.09.12  20:00', '08.09.12  18:00', '09.09.12  16:00', '14.09.12  18:00', '14.09.12  17:30', '15.09.12  17:00', '16.09.12  16:00', '22.09.12  17:00', '29.09.12  17:00', 'Costa Pacifica', 'MSC Poesia', 'MSC Magnifica', 'Deutschland', 'Astor', 'AIDAcara', 'Hamburg', 'Mein Schiff 2', 'AIDAcara', 'Delphin', 'MSC Poesia', 'MSC Magnifica', 'Thomson Spirit', 'Astor', 'AIDAcara', 'MSC Magnifica', 'AIDAcara', 'AIDAcara', 'Ostseekai', 'Ostseekai', 'Ostseekai', 'Ostseekai', 'Norwegenkai', 'Ostseekai', 'Ostseekai', 'Ostseekai', 'Ostseekai', 'Norwegenkai', 'Ostseekai', 'Ostseekai', 'Ostseekai', 'Norwegenkai', 'Ostseekai', 'Ostseekai', 'Ostseekai', 'Ostseekai', 'Tag', 'Ankunft   Uhrzeit', 'Abfahrt   Uhrzeit', 'Schiff', 'Liegeplatz', 'Sa', 'Di', '06.10.12  08:00', '09.10.12  08:00', '06.10.12  17:00', '09.10.12  17:00', 'AIDAcara', 'AIDAcara', 'Ostseekai', 'Ostseekai', 'Tag', 'Ankunft   Uhrzeit', 'Abfahrt   Uhrzeit', 'Schiff', 'Liegeplatz', 'So', 'Sa', '02.12.12  07:30', '15.12.12  15:00', '02.12.12  14:00', '15.12.12  22:00', 'Black Watch', 'Amadea', 'Ostseekai']\n"
     ]
    }
   ],
   "source": [
    "#try to write function to download data from serveral years\n",
    "\n",
    "years = [2012, 2013, 2014, 2015, 2016, 2017, 2018, 2019]\n",
    "listnames =['data2012', 'data2013', 'data2014', 'data2015', 'data2016', 'data2017', 'data2018', 'data2019']\n",
    "\n",
    "\n",
    "def get_data(year):\n",
    "    url = f'https://kreuzfahrtschiffehamburg.de/kiel-{year}/'\n",
    "    response = requests.get(url)\n",
    "    html_content = response.text\n",
    "    #parse the html content\n",
    "    soup = BeautifulSoup(html_content, \"lxml\")\n",
    "    #text = soup.get_text()\n",
    "    # Extract text from all paragraphs\n",
    "    paragraphs = soup.find_all('p')\n",
    "    paragraphs = [p.get_text() for p in paragraphs]\n",
    "    #print(paragraphs)\n",
    "\n",
    "\n",
    "    #I want to remove \\xa0 \\xa from the text\n",
    "\n",
    "    removed =[]\n",
    "    for p in paragraphs:\n",
    "        text = p.replace('\\xa0', ' ')\n",
    "        #text = text.strip()\n",
    "        #text = text.split('\\n')\n",
    "        removed.append(text)\n",
    "\n",
    "    #print(removed)\n",
    "\n",
    "    #remove first 7 elements\n",
    "    removed = removed[2:]\n",
    "    removed = removed[:-4]\n",
    "    #print(removed)\n",
    "\n",
    "    return removed\n",
    "\n",
    "'''\n",
    "for year, name in zip(years,listnames):\n",
    "    name = []\n",
    "    name =get_data(year)\n",
    "    print(name)\n",
    "'''\n",
    "#data 2012\n",
    "data2012 = get_data(2012)\n",
    "print(data2012)"
   ]
  },
  {
   "cell_type": "code",
   "execution_count": 8,
   "metadata": {},
   "outputs": [
    {
     "name": "stdout",
     "output_type": "stream",
     "text": [
      "Sublist 1: ['Tag', 'Ankunft   Uhrzeit', 'Abfahrt   Uhrzeit', 'Schiff', 'Liegeplatz', 'Sa', 'Mi', 'Sa', 'Di', 'Mi', 'Do', 'Sa', 'So', 'Di', '13.04.13  08:00', '17.04.13  08:00', '20.04.13  08:00', '23.04.13  07:30', '24.04.13  08:00', '25.04.13  10:00', '27.04.13  08:00', '28.04.13  10:00', '30.04.13  08:00', '13.04.13  17:00', '17.04.13  17:00', '20.04.13  17:00', '23.04.13  17:30', '24.04.13  17:00', '25.04.13  16:00', '27.04.13  17:00', '28.04.13  16:00', '30.04.13  23:00', 'AIDAcara', 'AIDAcara', 'AIDAcara', 'Astor', 'AIDAcara', 'MSC Musica', 'AIDAcara', 'MSC Musica', 'Rotterdam', 'Ostseekai', 'Ostseekai', 'Ostseekai', 'Norwegenkai', 'Ostseekai', 'Ostseekai', 'Ostseekai', 'Ostseekai', 'Ostseekai']\n",
      "Sublist 2: ['Tag', 'Ankunft   Uhrzeit', 'Abfahrt   Uhrzeit', 'Schiff', 'Liegeplatz', 'Mi', 'Mi', 'Sa', 'So', 'So', 'Di', 'Sa', 'Sa', 'So', 'So', 'Mo', 'Do', 'Sa', 'Sa', 'So', 'Do', 'Sa', 'Sa', 'So', 'Di', 'Mi', 'Mi', 'Do', 'Fr', '01.05.13  08:00', '01.05.13  09:00', '04.05.13  08:00', '05.05.13  08:00', '05.05.13  08:00', '07.05.13  10:00', '10.05.13  08:00', '10.05.13  08:00', '11.05.13  08:00', '11.05.13  08:00', '13.05.13  08:00', '16.05.13  07:00', '18.05.13  08:00', '18.05.13  10:00', '19.05.13  08:00', '23.05.13  08:00', '25.05.13  08:00', '25.05.13  10:00', '26.05.13  08:00', '28.05.13  08.00', '29.05.13  07:00', '29.05.13  10:00', '30.05.13  07:00', '31.05.13  08:00', '01.05.13  17:00', '01.05.13  17:00', '04.05.13  17:00', '05.05.13  16:00', '05.05.13  17:00', '07.05.13  18:00', '10.05.13  17:00', '10.05.13  18:00', '11.05.13  16:00', '11.05.13  17:00', '13.05.13  16:00', '16.05.13  22:00', '18.05.13  17:00', '18.05.13  18:00', '19.05.13  16:00', '23.05.13  17:00', '25.05.13  17:00', '25.05.13  18:00', '26.05.13  16:00', '28.05.13  23:00', '29.05.13  17:00', '29.05.13  14:30', '30.05.13  17:00', '31.05.13  17:30', 'AIDAcara', 'Costa Pacifica', 'AIDAcara', 'MSC Musica', 'Delphin', 'MSC Poesia', 'AIDAcara', 'MSC Poesia', 'MSC Musica', 'Costa Pacifica', 'Delphin', 'Deutschland', 'AIDAcara', 'MSC Poesia', 'MSC Musica', 'Costa Pacifica', 'AIDAcara', 'MSC Poesia', 'MSC Musica', 'Rotterdam', 'Mein Schiff 1', 'Ocean Majesty', 'Eurodam', 'Hamburg', 'Ostseekai', 'Ostseekai', 'Ostseekai', 'Ostseekai', 'Norwegenkai', 'Ostseekai', 'Ostseekai', 'Ostseekai', 'Ostseekai', 'Ostseekai', 'Norwegenkai', 'Norwegenkai', 'Ostseekai', 'Ostseekai', 'Ostseekai', 'Ostseekai', 'Ostseekai', 'Ostseekai', 'Ostseekai', 'Ostseekai', 'Ostseekai', 'Norwegenkai', 'Ostseekai', 'Ostseekai']\n",
      "Sublist 3: ['Tag', 'Ankunft   Uhrzeit', 'Abfahrt   Uhrzeit', 'Schiff', 'Liegeplatz', 'Sa', 'Sa', 'So', 'Mo', 'Mo', 'Di', 'Sa', 'Sa', 'Sa', 'So', 'So', 'So', 'Mi', 'Do', 'Sa', 'Sa', 'Sa', 'So', 'So', 'Mi', 'Do', 'Sa', 'So', 'Mo', 'Do', 'Fr', 'Fr', 'Sa', 'Sa', 'Sa', 'Sa', 'So', 'So', '01.06.13  08:00', '01.06.13  10:00', '02.06.13  08:00', '03.06.13  09:00', '03.06.13  10:00', '04.06.13  07:00', '08.06.13  08:00', '08.06.13  08:00', '08.06.13  10:00', '09.06.13  07:00', '09.06.13  07:00', '09.06.13  08:00', '12.06.13  08:00', '13.06.13  09:00', '15.06.13  08:00', '15.06.13  10:00', '15.06.13  10:00', '16.06.13  07:00', '16.06.13  08:00', '19.06.13  07:00', '20.06.13  07:00', '22.06.13  10:00', '23.06.13  08:00', '24.06.13  12:00', '27.06.13  10:00', '28.06.13  06:00', '28.06.13  07:00', '29.06.13  07:00', '29.06.13  07:30', '29.06.13  08:00', '29.06.13  10:00', '30.06.13  08:00', '30.06.13  08:00', '01.06.13  17:00', '01.06.13  18:00', '02.06.13  16:00', '03.06.13  17:00', '03.06.13  19:00', '04.06.13  19:00', '08.06.13  15:00', '08.06.13  17:00', '08.06.13  18:00', '09.06.13  17:00', '09.06.13  19:00', '09.06.13  16:00', '12.06.13  17:00', '13.06.13  17:00', '15.06.13  17:00', '15.06.13  14:00', '15.06.13  18:00', '16.06.13  18:00', '16.06.13  16:00', '19.06.13  17:00', '20.06.13  19:00', '22.06.13  18:00', '23.06.13  16:00', '24.06.13  18:00', '27.06.13  15:00', '28.06.13  18:00', '28.06.13  18:00', '29.06.13  17:00', '29.06.13  17:30', '29.06.13  17:00', '29.06.13  18:00', '30.06.13  16:00', '30.06.13  23:59', 'AIDAcara', 'MSC Poesia', 'MSC Musica', 'Costa Pacifica', 'Delphin', 'Mein Schiff 1', 'Ocean Majesty', 'AIDAcara', 'MSC Poesia', 'Eurodam', 'Mein Schiff 1', 'MSC Musica', 'AIDAcara', 'Costa Pacifica', 'AIDAcara', 'Ocean Majesty', 'MSC Poesia', 'Columbus 2', 'MSC Musica', 'Eurodam', 'Mein Schiff 1', 'MSC Poesia', 'MSC Musica', 'Amadea', 'Ocean Majesty', 'Deutschland', 'Columbus 2', 'Eurodam', 'Astor', 'Black Watch', 'MSC Poesia', 'MSC Musica', 'Azamara Quest', 'Ostseekai', 'Ostseekai', 'Ostseekai', 'Ostseekai', 'Norwegenkai', 'Ostseekai', 'Norwegenkai', 'Ostseekai', 'Ostseekai', 'Ostuferhafen', 'Ostseekai', 'Ostseekai', 'Ostseekai', 'Ostseekai', 'Ostseekai', 'Norwegenkai', 'Ostseekai', 'Norwegenkai', 'Ostseekai', 'Ostseekai', 'Ostseekai', 'Ostseekai', 'Ostseekai', 'Ostseekai', 'Norwegenkai', 'Norwegenkai', 'Ostseekai', 'Ostseekai', 'Norwegenkai', 'Ostuferhafen', 'Ostseekai', 'Ostseekai', 'Ostseekai']\n",
      "Sublist 4: ['Tag', 'Ankunft   Uhrzeit', 'Abfahrt   Uhrzeit', 'Schiff', 'Liegeplatz', 'Di', 'Do', 'Sa', 'So', 'Di', 'Di', 'Di', 'Do', 'Sa', 'Sa', 'So', 'So', 'Mi', 'Do', 'Fr', 'Fr', 'Sa', 'So', 'So', 'Mo', 'Mo', 'Mi', 'Sa', 'So', '02.07.13  08:00', '04.07.13  07:00', '06.07.13  10:00', '07.07.13  08:00', '09.07.13  07:00', '09.07.13  07:00', '09.07.13  08:00', '11.07.13  10:00', '13.07.13  07:30', '13.07.13  10:00', '14.07.13  07:00', '14.07.13  08:00', '17.07.13  09:00', '18.07.13  07:00', '19.07.13  07:00', '19.07.13  08:00', '20.07.13  10:00', '21.07.13  07:00', '21.07.13  08:00', '22.07.13  07:00', '22.07.13  07:00', '24.07.13  08:30', '27.07.13  10:00', '28.07.13  08:00', '02.07.13  17:00', '04.07.13  19:00', '06.07.13  18:00', '07.07.13  16:00', '09.07.13  17:00', '09.07.13  18:00', '09.07.13  23:00', '11.07.13  14:00', '13.07.13  17:30', '13.07.13  18:00', '14.07.13  19:00', '14.07.13  16:00', '17.07.13  19:00', '18.07.13  17:00', '19.07.13  17:00', '19.07.13  17:00', '20.07.13  18:00', '21.07.13  18:00', '21.07.13  16:00', '22.07.13  19:00', '22.07.13  18:00', '24.07.13  15:00', '27.07.13  18:00', '28.07.13  16:00', 'AIDAcara', 'Mein Schiff 1', 'MSC Poesia', 'MSC Musica', 'Eurodam', 'Columbus 2', 'Rotterdam', 'Ocean Majesty', 'Astor', 'MSC Poesia', 'Mein Schiff 1', 'MSC Musica', 'FTI Berlin', 'Rotterdam', 'Eurodam', 'AIDAcara', 'MSC Poesia', 'Columbus 2', 'MSC Musica', 'Mein Schiff 1', 'Europa', 'Ocean Majesty', 'MSC Poesia', 'MSC Musica', 'Ostseekai', 'Ostseekai', 'Ostseekai', 'Ostseekai', 'Ostseekai', 'Norwegenkai', 'Ostseekai', 'Norwegenkai', 'Norwegenkai', 'Ostseekai', 'Ostseekai', 'Ostseekai', 'Ostseekai', 'Ostseekai', 'Ostseekai', 'Ostseekai', 'Ostseekai', 'Norwegenkai', 'Ostseekai', 'Ostseekai', 'Ostseekai', 'Norwegenkai', 'Ostseekai', 'Ostseekai']\n",
      "Sublist 5: ['Tag', 'Ankunft   Uhrzeit', 'Abfahrt   Uhrzeit', 'Schiff', 'Liegeplatz', 'Fr', 'Sa', 'So', 'Mo', 'Sa', 'Sa', 'Sa', 'So', 'Mo', 'Do', 'Sa', 'So', 'Mi', 'Do', 'Sa', 'Sa', 'So', 'So', 'Di', 'Fr', 'Sa', '02.08.13  07:00', '03.08.13  10:00', '04.08.13  08:00', '05.08.13  08:00', '10.08.13  08:00', '10.08.13  10:00', '10.08.13  16:00', '11.08.13  08:00', '12.08.13  07:00', '15.08.13  08:00', '17.08.13  10:00', '18.08.13  08:00', '21.08.13  07:00', '22.08.13  07:00', '24.08.13  08:00', '24.08.13  10:00', '25.08.13  08:00', '25.08.13  08:00', '27.08.13  08:00', '30.08.13  07:00', '31.08.13  10:00', '02.08.13  19:00', '03.08.13  18:00', '04.08.13  16:00', '05.08.13  17:00', '10.08.13  17:00', '10.08.13  18:00', '10.08.13  18:00', '11.08.13  16:00', '12.08.13  19:00', '15.08.13  17:00', '17.08.13  18:00', '18.08.13  16:00', '21.08.13  19:00', '22.08.13  19:00', '24.08.13  17:00', '24.08.13  18:00', '25.08.13  16:00', '25.08.13  17:00', '27.08.13  18:00', '30.08.13  19:00', '31.08.13  18:00', 'Mein Schiff 1', 'MSC Poesia', 'MSC Musica', 'AIDAcara', 'AIDAcara', 'MSC Poesia', 'Ocean Majesty', 'MSC Musica', 'Mein Schiff 1', 'Costa Pacifica', 'MSC Poesia', 'MSC Musica', 'Europa', 'Mein Schiff 1', 'AIDAcara', 'MSC Poesia', 'MSC Musica', 'Costa Pacifica', 'Hamburg', 'Mein Schiff 1', 'MSC Poesia', 'Ostseekai', 'Ostseekai', 'Ostseekai', 'Ostseekai', 'Ostseekai', 'Ostseekai', 'Norwegenkai', 'Ostseekai', 'Ostseekai', 'Ostseekai', 'Ostseekai', 'Ostseekai', 'Ostseekai', 'Ostseekai', 'Ostseekai', 'Ostseekai', 'Ostseekai', 'Ostseekai', 'Ostseekai', 'Ostseekai', 'Ostseekai']\n",
      "Sublist 6: ['Tag', 'Ankunft   Uhrzeit', 'Abfahrt   Uhrzeit', 'Schiff', 'Liegeplatz', 'So', 'Di', 'Mi', 'Sa', 'Sa', 'Sa', 'So', 'Mo', 'Sa', 'Sa', 'Sa', 'Sa', '01.09.13  08:00', '03.09.13  08:00', '04.09.13  08:00', '07.09.13  08:00', '07.09.13  08:00', '07.09.13  10:00', '08.09.13  08:00', '09.09.13  07:00', '14.09.13  08:00', '14.09.13  10:00', '21.09.13  08:00', '28.09.13  08:00', '01.09.13  16:00', '03.09.13  18:00', '04.09.13  17:00', '07.09.13  17:00', '07.09.13  17:00', '07.09.13  18:00', '08.09.13  16:00', '09.09.13  19:00', '14.09.13  17:00', '14.09.13  18:00', '21.09.13  17:00', '28.09.13  17:00', 'MSC Musica', 'Deutschland', 'Costa Pacifica', 'AIDAcara', 'Delphin', 'MSC Poesia', 'MSC Musica', 'Mein Schiff 1', 'AIDAcara', 'MSC Poesia', 'AIDAcara', 'AIDAcara', 'Ostseekai', 'Norwegenkai', 'Ostseekai', 'Ostseekai', 'Norwegenkai', 'Ostseekai', 'Ostseekai', 'Ostseekai', 'Ostseekai', 'Ostseekai', 'Ostseekai', 'Ostseekai']\n",
      "Sublist 7: ['Tag', 'Ankunft   Uhrzeit', 'Abfahrt   Uhrzeit', 'Schiff', 'Liegeplatz', 'Mi', '02.10.13  08:00', '02.10.13  17:00', 'AIDAcara', 'Ostseekai']\n",
      "Sublist 8: ['Tag', 'Ankunft   Uhrzeit', 'Abfahrt   Uhrzeit', 'Schiff', 'Liegeplatz', 'Mi', '04.12.13  07:00', '04.12.13  18:00', 'Black Watch', 'Ostseekai']\n"
     ]
    }
   ],
   "source": [
    "# The word to split the list by\n",
    "split_word = 'Tag'\n",
    "\n",
    "# Initialize variables\n",
    "sublists = []\n",
    "temp_list = []\n",
    "\n",
    "# Iterate through the list\n",
    "for entry in removed:\n",
    "    if split_word in entry:\n",
    "        if temp_list:\n",
    "            sublists.append(temp_list)\n",
    "            temp_list = []\n",
    "    temp_list.append(entry)\n",
    "\n",
    "# Append the last sublist if not empty\n",
    "if temp_list:\n",
    "    sublists.append(temp_list)\n",
    "\n",
    "# Print the sublists\n",
    "for i, sublist in enumerate(sublists):\n",
    "    print(f\"Sublist {i+1}: {sublist}\")"
   ]
  },
  {
   "cell_type": "code",
   "execution_count": 9,
   "metadata": {},
   "outputs": [
    {
     "name": "stdout",
     "output_type": "stream",
     "text": [
      "Sublist 1: ['Sa', 'Mi', 'Sa', 'Di', 'Mi', 'Do', 'Sa', 'So', 'Di', '13.04.13  08:00', '17.04.13  08:00', '20.04.13  08:00', '23.04.13  07:30', '24.04.13  08:00', '25.04.13  10:00', '27.04.13  08:00', '28.04.13  10:00', '30.04.13  08:00', '13.04.13  17:00', '17.04.13  17:00', '20.04.13  17:00', '23.04.13  17:30', '24.04.13  17:00', '25.04.13  16:00', '27.04.13  17:00', '28.04.13  16:00', '30.04.13  23:00', 'AIDAcara', 'AIDAcara', 'AIDAcara', 'Astor', 'AIDAcara', 'MSC Musica', 'AIDAcara', 'MSC Musica', 'Rotterdam', 'Ostseekai', 'Ostseekai', 'Ostseekai', 'Norwegenkai', 'Ostseekai', 'Ostseekai', 'Ostseekai', 'Ostseekai', 'Ostseekai']\n",
      "Sublist 2: ['Mi', 'Mi', 'Sa', 'So', 'So', 'Di', 'Sa', 'Sa', 'So', 'So', 'Mo', 'Do', 'Sa', 'Sa', 'So', 'Do', 'Sa', 'Sa', 'So', 'Di', 'Mi', 'Mi', 'Do', 'Fr', '01.05.13  08:00', '01.05.13  09:00', '04.05.13  08:00', '05.05.13  08:00', '05.05.13  08:00', '07.05.13  10:00', '10.05.13  08:00', '10.05.13  08:00', '11.05.13  08:00', '11.05.13  08:00', '13.05.13  08:00', '16.05.13  07:00', '18.05.13  08:00', '18.05.13  10:00', '19.05.13  08:00', '23.05.13  08:00', '25.05.13  08:00', '25.05.13  10:00', '26.05.13  08:00', '28.05.13  08.00', '29.05.13  07:00', '29.05.13  10:00', '30.05.13  07:00', '31.05.13  08:00', '01.05.13  17:00', '01.05.13  17:00', '04.05.13  17:00', '05.05.13  16:00', '05.05.13  17:00', '07.05.13  18:00', '10.05.13  17:00', '10.05.13  18:00', '11.05.13  16:00', '11.05.13  17:00', '13.05.13  16:00', '16.05.13  22:00', '18.05.13  17:00', '18.05.13  18:00', '19.05.13  16:00', '23.05.13  17:00', '25.05.13  17:00', '25.05.13  18:00', '26.05.13  16:00', '28.05.13  23:00', '29.05.13  17:00', '29.05.13  14:30', '30.05.13  17:00', '31.05.13  17:30', 'AIDAcara', 'Costa Pacifica', 'AIDAcara', 'MSC Musica', 'Delphin', 'MSC Poesia', 'AIDAcara', 'MSC Poesia', 'MSC Musica', 'Costa Pacifica', 'Delphin', 'Deutschland', 'AIDAcara', 'MSC Poesia', 'MSC Musica', 'Costa Pacifica', 'AIDAcara', 'MSC Poesia', 'MSC Musica', 'Rotterdam', 'Mein Schiff 1', 'Ocean Majesty', 'Eurodam', 'Hamburg', 'Ostseekai', 'Ostseekai', 'Ostseekai', 'Ostseekai', 'Norwegenkai', 'Ostseekai', 'Ostseekai', 'Ostseekai', 'Ostseekai', 'Ostseekai', 'Norwegenkai', 'Norwegenkai', 'Ostseekai', 'Ostseekai', 'Ostseekai', 'Ostseekai', 'Ostseekai', 'Ostseekai', 'Ostseekai', 'Ostseekai', 'Ostseekai', 'Norwegenkai', 'Ostseekai', 'Ostseekai']\n",
      "Sublist 3: ['Sa', 'Sa', 'So', 'Mo', 'Mo', 'Di', 'Sa', 'Sa', 'Sa', 'So', 'So', 'So', 'Mi', 'Do', 'Sa', 'Sa', 'Sa', 'So', 'So', 'Mi', 'Do', 'Sa', 'So', 'Mo', 'Do', 'Fr', 'Fr', 'Sa', 'Sa', 'Sa', 'Sa', 'So', 'So', '01.06.13  08:00', '01.06.13  10:00', '02.06.13  08:00', '03.06.13  09:00', '03.06.13  10:00', '04.06.13  07:00', '08.06.13  08:00', '08.06.13  08:00', '08.06.13  10:00', '09.06.13  07:00', '09.06.13  07:00', '09.06.13  08:00', '12.06.13  08:00', '13.06.13  09:00', '15.06.13  08:00', '15.06.13  10:00', '15.06.13  10:00', '16.06.13  07:00', '16.06.13  08:00', '19.06.13  07:00', '20.06.13  07:00', '22.06.13  10:00', '23.06.13  08:00', '24.06.13  12:00', '27.06.13  10:00', '28.06.13  06:00', '28.06.13  07:00', '29.06.13  07:00', '29.06.13  07:30', '29.06.13  08:00', '29.06.13  10:00', '30.06.13  08:00', '30.06.13  08:00', '01.06.13  17:00', '01.06.13  18:00', '02.06.13  16:00', '03.06.13  17:00', '03.06.13  19:00', '04.06.13  19:00', '08.06.13  15:00', '08.06.13  17:00', '08.06.13  18:00', '09.06.13  17:00', '09.06.13  19:00', '09.06.13  16:00', '12.06.13  17:00', '13.06.13  17:00', '15.06.13  17:00', '15.06.13  14:00', '15.06.13  18:00', '16.06.13  18:00', '16.06.13  16:00', '19.06.13  17:00', '20.06.13  19:00', '22.06.13  18:00', '23.06.13  16:00', '24.06.13  18:00', '27.06.13  15:00', '28.06.13  18:00', '28.06.13  18:00', '29.06.13  17:00', '29.06.13  17:30', '29.06.13  17:00', '29.06.13  18:00', '30.06.13  16:00', '30.06.13  23:59', 'AIDAcara', 'MSC Poesia', 'MSC Musica', 'Costa Pacifica', 'Delphin', 'Mein Schiff 1', 'Ocean Majesty', 'AIDAcara', 'MSC Poesia', 'Eurodam', 'Mein Schiff 1', 'MSC Musica', 'AIDAcara', 'Costa Pacifica', 'AIDAcara', 'Ocean Majesty', 'MSC Poesia', 'Columbus 2', 'MSC Musica', 'Eurodam', 'Mein Schiff 1', 'MSC Poesia', 'MSC Musica', 'Amadea', 'Ocean Majesty', 'Deutschland', 'Columbus 2', 'Eurodam', 'Astor', 'Black Watch', 'MSC Poesia', 'MSC Musica', 'Azamara Quest', 'Ostseekai', 'Ostseekai', 'Ostseekai', 'Ostseekai', 'Norwegenkai', 'Ostseekai', 'Norwegenkai', 'Ostseekai', 'Ostseekai', 'Ostuferhafen', 'Ostseekai', 'Ostseekai', 'Ostseekai', 'Ostseekai', 'Ostseekai', 'Norwegenkai', 'Ostseekai', 'Norwegenkai', 'Ostseekai', 'Ostseekai', 'Ostseekai', 'Ostseekai', 'Ostseekai', 'Ostseekai', 'Norwegenkai', 'Norwegenkai', 'Ostseekai', 'Ostseekai', 'Norwegenkai', 'Ostuferhafen', 'Ostseekai', 'Ostseekai', 'Ostseekai']\n",
      "Sublist 4: ['Di', 'Do', 'Sa', 'So', 'Di', 'Di', 'Di', 'Do', 'Sa', 'Sa', 'So', 'So', 'Mi', 'Do', 'Fr', 'Fr', 'Sa', 'So', 'So', 'Mo', 'Mo', 'Mi', 'Sa', 'So', '02.07.13  08:00', '04.07.13  07:00', '06.07.13  10:00', '07.07.13  08:00', '09.07.13  07:00', '09.07.13  07:00', '09.07.13  08:00', '11.07.13  10:00', '13.07.13  07:30', '13.07.13  10:00', '14.07.13  07:00', '14.07.13  08:00', '17.07.13  09:00', '18.07.13  07:00', '19.07.13  07:00', '19.07.13  08:00', '20.07.13  10:00', '21.07.13  07:00', '21.07.13  08:00', '22.07.13  07:00', '22.07.13  07:00', '24.07.13  08:30', '27.07.13  10:00', '28.07.13  08:00', '02.07.13  17:00', '04.07.13  19:00', '06.07.13  18:00', '07.07.13  16:00', '09.07.13  17:00', '09.07.13  18:00', '09.07.13  23:00', '11.07.13  14:00', '13.07.13  17:30', '13.07.13  18:00', '14.07.13  19:00', '14.07.13  16:00', '17.07.13  19:00', '18.07.13  17:00', '19.07.13  17:00', '19.07.13  17:00', '20.07.13  18:00', '21.07.13  18:00', '21.07.13  16:00', '22.07.13  19:00', '22.07.13  18:00', '24.07.13  15:00', '27.07.13  18:00', '28.07.13  16:00', 'AIDAcara', 'Mein Schiff 1', 'MSC Poesia', 'MSC Musica', 'Eurodam', 'Columbus 2', 'Rotterdam', 'Ocean Majesty', 'Astor', 'MSC Poesia', 'Mein Schiff 1', 'MSC Musica', 'FTI Berlin', 'Rotterdam', 'Eurodam', 'AIDAcara', 'MSC Poesia', 'Columbus 2', 'MSC Musica', 'Mein Schiff 1', 'Europa', 'Ocean Majesty', 'MSC Poesia', 'MSC Musica', 'Ostseekai', 'Ostseekai', 'Ostseekai', 'Ostseekai', 'Ostseekai', 'Norwegenkai', 'Ostseekai', 'Norwegenkai', 'Norwegenkai', 'Ostseekai', 'Ostseekai', 'Ostseekai', 'Ostseekai', 'Ostseekai', 'Ostseekai', 'Ostseekai', 'Ostseekai', 'Norwegenkai', 'Ostseekai', 'Ostseekai', 'Ostseekai', 'Norwegenkai', 'Ostseekai', 'Ostseekai']\n",
      "Sublist 5: ['Fr', 'Sa', 'So', 'Mo', 'Sa', 'Sa', 'Sa', 'So', 'Mo', 'Do', 'Sa', 'So', 'Mi', 'Do', 'Sa', 'Sa', 'So', 'So', 'Di', 'Fr', 'Sa', '02.08.13  07:00', '03.08.13  10:00', '04.08.13  08:00', '05.08.13  08:00', '10.08.13  08:00', '10.08.13  10:00', '10.08.13  16:00', '11.08.13  08:00', '12.08.13  07:00', '15.08.13  08:00', '17.08.13  10:00', '18.08.13  08:00', '21.08.13  07:00', '22.08.13  07:00', '24.08.13  08:00', '24.08.13  10:00', '25.08.13  08:00', '25.08.13  08:00', '27.08.13  08:00', '30.08.13  07:00', '31.08.13  10:00', '02.08.13  19:00', '03.08.13  18:00', '04.08.13  16:00', '05.08.13  17:00', '10.08.13  17:00', '10.08.13  18:00', '10.08.13  18:00', '11.08.13  16:00', '12.08.13  19:00', '15.08.13  17:00', '17.08.13  18:00', '18.08.13  16:00', '21.08.13  19:00', '22.08.13  19:00', '24.08.13  17:00', '24.08.13  18:00', '25.08.13  16:00', '25.08.13  17:00', '27.08.13  18:00', '30.08.13  19:00', '31.08.13  18:00', 'Mein Schiff 1', 'MSC Poesia', 'MSC Musica', 'AIDAcara', 'AIDAcara', 'MSC Poesia', 'Ocean Majesty', 'MSC Musica', 'Mein Schiff 1', 'Costa Pacifica', 'MSC Poesia', 'MSC Musica', 'Europa', 'Mein Schiff 1', 'AIDAcara', 'MSC Poesia', 'MSC Musica', 'Costa Pacifica', 'Hamburg', 'Mein Schiff 1', 'MSC Poesia', 'Ostseekai', 'Ostseekai', 'Ostseekai', 'Ostseekai', 'Ostseekai', 'Ostseekai', 'Norwegenkai', 'Ostseekai', 'Ostseekai', 'Ostseekai', 'Ostseekai', 'Ostseekai', 'Ostseekai', 'Ostseekai', 'Ostseekai', 'Ostseekai', 'Ostseekai', 'Ostseekai', 'Ostseekai', 'Ostseekai', 'Ostseekai']\n",
      "Sublist 6: ['So', 'Di', 'Mi', 'Sa', 'Sa', 'Sa', 'So', 'Mo', 'Sa', 'Sa', 'Sa', 'Sa', '01.09.13  08:00', '03.09.13  08:00', '04.09.13  08:00', '07.09.13  08:00', '07.09.13  08:00', '07.09.13  10:00', '08.09.13  08:00', '09.09.13  07:00', '14.09.13  08:00', '14.09.13  10:00', '21.09.13  08:00', '28.09.13  08:00', '01.09.13  16:00', '03.09.13  18:00', '04.09.13  17:00', '07.09.13  17:00', '07.09.13  17:00', '07.09.13  18:00', '08.09.13  16:00', '09.09.13  19:00', '14.09.13  17:00', '14.09.13  18:00', '21.09.13  17:00', '28.09.13  17:00', 'MSC Musica', 'Deutschland', 'Costa Pacifica', 'AIDAcara', 'Delphin', 'MSC Poesia', 'MSC Musica', 'Mein Schiff 1', 'AIDAcara', 'MSC Poesia', 'AIDAcara', 'AIDAcara', 'Ostseekai', 'Norwegenkai', 'Ostseekai', 'Ostseekai', 'Norwegenkai', 'Ostseekai', 'Ostseekai', 'Ostseekai', 'Ostseekai', 'Ostseekai', 'Ostseekai', 'Ostseekai']\n",
      "Sublist 7: ['Mi', '02.10.13  08:00', '02.10.13  17:00', 'AIDAcara', 'Ostseekai']\n",
      "Sublist 8: ['Mi', '04.12.13  07:00', '04.12.13  18:00', 'Black Watch', 'Ostseekai']\n",
      "[9, 24, 33, 24, 21, 12, 1, 1]\n"
     ]
    }
   ],
   "source": [
    "#delete the first 5 elements of each sublist\n",
    "sublists = [sublist[5:] for sublist in sublists]\n",
    "# Print the sublists\n",
    "for i, sublist in enumerate(sublists):\n",
    "    print(f\"Sublist {i+1}: {sublist}\")\n",
    "\n",
    "#get the number of entrys in each sublist (they are the rows of my further dataframes)\n",
    "dataframes = []\n",
    "rows = []\n",
    "for sublist in sublists:\n",
    "    #get the indices of the days of the week\n",
    "    indices = [i for i, x in enumerate(sublist) if x in ['Mo', 'Di', 'Mi', 'Do', 'Fr', 'Sa', 'So']]\n",
    "    if not indices:\n",
    "        continue  # skip sublist if no days of the week are found\n",
    "    #print(indices)\n",
    "    #add up the indices to get the number of rows in each dataframe\n",
    "    numbers = len(indices)\n",
    "    rows.append(numbers)\n",
    "    #print(rows)\n",
    "\n",
    "print(rows)"
   ]
  },
  {
   "cell_type": "code",
   "execution_count": null,
   "metadata": {},
   "outputs": [
    {
     "name": "stdout",
     "output_type": "stream",
     "text": [
      "Dataframe 1:\n",
      "  Weekday     Arrival_date   Departure_date        Ship         Pier\n",
      "0      Sa  13.04.13  08:00  13.04.13  17:00    AIDAcara    Ostseekai\n",
      "1      Mi  17.04.13  08:00  17.04.13  17:00    AIDAcara    Ostseekai\n",
      "2      Sa  20.04.13  08:00  20.04.13  17:00    AIDAcara    Ostseekai\n",
      "3      Di  23.04.13  07:30  23.04.13  17:30       Astor  Norwegenkai\n",
      "4      Mi  24.04.13  08:00  24.04.13  17:00    AIDAcara    Ostseekai\n",
      "5      Do  25.04.13  10:00  25.04.13  16:00  MSC Musica    Ostseekai\n",
      "6      Sa  27.04.13  08:00  27.04.13  17:00    AIDAcara    Ostseekai\n",
      "7      So  28.04.13  10:00  28.04.13  16:00  MSC Musica    Ostseekai\n",
      "8      Di  30.04.13  08:00  30.04.13  23:00   Rotterdam    Ostseekai\n",
      "\n",
      "Dataframe 2:\n",
      "   Weekday     Arrival_date   Departure_date            Ship         Pier\n",
      "0       Mi  01.05.13  08:00  01.05.13  17:00        AIDAcara    Ostseekai\n",
      "1       Mi  01.05.13  09:00  01.05.13  17:00  Costa Pacifica    Ostseekai\n",
      "2       Sa  04.05.13  08:00  04.05.13  17:00        AIDAcara    Ostseekai\n",
      "3       So  05.05.13  08:00  05.05.13  16:00      MSC Musica    Ostseekai\n",
      "4       So  05.05.13  08:00  05.05.13  17:00         Delphin  Norwegenkai\n",
      "5       Di  07.05.13  10:00  07.05.13  18:00      MSC Poesia    Ostseekai\n",
      "6       Sa  10.05.13  08:00  10.05.13  17:00        AIDAcara    Ostseekai\n",
      "7       Sa  10.05.13  08:00  10.05.13  18:00      MSC Poesia    Ostseekai\n",
      "8       So  11.05.13  08:00  11.05.13  16:00      MSC Musica    Ostseekai\n",
      "9       So  11.05.13  08:00  11.05.13  17:00  Costa Pacifica    Ostseekai\n",
      "10      Mo  13.05.13  08:00  13.05.13  16:00         Delphin  Norwegenkai\n",
      "11      Do  16.05.13  07:00  16.05.13  22:00     Deutschland  Norwegenkai\n",
      "12      Sa  18.05.13  08:00  18.05.13  17:00        AIDAcara    Ostseekai\n",
      "13      Sa  18.05.13  10:00  18.05.13  18:00      MSC Poesia    Ostseekai\n",
      "14      So  19.05.13  08:00  19.05.13  16:00      MSC Musica    Ostseekai\n",
      "15      Do  23.05.13  08:00  23.05.13  17:00  Costa Pacifica    Ostseekai\n",
      "16      Sa  25.05.13  08:00  25.05.13  17:00        AIDAcara    Ostseekai\n",
      "17      Sa  25.05.13  10:00  25.05.13  18:00      MSC Poesia    Ostseekai\n",
      "18      So  26.05.13  08:00  26.05.13  16:00      MSC Musica    Ostseekai\n",
      "19      Di  28.05.13  08.00  28.05.13  23:00       Rotterdam    Ostseekai\n",
      "20      Mi  29.05.13  07:00  29.05.13  17:00   Mein Schiff 1    Ostseekai\n",
      "21      Mi  29.05.13  10:00  29.05.13  14:30   Ocean Majesty  Norwegenkai\n",
      "22      Do  30.05.13  07:00  30.05.13  17:00         Eurodam    Ostseekai\n",
      "23      Fr  31.05.13  08:00  31.05.13  17:30         Hamburg    Ostseekai\n",
      "\n",
      "Dataframe 3:\n",
      "   Weekday     Arrival_date   Departure_date            Ship          Pier\n",
      "0       Sa  01.06.13  08:00  01.06.13  17:00        AIDAcara     Ostseekai\n",
      "1       Sa  01.06.13  10:00  01.06.13  18:00      MSC Poesia     Ostseekai\n",
      "2       So  02.06.13  08:00  02.06.13  16:00      MSC Musica     Ostseekai\n",
      "3       Mo  03.06.13  09:00  03.06.13  17:00  Costa Pacifica     Ostseekai\n",
      "4       Mo  03.06.13  10:00  03.06.13  19:00         Delphin   Norwegenkai\n",
      "5       Di  04.06.13  07:00  04.06.13  19:00   Mein Schiff 1     Ostseekai\n",
      "6       Sa  08.06.13  08:00  08.06.13  15:00   Ocean Majesty   Norwegenkai\n",
      "7       Sa  08.06.13  08:00  08.06.13  17:00        AIDAcara     Ostseekai\n",
      "8       Sa  08.06.13  10:00  08.06.13  18:00      MSC Poesia     Ostseekai\n",
      "9       So  09.06.13  07:00  09.06.13  17:00         Eurodam  Ostuferhafen\n",
      "10      So  09.06.13  07:00  09.06.13  19:00   Mein Schiff 1     Ostseekai\n",
      "11      So  09.06.13  08:00  09.06.13  16:00      MSC Musica     Ostseekai\n",
      "12      Mi  12.06.13  08:00  12.06.13  17:00        AIDAcara     Ostseekai\n",
      "13      Do  13.06.13  09:00  13.06.13  17:00  Costa Pacifica     Ostseekai\n",
      "14      Sa  15.06.13  08:00  15.06.13  17:00        AIDAcara     Ostseekai\n",
      "15      Sa  15.06.13  10:00  15.06.13  14:00   Ocean Majesty   Norwegenkai\n",
      "16      Sa  15.06.13  10:00  15.06.13  18:00      MSC Poesia     Ostseekai\n",
      "17      So  16.06.13  07:00  16.06.13  18:00      Columbus 2   Norwegenkai\n",
      "18      So  16.06.13  08:00  16.06.13  16:00      MSC Musica     Ostseekai\n",
      "19      Mi  19.06.13  07:00  19.06.13  17:00         Eurodam     Ostseekai\n",
      "20      Do  20.06.13  07:00  20.06.13  19:00   Mein Schiff 1     Ostseekai\n",
      "21      Sa  22.06.13  10:00  22.06.13  18:00      MSC Poesia     Ostseekai\n",
      "22      So  23.06.13  08:00  23.06.13  16:00      MSC Musica     Ostseekai\n",
      "23      Mo  24.06.13  12:00  24.06.13  18:00          Amadea     Ostseekai\n",
      "24      Do  27.06.13  10:00  27.06.13  15:00   Ocean Majesty   Norwegenkai\n",
      "25      Fr  28.06.13  06:00  28.06.13  18:00     Deutschland   Norwegenkai\n",
      "26      Fr  28.06.13  07:00  28.06.13  18:00      Columbus 2     Ostseekai\n",
      "27      Sa  29.06.13  07:00  29.06.13  17:00         Eurodam     Ostseekai\n",
      "28      Sa  29.06.13  07:30  29.06.13  17:30           Astor   Norwegenkai\n",
      "29      Sa  29.06.13  08:00  29.06.13  17:00     Black Watch  Ostuferhafen\n",
      "30      Sa  29.06.13  10:00  29.06.13  18:00      MSC Poesia     Ostseekai\n",
      "31      So  30.06.13  08:00  30.06.13  16:00      MSC Musica     Ostseekai\n",
      "32      So  30.06.13  08:00  30.06.13  23:59   Azamara Quest     Ostseekai\n",
      "\n",
      "Dataframe 4:\n",
      "   Weekday     Arrival_date   Departure_date           Ship         Pier\n",
      "0       Di  02.07.13  08:00  02.07.13  17:00       AIDAcara    Ostseekai\n",
      "1       Do  04.07.13  07:00  04.07.13  19:00  Mein Schiff 1    Ostseekai\n",
      "2       Sa  06.07.13  10:00  06.07.13  18:00     MSC Poesia    Ostseekai\n",
      "3       So  07.07.13  08:00  07.07.13  16:00     MSC Musica    Ostseekai\n",
      "4       Di  09.07.13  07:00  09.07.13  17:00        Eurodam    Ostseekai\n",
      "5       Di  09.07.13  07:00  09.07.13  18:00     Columbus 2  Norwegenkai\n",
      "6       Di  09.07.13  08:00  09.07.13  23:00      Rotterdam    Ostseekai\n",
      "7       Do  11.07.13  10:00  11.07.13  14:00  Ocean Majesty  Norwegenkai\n",
      "8       Sa  13.07.13  07:30  13.07.13  17:30          Astor  Norwegenkai\n",
      "9       Sa  13.07.13  10:00  13.07.13  18:00     MSC Poesia    Ostseekai\n",
      "10      So  14.07.13  07:00  14.07.13  19:00  Mein Schiff 1    Ostseekai\n",
      "11      So  14.07.13  08:00  14.07.13  16:00     MSC Musica    Ostseekai\n",
      "12      Mi  17.07.13  09:00  17.07.13  19:00     FTI Berlin    Ostseekai\n",
      "13      Do  18.07.13  07:00  18.07.13  17:00      Rotterdam    Ostseekai\n",
      "14      Fr  19.07.13  07:00  19.07.13  17:00        Eurodam    Ostseekai\n",
      "15      Fr  19.07.13  08:00  19.07.13  17:00       AIDAcara    Ostseekai\n",
      "16      Sa  20.07.13  10:00  20.07.13  18:00     MSC Poesia    Ostseekai\n",
      "17      So  21.07.13  07:00  21.07.13  18:00     Columbus 2  Norwegenkai\n",
      "18      So  21.07.13  08:00  21.07.13  16:00     MSC Musica    Ostseekai\n",
      "19      Mo  22.07.13  07:00  22.07.13  19:00  Mein Schiff 1    Ostseekai\n",
      "20      Mo  22.07.13  07:00  22.07.13  18:00         Europa    Ostseekai\n",
      "21      Mi  24.07.13  08:30  24.07.13  15:00  Ocean Majesty  Norwegenkai\n",
      "22      Sa  27.07.13  10:00  27.07.13  18:00     MSC Poesia    Ostseekai\n",
      "23      So  28.07.13  08:00  28.07.13  16:00     MSC Musica    Ostseekai\n",
      "\n",
      "Dataframe 5:\n",
      "   Weekday     Arrival_date   Departure_date            Ship         Pier\n",
      "0       Fr  02.08.13  07:00  02.08.13  19:00   Mein Schiff 1    Ostseekai\n",
      "1       Sa  03.08.13  10:00  03.08.13  18:00      MSC Poesia    Ostseekai\n",
      "2       So  04.08.13  08:00  04.08.13  16:00      MSC Musica    Ostseekai\n",
      "3       Mo  05.08.13  08:00  05.08.13  17:00        AIDAcara    Ostseekai\n",
      "4       Sa  10.08.13  08:00  10.08.13  17:00        AIDAcara    Ostseekai\n",
      "5       Sa  10.08.13  10:00  10.08.13  18:00      MSC Poesia    Ostseekai\n",
      "6       Sa  10.08.13  16:00  10.08.13  18:00   Ocean Majesty  Norwegenkai\n",
      "7       So  11.08.13  08:00  11.08.13  16:00      MSC Musica    Ostseekai\n",
      "8       Mo  12.08.13  07:00  12.08.13  19:00   Mein Schiff 1    Ostseekai\n",
      "9       Do  15.08.13  08:00  15.08.13  17:00  Costa Pacifica    Ostseekai\n",
      "10      Sa  17.08.13  10:00  17.08.13  18:00      MSC Poesia    Ostseekai\n",
      "11      So  18.08.13  08:00  18.08.13  16:00      MSC Musica    Ostseekai\n",
      "12      Mi  21.08.13  07:00  21.08.13  19:00          Europa    Ostseekai\n",
      "13      Do  22.08.13  07:00  22.08.13  19:00   Mein Schiff 1    Ostseekai\n",
      "14      Sa  24.08.13  08:00  24.08.13  17:00        AIDAcara    Ostseekai\n",
      "15      Sa  24.08.13  10:00  24.08.13  18:00      MSC Poesia    Ostseekai\n",
      "16      So  25.08.13  08:00  25.08.13  16:00      MSC Musica    Ostseekai\n",
      "17      So  25.08.13  08:00  25.08.13  17:00  Costa Pacifica    Ostseekai\n",
      "18      Di  27.08.13  08:00  27.08.13  18:00         Hamburg    Ostseekai\n",
      "19      Fr  30.08.13  07:00  30.08.13  19:00   Mein Schiff 1    Ostseekai\n",
      "20      Sa  31.08.13  10:00  31.08.13  18:00      MSC Poesia    Ostseekai\n",
      "\n",
      "Dataframe 6:\n",
      "   Weekday     Arrival_date   Departure_date            Ship         Pier\n",
      "0       So  01.09.13  08:00  01.09.13  16:00      MSC Musica    Ostseekai\n",
      "1       Di  03.09.13  08:00  03.09.13  18:00     Deutschland  Norwegenkai\n",
      "2       Mi  04.09.13  08:00  04.09.13  17:00  Costa Pacifica    Ostseekai\n",
      "3       Sa  07.09.13  08:00  07.09.13  17:00        AIDAcara    Ostseekai\n",
      "4       Sa  07.09.13  08:00  07.09.13  17:00         Delphin  Norwegenkai\n",
      "5       Sa  07.09.13  10:00  07.09.13  18:00      MSC Poesia    Ostseekai\n",
      "6       So  08.09.13  08:00  08.09.13  16:00      MSC Musica    Ostseekai\n",
      "7       Mo  09.09.13  07:00  09.09.13  19:00   Mein Schiff 1    Ostseekai\n",
      "8       Sa  14.09.13  08:00  14.09.13  17:00        AIDAcara    Ostseekai\n",
      "9       Sa  14.09.13  10:00  14.09.13  18:00      MSC Poesia    Ostseekai\n",
      "10      Sa  21.09.13  08:00  21.09.13  17:00        AIDAcara    Ostseekai\n",
      "11      Sa  28.09.13  08:00  28.09.13  17:00        AIDAcara    Ostseekai\n",
      "\n",
      "Dataframe 7:\n",
      "  Weekday     Arrival_date   Departure_date      Ship       Pier\n",
      "0      Mi  02.10.13  08:00  02.10.13  17:00  AIDAcara  Ostseekai\n",
      "\n",
      "Dataframe 8:\n",
      "  Weekday     Arrival_date   Departure_date         Ship       Pier\n",
      "0      Mi  04.12.13  07:00  04.12.13  18:00  Black Watch  Ostseekai\n",
      "\n"
     ]
    }
   ],
   "source": [
    "#create df from the sublists\n",
    "#the number in rows indicates the number of rows in each dataframe\n",
    "dataframes = []\n",
    "for list,number in zip(sublists, rows):\n",
    "    #split list in chunks\n",
    "    chunks = [list[i:i + number] for i in range(0, len(list), number)]\n",
    "    df = pd.DataFrame(chunks).transpose()\n",
    "    # Rename columns for clarity\n",
    "    df.columns = ['Weekday','Arrival_date', 'Departure_date','Ship','Pier']\n",
    "    dataframes.append(df)\n",
    "    #print(df)\n",
    "  \n",
    "\n",
    "# Print the dataframes\n",
    "for i, df in enumerate(dataframes):\n",
    "    print(f\"Dataframe {i+1}:\\n{df}\\n\")\n",
    "\n",
    "    \n"
   ]
  },
  {
   "cell_type": "code",
   "execution_count": 45,
   "metadata": {},
   "outputs": [
    {
     "name": "stdout",
     "output_type": "stream",
     "text": [
      "    Weekday     Arrival_date   Departure_date         Ship         Pier\n",
      "0        Sa  13.04.13  08:00  13.04.13  17:00     AIDAcara    Ostseekai\n",
      "1        Mi  17.04.13  08:00  17.04.13  17:00     AIDAcara    Ostseekai\n",
      "2        Sa  20.04.13  08:00  20.04.13  17:00     AIDAcara    Ostseekai\n",
      "3        Di  23.04.13  07:30  23.04.13  17:30        Astor  Norwegenkai\n",
      "4        Mi  24.04.13  08:00  24.04.13  17:00     AIDAcara    Ostseekai\n",
      "..      ...              ...              ...          ...          ...\n",
      "120      Sa  14.09.13  10:00  14.09.13  18:00   MSC Poesia    Ostseekai\n",
      "121      Sa  21.09.13  08:00  21.09.13  17:00     AIDAcara    Ostseekai\n",
      "122      Sa  28.09.13  08:00  28.09.13  17:00     AIDAcara    Ostseekai\n",
      "123      Mi  02.10.13  08:00  02.10.13  17:00     AIDAcara    Ostseekai\n",
      "124      Mi  04.12.13  07:00  04.12.13  18:00  Black Watch    Ostseekai\n",
      "\n",
      "[125 rows x 5 columns]\n"
     ]
    }
   ],
   "source": [
    "#concatenate the dataframes\n",
    "df_complete = pd.concat(dataframes, ignore_index=True)\n",
    "print(df_complete)"
   ]
  },
  {
   "cell_type": "code",
   "execution_count": 46,
   "metadata": {},
   "outputs": [
    {
     "name": "stdout",
     "output_type": "stream",
     "text": [
      "<class 'pandas.core.series.Series'>\n",
      "    Weekday Arrival_date Departure_date         Ship         Pier\n",
      "0        Sa     13.04.13       13.04.13     AIDAcara    Ostseekai\n",
      "1        Mi     17.04.13       17.04.13     AIDAcara    Ostseekai\n",
      "2        Sa     20.04.13       20.04.13     AIDAcara    Ostseekai\n",
      "3        Di     23.04.13       23.04.13        Astor  Norwegenkai\n",
      "4        Mi     24.04.13       24.04.13     AIDAcara    Ostseekai\n",
      "..      ...          ...            ...          ...          ...\n",
      "120      Sa     14.09.13       14.09.13   MSC Poesia    Ostseekai\n",
      "121      Sa     21.09.13       21.09.13     AIDAcara    Ostseekai\n",
      "122      Sa     28.09.13       28.09.13     AIDAcara    Ostseekai\n",
      "123      Mi     02.10.13       02.10.13     AIDAcara    Ostseekai\n",
      "124      Mi     04.12.13       04.12.13  Black Watch    Ostseekai\n",
      "\n",
      "[125 rows x 5 columns]\n"
     ]
    }
   ],
   "source": [
    "#reshape the arrival and departure dates\n",
    "df_final = df_complete\n",
    "print(type(df_complete['Arrival_date']))\n",
    "df_final['Arrival_date'] = df_complete['Arrival_date'].str.split(' ').str[0]\n",
    "df_final['Departure_date'] = df_complete['Departure_date'].str.split(' ').str[0]\n",
    "print(df_final)"
   ]
  },
  {
   "cell_type": "markdown",
   "metadata": {},
   "source": [
    "All down here was just playing"
   ]
  },
  {
   "cell_type": "code",
   "execution_count": 11,
   "metadata": {},
   "outputs": [
    {
     "name": "stdout",
     "output_type": "stream",
     "text": [
      "  Column1          Column2          Column3     Column4      Column5\n",
      "0      Sa  13.04.13  08:00  13.04.13  17:00    AIDAcara    Ostseekai\n",
      "1      Mi  17.04.13  08:00  17.04.13  17:00    AIDAcara    Ostseekai\n",
      "2      Sa  20.04.13  08:00  20.04.13  17:00    AIDAcara    Ostseekai\n",
      "3      Di  23.04.13  07:30  23.04.13  17:30       Astor  Norwegenkai\n",
      "4      Mi  24.04.13  08:00  24.04.13  17:00    AIDAcara    Ostseekai\n",
      "5      Do  25.04.13  10:00  25.04.13  16:00  MSC Musica    Ostseekai\n",
      "6      Sa  27.04.13  08:00  27.04.13  17:00    AIDAcara    Ostseekai\n",
      "7      So  28.04.13  10:00  28.04.13  16:00  MSC Musica    Ostseekai\n",
      "8      Di  30.04.13  08:00  30.04.13  23:00   Rotterdam    Ostseekai\n"
     ]
    }
   ],
   "source": [
    "# Number of entries per column\n",
    "num_entries_per_col = 9\n",
    "\n",
    "# Split the list into chunks of 5 entries\n",
    "chunks = [sublists[0][i:i + num_entries_per_col] for i in range(0, len(sublists[0]), num_entries_per_col)]\n",
    "\n",
    "# Transpose the chunks to get the desired DataFrame structure\n",
    "df = pd.DataFrame(chunks).transpose()\n",
    "\n",
    "# Rename columns for clarity\n",
    "df.columns = [f'Column{i+1}' for i in range(df.shape[1])]\n",
    "\n",
    "print(df)"
   ]
  },
  {
   "cell_type": "code",
   "execution_count": 12,
   "metadata": {},
   "outputs": [
    {
     "name": "stdout",
     "output_type": "stream",
     "text": [
      "Sublist 1: ['Sa', 'Mi', 'Sa', 'Di', 'Mi', 'Do', 'Sa', 'So', 'Di']\n",
      "Sublist 2: ['13.04.13  08:00', '17.04.13  08:00', '20.04.13  08:00', '23.04.13  07:30', '24.04.13  08:00', '25.04.13  10:00', '27.04.13  08:00', '28.04.13  10:00', '30.04.13  08:00']\n",
      "Sublist 3: ['13.04.13  17:00', '17.04.13  17:00', '20.04.13  17:00', '23.04.13  17:30', '24.04.13  17:00', '25.04.13  16:00', '27.04.13  17:00', '28.04.13  16:00', '30.04.13  23:00']\n",
      "Sublist 4: ['AIDAcara', 'AIDAcara', 'AIDAcara', 'Astor', 'AIDAcara', 'MSC Musica', 'AIDAcara', 'MSC Musica', 'Rotterdam']\n",
      "Sublist 5: ['Ostseekai', 'Ostseekai', 'Ostseekai', 'Norwegenkai', 'Ostseekai', 'Ostseekai', 'Ostseekai', 'Ostseekai', 'Ostseekai']\n",
      "Sublist 6: ['Mi', 'Mi', 'Sa', 'So', 'So', 'Di', 'Sa', 'Sa', 'So', 'So', 'Mo', 'Do', 'Sa', 'Sa', 'So', 'Do', 'Sa', 'Sa', 'So', 'Di', 'Mi', 'Mi', 'Do', 'Fr']\n",
      "Sublist 7: ['01.05.13  08:00', '01.05.13  09:00', '04.05.13  08:00', '05.05.13  08:00', '05.05.13  08:00', '07.05.13  10:00', '10.05.13  08:00', '10.05.13  08:00', '11.05.13  08:00', '11.05.13  08:00', '13.05.13  08:00', '16.05.13  07:00', '18.05.13  08:00', '18.05.13  10:00', '19.05.13  08:00', '23.05.13  08:00', '25.05.13  08:00', '25.05.13  10:00', '26.05.13  08:00', '28.05.13  08.00', '29.05.13  07:00', '29.05.13  10:00', '30.05.13  07:00', '31.05.13  08:00']\n",
      "Sublist 8: ['01.05.13  17:00', '01.05.13  17:00', '04.05.13  17:00', '05.05.13  16:00', '05.05.13  17:00', '07.05.13  18:00', '10.05.13  17:00', '10.05.13  18:00', '11.05.13  16:00', '11.05.13  17:00', '13.05.13  16:00', '16.05.13  22:00', '18.05.13  17:00', '18.05.13  18:00', '19.05.13  16:00', '23.05.13  17:00', '25.05.13  17:00', '25.05.13  18:00', '26.05.13  16:00', '28.05.13  23:00', '29.05.13  17:00', '29.05.13  14:30', '30.05.13  17:00', '31.05.13  17:30']\n",
      "Sublist 9: ['AIDAcara', 'Costa Pacifica', 'AIDAcara', 'MSC Musica', 'Delphin', 'MSC Poesia', 'AIDAcara', 'MSC Poesia', 'MSC Musica', 'Costa Pacifica', 'Delphin', 'Deutschland', 'AIDAcara', 'MSC Poesia', 'MSC Musica', 'Costa Pacifica', 'AIDAcara', 'MSC Poesia', 'MSC Musica', 'Rotterdam', 'Mein Schiff 1', 'Ocean Majesty', 'Eurodam', 'Hamburg']\n",
      "Sublist 10: ['Ostseekai', 'Ostseekai', 'Ostseekai', 'Ostseekai', 'Norwegenkai', 'Ostseekai', 'Ostseekai', 'Ostseekai', 'Ostseekai', 'Ostseekai', 'Norwegenkai', 'Norwegenkai', 'Ostseekai', 'Ostseekai', 'Ostseekai', 'Ostseekai', 'Ostseekai', 'Ostseekai', 'Ostseekai', 'Ostseekai', 'Ostseekai', 'Norwegenkai', 'Ostseekai', 'Ostseekai']\n",
      "Sublist 11: ['Sa', 'Sa', 'So', 'Mo', 'Mo', 'Di', 'Sa', 'Sa', 'Sa', 'So', 'So', 'So', 'Mi', 'Do', 'Sa', 'Sa', 'Sa', 'So', 'So', 'Mi', 'Do', 'Sa', 'So', 'Mo', 'Do', 'Fr', 'Fr', 'Sa', 'Sa', 'Sa', 'Sa', 'So', 'So']\n",
      "Sublist 12: ['01.06.13  08:00', '01.06.13  10:00', '02.06.13  08:00', '03.06.13  09:00', '03.06.13  10:00', '04.06.13  07:00', '08.06.13  08:00', '08.06.13  08:00', '08.06.13  10:00', '09.06.13  07:00', '09.06.13  07:00', '09.06.13  08:00', '12.06.13  08:00', '13.06.13  09:00', '15.06.13  08:00', '15.06.13  10:00', '15.06.13  10:00', '16.06.13  07:00', '16.06.13  08:00', '19.06.13  07:00', '20.06.13  07:00', '22.06.13  10:00', '23.06.13  08:00', '24.06.13  12:00', '27.06.13  10:00', '28.06.13  06:00', '28.06.13  07:00', '29.06.13  07:00', '29.06.13  07:30', '29.06.13  08:00', '29.06.13  10:00', '30.06.13  08:00', '30.06.13  08:00']\n",
      "Sublist 13: ['01.06.13  17:00', '01.06.13  18:00', '02.06.13  16:00', '03.06.13  17:00', '03.06.13  19:00', '04.06.13  19:00', '08.06.13  15:00', '08.06.13  17:00', '08.06.13  18:00', '09.06.13  17:00', '09.06.13  19:00', '09.06.13  16:00', '12.06.13  17:00', '13.06.13  17:00', '15.06.13  17:00', '15.06.13  14:00', '15.06.13  18:00', '16.06.13  18:00', '16.06.13  16:00', '19.06.13  17:00', '20.06.13  19:00', '22.06.13  18:00', '23.06.13  16:00', '24.06.13  18:00', '27.06.13  15:00', '28.06.13  18:00', '28.06.13  18:00', '29.06.13  17:00', '29.06.13  17:30', '29.06.13  17:00', '29.06.13  18:00', '30.06.13  16:00', '30.06.13  23:59']\n",
      "Sublist 14: ['AIDAcara', 'MSC Poesia', 'MSC Musica', 'Costa Pacifica', 'Delphin', 'Mein Schiff 1', 'Ocean Majesty', 'AIDAcara', 'MSC Poesia', 'Eurodam', 'Mein Schiff 1', 'MSC Musica', 'AIDAcara', 'Costa Pacifica', 'AIDAcara', 'Ocean Majesty', 'MSC Poesia', 'Columbus 2', 'MSC Musica', 'Eurodam', 'Mein Schiff 1', 'MSC Poesia', 'MSC Musica', 'Amadea', 'Ocean Majesty', 'Deutschland', 'Columbus 2', 'Eurodam', 'Astor', 'Black Watch', 'MSC Poesia', 'MSC Musica', 'Azamara Quest']\n",
      "Sublist 15: ['Ostseekai', 'Ostseekai', 'Ostseekai', 'Ostseekai', 'Norwegenkai', 'Ostseekai', 'Norwegenkai', 'Ostseekai', 'Ostseekai', 'Ostuferhafen', 'Ostseekai', 'Ostseekai', 'Ostseekai', 'Ostseekai', 'Ostseekai', 'Norwegenkai', 'Ostseekai', 'Norwegenkai', 'Ostseekai', 'Ostseekai', 'Ostseekai', 'Ostseekai', 'Ostseekai', 'Ostseekai', 'Norwegenkai', 'Norwegenkai', 'Ostseekai', 'Ostseekai', 'Norwegenkai', 'Ostuferhafen', 'Ostseekai', 'Ostseekai', 'Ostseekai']\n",
      "Sublist 16: ['Di', 'Do', 'Sa', 'So', 'Di', 'Di', 'Di', 'Do', 'Sa', 'Sa', 'So', 'So', 'Mi', 'Do', 'Fr', 'Fr', 'Sa', 'So', 'So', 'Mo', 'Mo', 'Mi', 'Sa', 'So']\n",
      "Sublist 17: ['02.07.13  08:00', '04.07.13  07:00', '06.07.13  10:00', '07.07.13  08:00', '09.07.13  07:00', '09.07.13  07:00', '09.07.13  08:00', '11.07.13  10:00', '13.07.13  07:30', '13.07.13  10:00', '14.07.13  07:00', '14.07.13  08:00', '17.07.13  09:00', '18.07.13  07:00', '19.07.13  07:00', '19.07.13  08:00', '20.07.13  10:00', '21.07.13  07:00', '21.07.13  08:00', '22.07.13  07:00', '22.07.13  07:00', '24.07.13  08:30', '27.07.13  10:00', '28.07.13  08:00']\n",
      "Sublist 18: ['02.07.13  17:00', '04.07.13  19:00', '06.07.13  18:00', '07.07.13  16:00', '09.07.13  17:00', '09.07.13  18:00', '09.07.13  23:00', '11.07.13  14:00', '13.07.13  17:30', '13.07.13  18:00', '14.07.13  19:00', '14.07.13  16:00', '17.07.13  19:00', '18.07.13  17:00', '19.07.13  17:00', '19.07.13  17:00', '20.07.13  18:00', '21.07.13  18:00', '21.07.13  16:00', '22.07.13  19:00', '22.07.13  18:00', '24.07.13  15:00', '27.07.13  18:00', '28.07.13  16:00']\n",
      "Sublist 19: ['AIDAcara', 'Mein Schiff 1', 'MSC Poesia', 'MSC Musica', 'Eurodam', 'Columbus 2', 'Rotterdam', 'Ocean Majesty', 'Astor', 'MSC Poesia', 'Mein Schiff 1', 'MSC Musica', 'FTI Berlin', 'Rotterdam', 'Eurodam', 'AIDAcara', 'MSC Poesia', 'Columbus 2', 'MSC Musica', 'Mein Schiff 1', 'Europa', 'Ocean Majesty', 'MSC Poesia', 'MSC Musica']\n",
      "Sublist 20: ['Ostseekai', 'Ostseekai', 'Ostseekai', 'Ostseekai', 'Ostseekai', 'Norwegenkai', 'Ostseekai', 'Norwegenkai', 'Norwegenkai', 'Ostseekai', 'Ostseekai', 'Ostseekai', 'Ostseekai', 'Ostseekai', 'Ostseekai', 'Ostseekai', 'Ostseekai', 'Norwegenkai', 'Ostseekai', 'Ostseekai', 'Ostseekai', 'Norwegenkai', 'Ostseekai', 'Ostseekai']\n",
      "Sublist 21: ['Fr', 'Sa', 'So', 'Mo', 'Sa', 'Sa', 'Sa', 'So', 'Mo', 'Do', 'Sa', 'So', 'Mi', 'Do', 'Sa', 'Sa', 'So', 'So', 'Di', 'Fr', 'Sa']\n",
      "Sublist 22: ['02.08.13  07:00', '03.08.13  10:00', '04.08.13  08:00', '05.08.13  08:00', '10.08.13  08:00', '10.08.13  10:00', '10.08.13  16:00', '11.08.13  08:00', '12.08.13  07:00', '15.08.13  08:00', '17.08.13  10:00', '18.08.13  08:00', '21.08.13  07:00', '22.08.13  07:00', '24.08.13  08:00', '24.08.13  10:00', '25.08.13  08:00', '25.08.13  08:00', '27.08.13  08:00', '30.08.13  07:00', '31.08.13  10:00']\n",
      "Sublist 23: ['02.08.13  19:00', '03.08.13  18:00', '04.08.13  16:00', '05.08.13  17:00', '10.08.13  17:00', '10.08.13  18:00', '10.08.13  18:00', '11.08.13  16:00', '12.08.13  19:00', '15.08.13  17:00', '17.08.13  18:00', '18.08.13  16:00', '21.08.13  19:00', '22.08.13  19:00', '24.08.13  17:00', '24.08.13  18:00', '25.08.13  16:00', '25.08.13  17:00', '27.08.13  18:00', '30.08.13  19:00', '31.08.13  18:00']\n",
      "Sublist 24: ['Mein Schiff 1', 'MSC Poesia', 'MSC Musica', 'AIDAcara', 'AIDAcara', 'MSC Poesia', 'Ocean Majesty', 'MSC Musica', 'Mein Schiff 1', 'Costa Pacifica', 'MSC Poesia', 'MSC Musica', 'Europa', 'Mein Schiff 1', 'AIDAcara', 'MSC Poesia', 'MSC Musica', 'Costa Pacifica', 'Hamburg', 'Mein Schiff 1', 'MSC Poesia']\n",
      "Sublist 25: ['Ostseekai', 'Ostseekai', 'Ostseekai', 'Ostseekai', 'Ostseekai', 'Ostseekai', 'Norwegenkai', 'Ostseekai', 'Ostseekai', 'Ostseekai', 'Ostseekai', 'Ostseekai', 'Ostseekai', 'Ostseekai', 'Ostseekai', 'Ostseekai', 'Ostseekai', 'Ostseekai', 'Ostseekai', 'Ostseekai', 'Ostseekai']\n",
      "Sublist 26: ['So', 'Di', 'Mi', 'Sa', 'Sa', 'Sa', 'So', 'Mo', 'Sa', 'Sa', 'Sa', 'Sa']\n",
      "Sublist 27: ['01.09.13  08:00', '03.09.13  08:00', '04.09.13  08:00', '07.09.13  08:00', '07.09.13  08:00', '07.09.13  10:00', '08.09.13  08:00', '09.09.13  07:00', '14.09.13  08:00', '14.09.13  10:00', '21.09.13  08:00', '28.09.13  08:00']\n",
      "Sublist 28: ['01.09.13  16:00', '03.09.13  18:00', '04.09.13  17:00', '07.09.13  17:00', '07.09.13  17:00', '07.09.13  18:00', '08.09.13  16:00', '09.09.13  19:00', '14.09.13  17:00', '14.09.13  18:00', '21.09.13  17:00', '28.09.13  17:00']\n",
      "Sublist 29: ['MSC Musica', 'Deutschland', 'Costa Pacifica', 'AIDAcara', 'Delphin', 'MSC Poesia', 'MSC Musica', 'Mein Schiff 1', 'AIDAcara', 'MSC Poesia', 'AIDAcara', 'AIDAcara']\n",
      "Sublist 30: ['Ostseekai', 'Norwegenkai', 'Ostseekai', 'Ostseekai', 'Norwegenkai', 'Ostseekai', 'Ostseekai', 'Ostseekai', 'Ostseekai', 'Ostseekai', 'Ostseekai', 'Ostseekai']\n",
      "Sublist 31: ['Mi']\n",
      "Sublist 32: ['02.10.13  08:00']\n",
      "Sublist 33: ['02.10.13  17:00']\n",
      "Sublist 34: ['AIDAcara']\n",
      "Sublist 35: ['Ostseekai']\n",
      "Sublist 36: ['Mi']\n",
      "Sublist 37: ['04.12.13  07:00']\n",
      "Sublist 38: ['04.12.13  18:00']\n",
      "Sublist 39: ['Black Watch']\n",
      "Sublist 40: ['Ostseekai']\n"
     ]
    }
   ],
   "source": [
    "#slice the sublists into more sublists determined \n",
    "#te number of elements in each sublist is determined by the number given in the rows list\n",
    "\n",
    "# Initialize variables\n",
    "sublists2 = []\n",
    "\n",
    "\n",
    "# Iterate through the sublists and rows\n",
    "#slice the sublists into more sublists determined by the elemt in the rows list\n",
    "for sublist, number in zip(sublists, rows):\n",
    "    # Initialize variables\n",
    "    temp_list = []\n",
    "    # Iterate through the sublist\n",
    "    for i, entry in enumerate(sublist):\n",
    "        temp_list.append(entry)\n",
    "        # Append the list if the number of rows is reached\n",
    "        if (i+1) % number == 0:\n",
    "            sublists2.append(temp_list)\n",
    "            temp_list = []\n",
    "\n",
    "# Append the last sublist if not empty\n",
    "if temp_list:\n",
    "    sublists2.append(temp_list)\n",
    "\n",
    "# Print the sublists\n",
    "for i, sublist in enumerate(sublists2):\n",
    "    print(f\"Sublist {i+1}: {sublist}\")"
   ]
  },
  {
   "cell_type": "code",
   "execution_count": 13,
   "metadata": {},
   "outputs": [
    {
     "name": "stdout",
     "output_type": "stream",
     "text": [
      "Sublist 1: [['Sa', 'Mi', 'Sa', 'Di', 'Mi', 'Do', 'Sa', 'So', 'Di'], ['13.04.13  08:00', '17.04.13  08:00', '20.04.13  08:00', '23.04.13  07:30', '24.04.13  08:00', '25.04.13  10:00', '27.04.13  08:00', '28.04.13  10:00', '30.04.13  08:00'], ['13.04.13  17:00', '17.04.13  17:00', '20.04.13  17:00', '23.04.13  17:30', '24.04.13  17:00', '25.04.13  16:00', '27.04.13  17:00', '28.04.13  16:00', '30.04.13  23:00'], ['AIDAcara', 'AIDAcara', 'AIDAcara', 'Astor', 'AIDAcara', 'MSC Musica', 'AIDAcara', 'MSC Musica', 'Rotterdam'], ['Ostseekai', 'Ostseekai', 'Ostseekai', 'Norwegenkai', 'Ostseekai', 'Ostseekai', 'Ostseekai', 'Ostseekai', 'Ostseekai']]\n",
      "Sublist 2: [['Mi', 'Mi', 'Sa', 'So', 'So', 'Di', 'Sa', 'Sa', 'So', 'So', 'Mo', 'Do', 'Sa', 'Sa', 'So', 'Do', 'Sa', 'Sa', 'So', 'Di', 'Mi', 'Mi', 'Do', 'Fr'], ['01.05.13  08:00', '01.05.13  09:00', '04.05.13  08:00', '05.05.13  08:00', '05.05.13  08:00', '07.05.13  10:00', '10.05.13  08:00', '10.05.13  08:00', '11.05.13  08:00', '11.05.13  08:00', '13.05.13  08:00', '16.05.13  07:00', '18.05.13  08:00', '18.05.13  10:00', '19.05.13  08:00', '23.05.13  08:00', '25.05.13  08:00', '25.05.13  10:00', '26.05.13  08:00', '28.05.13  08.00', '29.05.13  07:00', '29.05.13  10:00', '30.05.13  07:00', '31.05.13  08:00'], ['01.05.13  17:00', '01.05.13  17:00', '04.05.13  17:00', '05.05.13  16:00', '05.05.13  17:00', '07.05.13  18:00', '10.05.13  17:00', '10.05.13  18:00', '11.05.13  16:00', '11.05.13  17:00', '13.05.13  16:00', '16.05.13  22:00', '18.05.13  17:00', '18.05.13  18:00', '19.05.13  16:00', '23.05.13  17:00', '25.05.13  17:00', '25.05.13  18:00', '26.05.13  16:00', '28.05.13  23:00', '29.05.13  17:00', '29.05.13  14:30', '30.05.13  17:00', '31.05.13  17:30'], ['AIDAcara', 'Costa Pacifica', 'AIDAcara', 'MSC Musica', 'Delphin', 'MSC Poesia', 'AIDAcara', 'MSC Poesia', 'MSC Musica', 'Costa Pacifica', 'Delphin', 'Deutschland', 'AIDAcara', 'MSC Poesia', 'MSC Musica', 'Costa Pacifica', 'AIDAcara', 'MSC Poesia', 'MSC Musica', 'Rotterdam', 'Mein Schiff 1', 'Ocean Majesty', 'Eurodam', 'Hamburg'], ['Ostseekai', 'Ostseekai', 'Ostseekai', 'Ostseekai', 'Norwegenkai', 'Ostseekai', 'Ostseekai', 'Ostseekai', 'Ostseekai', 'Ostseekai', 'Norwegenkai', 'Norwegenkai', 'Ostseekai', 'Ostseekai', 'Ostseekai', 'Ostseekai', 'Ostseekai', 'Ostseekai', 'Ostseekai', 'Ostseekai', 'Ostseekai', 'Norwegenkai', 'Ostseekai', 'Ostseekai']]\n",
      "Sublist 3: [['Sa', 'Sa', 'So', 'Mo', 'Mo', 'Di', 'Sa', 'Sa', 'Sa', 'So', 'So', 'So', 'Mi', 'Do', 'Sa', 'Sa', 'Sa', 'So', 'So', 'Mi', 'Do', 'Sa', 'So', 'Mo', 'Do', 'Fr', 'Fr', 'Sa', 'Sa', 'Sa', 'Sa', 'So', 'So'], ['01.06.13  08:00', '01.06.13  10:00', '02.06.13  08:00', '03.06.13  09:00', '03.06.13  10:00', '04.06.13  07:00', '08.06.13  08:00', '08.06.13  08:00', '08.06.13  10:00', '09.06.13  07:00', '09.06.13  07:00', '09.06.13  08:00', '12.06.13  08:00', '13.06.13  09:00', '15.06.13  08:00', '15.06.13  10:00', '15.06.13  10:00', '16.06.13  07:00', '16.06.13  08:00', '19.06.13  07:00', '20.06.13  07:00', '22.06.13  10:00', '23.06.13  08:00', '24.06.13  12:00', '27.06.13  10:00', '28.06.13  06:00', '28.06.13  07:00', '29.06.13  07:00', '29.06.13  07:30', '29.06.13  08:00', '29.06.13  10:00', '30.06.13  08:00', '30.06.13  08:00'], ['01.06.13  17:00', '01.06.13  18:00', '02.06.13  16:00', '03.06.13  17:00', '03.06.13  19:00', '04.06.13  19:00', '08.06.13  15:00', '08.06.13  17:00', '08.06.13  18:00', '09.06.13  17:00', '09.06.13  19:00', '09.06.13  16:00', '12.06.13  17:00', '13.06.13  17:00', '15.06.13  17:00', '15.06.13  14:00', '15.06.13  18:00', '16.06.13  18:00', '16.06.13  16:00', '19.06.13  17:00', '20.06.13  19:00', '22.06.13  18:00', '23.06.13  16:00', '24.06.13  18:00', '27.06.13  15:00', '28.06.13  18:00', '28.06.13  18:00', '29.06.13  17:00', '29.06.13  17:30', '29.06.13  17:00', '29.06.13  18:00', '30.06.13  16:00', '30.06.13  23:59'], ['AIDAcara', 'MSC Poesia', 'MSC Musica', 'Costa Pacifica', 'Delphin', 'Mein Schiff 1', 'Ocean Majesty', 'AIDAcara', 'MSC Poesia', 'Eurodam', 'Mein Schiff 1', 'MSC Musica', 'AIDAcara', 'Costa Pacifica', 'AIDAcara', 'Ocean Majesty', 'MSC Poesia', 'Columbus 2', 'MSC Musica', 'Eurodam', 'Mein Schiff 1', 'MSC Poesia', 'MSC Musica', 'Amadea', 'Ocean Majesty', 'Deutschland', 'Columbus 2', 'Eurodam', 'Astor', 'Black Watch', 'MSC Poesia', 'MSC Musica', 'Azamara Quest'], ['Ostseekai', 'Ostseekai', 'Ostseekai', 'Ostseekai', 'Norwegenkai', 'Ostseekai', 'Norwegenkai', 'Ostseekai', 'Ostseekai', 'Ostuferhafen', 'Ostseekai', 'Ostseekai', 'Ostseekai', 'Ostseekai', 'Ostseekai', 'Norwegenkai', 'Ostseekai', 'Norwegenkai', 'Ostseekai', 'Ostseekai', 'Ostseekai', 'Ostseekai', 'Ostseekai', 'Ostseekai', 'Norwegenkai', 'Norwegenkai', 'Ostseekai', 'Ostseekai', 'Norwegenkai', 'Ostuferhafen', 'Ostseekai', 'Ostseekai', 'Ostseekai']]\n",
      "Sublist 4: [['Di', 'Do', 'Sa', 'So', 'Di', 'Di', 'Di', 'Do', 'Sa', 'Sa', 'So', 'So', 'Mi', 'Do', 'Fr', 'Fr', 'Sa', 'So', 'So', 'Mo', 'Mo', 'Mi', 'Sa', 'So'], ['02.07.13  08:00', '04.07.13  07:00', '06.07.13  10:00', '07.07.13  08:00', '09.07.13  07:00', '09.07.13  07:00', '09.07.13  08:00', '11.07.13  10:00', '13.07.13  07:30', '13.07.13  10:00', '14.07.13  07:00', '14.07.13  08:00', '17.07.13  09:00', '18.07.13  07:00', '19.07.13  07:00', '19.07.13  08:00', '20.07.13  10:00', '21.07.13  07:00', '21.07.13  08:00', '22.07.13  07:00', '22.07.13  07:00', '24.07.13  08:30', '27.07.13  10:00', '28.07.13  08:00'], ['02.07.13  17:00', '04.07.13  19:00', '06.07.13  18:00', '07.07.13  16:00', '09.07.13  17:00', '09.07.13  18:00', '09.07.13  23:00', '11.07.13  14:00', '13.07.13  17:30', '13.07.13  18:00', '14.07.13  19:00', '14.07.13  16:00', '17.07.13  19:00', '18.07.13  17:00', '19.07.13  17:00', '19.07.13  17:00', '20.07.13  18:00', '21.07.13  18:00', '21.07.13  16:00', '22.07.13  19:00', '22.07.13  18:00', '24.07.13  15:00', '27.07.13  18:00', '28.07.13  16:00'], ['AIDAcara', 'Mein Schiff 1', 'MSC Poesia', 'MSC Musica', 'Eurodam', 'Columbus 2', 'Rotterdam', 'Ocean Majesty', 'Astor', 'MSC Poesia', 'Mein Schiff 1', 'MSC Musica', 'FTI Berlin', 'Rotterdam', 'Eurodam', 'AIDAcara', 'MSC Poesia', 'Columbus 2', 'MSC Musica', 'Mein Schiff 1', 'Europa', 'Ocean Majesty', 'MSC Poesia', 'MSC Musica'], ['Ostseekai', 'Ostseekai', 'Ostseekai', 'Ostseekai', 'Ostseekai', 'Norwegenkai', 'Ostseekai', 'Norwegenkai', 'Norwegenkai', 'Ostseekai', 'Ostseekai', 'Ostseekai', 'Ostseekai', 'Ostseekai', 'Ostseekai', 'Ostseekai', 'Ostseekai', 'Norwegenkai', 'Ostseekai', 'Ostseekai', 'Ostseekai', 'Norwegenkai', 'Ostseekai', 'Ostseekai']]\n",
      "Sublist 5: [['Fr', 'Sa', 'So', 'Mo', 'Sa', 'Sa', 'Sa', 'So', 'Mo', 'Do', 'Sa', 'So', 'Mi', 'Do', 'Sa', 'Sa', 'So', 'So', 'Di', 'Fr', 'Sa'], ['02.08.13  07:00', '03.08.13  10:00', '04.08.13  08:00', '05.08.13  08:00', '10.08.13  08:00', '10.08.13  10:00', '10.08.13  16:00', '11.08.13  08:00', '12.08.13  07:00', '15.08.13  08:00', '17.08.13  10:00', '18.08.13  08:00', '21.08.13  07:00', '22.08.13  07:00', '24.08.13  08:00', '24.08.13  10:00', '25.08.13  08:00', '25.08.13  08:00', '27.08.13  08:00', '30.08.13  07:00', '31.08.13  10:00'], ['02.08.13  19:00', '03.08.13  18:00', '04.08.13  16:00', '05.08.13  17:00', '10.08.13  17:00', '10.08.13  18:00', '10.08.13  18:00', '11.08.13  16:00', '12.08.13  19:00', '15.08.13  17:00', '17.08.13  18:00', '18.08.13  16:00', '21.08.13  19:00', '22.08.13  19:00', '24.08.13  17:00', '24.08.13  18:00', '25.08.13  16:00', '25.08.13  17:00', '27.08.13  18:00', '30.08.13  19:00', '31.08.13  18:00'], ['Mein Schiff 1', 'MSC Poesia', 'MSC Musica', 'AIDAcara', 'AIDAcara', 'MSC Poesia', 'Ocean Majesty', 'MSC Musica', 'Mein Schiff 1', 'Costa Pacifica', 'MSC Poesia', 'MSC Musica', 'Europa', 'Mein Schiff 1', 'AIDAcara', 'MSC Poesia', 'MSC Musica', 'Costa Pacifica', 'Hamburg', 'Mein Schiff 1', 'MSC Poesia'], ['Ostseekai', 'Ostseekai', 'Ostseekai', 'Ostseekai', 'Ostseekai', 'Ostseekai', 'Norwegenkai', 'Ostseekai', 'Ostseekai', 'Ostseekai', 'Ostseekai', 'Ostseekai', 'Ostseekai', 'Ostseekai', 'Ostseekai', 'Ostseekai', 'Ostseekai', 'Ostseekai', 'Ostseekai', 'Ostseekai', 'Ostseekai']]\n",
      "Sublist 6: [['So', 'Di', 'Mi', 'Sa', 'Sa', 'Sa', 'So', 'Mo', 'Sa', 'Sa', 'Sa', 'Sa'], ['01.09.13  08:00', '03.09.13  08:00', '04.09.13  08:00', '07.09.13  08:00', '07.09.13  08:00', '07.09.13  10:00', '08.09.13  08:00', '09.09.13  07:00', '14.09.13  08:00', '14.09.13  10:00', '21.09.13  08:00', '28.09.13  08:00'], ['01.09.13  16:00', '03.09.13  18:00', '04.09.13  17:00', '07.09.13  17:00', '07.09.13  17:00', '07.09.13  18:00', '08.09.13  16:00', '09.09.13  19:00', '14.09.13  17:00', '14.09.13  18:00', '21.09.13  17:00', '28.09.13  17:00'], ['MSC Musica', 'Deutschland', 'Costa Pacifica', 'AIDAcara', 'Delphin', 'MSC Poesia', 'MSC Musica', 'Mein Schiff 1', 'AIDAcara', 'MSC Poesia', 'AIDAcara', 'AIDAcara'], ['Ostseekai', 'Norwegenkai', 'Ostseekai', 'Ostseekai', 'Norwegenkai', 'Ostseekai', 'Ostseekai', 'Ostseekai', 'Ostseekai', 'Ostseekai', 'Ostseekai', 'Ostseekai']]\n",
      "Sublist 7: [['Mi'], ['02.10.13  08:00'], ['02.10.13  17:00'], ['AIDAcara'], ['Ostseekai']]\n",
      "Sublist 8: [['Mi'], ['04.12.13  07:00'], ['04.12.13  18:00'], ['Black Watch'], ['Ostseekai']]\n"
     ]
    }
   ],
   "source": [
    "#create a new list for each 5 sublists\n",
    "# Initialize variables\n",
    "sublists3 = []\n",
    "temp_list = []\n",
    "\n",
    "# Iterate through the sublists\n",
    "for i, sublist in enumerate(sublists2):\n",
    "    temp_list.append(sublist)\n",
    "    # Append the list if the number of rows is reached\n",
    "    if (i+1) % 5 == 0:\n",
    "        sublists3.append(temp_list)\n",
    "        temp_list = []\n",
    "\n",
    "# Append the last sublist if not empty\n",
    "if temp_list:\n",
    "    sublists3.append(temp_list)\n",
    "\n",
    "# Print the sublists\n",
    "for i, sublist in enumerate(sublists3):\n",
    "    print(f\"Sublist {i+1}: {sublist}\")"
   ]
  },
  {
   "cell_type": "code",
   "execution_count": 14,
   "metadata": {},
   "outputs": [
    {
     "name": "stdout",
     "output_type": "stream",
     "text": [
      "5\n"
     ]
    }
   ],
   "source": [
    "#try and create a new sublist for every 5 sublists\n",
    "# Initialize variables\n",
    "sublists4 = []\n",
    "temp_list = []\n",
    "\n",
    "# Iterate through the sublists\n",
    "for i, sublist in enumerate(sublists3):\n",
    "    temp_list.append(sublist)\n",
    "    # Append the list if the number of rows is reached\n",
    "    if (i+1) % 5 == 0:\n",
    "        sublists4.append(temp_list)\n",
    "        temp_list = []\n",
    "        # Iterate through the sublists and group them into chunks of 5\n",
    "        for i in range(0, len(sublists3), 5):\n",
    "            sublists4.append(sublists3[i:i+5])\n",
    "\n",
    "\n",
    "    sublists4.append(temp_list)\n",
    "\n",
    "print(len(sublists4[1]))\n",
    "\n"
   ]
  },
  {
   "cell_type": "code",
   "execution_count": 15,
   "metadata": {},
   "outputs": [
    {
     "name": "stdout",
     "output_type": "stream",
     "text": [
      "[[['Sa', 'Mi', 'Sa', 'Di', 'Mi', 'Do', 'Sa', 'So', 'Di'], ['13.04.13  08:00', '17.04.13  08:00', '20.04.13  08:00', '23.04.13  07:30', '24.04.13  08:00', '25.04.13  10:00', '27.04.13  08:00', '28.04.13  10:00', '30.04.13  08:00'], ['13.04.13  17:00', '17.04.13  17:00', '20.04.13  17:00', '23.04.13  17:30', '24.04.13  17:00', '25.04.13  16:00', '27.04.13  17:00', '28.04.13  16:00', '30.04.13  23:00'], ['AIDAcara', 'AIDAcara', 'AIDAcara', 'Astor', 'AIDAcara', 'MSC Musica', 'AIDAcara', 'MSC Musica', 'Rotterdam'], ['Ostseekai', 'Ostseekai', 'Ostseekai', 'Norwegenkai', 'Ostseekai', 'Ostseekai', 'Ostseekai', 'Ostseekai', 'Ostseekai']], [['Mi', 'Mi', 'Sa', 'So', 'So', 'Di', 'Sa', 'Sa', 'So', 'So', 'Mo', 'Do', 'Sa', 'Sa', 'So', 'Do', 'Sa', 'Sa', 'So', 'Di', 'Mi', 'Mi', 'Do', 'Fr'], ['01.05.13  08:00', '01.05.13  09:00', '04.05.13  08:00', '05.05.13  08:00', '05.05.13  08:00', '07.05.13  10:00', '10.05.13  08:00', '10.05.13  08:00', '11.05.13  08:00', '11.05.13  08:00', '13.05.13  08:00', '16.05.13  07:00', '18.05.13  08:00', '18.05.13  10:00', '19.05.13  08:00', '23.05.13  08:00', '25.05.13  08:00', '25.05.13  10:00', '26.05.13  08:00', '28.05.13  08.00', '29.05.13  07:00', '29.05.13  10:00', '30.05.13  07:00', '31.05.13  08:00'], ['01.05.13  17:00', '01.05.13  17:00', '04.05.13  17:00', '05.05.13  16:00', '05.05.13  17:00', '07.05.13  18:00', '10.05.13  17:00', '10.05.13  18:00', '11.05.13  16:00', '11.05.13  17:00', '13.05.13  16:00', '16.05.13  22:00', '18.05.13  17:00', '18.05.13  18:00', '19.05.13  16:00', '23.05.13  17:00', '25.05.13  17:00', '25.05.13  18:00', '26.05.13  16:00', '28.05.13  23:00', '29.05.13  17:00', '29.05.13  14:30', '30.05.13  17:00', '31.05.13  17:30'], ['AIDAcara', 'Costa Pacifica', 'AIDAcara', 'MSC Musica', 'Delphin', 'MSC Poesia', 'AIDAcara', 'MSC Poesia', 'MSC Musica', 'Costa Pacifica', 'Delphin', 'Deutschland', 'AIDAcara', 'MSC Poesia', 'MSC Musica', 'Costa Pacifica', 'AIDAcara', 'MSC Poesia', 'MSC Musica', 'Rotterdam', 'Mein Schiff 1', 'Ocean Majesty', 'Eurodam', 'Hamburg'], ['Ostseekai', 'Ostseekai', 'Ostseekai', 'Ostseekai', 'Norwegenkai', 'Ostseekai', 'Ostseekai', 'Ostseekai', 'Ostseekai', 'Ostseekai', 'Norwegenkai', 'Norwegenkai', 'Ostseekai', 'Ostseekai', 'Ostseekai', 'Ostseekai', 'Ostseekai', 'Ostseekai', 'Ostseekai', 'Ostseekai', 'Ostseekai', 'Norwegenkai', 'Ostseekai', 'Ostseekai']], [['Sa', 'Sa', 'So', 'Mo', 'Mo', 'Di', 'Sa', 'Sa', 'Sa', 'So', 'So', 'So', 'Mi', 'Do', 'Sa', 'Sa', 'Sa', 'So', 'So', 'Mi', 'Do', 'Sa', 'So', 'Mo', 'Do', 'Fr', 'Fr', 'Sa', 'Sa', 'Sa', 'Sa', 'So', 'So'], ['01.06.13  08:00', '01.06.13  10:00', '02.06.13  08:00', '03.06.13  09:00', '03.06.13  10:00', '04.06.13  07:00', '08.06.13  08:00', '08.06.13  08:00', '08.06.13  10:00', '09.06.13  07:00', '09.06.13  07:00', '09.06.13  08:00', '12.06.13  08:00', '13.06.13  09:00', '15.06.13  08:00', '15.06.13  10:00', '15.06.13  10:00', '16.06.13  07:00', '16.06.13  08:00', '19.06.13  07:00', '20.06.13  07:00', '22.06.13  10:00', '23.06.13  08:00', '24.06.13  12:00', '27.06.13  10:00', '28.06.13  06:00', '28.06.13  07:00', '29.06.13  07:00', '29.06.13  07:30', '29.06.13  08:00', '29.06.13  10:00', '30.06.13  08:00', '30.06.13  08:00'], ['01.06.13  17:00', '01.06.13  18:00', '02.06.13  16:00', '03.06.13  17:00', '03.06.13  19:00', '04.06.13  19:00', '08.06.13  15:00', '08.06.13  17:00', '08.06.13  18:00', '09.06.13  17:00', '09.06.13  19:00', '09.06.13  16:00', '12.06.13  17:00', '13.06.13  17:00', '15.06.13  17:00', '15.06.13  14:00', '15.06.13  18:00', '16.06.13  18:00', '16.06.13  16:00', '19.06.13  17:00', '20.06.13  19:00', '22.06.13  18:00', '23.06.13  16:00', '24.06.13  18:00', '27.06.13  15:00', '28.06.13  18:00', '28.06.13  18:00', '29.06.13  17:00', '29.06.13  17:30', '29.06.13  17:00', '29.06.13  18:00', '30.06.13  16:00', '30.06.13  23:59'], ['AIDAcara', 'MSC Poesia', 'MSC Musica', 'Costa Pacifica', 'Delphin', 'Mein Schiff 1', 'Ocean Majesty', 'AIDAcara', 'MSC Poesia', 'Eurodam', 'Mein Schiff 1', 'MSC Musica', 'AIDAcara', 'Costa Pacifica', 'AIDAcara', 'Ocean Majesty', 'MSC Poesia', 'Columbus 2', 'MSC Musica', 'Eurodam', 'Mein Schiff 1', 'MSC Poesia', 'MSC Musica', 'Amadea', 'Ocean Majesty', 'Deutschland', 'Columbus 2', 'Eurodam', 'Astor', 'Black Watch', 'MSC Poesia', 'MSC Musica', 'Azamara Quest'], ['Ostseekai', 'Ostseekai', 'Ostseekai', 'Ostseekai', 'Norwegenkai', 'Ostseekai', 'Norwegenkai', 'Ostseekai', 'Ostseekai', 'Ostuferhafen', 'Ostseekai', 'Ostseekai', 'Ostseekai', 'Ostseekai', 'Ostseekai', 'Norwegenkai', 'Ostseekai', 'Norwegenkai', 'Ostseekai', 'Ostseekai', 'Ostseekai', 'Ostseekai', 'Ostseekai', 'Ostseekai', 'Norwegenkai', 'Norwegenkai', 'Ostseekai', 'Ostseekai', 'Norwegenkai', 'Ostuferhafen', 'Ostseekai', 'Ostseekai', 'Ostseekai']], [['Di', 'Do', 'Sa', 'So', 'Di', 'Di', 'Di', 'Do', 'Sa', 'Sa', 'So', 'So', 'Mi', 'Do', 'Fr', 'Fr', 'Sa', 'So', 'So', 'Mo', 'Mo', 'Mi', 'Sa', 'So'], ['02.07.13  08:00', '04.07.13  07:00', '06.07.13  10:00', '07.07.13  08:00', '09.07.13  07:00', '09.07.13  07:00', '09.07.13  08:00', '11.07.13  10:00', '13.07.13  07:30', '13.07.13  10:00', '14.07.13  07:00', '14.07.13  08:00', '17.07.13  09:00', '18.07.13  07:00', '19.07.13  07:00', '19.07.13  08:00', '20.07.13  10:00', '21.07.13  07:00', '21.07.13  08:00', '22.07.13  07:00', '22.07.13  07:00', '24.07.13  08:30', '27.07.13  10:00', '28.07.13  08:00'], ['02.07.13  17:00', '04.07.13  19:00', '06.07.13  18:00', '07.07.13  16:00', '09.07.13  17:00', '09.07.13  18:00', '09.07.13  23:00', '11.07.13  14:00', '13.07.13  17:30', '13.07.13  18:00', '14.07.13  19:00', '14.07.13  16:00', '17.07.13  19:00', '18.07.13  17:00', '19.07.13  17:00', '19.07.13  17:00', '20.07.13  18:00', '21.07.13  18:00', '21.07.13  16:00', '22.07.13  19:00', '22.07.13  18:00', '24.07.13  15:00', '27.07.13  18:00', '28.07.13  16:00'], ['AIDAcara', 'Mein Schiff 1', 'MSC Poesia', 'MSC Musica', 'Eurodam', 'Columbus 2', 'Rotterdam', 'Ocean Majesty', 'Astor', 'MSC Poesia', 'Mein Schiff 1', 'MSC Musica', 'FTI Berlin', 'Rotterdam', 'Eurodam', 'AIDAcara', 'MSC Poesia', 'Columbus 2', 'MSC Musica', 'Mein Schiff 1', 'Europa', 'Ocean Majesty', 'MSC Poesia', 'MSC Musica'], ['Ostseekai', 'Ostseekai', 'Ostseekai', 'Ostseekai', 'Ostseekai', 'Norwegenkai', 'Ostseekai', 'Norwegenkai', 'Norwegenkai', 'Ostseekai', 'Ostseekai', 'Ostseekai', 'Ostseekai', 'Ostseekai', 'Ostseekai', 'Ostseekai', 'Ostseekai', 'Norwegenkai', 'Ostseekai', 'Ostseekai', 'Ostseekai', 'Norwegenkai', 'Ostseekai', 'Ostseekai']], [['Fr', 'Sa', 'So', 'Mo', 'Sa', 'Sa', 'Sa', 'So', 'Mo', 'Do', 'Sa', 'So', 'Mi', 'Do', 'Sa', 'Sa', 'So', 'So', 'Di', 'Fr', 'Sa'], ['02.08.13  07:00', '03.08.13  10:00', '04.08.13  08:00', '05.08.13  08:00', '10.08.13  08:00', '10.08.13  10:00', '10.08.13  16:00', '11.08.13  08:00', '12.08.13  07:00', '15.08.13  08:00', '17.08.13  10:00', '18.08.13  08:00', '21.08.13  07:00', '22.08.13  07:00', '24.08.13  08:00', '24.08.13  10:00', '25.08.13  08:00', '25.08.13  08:00', '27.08.13  08:00', '30.08.13  07:00', '31.08.13  10:00'], ['02.08.13  19:00', '03.08.13  18:00', '04.08.13  16:00', '05.08.13  17:00', '10.08.13  17:00', '10.08.13  18:00', '10.08.13  18:00', '11.08.13  16:00', '12.08.13  19:00', '15.08.13  17:00', '17.08.13  18:00', '18.08.13  16:00', '21.08.13  19:00', '22.08.13  19:00', '24.08.13  17:00', '24.08.13  18:00', '25.08.13  16:00', '25.08.13  17:00', '27.08.13  18:00', '30.08.13  19:00', '31.08.13  18:00'], ['Mein Schiff 1', 'MSC Poesia', 'MSC Musica', 'AIDAcara', 'AIDAcara', 'MSC Poesia', 'Ocean Majesty', 'MSC Musica', 'Mein Schiff 1', 'Costa Pacifica', 'MSC Poesia', 'MSC Musica', 'Europa', 'Mein Schiff 1', 'AIDAcara', 'MSC Poesia', 'MSC Musica', 'Costa Pacifica', 'Hamburg', 'Mein Schiff 1', 'MSC Poesia'], ['Ostseekai', 'Ostseekai', 'Ostseekai', 'Ostseekai', 'Ostseekai', 'Ostseekai', 'Norwegenkai', 'Ostseekai', 'Ostseekai', 'Ostseekai', 'Ostseekai', 'Ostseekai', 'Ostseekai', 'Ostseekai', 'Ostseekai', 'Ostseekai', 'Ostseekai', 'Ostseekai', 'Ostseekai', 'Ostseekai', 'Ostseekai']]]\n"
     ]
    }
   ],
   "source": [
    "#create df from each sublist\n",
    "dataframes = []\n",
    "for sublist in sublists4:\n",
    "    print(sublist)\n",
    "    break"
   ]
  },
  {
   "cell_type": "code",
   "execution_count": 16,
   "metadata": {},
   "outputs": [
    {
     "name": "stdout",
     "output_type": "stream",
     "text": [
      "[['Sa', 'Mi', 'Sa', 'Di', 'Mi', 'Do', 'Sa', 'So', 'Di'], ['13.04.13  08:00', '17.04.13  08:00', '20.04.13  08:00', '23.04.13  07:30', '24.04.13  08:00', '25.04.13  10:00', '27.04.13  08:00', '28.04.13  10:00', '30.04.13  08:00'], ['13.04.13  17:00', '17.04.13  17:00', '20.04.13  17:00', '23.04.13  17:30', '24.04.13  17:00', '25.04.13  16:00', '27.04.13  17:00', '28.04.13  16:00', '30.04.13  23:00'], ['AIDAcara', 'AIDAcara', 'AIDAcara', 'Astor', 'AIDAcara', 'MSC Musica', 'AIDAcara', 'MSC Musica', 'Rotterdam'], ['Ostseekai', 'Ostseekai', 'Ostseekai', 'Norwegenkai', 'Ostseekai', 'Ostseekai', 'Ostseekai', 'Ostseekai', 'Ostseekai']]\n",
      "    0                1                2           3            4\n",
      "0  Sa  13.04.13  08:00  13.04.13  17:00    AIDAcara    Ostseekai\n",
      "1  Mi  17.04.13  08:00  17.04.13  17:00    AIDAcara    Ostseekai\n",
      "2  Sa  20.04.13  08:00  20.04.13  17:00    AIDAcara    Ostseekai\n",
      "3  Di  23.04.13  07:30  23.04.13  17:30       Astor  Norwegenkai\n",
      "4  Mi  24.04.13  08:00  24.04.13  17:00    AIDAcara    Ostseekai\n",
      "5  Do  25.04.13  10:00  25.04.13  16:00  MSC Musica    Ostseekai\n",
      "6  Sa  27.04.13  08:00  27.04.13  17:00    AIDAcara    Ostseekai\n",
      "7  So  28.04.13  10:00  28.04.13  16:00  MSC Musica    Ostseekai\n",
      "8  Di  30.04.13  08:00  30.04.13  23:00   Rotterdam    Ostseekai\n"
     ]
    }
   ],
   "source": [
    "#create a new list out of the first 5 sublists\n",
    "# Initialize variables\n",
    "list_of_5 = []\n",
    "# Iterate through the sublists\n",
    "for i, sublist in enumerate(sublists2):\n",
    "    # Create a new list out of the first 5 sublists\n",
    "    if i < 5:\n",
    "        list_of_5.append(sublist)\n",
    "\n",
    "print(list_of_5)\n",
    "\n",
    "df = pd.DataFrame(list_of_5)\n",
    "df = df.transpose()\n",
    "print(df)"
   ]
  },
  {
   "cell_type": "code",
   "execution_count": 17,
   "metadata": {},
   "outputs": [
    {
     "name": "stdout",
     "output_type": "stream",
     "text": [
      "  Day      Arival_date   Departure_date        Ship     Location\n",
      "0  Sa  13.04.13  08:00  13.04.13  17:00    AIDAcara    Ostseekai\n",
      "1  Mi  17.04.13  08:00  17.04.13  17:00    AIDAcara    Ostseekai\n",
      "2  Sa  20.04.13  08:00  20.04.13  17:00    AIDAcara    Ostseekai\n",
      "3  Di  23.04.13  07:30  23.04.13  17:30       Astor  Norwegenkai\n",
      "4  Mi  24.04.13  08:00  24.04.13  17:00    AIDAcara    Ostseekai\n",
      "5  Do  25.04.13  10:00  25.04.13  16:00  MSC Musica    Ostseekai\n",
      "6  Sa  27.04.13  08:00  27.04.13  17:00    AIDAcara    Ostseekai\n",
      "7  So  28.04.13  10:00  28.04.13  16:00  MSC Musica    Ostseekai\n",
      "8  Di  30.04.13  08:00  30.04.13  23:00   Rotterdam    Ostseekai\n"
     ]
    }
   ],
   "source": [
    "#clean the dataframe\n",
    "# get column names\n",
    "column_names = ['Day', 'Arival_date', 'Departure_date', 'Ship', 'Location']\n",
    "df.columns = column_names\n",
    "print(df)\n"
   ]
  },
  {
   "cell_type": "code",
   "execution_count": null,
   "metadata": {},
   "outputs": [],
   "source": []
  }
 ],
 "metadata": {
  "kernelspec": {
   "display_name": "Python 3",
   "language": "python",
   "name": "python3"
  },
  "language_info": {
   "codemirror_mode": {
    "name": "ipython",
    "version": 3
   },
   "file_extension": ".py",
   "mimetype": "text/x-python",
   "name": "python",
   "nbconvert_exporter": "python",
   "pygments_lexer": "ipython3",
   "version": "3.12.1"
  }
 },
 "nbformat": 4,
 "nbformat_minor": 2
}
