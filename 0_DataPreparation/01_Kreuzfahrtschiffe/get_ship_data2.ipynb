{
 "cells": [
  {
   "cell_type": "markdown",
   "metadata": {},
   "source": [
    "hier einmal die hoffentlich schöne Version des Notebooks, welches es erlaubt alle Anläufe von Kreuzfahrtschiffen in Kiel herunterzuladen. \n",
    "Quelle:https://kreuzfahrtschiffehamburg.de/hafen-kiel/"
   ]
  },
  {
   "cell_type": "code",
   "execution_count": 82,
   "metadata": {},
   "outputs": [],
   "source": [
    "import pandas as pd\n",
    "import numpy as np  \n",
    "import matplotlib.pyplot as plt\n",
    "import requests\n",
    "from bs4 import BeautifulSoup"
   ]
  },
  {
   "cell_type": "code",
   "execution_count": 83,
   "metadata": {},
   "outputs": [],
   "source": [
    "#define function to get the data from the website\n",
    "def get_data(year):\n",
    "    url = f'https://kreuzfahrtschiffehamburg.de/kiel-{year}/'\n",
    "    response = requests.get(url)\n",
    "    html_content = response.text\n",
    "    #parse the html content\n",
    "    soup = BeautifulSoup(html_content, \"lxml\")\n",
    "    #text = soup.get_text()\n",
    "    # Extract text from all paragraphs\n",
    "    paragraphs = soup.find_all('p')\n",
    "    paragraphs = [p.get_text() for p in paragraphs]\n",
    "    #print(paragraphs)\n",
    "\n",
    "\n",
    "    #I want to remove \\xa0 \\xa from the text\n",
    "\n",
    "    removed =[]\n",
    "    for p in paragraphs:\n",
    "        text = p.replace('\\xa0', ' ')\n",
    "        #text = text.strip()\n",
    "        #text = text.split('\\n')\n",
    "        removed.append(text)\n",
    "\n",
    "    #print(removed)\n",
    "\n",
    "    #remove first 7 elements\n",
    "    removed = removed[2:]\n",
    "    removed = removed[:-4]\n",
    "    #print(removed)\n",
    "\n",
    "    return removed"
   ]
  },
  {
   "cell_type": "code",
   "execution_count": 84,
   "metadata": {},
   "outputs": [],
   "source": [
    "#define function to clean the data\n",
    "def split_list_by_word(input_list, split_word):\n",
    "    \"\"\"\n",
    "    Splits a list into sublists each time the split_word is encountered.\n",
    "\n",
    "    Parameters:\n",
    "    input_list (list): The list to be split.\n",
    "    split_word (str): The word to split the list by.\n",
    "\n",
    "    Returns:\n",
    "    list: A list of sublists.\n",
    "    \"\"\"\n",
    "    sublists = []\n",
    "    temp_list = []\n",
    "\n",
    "    for entry in input_list:\n",
    "        if split_word in entry:\n",
    "            if temp_list:\n",
    "                sublists.append(temp_list)\n",
    "                temp_list = []\n",
    "        temp_list.append(entry)\n",
    "\n",
    "    if temp_list:\n",
    "        sublists.append(temp_list)\n",
    "\n",
    "    \n",
    "    print(sublists)\n",
    "\n",
    "    return sublists\n",
    "\n"
   ]
  },
  {
   "cell_type": "code",
   "execution_count": 85,
   "metadata": {},
   "outputs": [],
   "source": [
    "#delete the first 5 elements of each sublist\n",
    "def remove_first_entries(sublists):\n",
    "    sublists_cleaned = []\n",
    "    for list in sublists:\n",
    "        list = list[5:]\n",
    "        sublists_cleaned.append(list)\n",
    "\n",
    "    print(sublists_cleaned)\n",
    "    return sublists_cleaned"
   ]
  },
  {
   "cell_type": "code",
   "execution_count": 86,
   "metadata": {},
   "outputs": [],
   "source": [
    "#define function to get numbers of entries in each sublist\n",
    "def get_numbers(sublists_cleaned):\n",
    "    rows = []\n",
    "    for sublist in sublists_cleaned:\n",
    "        #get the indices of the days of the week\n",
    "        indices = [i for i, x in enumerate(sublist) if x in ['Mo', 'Di', 'Mi', 'Do', 'Fr', 'Sa', 'So']]\n",
    "        if not indices:\n",
    "            continue  # skip sublist if no days of the week are found\n",
    "        #print(indices)\n",
    "        #add up the indices to get the number of rows in each dataframe\n",
    "        numbers = len(indices)\n",
    "        rows.append(numbers)\n",
    "        \n",
    "    print(rows)\n",
    "    return rows\n",
    "    #print(rows)"
   ]
  },
  {
   "cell_type": "code",
   "execution_count": 87,
   "metadata": {},
   "outputs": [
    {
     "data": {
      "text/plain": [
       "\"\\n    # Concatenate the dataframes\\n    df_complete = pd.concat(dataframes, ignore_index=True)\\n\\n    #reshape the arrival and departure dates\\n    df_final = df_complete\\n    print(type(df_complete['Arrival_date']))\\n    df_final['Arrival_date'] = df_complete['Arrival_date'].str.split(' ').str[0]\\n    df_final['Departure_date'] = df_complete['Departure_date'].str.split(' ').str[0]\\n    print(df_final)\\n    return df_complete\\n\""
      ]
     },
     "execution_count": 87,
     "metadata": {},
     "output_type": "execute_result"
    }
   ],
   "source": [
    "#define function to create the df and concatenate the data\n",
    "def create_df(sublists, rows):\n",
    "    dataframes = []\n",
    "    for list,number in zip(sublists, rows):\n",
    "        print(list)\n",
    "        print(number)\n",
    "        #split list in chunks\n",
    "        #chunks = [list[i:i + number] for i in range(0, len(list), number)]\n",
    "        #df = pd.DataFrame(chunks).transpose()\n",
    "        # Rename columns for clarity\n",
    "        #df.columns = ['Weekday','Arrival_date', 'Departure_date','Ship','Pier']\n",
    "        #dataframes.append(df)\n",
    "'''\n",
    "    # Concatenate the dataframes\n",
    "    df_complete = pd.concat(dataframes, ignore_index=True)\n",
    "\n",
    "    #reshape the arrival and departure dates\n",
    "    df_final = df_complete\n",
    "    print(type(df_complete['Arrival_date']))\n",
    "    df_final['Arrival_date'] = df_complete['Arrival_date'].str.split(' ').str[0]\n",
    "    df_final['Departure_date'] = df_complete['Departure_date'].str.split(' ').str[0]\n",
    "    print(df_final)\n",
    "    return df_complete\n",
    "'''\n",
    "   "
   ]
  },
  {
   "cell_type": "code",
   "execution_count": 88,
   "metadata": {},
   "outputs": [],
   "source": [
    "#define function to save the df to a csv file\n",
    "def save_df(df, year):\n",
    "    df.to_csv(f'kiel_{year}.csv', index=False)"
   ]
  },
  {
   "cell_type": "markdown",
   "metadata": {},
   "source": [
    "Nun habe ich alle funktionen erstellt. Es sollte nun möglich sein für jedes Jahr die Daten runter zu laden und als csv Dateien abzuspeichern"
   ]
  },
  {
   "cell_type": "code",
   "execution_count": 89,
   "metadata": {},
   "outputs": [
    {
     "name": "stdout",
     "output_type": "stream",
     "text": [
      "[['Tag', 'Ankunft   Uhrzeit', 'Abfahrt   Uhrzeit', 'Schiff', 'Liegeplatz', 'So', '31.03.12  08:00', '31.03.12  17:00', 'AIDAcara', 'Ostseekai'], ['Tag', 'Ankunft   Uhrzeit', 'Abfahrt   Uhrzeit', 'Schiff', 'Liegeplatz', 'So', 'So', 'So', 'So', 'So', '07.04.12  08:00', '14.04.12  08:00', '21.04.12  08:00', '28.04.12  08:00', '28.04.12  08:00', '07.04.12  17:00', '14.04.12  17:00', '21.04.12  17:00', '28.04.12  17:00', '28.04.12  16:00', 'AIDAcara', 'AIDAcara', 'AIDAcara', 'AIDAcara', 'MSC Lirica', 'Ostseekai', 'Ostseekai', 'Ostseekai', 'Ostseekai', 'Ostseekai'], ['Tag', 'Ankunft   Uhrzeit', 'Abfahrt   Uhrzeit', 'Schiff', 'Liegeplatz', 'Mi', 'Do', 'Sa', 'Sa', 'So', 'Mo', 'Mo', 'Do', 'Sa', 'Sa', 'Mo', 'Di', 'Di', 'Do', 'Sa', 'Sa', 'Sa', 'So', 'Di', 'Mi', 'Do', 'Fr', 'Sa', 'Sa', 'Sa', 'Mi', '02.05.12  08:00', '03.05.12  09:00', '05.05.12  08:00', '05.05.12  10:00', '06.05.12  09:00', '07.05.12  07:00', '07.05.12  09:00', '10.05.12  10:00', '12.05.12  08:00', '12.05.12  10:00', '14.05.12  08:00', '15.05.12  08:00', '15.05.12  09:00', '17.05.12  07:00', '19.05.12  08:00', '19.05.12  09:00', '19.05.12  10:00', '20.05.12  07:00', '22.05.12  08:00', '23.05.12  10:00', '24.05.12  08:00', '25.05.12  09:00', '26.05.12  08:00', '26.05.12  10:00', '26.05.12  10:00', '30.05.12  07:00', '02.05.12  17:00', '03.05.12  16:00', '05.05.12  17:00', '05.05.12  18:00', '06.05.12  17:00', '07.05.12  19:00', '07.05.12  16:00', '10.05.12  15:00', '12.05.12  17:00', '12.05.12  18:00', '14.05.12  17:00', '15.05.12  20:00', '15.05.12  19:00', '17.05.12  19:00', '19.05.12  17:00', '19.05.12  15:00', '19.05.12  18:00', '20.05.12  19:00', '22.05.12  17:00', '23.05.12  18:00', '24.05.12  17:00', '25.05.12  19:00', '26.05.12  17:00', '26.05.12  15:00', '26.05.12  18:00', '30.05.12  19:00', 'AIDAcara', 'MSC Lirica', 'AIDAcara', 'MSC Poesia', 'Delphin', 'Mein Schiff 2', 'MSC Lirica', 'Princess Daphne', 'AIDAcara', 'MSC Poesia', 'Delphin', 'AIDAcara', 'Artania', 'Mein Schiff 2', 'AIDAcara', 'Princess Daphne', 'MSC Poesia', 'Mein Schiff 2', 'AIDAcara', 'Delphin', 'Costa Pacifica', 'Artania', 'AIDAcara', 'Princess Daphne', 'MSC Poesia', 'Mein Schiff 2', 'Ostseekai', 'Ostseekai', 'Ostseekai', 'Ostseekai', 'Norwegenkai', 'Ostseekai', 'Ostseekai', 'Norwegenkai', 'Ostseekai', 'Ostseekai', 'Norwegenkai', 'Ostseekai', 'Ostseekai', 'Ostseekai', 'Ostseekai', 'Norwegenkai', 'Ostseekai', 'Ostseekai', 'Ostseekai', 'Norwegenkai', 'Ostseekai', 'Ostseekai', 'Ostseekai', 'Norwegenkai', 'Ostseekai', 'Ostseekai'], ['Tag', 'Ankunft   Uhrzeit', 'Abfahrt   Uhrzeit', 'Schiff', 'Liegeplatz', 'Sa', 'Sa', 'So', 'So', 'Mo', 'Mo', 'Di', 'Do', 'Sa', 'Sa', 'Fr', 'Sa', 'So', 'So', 'So', 'Di', 'Mi', 'Fr', 'Fr', 'Fr', 'Sa', 'Sa', 'Sa', 'So', 'Di', 'Fr', 'Sa', '02.06.12  08:00', '02.06.12  10:00', '03.06.12  08:00', '03.06.12  09.00', '04.06.12  07:00', '04.06.12  09:00', '05.06.12  09:00', '07.06.12  07:00', '09.06.12  08:00', '09.06.12  10:00', '15.06.12  08:00', '16.06.12  10:00', '17.06.12  07:00', '17.06.12  09:00', '17.06.12  11:00', '19.06.12  08:00', '20.06.12  07:00', '22.06.12  07:00', '22.06.12  08:00', '22.06.12  09:00', '23.06.12  08:00', '23.06.12  09:00', '23.06.12  10:00', '24.06.12  08:00', '26.06.12  06:00', '29.06.12  11:00', '30.06.12  10:00', '02.06.12  17:00', '02.06.12  18:00', '03.06.12  17:00', '03.06.12  16.00', '04.06.12  19:00', '04.06.12  19:00', '05.06.12  15:00', '07.06.12  19:00', '09.06.12  17:00', '09.06.12  18:00', '15.06.12  18:00', '16.06.12  18:00', '17.06.12  19:00', '17.06.12  16:00', '17.06.12  15:00', '19.06.12  23:00', '20.06.12  20:00', '22.06.12  18:00', '22.06.12  18:00', '22.06.12  19:00', '23.06.12  17:00', '23.06.12  20:00', '23.06.12  18:00', '24.06.12  16:00', '26.06.12  17:00', '29.06.12  15:00', '30.06.12  18:00', 'AIDAcara', 'MSC Poesia', 'Costa Pacifica', 'MSC Magnifica', 'Delphin', 'Artania', 'Princess Daphne', 'Mein Schiff 2', 'AIDAcara', 'MSC Poesia', 'Eurodam', 'MSC Poesia', 'Mein Schiff 2', 'MSC Magnifica', 'Princess Daphne', 'Rotterdam', 'Columbus 2', 'Star Flyer', 'Hamburg', 'Artania', 'AIDAcara', 'Star Flyer', 'MSC Poesia', 'MSC Magnifica', 'Black Watch', 'Princess Daphne', 'MSC Poesia', 'Ostseekai', 'Ostseekai', 'Ostseekai', 'Ostseekai', 'Norwegenkai', 'Ostseekai', 'Ostseekai', 'Ostseekai', 'Ostseekai', 'Ostseekai', 'Ostseekai', 'Ostseekai', 'Ostseekai', 'Ostseekai', 'Norwegenkai', 'Ostseekai', 'Ostseekai', 'Norwegenkai', 'Ostseekai', 'Ostseekai', 'Ostseekai', 'Norwegenkai', 'Ostseekai', 'Ostseekai', 'Ostseekai', 'Ostseekai', 'Ostseekai'], ['Tag', 'Ankunft   Uhrzeit', 'Abfahrt   Uhrzeit', 'Schiff', 'Liegeplatz', 'So', 'So', 'Mo', 'Di', 'Do', 'Sa', 'So', 'Mo', 'Di', 'Di', 'Fr', 'Sa', 'So', 'Fr', 'Sa', 'Sa', 'So', 'Mo', 'Mo', 'Di', 'Fr', 'Fr', 'Sa', 'So', '01.07.12  07:00', '01.07.12  08:00', '02.07.12  07:00', '03.07.12  08:00', '05.07.12  07:00', '07.07.12  10:00', '08.07.12  08:00', '09.07.12  07:00', '10.07.12  08:00', '10.07.12  09:00', '13.07.12  08:00', '14.07.12  10:00', '15.07.12  08:00', '20.07.12  09:00', '21.07.12  07:00', '21.07.12  10:00', '22.07.12  08:00', '23.07.12  08:00', '23.07.12  07:00', '24.07.12  09:00', '27.07.12  07:30', '27.07.12  08:00', '28.07.12  10:00', '29.07.12  08:00', '01.07.12  19:00', '01.07.12  16:00', '02.07.12  18:00', '03.07.12  18:00', '05.07.12  19:00', '07.07.12  18:00', '08.07.12  16:00', '09.07.12  19:00', '10.07.12  19:00', '10.07.12  15:00', '13.07.12  18:00', '14.07.12  18:00', '15.07.12  16:00', '20.07.12  15:00', '21.07.12  18:00', '21.07.12  18:00', '22.07.12  16:00', '23.07.12  18:00', '23.07.12  17:00', '24.07.12  18:00', '27.07.12  19:30', '27.07.12  19:00', '28.07.12  18:00', '29.07.12  16:00', 'Mein Schiff 2', 'MSC Magnifica', 'Columbus 2', 'Eurodam', 'Europa', 'MSC Poesia', 'MSC Magnifica', 'Mein Schiff 2', 'AIDAcara', 'Princess Daphne', 'Eurodam', 'MSC Poesia', 'MSC Magnifica', 'Princess Daphne', 'Columbus 2', 'MSC Poesia', 'MSC Magnifica', 'Eurodam', 'Europa', 'Queen Elizabeth', 'Astor', 'AIDAcara', 'MSC Poesia', 'MSC Magnifica', 'Ostseekai', 'Ostseekai', 'Ostseekai', 'Ostseekai', 'Ostseekai', 'Ostseekai', 'Ostseekai', 'Ostseekai', 'Ostseekai', 'Ostseekai', 'Ostseekai', 'Ostseekai', 'Ostseekai', 'Norwegenkai', 'Ostseekai', 'Ostseekai', 'Ostseekai', 'Ostseekai', 'Ostseekai', 'Ostseekai', 'Norwegenkai', 'Ostseekai', 'Ostseekai', 'Ostseekai'], ['Tag', 'Ankunft   Uhrzeit', 'Abfahrt   Uhrzeit', 'Schiff', 'Liegeplatz', 'Do', 'Sa', 'Sa', 'So', 'Di', 'Di', 'Fr', 'Sa', 'So', 'So', 'Mo', 'Di', 'Di', 'Do', 'Fr', 'Sa', 'So', 'Di', 'Mi', 'Fr', 'Fr', 'Sa', 'So', 'So', 'Mo', 'Mo', 'Di', 'Fr', 'Fr', '02.08.12  07:00', '04.08.12  10:00', '04.08.12  14:00', '05.08.12  08:00', '07.08.12  08:00', '07.08.12  08:00', '10.08.12  08:00', '11.08.12  10:00', '12.08.12  08:00', '12.08.12  08:00', '13.08.12  08:00', '14.08.12  07:00', '14.08.12  08:00', '16.08.12  07:00', '17.08.12  08:00', '18.08.12  10:00', '19.09.12  08:00', '21.09.12  08:00', '22.08.12  08.00', '24.08.12  07:00', '24.08.12  08:00', '25.08.12  10:00', '26.08.12  07:00', '26.08.12  08:00', '27.08.12  08:00', '27.08.12  08:00', '28.08.12  07:00', '31.08.12  08:00', '31.08.12  08:00', '02.08.12  13:30', '04.08.12  18:00', '04.08.12  23:30', '05.08.12  06:00', '07.08.12  18:00', '07.08.12  18:00', '10.08.12  17:00', '11.08.12  18:00', '12.08.12  16:00', '12.08.12  18:00', '13.08.12  17:00', '14.08.12  19:00', '14.08.12  16:00', '16.08.12  19:00', '17.08.12  16:00', '18.08.12  18:00', '19.09.12  16:00', '21.09.12  17:00', '22.08.12  17:00', '24.08.12  23:00', '24.08.12  17:00', '25.08.12  18:00', '26.08.12  19:00', '26.08.12  16:00', '27.08.12  17:00', '27.08.12  18:00', '28.08.12  19:00', '31.08.12  20:00', '31.08.12  20:00', 'Columbus 2', 'MSC Poesia', 'Gann', 'MSC Magnifica', 'Eurodam', 'Hamburg', 'Costa Pacifica', 'MSC Poesia', 'MSC Magnifica', 'Europa', 'AIDAcara', 'Columbus 2', 'Delphin', 'Mein Schiff 2', 'Hamburg', 'MSC Poesia', 'MSC Magnifica', 'Costa Pacifica', 'Arion', 'Europa', 'Thomson Spirit', 'MSC Poesia', 'Mein Schiff 2', 'MSC Magnifica', 'AIDAcara', 'Delphin', 'Europa', 'AIDAcara', 'Deutschland', 'Ostseekai', 'Ostseekai', 'Ostseekai', 'Ostseekai', 'Ostseekai', 'Ostseekai', 'Ostseekai', 'Ostseekai', 'Ostseekai', 'Ostseekai', 'Ostseekai', 'Ostseekai', 'Norwegenkai', 'Ostseekai', 'Ostseekai', 'Ostseekai', 'Ostseekai', 'Ostseekai', 'Norwegenkai', 'Ostseekai', 'Ostseekai', 'Ostseekai', 'Ostseekai', 'Ostseekai', 'Ostseekai', 'Norwegenkai', 'Ostseekai', 'Ostseekai', 'Ostseekai'], ['Tag', 'Ankunft   Uhrzeit', 'Abfahrt   Uhrzeit', 'Schiff', 'Liegeplatz', 'Sa', 'Sa', 'So', 'Mo', 'Mo', 'Di', 'Di', 'Mi', 'Sa', 'Sa', 'Sa', 'So', 'Fr', 'Fr', 'Sa', 'So', 'Sa', 'Sa', '01.09.12  08:00', '01.09.12  10:00', '02.09.12  08:00', '03.09.12  06:00', '03.09.12  07:30', '04.09.12  08:00', '04.09.12  08:00', '05.09.12  07:00', '08.09.12  08:00', '08.09.12  08:00', '08.09.12  10:00', '09.09.12  08:00', '14.09.12  06:00', '14.09.12  07:30', '15.09.12  08:00', '16.09.12  08:00', '22.09.12  08:00', '29.09.12  08:00', '01.09.12  17:00', '01.09.12  18:00', '02.09.12  16:00', '03.09.12  20:00', '03.09.12  17:30', '04.09.12  17:00', '04.09.12  18:00', '05.09.12  19:00', '08.09.12  17:00', '08.09.12  20:00', '08.09.12  18:00', '09.09.12  16:00', '14.09.12  18:00', '14.09.12  17:30', '15.09.12  17:00', '16.09.12  16:00', '22.09.12  17:00', '29.09.12  17:00', 'Costa Pacifica', 'MSC Poesia', 'MSC Magnifica', 'Deutschland', 'Astor', 'AIDAcara', 'Hamburg', 'Mein Schiff 2', 'AIDAcara', 'Delphin', 'MSC Poesia', 'MSC Magnifica', 'Thomson Spirit', 'Astor', 'AIDAcara', 'MSC Magnifica', 'AIDAcara', 'AIDAcara', 'Ostseekai', 'Ostseekai', 'Ostseekai', 'Ostseekai', 'Norwegenkai', 'Ostseekai', 'Ostseekai', 'Ostseekai', 'Ostseekai', 'Norwegenkai', 'Ostseekai', 'Ostseekai', 'Ostseekai', 'Norwegenkai', 'Ostseekai', 'Ostseekai', 'Ostseekai', 'Ostseekai'], ['Tag', 'Ankunft   Uhrzeit', 'Abfahrt   Uhrzeit', 'Schiff', 'Liegeplatz', 'Sa', 'Di', '06.10.12  08:00', '09.10.12  08:00', '06.10.12  17:00', '09.10.12  17:00', 'AIDAcara', 'AIDAcara', 'Ostseekai', 'Ostseekai'], ['Tag', 'Ankunft   Uhrzeit', 'Abfahrt   Uhrzeit', 'Schiff', 'Liegeplatz', 'So', 'Sa', '02.12.12  07:30', '15.12.12  15:00', '02.12.12  14:00', '15.12.12  22:00', 'Black Watch', 'Amadea', 'Ostseekai']]\n",
      "[['So', '31.03.12  08:00', '31.03.12  17:00', 'AIDAcara', 'Ostseekai'], ['So', 'So', 'So', 'So', 'So', '07.04.12  08:00', '14.04.12  08:00', '21.04.12  08:00', '28.04.12  08:00', '28.04.12  08:00', '07.04.12  17:00', '14.04.12  17:00', '21.04.12  17:00', '28.04.12  17:00', '28.04.12  16:00', 'AIDAcara', 'AIDAcara', 'AIDAcara', 'AIDAcara', 'MSC Lirica', 'Ostseekai', 'Ostseekai', 'Ostseekai', 'Ostseekai', 'Ostseekai'], ['Mi', 'Do', 'Sa', 'Sa', 'So', 'Mo', 'Mo', 'Do', 'Sa', 'Sa', 'Mo', 'Di', 'Di', 'Do', 'Sa', 'Sa', 'Sa', 'So', 'Di', 'Mi', 'Do', 'Fr', 'Sa', 'Sa', 'Sa', 'Mi', '02.05.12  08:00', '03.05.12  09:00', '05.05.12  08:00', '05.05.12  10:00', '06.05.12  09:00', '07.05.12  07:00', '07.05.12  09:00', '10.05.12  10:00', '12.05.12  08:00', '12.05.12  10:00', '14.05.12  08:00', '15.05.12  08:00', '15.05.12  09:00', '17.05.12  07:00', '19.05.12  08:00', '19.05.12  09:00', '19.05.12  10:00', '20.05.12  07:00', '22.05.12  08:00', '23.05.12  10:00', '24.05.12  08:00', '25.05.12  09:00', '26.05.12  08:00', '26.05.12  10:00', '26.05.12  10:00', '30.05.12  07:00', '02.05.12  17:00', '03.05.12  16:00', '05.05.12  17:00', '05.05.12  18:00', '06.05.12  17:00', '07.05.12  19:00', '07.05.12  16:00', '10.05.12  15:00', '12.05.12  17:00', '12.05.12  18:00', '14.05.12  17:00', '15.05.12  20:00', '15.05.12  19:00', '17.05.12  19:00', '19.05.12  17:00', '19.05.12  15:00', '19.05.12  18:00', '20.05.12  19:00', '22.05.12  17:00', '23.05.12  18:00', '24.05.12  17:00', '25.05.12  19:00', '26.05.12  17:00', '26.05.12  15:00', '26.05.12  18:00', '30.05.12  19:00', 'AIDAcara', 'MSC Lirica', 'AIDAcara', 'MSC Poesia', 'Delphin', 'Mein Schiff 2', 'MSC Lirica', 'Princess Daphne', 'AIDAcara', 'MSC Poesia', 'Delphin', 'AIDAcara', 'Artania', 'Mein Schiff 2', 'AIDAcara', 'Princess Daphne', 'MSC Poesia', 'Mein Schiff 2', 'AIDAcara', 'Delphin', 'Costa Pacifica', 'Artania', 'AIDAcara', 'Princess Daphne', 'MSC Poesia', 'Mein Schiff 2', 'Ostseekai', 'Ostseekai', 'Ostseekai', 'Ostseekai', 'Norwegenkai', 'Ostseekai', 'Ostseekai', 'Norwegenkai', 'Ostseekai', 'Ostseekai', 'Norwegenkai', 'Ostseekai', 'Ostseekai', 'Ostseekai', 'Ostseekai', 'Norwegenkai', 'Ostseekai', 'Ostseekai', 'Ostseekai', 'Norwegenkai', 'Ostseekai', 'Ostseekai', 'Ostseekai', 'Norwegenkai', 'Ostseekai', 'Ostseekai'], ['Sa', 'Sa', 'So', 'So', 'Mo', 'Mo', 'Di', 'Do', 'Sa', 'Sa', 'Fr', 'Sa', 'So', 'So', 'So', 'Di', 'Mi', 'Fr', 'Fr', 'Fr', 'Sa', 'Sa', 'Sa', 'So', 'Di', 'Fr', 'Sa', '02.06.12  08:00', '02.06.12  10:00', '03.06.12  08:00', '03.06.12  09.00', '04.06.12  07:00', '04.06.12  09:00', '05.06.12  09:00', '07.06.12  07:00', '09.06.12  08:00', '09.06.12  10:00', '15.06.12  08:00', '16.06.12  10:00', '17.06.12  07:00', '17.06.12  09:00', '17.06.12  11:00', '19.06.12  08:00', '20.06.12  07:00', '22.06.12  07:00', '22.06.12  08:00', '22.06.12  09:00', '23.06.12  08:00', '23.06.12  09:00', '23.06.12  10:00', '24.06.12  08:00', '26.06.12  06:00', '29.06.12  11:00', '30.06.12  10:00', '02.06.12  17:00', '02.06.12  18:00', '03.06.12  17:00', '03.06.12  16.00', '04.06.12  19:00', '04.06.12  19:00', '05.06.12  15:00', '07.06.12  19:00', '09.06.12  17:00', '09.06.12  18:00', '15.06.12  18:00', '16.06.12  18:00', '17.06.12  19:00', '17.06.12  16:00', '17.06.12  15:00', '19.06.12  23:00', '20.06.12  20:00', '22.06.12  18:00', '22.06.12  18:00', '22.06.12  19:00', '23.06.12  17:00', '23.06.12  20:00', '23.06.12  18:00', '24.06.12  16:00', '26.06.12  17:00', '29.06.12  15:00', '30.06.12  18:00', 'AIDAcara', 'MSC Poesia', 'Costa Pacifica', 'MSC Magnifica', 'Delphin', 'Artania', 'Princess Daphne', 'Mein Schiff 2', 'AIDAcara', 'MSC Poesia', 'Eurodam', 'MSC Poesia', 'Mein Schiff 2', 'MSC Magnifica', 'Princess Daphne', 'Rotterdam', 'Columbus 2', 'Star Flyer', 'Hamburg', 'Artania', 'AIDAcara', 'Star Flyer', 'MSC Poesia', 'MSC Magnifica', 'Black Watch', 'Princess Daphne', 'MSC Poesia', 'Ostseekai', 'Ostseekai', 'Ostseekai', 'Ostseekai', 'Norwegenkai', 'Ostseekai', 'Ostseekai', 'Ostseekai', 'Ostseekai', 'Ostseekai', 'Ostseekai', 'Ostseekai', 'Ostseekai', 'Ostseekai', 'Norwegenkai', 'Ostseekai', 'Ostseekai', 'Norwegenkai', 'Ostseekai', 'Ostseekai', 'Ostseekai', 'Norwegenkai', 'Ostseekai', 'Ostseekai', 'Ostseekai', 'Ostseekai', 'Ostseekai'], ['So', 'So', 'Mo', 'Di', 'Do', 'Sa', 'So', 'Mo', 'Di', 'Di', 'Fr', 'Sa', 'So', 'Fr', 'Sa', 'Sa', 'So', 'Mo', 'Mo', 'Di', 'Fr', 'Fr', 'Sa', 'So', '01.07.12  07:00', '01.07.12  08:00', '02.07.12  07:00', '03.07.12  08:00', '05.07.12  07:00', '07.07.12  10:00', '08.07.12  08:00', '09.07.12  07:00', '10.07.12  08:00', '10.07.12  09:00', '13.07.12  08:00', '14.07.12  10:00', '15.07.12  08:00', '20.07.12  09:00', '21.07.12  07:00', '21.07.12  10:00', '22.07.12  08:00', '23.07.12  08:00', '23.07.12  07:00', '24.07.12  09:00', '27.07.12  07:30', '27.07.12  08:00', '28.07.12  10:00', '29.07.12  08:00', '01.07.12  19:00', '01.07.12  16:00', '02.07.12  18:00', '03.07.12  18:00', '05.07.12  19:00', '07.07.12  18:00', '08.07.12  16:00', '09.07.12  19:00', '10.07.12  19:00', '10.07.12  15:00', '13.07.12  18:00', '14.07.12  18:00', '15.07.12  16:00', '20.07.12  15:00', '21.07.12  18:00', '21.07.12  18:00', '22.07.12  16:00', '23.07.12  18:00', '23.07.12  17:00', '24.07.12  18:00', '27.07.12  19:30', '27.07.12  19:00', '28.07.12  18:00', '29.07.12  16:00', 'Mein Schiff 2', 'MSC Magnifica', 'Columbus 2', 'Eurodam', 'Europa', 'MSC Poesia', 'MSC Magnifica', 'Mein Schiff 2', 'AIDAcara', 'Princess Daphne', 'Eurodam', 'MSC Poesia', 'MSC Magnifica', 'Princess Daphne', 'Columbus 2', 'MSC Poesia', 'MSC Magnifica', 'Eurodam', 'Europa', 'Queen Elizabeth', 'Astor', 'AIDAcara', 'MSC Poesia', 'MSC Magnifica', 'Ostseekai', 'Ostseekai', 'Ostseekai', 'Ostseekai', 'Ostseekai', 'Ostseekai', 'Ostseekai', 'Ostseekai', 'Ostseekai', 'Ostseekai', 'Ostseekai', 'Ostseekai', 'Ostseekai', 'Norwegenkai', 'Ostseekai', 'Ostseekai', 'Ostseekai', 'Ostseekai', 'Ostseekai', 'Ostseekai', 'Norwegenkai', 'Ostseekai', 'Ostseekai', 'Ostseekai'], ['Do', 'Sa', 'Sa', 'So', 'Di', 'Di', 'Fr', 'Sa', 'So', 'So', 'Mo', 'Di', 'Di', 'Do', 'Fr', 'Sa', 'So', 'Di', 'Mi', 'Fr', 'Fr', 'Sa', 'So', 'So', 'Mo', 'Mo', 'Di', 'Fr', 'Fr', '02.08.12  07:00', '04.08.12  10:00', '04.08.12  14:00', '05.08.12  08:00', '07.08.12  08:00', '07.08.12  08:00', '10.08.12  08:00', '11.08.12  10:00', '12.08.12  08:00', '12.08.12  08:00', '13.08.12  08:00', '14.08.12  07:00', '14.08.12  08:00', '16.08.12  07:00', '17.08.12  08:00', '18.08.12  10:00', '19.09.12  08:00', '21.09.12  08:00', '22.08.12  08.00', '24.08.12  07:00', '24.08.12  08:00', '25.08.12  10:00', '26.08.12  07:00', '26.08.12  08:00', '27.08.12  08:00', '27.08.12  08:00', '28.08.12  07:00', '31.08.12  08:00', '31.08.12  08:00', '02.08.12  13:30', '04.08.12  18:00', '04.08.12  23:30', '05.08.12  06:00', '07.08.12  18:00', '07.08.12  18:00', '10.08.12  17:00', '11.08.12  18:00', '12.08.12  16:00', '12.08.12  18:00', '13.08.12  17:00', '14.08.12  19:00', '14.08.12  16:00', '16.08.12  19:00', '17.08.12  16:00', '18.08.12  18:00', '19.09.12  16:00', '21.09.12  17:00', '22.08.12  17:00', '24.08.12  23:00', '24.08.12  17:00', '25.08.12  18:00', '26.08.12  19:00', '26.08.12  16:00', '27.08.12  17:00', '27.08.12  18:00', '28.08.12  19:00', '31.08.12  20:00', '31.08.12  20:00', 'Columbus 2', 'MSC Poesia', 'Gann', 'MSC Magnifica', 'Eurodam', 'Hamburg', 'Costa Pacifica', 'MSC Poesia', 'MSC Magnifica', 'Europa', 'AIDAcara', 'Columbus 2', 'Delphin', 'Mein Schiff 2', 'Hamburg', 'MSC Poesia', 'MSC Magnifica', 'Costa Pacifica', 'Arion', 'Europa', 'Thomson Spirit', 'MSC Poesia', 'Mein Schiff 2', 'MSC Magnifica', 'AIDAcara', 'Delphin', 'Europa', 'AIDAcara', 'Deutschland', 'Ostseekai', 'Ostseekai', 'Ostseekai', 'Ostseekai', 'Ostseekai', 'Ostseekai', 'Ostseekai', 'Ostseekai', 'Ostseekai', 'Ostseekai', 'Ostseekai', 'Ostseekai', 'Norwegenkai', 'Ostseekai', 'Ostseekai', 'Ostseekai', 'Ostseekai', 'Ostseekai', 'Norwegenkai', 'Ostseekai', 'Ostseekai', 'Ostseekai', 'Ostseekai', 'Ostseekai', 'Ostseekai', 'Norwegenkai', 'Ostseekai', 'Ostseekai', 'Ostseekai'], ['Sa', 'Sa', 'So', 'Mo', 'Mo', 'Di', 'Di', 'Mi', 'Sa', 'Sa', 'Sa', 'So', 'Fr', 'Fr', 'Sa', 'So', 'Sa', 'Sa', '01.09.12  08:00', '01.09.12  10:00', '02.09.12  08:00', '03.09.12  06:00', '03.09.12  07:30', '04.09.12  08:00', '04.09.12  08:00', '05.09.12  07:00', '08.09.12  08:00', '08.09.12  08:00', '08.09.12  10:00', '09.09.12  08:00', '14.09.12  06:00', '14.09.12  07:30', '15.09.12  08:00', '16.09.12  08:00', '22.09.12  08:00', '29.09.12  08:00', '01.09.12  17:00', '01.09.12  18:00', '02.09.12  16:00', '03.09.12  20:00', '03.09.12  17:30', '04.09.12  17:00', '04.09.12  18:00', '05.09.12  19:00', '08.09.12  17:00', '08.09.12  20:00', '08.09.12  18:00', '09.09.12  16:00', '14.09.12  18:00', '14.09.12  17:30', '15.09.12  17:00', '16.09.12  16:00', '22.09.12  17:00', '29.09.12  17:00', 'Costa Pacifica', 'MSC Poesia', 'MSC Magnifica', 'Deutschland', 'Astor', 'AIDAcara', 'Hamburg', 'Mein Schiff 2', 'AIDAcara', 'Delphin', 'MSC Poesia', 'MSC Magnifica', 'Thomson Spirit', 'Astor', 'AIDAcara', 'MSC Magnifica', 'AIDAcara', 'AIDAcara', 'Ostseekai', 'Ostseekai', 'Ostseekai', 'Ostseekai', 'Norwegenkai', 'Ostseekai', 'Ostseekai', 'Ostseekai', 'Ostseekai', 'Norwegenkai', 'Ostseekai', 'Ostseekai', 'Ostseekai', 'Norwegenkai', 'Ostseekai', 'Ostseekai', 'Ostseekai', 'Ostseekai'], ['Sa', 'Di', '06.10.12  08:00', '09.10.12  08:00', '06.10.12  17:00', '09.10.12  17:00', 'AIDAcara', 'AIDAcara', 'Ostseekai', 'Ostseekai'], ['So', 'Sa', '02.12.12  07:30', '15.12.12  15:00', '02.12.12  14:00', '15.12.12  22:00', 'Black Watch', 'Amadea', 'Ostseekai']]\n",
      "[1, 5, 26, 27, 24, 29, 18, 2, 2]\n"
     ]
    }
   ],
   "source": [
    "#lets try and get the data for 2012\n",
    "year = 2012\n",
    "removed = get_data(year)\n",
    "sublists = split_list_by_word(removed, 'Tag')\n",
    "sublists_cleaned = remove_first_entries(sublists)\n",
    "rows = get_numbers(sublists_cleaned)\n",
    "#df = create_df(sublists, rows)\n",
    "#save_df(df, year)\n",
    "\n",
    "\n"
   ]
  },
  {
   "cell_type": "code",
   "execution_count": null,
   "metadata": {},
   "outputs": [],
   "source": []
  }
 ],
 "metadata": {
  "kernelspec": {
   "display_name": "Python 3",
   "language": "python",
   "name": "python3"
  },
  "language_info": {
   "codemirror_mode": {
    "name": "ipython",
    "version": 3
   },
   "file_extension": ".py",
   "mimetype": "text/x-python",
   "name": "python",
   "nbconvert_exporter": "python",
   "pygments_lexer": "ipython3",
   "version": "3.12.1"
  }
 },
 "nbformat": 4,
 "nbformat_minor": 2
}
