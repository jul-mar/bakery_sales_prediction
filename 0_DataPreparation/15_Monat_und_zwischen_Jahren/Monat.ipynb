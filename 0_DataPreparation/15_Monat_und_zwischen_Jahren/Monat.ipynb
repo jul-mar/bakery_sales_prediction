{
 "cells": [
  {
   "cell_type": "code",
   "execution_count": 1,
   "metadata": {},
   "outputs": [
    {
     "name": "stdout",
     "output_type": "stream",
     "text": [
      "       Datum  Monat_1  Monat_2  Monat_3  Monat_4  Monat_5  Monat_6  Monat_7  \\\n",
      "0 2013-07-01        0        0        0        0        0        0        1   \n",
      "1 2013-07-02        0        0        0        0        0        0        1   \n",
      "2 2013-07-03        0        0        0        0        0        0        1   \n",
      "3 2013-07-04        0        0        0        0        0        0        1   \n",
      "4 2013-07-05        0        0        0        0        0        0        1   \n",
      "\n",
      "   Monat_8  Monat_9  Monat_10  Monat_11  Monat_12  zwischen_den_jahren  \n",
      "0        0        0         0         0         0                    0  \n",
      "1        0        0         0         0         0                    0  \n",
      "2        0        0         0         0         0                    0  \n",
      "3        0        0         0         0         0                    0  \n",
      "4        0        0         0         0         0                    0  \n",
      "Die Datei wurde erfolgreich erstellt.\n"
     ]
    }
   ],
   "source": [
    "import pandas as pd\n",
    "from datetime import timedelta\n",
    "\n",
    "# Start- und Enddatum definieren\n",
    "start_date = \"2013-07-01\"\n",
    "end_date = \"2019-07-31\"\n",
    "\n",
    "# Datumsbereich erstellen\n",
    "date_range = pd.date_range(start=start_date, end=end_date)\n",
    "\n",
    "# DataFrame erstellen\n",
    "data = {\"Datum\": date_range}\n",
    "df = pd.DataFrame(data)\n",
    "\n",
    "# Sicherstellen, dass \"Datum\" im Datumsformat ist\n",
    "df['Datum'] = pd.to_datetime(df['Datum'])\n",
    "\n",
    "# Monat aus der Datumsspalte extrahieren\n",
    "df['Monat'] = df['Datum'].dt.month\n",
    "\n",
    "# One-Hot-Encoding für die Monate erstellen\n",
    "one_hot_encoded = pd.get_dummies(df['Monat'], prefix='Monat', dtype = int)\n",
    "\n",
    "# Optional: Originale Monatsspalte entfernen\n",
    "df = df.drop(columns=['Monat'])\n",
    "\n",
    "# Ergebnis kombinieren\n",
    "df = pd.concat([df, one_hot_encoded], axis=1)\n",
    "\n",
    "# Spalte \"zwischen_den_jahren\" erstellen\n",
    "df['zwischen_den_jahren'] = df['Datum'].apply(\n",
    "    lambda x: 1 if (x.month == 12 and 27 <= x.day <= 31) else 0)\n",
    "\n",
    "print(df.head())\n",
    "\n",
    "# CSV-Datei speichern\n",
    "df.to_csv(\"Monate.csv\", index=False)\n",
    "\n",
    "print(\"Die Datei wurde erfolgreich erstellt.\")"
   ]
  }
 ],
 "metadata": {
  "kernelspec": {
   "display_name": ".venv",
   "language": "python",
   "name": "python3"
  },
  "language_info": {
   "codemirror_mode": {
    "name": "ipython",
    "version": 3
   },
   "file_extension": ".py",
   "mimetype": "text/x-python",
   "name": "python",
   "nbconvert_exporter": "python",
   "pygments_lexer": "ipython3",
   "version": "3.12.1"
  }
 },
 "nbformat": 4,
 "nbformat_minor": 2
}
