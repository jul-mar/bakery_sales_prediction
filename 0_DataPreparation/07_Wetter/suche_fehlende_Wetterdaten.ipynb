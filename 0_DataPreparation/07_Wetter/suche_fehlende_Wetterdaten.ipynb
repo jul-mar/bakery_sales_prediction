{
 "cells": [
  {
   "cell_type": "code",
   "execution_count": 37,
   "metadata": {},
   "outputs": [
    {
     "name": "stdout",
     "output_type": "stream",
     "text": [
      "(2601, 5)\n"
     ]
    }
   ],
   "source": [
    "import pandas as pd\n",
    "import numpy as np\n",
    "\n",
    "# Read the data (adjust the path as needed)\n",
    "df = pd.read_csv('/workspaces/bakery_sales_prediction/0_DataPreparation/07_Wetter/wetter.csv')\n",
    "print(df.shape)"
   ]
  },
  {
   "cell_type": "code",
   "execution_count": 38,
   "metadata": {},
   "outputs": [
    {
     "name": "stdout",
     "output_type": "stream",
     "text": [
      "Zeilen mit fehlenden Werten in den Spalten 'Bewoelkung', 'Temperatur' und 'Windgeschwindigkeit':\n",
      "          Datum  Bewoelkung  Temperatur  Windgeschwindigkeit  Wettercode\n",
      "1973 2017-10-30         NaN      8.1000                   11         NaN\n",
      "1974 2017-10-31         NaN      8.9250                    7         NaN\n",
      "1975 2017-11-01         NaN     12.9750                   12         NaN\n",
      "1976 2017-11-02         NaN     11.6875                   13         NaN\n",
      "1977 2017-11-03         NaN      9.4375                    7         NaN\n",
      "1978 2017-11-04         NaN     10.2625                    5         NaN\n",
      "1979 2017-11-05         NaN      9.8000                    8         NaN\n",
      "1980 2017-11-06         NaN      8.2125                    7         NaN\n",
      "1981 2017-11-07         NaN      6.7875                    5         NaN\n",
      "1982 2017-11-08         NaN      8.6250                    9         NaN\n",
      "\n",
      "Fehlende Tage im Datum:\n",
      "DatetimeIndex(['2016-12-11', '2017-10-04', '2017-10-05', '2018-09-08',\n",
      "               '2018-09-09', '2018-09-15', '2018-09-16', '2018-09-17',\n",
      "               '2018-09-18', '2018-09-19', '2018-09-20', '2018-10-13',\n",
      "               '2018-10-14', '2018-10-20', '2018-10-21', '2019-04-04'],\n",
      "              dtype='datetime64[ns]', freq=None)\n"
     ]
    }
   ],
   "source": [
    "# Konvertiere Datumsspalte in Datetime, um Zeitreihenanalyse zu ermöglichen\n",
    "df['Datum'] = pd.to_datetime(df['Datum'])\n",
    "\n",
    "# Suche nach fehlenden Werten in den spezifischen Spalten\n",
    "missing_values = df[df[['Bewoelkung', 'Temperatur', 'Windgeschwindigkeit']].isnull().any(axis=1)]\n",
    "\n",
    "# Fehlende Tage im Datum finden (ab 2013-07-01)\n",
    "start_date = pd.to_datetime('2013-07-01')\n",
    "full_date_range = pd.date_range(start=start_date, end=df['Datum'].max())\n",
    "missing_days = full_date_range.difference(df['Datum'])\n",
    "\n",
    "# Ergebnisse anzeigen\n",
    "print(\"Zeilen mit fehlenden Werten in den Spalten 'Bewoelkung', 'Temperatur' und 'Windgeschwindigkeit':\")\n",
    "print(missing_values)\n",
    "\n",
    "print(\"\\nFehlende Tage im Datum:\")\n",
    "print(missing_days)\n"
   ]
  },
  {
   "cell_type": "code",
   "execution_count": 39,
   "metadata": {},
   "outputs": [],
   "source": [
    "# fehlende Bewölkung 2017-10-30 bis 1017-11-08\n",
    "df.loc[df['Datum'] == '2017-10-30', 'Bewoelkung'] = 1\n",
    "df.loc[df['Datum'] == '2017-10-31', 'Bewoelkung'] = 8\n",
    "df.loc[df['Datum'] == '2017-11-01', 'Bewoelkung'] = 8\n",
    "df.loc[df['Datum'] == '2017-11-02', 'Bewoelkung'] = 5\n",
    "df.loc[df['Datum'] == '2017-11-03', 'Bewoelkung'] = 7\n",
    "df.loc[df['Datum'] == '2017-11-04', 'Bewoelkung'] = 6\n",
    "df.loc[df['Datum'] == '2017-11-05', 'Bewoelkung'] = 8\n",
    "df.loc[df['Datum'] == '2017-11-06', 'Bewoelkung'] = 2\n",
    "df.loc[df['Datum'] == '2017-11-07', 'Bewoelkung'] = 1\n",
    "df.loc[df['Datum'] == '2017-11-08', 'Bewoelkung'] = 5\n"
   ]
  },
  {
   "cell_type": "code",
   "execution_count": 40,
   "metadata": {},
   "outputs": [
    {
     "name": "stdout",
     "output_type": "stream",
     "text": [
      "Aktualisierter DataFrame:\n",
      "                    Datum  Bewoelkung  Temperatur  Windgeschwindigkeit  \\\n",
      "0     2012-01-01 00:00:00         8.0      9.8250                   14   \n",
      "1     2012-01-02 00:00:00         7.0      7.4375                   12   \n",
      "2     2012-01-03 00:00:00         8.0      5.5375                   18   \n",
      "3     2012-01-04 00:00:00         4.0      5.6875                   19   \n",
      "4     2012-01-05 00:00:00         6.0      5.3000                   23   \n",
      "...                   ...         ...         ...                  ...   \n",
      "2612           2018-10-13         1.0     23.0000                   13   \n",
      "2613           2018-10-14         1.0     21.0000                   14   \n",
      "2614           2018-10-20         3.0     13.4000                   10   \n",
      "2615           2018-10-21         8.0     14.1000                    9   \n",
      "2616           2019-04-04         4.0      9.3000                   12   \n",
      "\n",
      "      Wettercode  \n",
      "0           58.0  \n",
      "1            NaN  \n",
      "2           63.0  \n",
      "3           80.0  \n",
      "4           80.0  \n",
      "...          ...  \n",
      "2612         NaN  \n",
      "2613         NaN  \n",
      "2614         NaN  \n",
      "2615         NaN  \n",
      "2616         NaN  \n",
      "\n",
      "[2617 rows x 5 columns]\n"
     ]
    }
   ],
   "source": [
    "# Fehlende Tage auffüllen mit Wetterinformationen\n",
    "missing_days = [\n",
    "    '2016-12-11', '2017-10-04', '2017-10-05', '2018-09-08',\n",
    "    '2018-09-09', '2018-09-15', '2018-09-16', '2018-09-17',\n",
    "    '2018-09-18', '2018-09-19', '2018-09-20', '2018-10-13',\n",
    "    '2018-10-14', '2018-10-20', '2018-10-21', '2019-04-04'\n",
    "]\n",
    "\n",
    "# Beispielhafte Wetterdaten für die fehlenden Tage\n",
    "missing_data = [\n",
    "    {'Datum': '2016-12-11', 'Bewoelkung': 7, 'Temperatur': 5.9, 'Windgeschwindigkeit': 18},\n",
    "    {'Datum': '2017-10-04', 'Bewoelkung': 7, 'Temperatur': 11.0, 'Windgeschwindigkeit': 12},\n",
    "    {'Datum': '2017-10-05', 'Bewoelkung': 5, 'Temperatur': 11.0, 'Windgeschwindigkeit': 10},\n",
    "    {'Datum': '2018-09-08', 'Bewoelkung': 4, 'Temperatur': 17.8, 'Windgeschwindigkeit': 8},\n",
    "    {'Datum': '2018-09-09', 'Bewoelkung': 3, 'Temperatur': 19.0, 'Windgeschwindigkeit': 7},\n",
    "    {'Datum': '2018-09-15', 'Bewoelkung': 5, 'Temperatur': 16.0, 'Windgeschwindigkeit': 6},\n",
    "    {'Datum': '2018-09-16', 'Bewoelkung': 3, 'Temperatur': 18.0, 'Windgeschwindigkeit': 5},\n",
    "    {'Datum': '2018-09-17', 'Bewoelkung': 1, 'Temperatur': 20.0, 'Windgeschwindigkeit': 7},\n",
    "    {'Datum': '2018-09-18', 'Bewoelkung': 1, 'Temperatur': 28.0, 'Windgeschwindigkeit': 9},\n",
    "    {'Datum': '2018-09-19', 'Bewoelkung': 2, 'Temperatur': 24.0, 'Windgeschwindigkeit': 10},\n",
    "    {'Datum': '2018-09-20', 'Bewoelkung': 5, 'Temperatur': 21.0, 'Windgeschwindigkeit': 11},\n",
    "    {'Datum': '2018-10-13', 'Bewoelkung': 1, 'Temperatur': 23.0, 'Windgeschwindigkeit': 13},\n",
    "    {'Datum': '2018-10-14', 'Bewoelkung': 1, 'Temperatur': 21.0, 'Windgeschwindigkeit': 14},\n",
    "    {'Datum': '2018-10-20', 'Bewoelkung': 3, 'Temperatur': 13.4, 'Windgeschwindigkeit': 10},\n",
    "    {'Datum': '2018-10-21', 'Bewoelkung': 8, 'Temperatur': 14.1, 'Windgeschwindigkeit': 9},\n",
    "    {'Datum': '2019-04-04', 'Bewoelkung': 4, 'Temperatur': 9.3, 'Windgeschwindigkeit': 12}\n",
    "]\n",
    "\n",
    "# Hinzufügen der fehlenden Wetterdaten\n",
    "df_missing = pd.DataFrame(missing_data)\n",
    "df = pd.concat([df, df_missing], ignore_index=True)\n",
    "\n",
    "# Ergebnisse anzeigen\n",
    "print(\"Aktualisierter DataFrame:\")\n",
    "print(df)"
   ]
  },
  {
   "cell_type": "code",
   "execution_count": 41,
   "metadata": {},
   "outputs": [
    {
     "name": "stdout",
     "output_type": "stream",
     "text": [
      "Zeilen mit fehlenden Werten in den Spalten 'Bewoelkung', 'Temperatur' und 'Windgeschwindigkeit':\n",
      "Empty DataFrame\n",
      "Columns: [Datum, Bewoelkung, Temperatur, Windgeschwindigkeit, Wettercode]\n",
      "Index: []\n",
      "\n",
      "Fehlende Tage im Datum:\n",
      "DatetimeIndex([], dtype='datetime64[ns]', freq='D')\n"
     ]
    }
   ],
   "source": [
    "# Konvertiere Datumsspalte in Datetime, um Zeitreihenanalyse zu ermöglichen\n",
    "df['Datum'] = pd.to_datetime(df['Datum'])\n",
    "\n",
    "# Suche nach fehlenden Werten in den spezifischen Spalten\n",
    "missing_values = df[df[['Bewoelkung', 'Temperatur', 'Windgeschwindigkeit']].isnull().any(axis=1)]\n",
    "\n",
    "# Fehlende Tage im Datum finden (ab 2013-07-01)\n",
    "start_date = pd.to_datetime('2013-07-01')\n",
    "full_date_range = pd.date_range(start=start_date, end=df['Datum'].max())\n",
    "missing_days = full_date_range.difference(df['Datum'])\n",
    "\n",
    "# Ergebnisse anzeigen\n",
    "print(\"Zeilen mit fehlenden Werten in den Spalten 'Bewoelkung', 'Temperatur' und 'Windgeschwindigkeit':\")\n",
    "print(missing_values)\n",
    "\n",
    "print(\"\\nFehlende Tage im Datum:\")\n",
    "print(missing_days)\n"
   ]
  },
  {
   "cell_type": "code",
   "execution_count": 42,
   "metadata": {},
   "outputs": [],
   "source": [
    "#CSV erstellen:\n",
    "df.to_csv('/workspaces/bakery_sales_prediction/0_DataPreparation/07_Wetter/wetter_corr.csv', index=False)"
   ]
  },
  {
   "cell_type": "code",
   "execution_count": null,
   "metadata": {},
   "outputs": [],
   "source": []
  }
 ],
 "metadata": {
  "kernelspec": {
   "display_name": ".venv",
   "language": "python",
   "name": "python3"
  },
  "language_info": {
   "codemirror_mode": {
    "name": "ipython",
    "version": 3
   },
   "file_extension": ".py",
   "mimetype": "text/x-python",
   "name": "python",
   "nbconvert_exporter": "python",
   "pygments_lexer": "ipython3",
   "version": "3.12.1"
  }
 },
 "nbformat": 4,
 "nbformat_minor": 2
}
