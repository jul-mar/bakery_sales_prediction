{
 "cells": [
  {
   "cell_type": "code",
   "execution_count": 3,
   "metadata": {},
   "outputs": [
    {
     "name": "stdout",
     "output_type": "stream",
     "text": [
      "Die Datei wurde erfolgreich erstellt.\n"
     ]
    }
   ],
   "source": [
    "import pandas as pd\n",
    "from dateutil.easter import easter\n",
    "from datetime import timedelta\n",
    "\n",
    "# Start- und Enddatum definieren\n",
    "start_date = \"2013-07-01\"\n",
    "end_date = \"2019-07-31\"\n",
    "\n",
    "# Datumsbereich erstellen\n",
    "date_range = pd.date_range(start=start_date, end=end_date)\n",
    "\n",
    "# Funktion zum Berechnen, ob ein Datum Gründonnerstag oder Ostersamstag ist\n",
    "def ist_ostertag(datum):\n",
    "    datum = datum.date()  # Konvertiere Timestamp zu datetime.date\n",
    "    jahr = datum.year\n",
    "    ostersonntag = easter(jahr)\n",
    "    gruendonnerstag = ostersonntag - timedelta(days=3)\n",
    "    ostersamstag = ostersonntag - timedelta(days=1)\n",
    "    \n",
    "    return 1 if datum in [gruendonnerstag, ostersamstag] else 0\n",
    "\n",
    "# DataFrame erstellen\n",
    "data = {\n",
    "    \"Datum\": date_range\n",
    "}\n",
    "df = pd.DataFrame(data)\n",
    "\n",
    "# Spalte \"Ostertag\" hinzufügen\n",
    "df['Ostertag'] = df['Datum'].apply(ist_ostertag)\n",
    "\n",
    "# Datum in das Format YYYY-MM-DD umwandeln\n",
    "df['Datum'] = df['Datum'].dt.strftime(\"%Y-%m-%d\")\n",
    "\n",
    "# CSV-Datei speichern\n",
    "df.to_csv(\"Ostertage.csv\", index=False)\n",
    "\n",
    "print(\"Die Datei wurde erfolgreich erstellt.\")\n"
   ]
  },
  {
   "cell_type": "code",
   "execution_count": null,
   "metadata": {},
   "outputs": [],
   "source": []
  }
 ],
 "metadata": {
  "kernelspec": {
   "display_name": ".venv",
   "language": "python",
   "name": "python3"
  },
  "language_info": {
   "codemirror_mode": {
    "name": "ipython",
    "version": 3
   },
   "file_extension": ".py",
   "mimetype": "text/x-python",
   "name": "python",
   "nbconvert_exporter": "python",
   "pygments_lexer": "ipython3",
   "version": "3.12.1"
  }
 },
 "nbformat": 4,
 "nbformat_minor": 2
}
