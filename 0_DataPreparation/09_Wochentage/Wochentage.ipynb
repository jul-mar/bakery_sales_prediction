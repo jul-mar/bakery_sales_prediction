{
 "cells": [
  {
   "cell_type": "markdown",
   "metadata": {},
   "source": [
    "In diesem Notebook werden die Wochentage über den Zeitraum der Daten one-hot encoded, damit diese dann den Daten hinzugefügt werden können.\n"
   ]
  },
  {
   "cell_type": "code",
   "execution_count": 44,
   "metadata": {},
   "outputs": [],
   "source": [
    "import pandas as pd\n",
    "import numpy as np\n",
    "import matplotlib.pyplot as plt\n"
   ]
  },
  {
   "cell_type": "code",
   "execution_count": 45,
   "metadata": {},
   "outputs": [
    {
     "data": {
      "text/plain": [
       "(9334, 3)"
      ]
     },
     "execution_count": 45,
     "metadata": {},
     "output_type": "execute_result"
    }
   ],
   "source": [
    "data = pd.read_csv('../umsatzdaten_gekuerzt.csv')\n",
    "data.head()\n",
    "data.shape"
   ]
  },
  {
   "cell_type": "code",
   "execution_count": 46,
   "metadata": {},
   "outputs": [
    {
     "name": "stdout",
     "output_type": "stream",
     "text": [
      "        Datum        Brot   Broetchen   Croissant  Konditorei      Kuchen  \\\n",
      "0  2013-07-01  148.828353  535.856285  201.198426   65.890169  317.475875   \n",
      "1  2013-07-02  159.793757  546.780787  265.261254   74.543917  383.628682   \n",
      "2  2013-07-03  111.885594  427.343259  210.260241   69.262728  305.523072   \n",
      "3  2013-07-04  168.864941  454.859641  190.686641   61.490175  308.408168   \n",
      "4  2013-07-05  171.280754  492.818804  181.644870   86.759861  355.518770   \n",
      "\n",
      "   Saisonbrot  \n",
      "0         NaN  \n",
      "1         NaN  \n",
      "2         NaN  \n",
      "3         NaN  \n",
      "4         NaN  \n",
      "(1819, 7)\n",
      "        Datum\n",
      "0  2013-07-01\n",
      "1  2013-07-02\n",
      "2  2013-07-03\n",
      "3  2013-07-04\n",
      "4  2013-07-05\n"
     ]
    }
   ],
   "source": [
    "#get the umsatz data in the wide format\n",
    "# Pivot the DataFrame\n",
    "data_shaped = data.pivot(index='Datum', columns='Warengruppe', values='Umsatz')\n",
    "# Reset the index to make 'date' a column again\n",
    "data_shaped.reset_index(inplace=True)\n",
    "#get colums names right\n",
    "data_shaped.columns = ['Datum', 'Brot', 'Broetchen', 'Croissant', 'Konditorei', 'Kuchen', 'Saisonbrot']\n",
    "\n",
    "print(data_shaped.head())   \n",
    "print(data_shaped.shape)\n",
    "\n",
    "#only keep the Datum column\n",
    "data_shaped = data_shaped[['Datum']]\n",
    "print(data_shaped.head())"
   ]
  },
  {
   "cell_type": "code",
   "execution_count": 47,
   "metadata": {},
   "outputs": [
    {
     "data": {
      "text/html": [
       "<div>\n",
       "<style scoped>\n",
       "    .dataframe tbody tr th:only-of-type {\n",
       "        vertical-align: middle;\n",
       "    }\n",
       "\n",
       "    .dataframe tbody tr th {\n",
       "        vertical-align: top;\n",
       "    }\n",
       "\n",
       "    .dataframe thead th {\n",
       "        text-align: right;\n",
       "    }\n",
       "</style>\n",
       "<table border=\"1\" class=\"dataframe\">\n",
       "  <thead>\n",
       "    <tr style=\"text-align: right;\">\n",
       "      <th></th>\n",
       "      <th>Datum</th>\n",
       "      <th>Wochentag</th>\n",
       "    </tr>\n",
       "  </thead>\n",
       "  <tbody>\n",
       "    <tr>\n",
       "      <th>0</th>\n",
       "      <td>2013-07-01</td>\n",
       "      <td>Monday</td>\n",
       "    </tr>\n",
       "    <tr>\n",
       "      <th>1</th>\n",
       "      <td>2013-07-02</td>\n",
       "      <td>Tuesday</td>\n",
       "    </tr>\n",
       "    <tr>\n",
       "      <th>2</th>\n",
       "      <td>2013-07-03</td>\n",
       "      <td>Wednesday</td>\n",
       "    </tr>\n",
       "    <tr>\n",
       "      <th>3</th>\n",
       "      <td>2013-07-04</td>\n",
       "      <td>Thursday</td>\n",
       "    </tr>\n",
       "    <tr>\n",
       "      <th>4</th>\n",
       "      <td>2013-07-05</td>\n",
       "      <td>Friday</td>\n",
       "    </tr>\n",
       "  </tbody>\n",
       "</table>\n",
       "</div>"
      ],
      "text/plain": [
       "        Datum  Wochentag\n",
       "0  2013-07-01     Monday\n",
       "1  2013-07-02    Tuesday\n",
       "2  2013-07-03  Wednesday\n",
       "3  2013-07-04   Thursday\n",
       "4  2013-07-05     Friday"
      ]
     },
     "execution_count": 47,
     "metadata": {},
     "output_type": "execute_result"
    }
   ],
   "source": [
    "#Wochentag hinzufügen\n",
    "data_shaped['Wochentag'] = pd.to_datetime(data_shaped['Datum']).dt.day_name()\n",
    "data_shaped.head()"
   ]
  },
  {
   "cell_type": "code",
   "execution_count": 48,
   "metadata": {},
   "outputs": [
    {
     "name": "stdout",
     "output_type": "stream",
     "text": [
      "         Datum  Montag  Dienstag  Mittwoch  Donnerstag  Freitag  Samstag  \\\n",
      "0   2013-07-01       1         0         0           0        0        0   \n",
      "1   2013-07-02       0         1         0           0        0        0   \n",
      "2   2013-07-03       0         0         1           0        0        0   \n",
      "3   2013-07-04       0         0         0           1        0        0   \n",
      "4   2013-07-05       0         0         0           0        1        0   \n",
      "5   2013-07-06       0         0         0           0        0        1   \n",
      "6   2013-07-07       0         0         0           0        0        0   \n",
      "7   2013-07-08       1         0         0           0        0        0   \n",
      "8   2013-07-09       0         1         0           0        0        0   \n",
      "9   2013-07-10       0         0         1           0        0        0   \n",
      "10  2013-07-11       0         0         0           1        0        0   \n",
      "11  2013-07-12       0         0         0           0        1        0   \n",
      "12  2013-07-13       0         0         0           0        0        1   \n",
      "13  2013-07-14       0         0         0           0        0        0   \n",
      "14  2013-07-15       1         0         0           0        0        0   \n",
      "\n",
      "    Sonntag  \n",
      "0         0  \n",
      "1         0  \n",
      "2         0  \n",
      "3         0  \n",
      "4         0  \n",
      "5         0  \n",
      "6         1  \n",
      "7         0  \n",
      "8         0  \n",
      "9         0  \n",
      "10        0  \n",
      "11        0  \n",
      "12        0  \n",
      "13        1  \n",
      "14        0  \n"
     ]
    }
   ],
   "source": [
    "#nun die wochentage one hot encoden\n",
    "data_shaped = pd.get_dummies(data_shaped, columns=['Wochentag'])\n",
    "#print(data_shaped.head())\n",
    "\n",
    "#order the columns\n",
    "data_shaped = data_shaped[['Datum', 'Wochentag_Monday', 'Wochentag_Tuesday', 'Wochentag_Wednesday', 'Wochentag_Thursday', 'Wochentag_Friday', 'Wochentag_Saturday', 'Wochentag_Sunday']]\n",
    "#and rename the columns\n",
    "data_shaped.columns = ['Datum', 'Montag', 'Dienstag', 'Mittwoch', 'Donnerstag', 'Freitag', 'Samstag', 'Sonntag']\n",
    "#statt True und False, 1 und 0\n",
    "data_shaped = data_shaped * 1\n",
    "print(data_shaped.head(15))"
   ]
  },
  {
   "cell_type": "code",
   "execution_count": 49,
   "metadata": {},
   "outputs": [],
   "source": [
    "#export the data\n",
    "data_shaped.to_csv('Wochentage.csv', index=False)"
   ]
  },
  {
   "cell_type": "code",
   "execution_count": null,
   "metadata": {},
   "outputs": [],
   "source": []
  }
 ],
 "metadata": {
  "kernelspec": {
   "display_name": "Python 3",
   "language": "python",
   "name": "python3"
  },
  "language_info": {
   "codemirror_mode": {
    "name": "ipython",
    "version": 3
   },
   "file_extension": ".py",
   "mimetype": "text/x-python",
   "name": "python",
   "nbconvert_exporter": "python",
   "pygments_lexer": "ipython3",
   "version": "3.12.1"
  }
 },
 "nbformat": 4,
 "nbformat_minor": 2
}
