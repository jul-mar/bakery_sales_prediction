{
 "cells": [
  {
   "cell_type": "code",
   "execution_count": 1,
   "metadata": {},
   "outputs": [
    {
     "name": "stdout",
     "output_type": "stream",
     "text": [
      "Die Datei 'wochentage_bis_2019.csv' wurde erfolgreich erstellt.\n"
     ]
    }
   ],
   "source": [
    "import pandas as pd\n",
    "\n",
    "# Start- und Enddatum definieren\n",
    "start_date = \"2013-07-01\"\n",
    "end_date = \"2019-07-31\"\n",
    "\n",
    "# Datumsbereich erstellen\n",
    "date_range = pd.date_range(start=start_date, end=end_date)\n",
    "\n",
    "# DataFrame erstellen\n",
    "data = {\n",
    "    \"Datum\": date_range.strftime(\"%Y-%m-%d\"),  # Datumsformat YYYY-MM-DD\n",
    "    \"Montag\": (date_range.weekday == 0).astype(int),\n",
    "    \"Dienstag\": (date_range.weekday == 1).astype(int),\n",
    "    \"Mittwoch\": (date_range.weekday == 2).astype(int),\n",
    "    \"Donnerstag\": (date_range.weekday == 3).astype(int),\n",
    "    \"Freitag\": (date_range.weekday == 4).astype(int),\n",
    "    \"Samstag\": (date_range.weekday == 5).astype(int),\n",
    "    \"Sonntag\": (date_range.weekday == 6).astype(int),\n",
    "}\n",
    "\n",
    "df = pd.DataFrame(data)\n",
    "\n",
    "# CSV-Datei speichern\n",
    "df.to_csv(\"wochentage_bis_2019.csv\", index=False)\n",
    "\n",
    "print(\"Die Datei 'wochentage_bis_2019.csv' wurde erfolgreich erstellt.\")\n"
   ]
  },
  {
   "cell_type": "code",
   "execution_count": null,
   "metadata": {},
   "outputs": [],
   "source": []
  }
 ],
 "metadata": {
  "kernelspec": {
   "display_name": ".venv",
   "language": "python",
   "name": "python3"
  },
  "language_info": {
   "codemirror_mode": {
    "name": "ipython",
    "version": 3
   },
   "file_extension": ".py",
   "mimetype": "text/x-python",
   "name": "python",
   "nbconvert_exporter": "python",
   "pygments_lexer": "ipython3",
   "version": "3.12.1"
  }
 },
 "nbformat": 4,
 "nbformat_minor": 2
}
