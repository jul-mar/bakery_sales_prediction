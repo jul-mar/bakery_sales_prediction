{
 "cells": [
  {
   "cell_type": "code",
   "execution_count": 1,
   "metadata": {},
   "outputs": [
    {
     "name": "stdout",
     "output_type": "stream",
     "text": [
      "       Datum  Frühling  Sommer  Herbst  Winter\n",
      "0 2013-07-01         0       1       0       0\n",
      "1 2013-07-02         0       1       0       0\n",
      "2 2013-07-03         0       1       0       0\n",
      "3 2013-07-04         0       1       0       0\n",
      "4 2013-07-05         0       1       0       0\n",
      "Die Datei wurde erfolgreich erstellt.\n"
     ]
    }
   ],
   "source": [
    "import pandas as pd\n",
    "from datetime import timedelta\n",
    "\n",
    "# Start- und Enddatum definieren\n",
    "start_date = \"2013-07-01\"\n",
    "end_date = \"2019-07-31\"\n",
    "\n",
    "# Datumsbereich erstellen\n",
    "date_range = pd.date_range(start=start_date, end=end_date)\n",
    "\n",
    "# DataFrame erstellen\n",
    "data = {\"Datum\": date_range}\n",
    "df = pd.DataFrame(data)\n",
    "\n",
    "# Sicherstellen, dass \"Datum\" im Datumsformat ist\n",
    "df['Datum'] = pd.to_datetime(df['Datum'])\n",
    "# Jahreszeiten zuweisen\n",
    "df['Frühling'] = df['Datum'].dt.month.isin([3, 4, 5]).astype(int)\n",
    "df['Sommer'] = df['Datum'].dt.month.isin([6, 7, 8]).astype(int)\n",
    "df['Herbst'] = df['Datum'].dt.month.isin([9, 10, 11]).astype(int)\n",
    "df['Winter'] = df['Datum'].dt.month.isin([12, 1, 2]).astype(int)\n",
    "\n",
    "print(df.head())\n",
    "\n",
    "# CSV-Datei speichern\n",
    "df.to_csv(\"Jahreszeiten.csv\", index=False)\n",
    "\n",
    "print(\"Die Datei wurde erfolgreich erstellt.\")"
   ]
  },
  {
   "cell_type": "code",
   "execution_count": null,
   "metadata": {},
   "outputs": [],
   "source": []
  }
 ],
 "metadata": {
  "kernelspec": {
   "display_name": ".venv",
   "language": "python",
   "name": "python3"
  },
  "language_info": {
   "codemirror_mode": {
    "name": "ipython",
    "version": 3
   },
   "file_extension": ".py",
   "mimetype": "text/x-python",
   "name": "python",
   "nbconvert_exporter": "python",
   "pygments_lexer": "ipython3",
   "version": "3.12.1"
  }
 },
 "nbformat": 4,
 "nbformat_minor": 2
}
