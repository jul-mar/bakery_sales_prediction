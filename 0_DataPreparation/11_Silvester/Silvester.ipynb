{
 "cells": [
  {
   "cell_type": "code",
   "execution_count": null,
   "metadata": {},
   "outputs": [],
   "source": [
    "import pandas as pd\n",
    "from datetime import timedelta\n",
    "\n",
    "# Start- und Enddatum definieren\n",
    "start_date = \"2013-07-01\"\n",
    "end_date = \"2019-07-31\"\n",
    "\n",
    "# Datumsbereich erstellen\n",
    "date_range = pd.date_range(start=start_date, end=end_date)\n",
    "\n",
    "# Funktion zum Überprüfen, ob ein Datum Silvester ist\n",
    "def ist_silvester(datum):\n",
    "    jahr = datum.year\n",
    "    silvester = pd.Timestamp(f\"{jahr}-12-31\").date()\n",
    "    return 1 if datum.date() == silvester else 0\n",
    "\n",
    "# DataFrame erstellen\n",
    "data = {\n",
    "    \"Datum\": date_range\n",
    "}\n",
    "df = pd.DataFrame(data)\n",
    "\n",
    "# Spalte \"Silvester\" hinzufügen\n",
    "df['Silvester'] = df['Datum'].apply(ist_silvester)\n",
    "\n",
    "# Datum in das Format YYYY-MM-DD umwandeln\n",
    "df['Datum'] = df['Datum'].dt.strftime(\"%Y-%m-%d\")\n",
    "\n",
    "# CSV-Datei speichern\n",
    "df.to_csv(\"Silvestertage.csv\", index=False)\n",
    "\n",
    "print(\"Die Datei wurde erfolgreich erstellt.\")\n"
   ]
  }
 ],
 "metadata": {
  "kernelspec": {
   "display_name": "Python 3",
   "language": "python",
   "name": "python3"
  },
  "language_info": {
   "name": "python",
   "version": "3.12.1"
  }
 },
 "nbformat": 4,
 "nbformat_minor": 2
}
