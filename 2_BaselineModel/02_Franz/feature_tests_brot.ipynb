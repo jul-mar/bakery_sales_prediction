{
 "cells": [
  {
   "cell_type": "code",
   "execution_count": 33,
   "metadata": {},
   "outputs": [
    {
     "name": "stdout",
     "output_type": "stream",
     "text": [
      "       Datum  Frühling  Sommer  Herbst  Winter\n",
      "0 2013-07-01         0       1       0       0\n",
      "1 2013-07-02         0       1       0       0\n",
      "2 2013-07-03         0       1       0       0\n",
      "3 2013-07-04         0       1       0       0\n",
      "4 2013-07-05         0       1       0       0\n",
      "5 2013-07-06         0       1       0       0\n",
      "6 2013-07-07         0       1       0       0\n",
      "7 2013-07-08         0       1       0       0\n",
      "8 2013-07-09         0       1       0       0\n",
      "9 2013-07-10         0       1       0       0\n",
      "      Warengruppe_1  Warengruppe_2  Warengruppe_3  Warengruppe_4  \\\n",
      "0                 1              0              0              0   \n",
      "1                 1              0              0              0   \n",
      "2                 1              0              0              0   \n",
      "3                 1              0              0              0   \n",
      "4                 1              0              0              0   \n",
      "...             ...            ...            ...            ...   \n",
      "9329              0              0              0              0   \n",
      "9330              0              0              0              0   \n",
      "9331              0              0              0              0   \n",
      "9332              0              0              0              0   \n",
      "9333              0              0              0              0   \n",
      "\n",
      "      Warengruppe_5  Warengruppe_6  Temp_Very_Cold  Temp_Cold  Temp_Mild  \\\n",
      "0                 0              0               0          0          1   \n",
      "1                 0              0               0          0          1   \n",
      "2                 0              0               0          0          0   \n",
      "3                 0              0               0          0          1   \n",
      "4                 0              0               0          0          1   \n",
      "...             ...            ...             ...        ...        ...   \n",
      "9329              0              1               0          1          0   \n",
      "9330              0              1               0          1          0   \n",
      "9331              0              1               0          1          0   \n",
      "9332              0              1               0          1          0   \n",
      "9333              0              1               0          1          0   \n",
      "\n",
      "      Temp_Warm  ...  is_holiday  Weihnachtsmarkt  Markt  Ostertag  Silvester  \\\n",
      "0             0  ...           1                0      0         0          0   \n",
      "1             0  ...           1                0      0         0          0   \n",
      "2             1  ...           1                0      0         0          0   \n",
      "3             0  ...           1                0      0         0          0   \n",
      "4             0  ...           1                0      0         0          0   \n",
      "...         ...  ...         ...              ...    ...       ...        ...   \n",
      "9329          0  ...           1                1      0         0          0   \n",
      "9330          0  ...           1                1      0         0          0   \n",
      "9331          0  ...           1                1      0         0          0   \n",
      "9332          0  ...           1                0      0         0          0   \n",
      "9333          0  ...           1                0      0         0          0   \n",
      "\n",
      "      Werktag  Frühling  Sommer  Herbst  Winter  \n",
      "0           1         0       1       0       0  \n",
      "1           1         0       1       0       0  \n",
      "2           1         0       1       0       0  \n",
      "3           1         0       1       0       0  \n",
      "4           1         0       1       0       0  \n",
      "...       ...       ...     ...     ...     ...  \n",
      "9329        1         0       0       0       1  \n",
      "9330        1         0       0       0       1  \n",
      "9331        0         0       0       0       1  \n",
      "9332        0         0       0       0       1  \n",
      "9333        1         0       0       0       1  \n",
      "\n",
      "[9334 rows x 44 columns]\n"
     ]
    }
   ],
   "source": [
    "import pandas as pd\n",
    "import statsmodels.formula.api as smf\n",
    "import numpy as np\n",
    "\n",
    "df = pd.read_csv(\"/workspaces/bakery_sales_prediction/0_DataPreparation/00_data/data_long.csv\")\n",
    "#print(data.head())\n",
    "#data brot:\n",
    "data = df[df[\"Warengruppe_1\"] == 1]\n",
    "\n",
    "#Werktag\n",
    "df['Werktag'] = (\n",
    "    df[['Montag', 'Dienstag', 'Mittwoch', 'Donnerstag', 'Freitag']].sum(axis=1) > 0\n",
    ") & (df['Feiertag'] == 0)\n",
    "# In 0/1 umwandeln\n",
    "df['Werktag'] = df['Werktag'].astype(int)\n",
    "\n",
    "# Sicherstellen, dass \"Datum\" im Datumsformat ist\n",
    "df['Datum'] = pd.to_datetime(df['Datum'])\n",
    "# Jahreszeiten zuweisen\n",
    "df['Frühling'] = df['Datum'].dt.month.isin([3, 4, 5]).astype(int)\n",
    "df['Sommer'] = df['Datum'].dt.month.isin([6, 7, 8]).astype(int)\n",
    "df['Herbst'] = df['Datum'].dt.month.isin([9, 10, 11]).astype(int)\n",
    "df['Winter'] = df['Datum'].dt.month.isin([12, 1, 2]).astype(int)\n",
    "\n",
    "# Die ersten Zeilen anzeigen, um die Ergebnisse zu prüfen\n",
    "print(df[['Datum', 'Frühling', 'Sommer', 'Herbst', 'Winter']].head(10))\n",
    "\n",
    "\n",
    "df = df.drop(columns=[\"Datum\", \"Umsatz\"])\n",
    "print(df)\n"
   ]
  },
  {
   "cell_type": "code",
   "execution_count": 34,
   "metadata": {},
   "outputs": [
    {
     "name": "stdout",
     "output_type": "stream",
     "text": [
      "Warengruppe_1           1.000000\n",
      "Sommer                  0.010090\n",
      "Frühling                0.008377\n",
      "Temp_Warm               0.007129\n",
      "Temp_Mild               0.007114\n",
      "is_holiday              0.005995\n",
      "Ship                    0.005768\n",
      "Number_of_ships         0.005125\n",
      "Markt                   0.003220\n",
      "Cloud_Clear             0.003218\n",
      "Cloud_Partly_Cloudy     0.002981\n",
      "Temp_Hot                0.002871\n",
      "Silvester               0.002825\n",
      "KielerWoche             0.002731\n",
      "VPI                     0.002702\n",
      "Ostertag                0.002477\n",
      "Feiertag                0.001652\n",
      "Wind_Moderate           0.001616\n",
      "Weather_Good            0.001609\n",
      "Mittwoch                0.001135\n",
      "Wind_Strong             0.000953\n",
      "Weather_Severe          0.000789\n",
      "Samstag                 0.000496\n",
      "Weather_Moderate        0.000455\n",
      "Freitag                 0.000400\n",
      "Temp_Very_Cold          0.000260\n",
      "Werktag                 0.000252\n",
      "Heimspiel               0.000084\n",
      "Montag                 -0.000015\n",
      "Dienstag               -0.000086\n",
      "Donnerstag             -0.000748\n",
      "Sonntag                -0.001178\n",
      "Weather_Light_Issues   -0.001819\n",
      "Wind_Light             -0.002456\n",
      "Cloud_Cloudy           -0.005304\n",
      "Winter                 -0.008078\n",
      "Herbst                 -0.010295\n",
      "Temp_Cold              -0.013030\n",
      "Weihnachtsmarkt        -0.021835\n",
      "Warengruppe_6          -0.088412\n",
      "Warengruppe_4          -0.237660\n",
      "Warengruppe_5          -0.242049\n",
      "Warengruppe_2          -0.242049\n",
      "Warengruppe_3          -0.242049\n",
      "Name: Warengruppe_1, dtype: float64\n"
     ]
    }
   ],
   "source": [
    "# 1. Schritt 1: Untersuche lineare Korrelation zwischen den einzelnen Features mit der Zielvariable\n",
    "# mit Korrelationsmatrix\n",
    "import pandas as pd\n",
    "\n",
    "# Korrelationsmatrix erstellen\n",
    "correlation_matrix = df.corr()\n",
    "\n",
    "# Korrelation mit der Zielvariable\n",
    "correlation_with_target = correlation_matrix[\"Warengruppe_1\"].sort_values(ascending=False)\n",
    "print(correlation_with_target)\n",
    "\n",
    "\n"
   ]
  },
  {
   "cell_type": "code",
   "execution_count": 35,
   "metadata": {},
   "outputs": [
    {
     "name": "stdout",
     "output_type": "stream",
     "text": [
      "Warengruppe_5           0.054037\n",
      "Warengruppe_2           0.052109\n",
      "Warengruppe_4           0.048508\n",
      "Warengruppe_3           0.047494\n",
      "Frühling                0.016640\n",
      "Temp_Mild               0.012527\n",
      "Cloud_Clear             0.010830\n",
      "Winter                  0.010203\n",
      "Weather_Severe          0.009405\n",
      "Weihnachtsmarkt         0.009179\n",
      "Warengruppe_6           0.008875\n",
      "Ship                    0.008189\n",
      "Temp_Very_Cold          0.006550\n",
      "Temp_Cold               0.006419\n",
      "Markt                   0.004292\n",
      "Freitag                 0.004081\n",
      "Cloud_Cloudy            0.003065\n",
      "Weather_Moderate        0.003020\n",
      "Number_of_ships         0.002685\n",
      "Wind_Moderate           0.002632\n",
      "Donnerstag              0.001967\n",
      "Heimspiel               0.001920\n",
      "Temp_Hot                0.001702\n",
      "Sommer                  0.001652\n",
      "KielerWoche             0.000848\n",
      "VPI                     0.000731\n",
      "Temp_Warm               0.000000\n",
      "Samstag                 0.000000\n",
      "Mittwoch                0.000000\n",
      "Montag                  0.000000\n",
      "Dienstag                0.000000\n",
      "Wind_Light              0.000000\n",
      "Wind_Strong             0.000000\n",
      "Weather_Good            0.000000\n",
      "Weather_Light_Issues    0.000000\n",
      "Cloud_Partly_Cloudy     0.000000\n",
      "is_holiday              0.000000\n",
      "Sonntag                 0.000000\n",
      "Feiertag                0.000000\n",
      "Werktag                 0.000000\n",
      "Silvester               0.000000\n",
      "Ostertag                0.000000\n",
      "Herbst                  0.000000\n",
      "dtype: float64\n"
     ]
    }
   ],
   "source": [
    "from sklearn.feature_selection import mutual_info_regression\n",
    "\n",
    "# Nicht-lineare Zusammenhänge analysieren\n",
    "X = df.drop(\"Warengruppe_1\", axis=1)\n",
    "y = df[\"Warengruppe_1\"]\n",
    "mi = mutual_info_regression(X, y)\n",
    "mi_series = pd.Series(mi, index=X.columns).sort_values(ascending=False)\n",
    "print(mi_series)\n"
   ]
  },
  {
   "cell_type": "code",
   "execution_count": 36,
   "metadata": {},
   "outputs": [
    {
     "name": "stdout",
     "output_type": "stream",
     "text": [
      "Stark korrelierte Features: ['Wind_Light', 'Wind_Moderate', 'Number_of_ships', 'Ship']\n"
     ]
    }
   ],
   "source": [
    "\n",
    "import numpy as np\n",
    "\n",
    "# Korrelationsmatrix berechnen\n",
    "corr_matrix = df.corr()\n",
    "\n",
    "# Stark korrelierte Features (> 0.5) finden\n",
    "high_corr = corr_matrix.abs() > 0.7\n",
    "np.fill_diagonal(high_corr.values, False)  # Hauptdiagonale ignorieren\n",
    "correlated_features = [column for column in high_corr.columns if any(high_corr[column])]\n",
    "print(f\"Stark korrelierte Features:\", correlated_features)"
   ]
  },
  {
   "cell_type": "code",
   "execution_count": 37,
   "metadata": {},
   "outputs": [
    {
     "name": "stderr",
     "output_type": "stream",
     "text": [
      "/workspaces/bakery_sales_prediction/.venv/lib/python3.12/site-packages/statsmodels/stats/outliers_influence.py:197: RuntimeWarning: divide by zero encountered in scalar divide\n",
      "  vif = 1. / (1. - r_squared_i)\n"
     ]
    },
    {
     "name": "stdout",
     "output_type": "stream",
     "text": [
      "                 Feature        VIF\n",
      "0          Warengruppe_2   1.610242\n",
      "1          Warengruppe_3   1.610242\n",
      "2          Warengruppe_4   1.598393\n",
      "3          Warengruppe_5   1.610242\n",
      "4          Warengruppe_6   1.218217\n",
      "5         Temp_Very_Cold        inf\n",
      "6              Temp_Cold        inf\n",
      "7              Temp_Mild        inf\n",
      "8              Temp_Warm        inf\n",
      "9               Temp_Hot        inf\n",
      "10           Cloud_Clear        inf\n",
      "11   Cloud_Partly_Cloudy        inf\n",
      "12          Cloud_Cloudy        inf\n",
      "13            Wind_Light        inf\n",
      "14         Wind_Moderate        inf\n",
      "15           Wind_Strong        inf\n",
      "16          Weather_Good        inf\n",
      "17  Weather_Light_Issues        inf\n",
      "18      Weather_Moderate        inf\n",
      "19        Weather_Severe        inf\n",
      "20           KielerWoche   1.163835\n",
      "21                Montag        inf\n",
      "22              Dienstag        inf\n",
      "23              Mittwoch        inf\n",
      "24            Donnerstag        inf\n",
      "25               Freitag        inf\n",
      "26               Samstag        inf\n",
      "27               Sonntag        inf\n",
      "28                   VPI   1.108605\n",
      "29       Number_of_ships   4.210816\n",
      "30                  Ship   4.140919\n",
      "31             Heimspiel   1.236393\n",
      "32              Feiertag   2.612196\n",
      "33            is_holiday   1.195541\n",
      "34       Weihnachtsmarkt   1.313108\n",
      "35                 Markt   1.105933\n",
      "36              Ostertag   1.062436\n",
      "37             Silvester   1.026795\n",
      "38               Werktag  56.475002\n",
      "39              Frühling        inf\n",
      "40                Sommer        inf\n",
      "41                Herbst        inf\n",
      "42                Winter        inf\n"
     ]
    }
   ],
   "source": [
    "from statsmodels.stats.outliers_influence import variance_inflation_factor\n",
    "\n",
    "# VIF für alle Features berechnen\n",
    "X = df.drop(\"Warengruppe_1\", axis=1)\n",
    "vif = pd.DataFrame()\n",
    "vif[\"Feature\"] = X.columns\n",
    "vif[\"VIF\"] = [variance_inflation_factor(X.values, i) for i in range(X.shape[1])]\n",
    "print(vif)\n",
    "\n"
   ]
  },
  {
   "cell_type": "markdown",
   "metadata": {},
   "source": []
  },
  {
   "cell_type": "code",
   "execution_count": 43,
   "metadata": {},
   "outputs": [
    {
     "ename": "KeyError",
     "evalue": "\"['Warengruppe_1', 'Warengruppe_2', 'Warengruppe_3', 'Warengruppe_4', 'Warengruppe_5', 'Warengruppe_6'] not found in axis\"",
     "output_type": "error",
     "traceback": [
      "\u001b[0;31m---------------------------------------------------------------------------\u001b[0m",
      "\u001b[0;31mKeyError\u001b[0m                                  Traceback (most recent call last)",
      "Cell \u001b[0;32mIn[43], line 2\u001b[0m\n\u001b[1;32m      1\u001b[0m \u001b[38;5;66;03m# suche miteinander korrelierrende features\u001b[39;00m\n\u001b[0;32m----> 2\u001b[0m df \u001b[38;5;241m=\u001b[39m \u001b[43mdf\u001b[49m\u001b[38;5;241;43m.\u001b[39;49m\u001b[43mdrop\u001b[49m\u001b[43m(\u001b[49m\u001b[43mcolumns\u001b[49m\u001b[38;5;241;43m=\u001b[39;49m\u001b[43m[\u001b[49m\u001b[38;5;124;43m\"\u001b[39;49m\u001b[38;5;124;43mWarengruppe_1\u001b[39;49m\u001b[38;5;124;43m\"\u001b[39;49m\u001b[43m,\u001b[49m\u001b[43m \u001b[49m\u001b[38;5;124;43m\"\u001b[39;49m\u001b[38;5;124;43mWarengruppe_2\u001b[39;49m\u001b[38;5;124;43m\"\u001b[39;49m\u001b[43m,\u001b[49m\u001b[43m \u001b[49m\u001b[38;5;124;43m\"\u001b[39;49m\u001b[38;5;124;43mWarengruppe_3\u001b[39;49m\u001b[38;5;124;43m\"\u001b[39;49m\u001b[43m,\u001b[49m\u001b[43m \u001b[49m\u001b[38;5;124;43m\"\u001b[39;49m\u001b[38;5;124;43mWarengruppe_4\u001b[39;49m\u001b[38;5;124;43m\"\u001b[39;49m\u001b[43m,\u001b[49m\u001b[43m \u001b[49m\u001b[38;5;124;43m\"\u001b[39;49m\u001b[38;5;124;43mWarengruppe_5\u001b[39;49m\u001b[38;5;124;43m\"\u001b[39;49m\u001b[43m,\u001b[49m\u001b[43m \u001b[49m\u001b[38;5;124;43m\"\u001b[39;49m\u001b[38;5;124;43mWarengruppe_6\u001b[39;49m\u001b[38;5;124;43m\"\u001b[39;49m\u001b[43m]\u001b[49m\u001b[43m)\u001b[49m\n",
      "File \u001b[0;32m/workspaces/bakery_sales_prediction/.venv/lib/python3.12/site-packages/pandas/core/frame.py:5581\u001b[0m, in \u001b[0;36mDataFrame.drop\u001b[0;34m(self, labels, axis, index, columns, level, inplace, errors)\u001b[0m\n\u001b[1;32m   5433\u001b[0m \u001b[38;5;28;01mdef\u001b[39;00m \u001b[38;5;21mdrop\u001b[39m(\n\u001b[1;32m   5434\u001b[0m     \u001b[38;5;28mself\u001b[39m,\n\u001b[1;32m   5435\u001b[0m     labels: IndexLabel \u001b[38;5;241m|\u001b[39m \u001b[38;5;28;01mNone\u001b[39;00m \u001b[38;5;241m=\u001b[39m \u001b[38;5;28;01mNone\u001b[39;00m,\n\u001b[0;32m   (...)\u001b[0m\n\u001b[1;32m   5442\u001b[0m     errors: IgnoreRaise \u001b[38;5;241m=\u001b[39m \u001b[38;5;124m\"\u001b[39m\u001b[38;5;124mraise\u001b[39m\u001b[38;5;124m\"\u001b[39m,\n\u001b[1;32m   5443\u001b[0m ) \u001b[38;5;241m-\u001b[39m\u001b[38;5;241m>\u001b[39m DataFrame \u001b[38;5;241m|\u001b[39m \u001b[38;5;28;01mNone\u001b[39;00m:\n\u001b[1;32m   5444\u001b[0m \u001b[38;5;250m    \u001b[39m\u001b[38;5;124;03m\"\"\"\u001b[39;00m\n\u001b[1;32m   5445\u001b[0m \u001b[38;5;124;03m    Drop specified labels from rows or columns.\u001b[39;00m\n\u001b[1;32m   5446\u001b[0m \n\u001b[0;32m   (...)\u001b[0m\n\u001b[1;32m   5579\u001b[0m \u001b[38;5;124;03m            weight  1.0     0.8\u001b[39;00m\n\u001b[1;32m   5580\u001b[0m \u001b[38;5;124;03m    \"\"\"\u001b[39;00m\n\u001b[0;32m-> 5581\u001b[0m     \u001b[38;5;28;01mreturn\u001b[39;00m \u001b[38;5;28;43msuper\u001b[39;49m\u001b[43m(\u001b[49m\u001b[43m)\u001b[49m\u001b[38;5;241;43m.\u001b[39;49m\u001b[43mdrop\u001b[49m\u001b[43m(\u001b[49m\n\u001b[1;32m   5582\u001b[0m \u001b[43m        \u001b[49m\u001b[43mlabels\u001b[49m\u001b[38;5;241;43m=\u001b[39;49m\u001b[43mlabels\u001b[49m\u001b[43m,\u001b[49m\n\u001b[1;32m   5583\u001b[0m \u001b[43m        \u001b[49m\u001b[43maxis\u001b[49m\u001b[38;5;241;43m=\u001b[39;49m\u001b[43maxis\u001b[49m\u001b[43m,\u001b[49m\n\u001b[1;32m   5584\u001b[0m \u001b[43m        \u001b[49m\u001b[43mindex\u001b[49m\u001b[38;5;241;43m=\u001b[39;49m\u001b[43mindex\u001b[49m\u001b[43m,\u001b[49m\n\u001b[1;32m   5585\u001b[0m \u001b[43m        \u001b[49m\u001b[43mcolumns\u001b[49m\u001b[38;5;241;43m=\u001b[39;49m\u001b[43mcolumns\u001b[49m\u001b[43m,\u001b[49m\n\u001b[1;32m   5586\u001b[0m \u001b[43m        \u001b[49m\u001b[43mlevel\u001b[49m\u001b[38;5;241;43m=\u001b[39;49m\u001b[43mlevel\u001b[49m\u001b[43m,\u001b[49m\n\u001b[1;32m   5587\u001b[0m \u001b[43m        \u001b[49m\u001b[43minplace\u001b[49m\u001b[38;5;241;43m=\u001b[39;49m\u001b[43minplace\u001b[49m\u001b[43m,\u001b[49m\n\u001b[1;32m   5588\u001b[0m \u001b[43m        \u001b[49m\u001b[43merrors\u001b[49m\u001b[38;5;241;43m=\u001b[39;49m\u001b[43merrors\u001b[49m\u001b[43m,\u001b[49m\n\u001b[1;32m   5589\u001b[0m \u001b[43m    \u001b[49m\u001b[43m)\u001b[49m\n",
      "File \u001b[0;32m/workspaces/bakery_sales_prediction/.venv/lib/python3.12/site-packages/pandas/core/generic.py:4788\u001b[0m, in \u001b[0;36mNDFrame.drop\u001b[0;34m(self, labels, axis, index, columns, level, inplace, errors)\u001b[0m\n\u001b[1;32m   4786\u001b[0m \u001b[38;5;28;01mfor\u001b[39;00m axis, labels \u001b[38;5;129;01min\u001b[39;00m axes\u001b[38;5;241m.\u001b[39mitems():\n\u001b[1;32m   4787\u001b[0m     \u001b[38;5;28;01mif\u001b[39;00m labels \u001b[38;5;129;01mis\u001b[39;00m \u001b[38;5;129;01mnot\u001b[39;00m \u001b[38;5;28;01mNone\u001b[39;00m:\n\u001b[0;32m-> 4788\u001b[0m         obj \u001b[38;5;241m=\u001b[39m \u001b[43mobj\u001b[49m\u001b[38;5;241;43m.\u001b[39;49m\u001b[43m_drop_axis\u001b[49m\u001b[43m(\u001b[49m\u001b[43mlabels\u001b[49m\u001b[43m,\u001b[49m\u001b[43m \u001b[49m\u001b[43maxis\u001b[49m\u001b[43m,\u001b[49m\u001b[43m \u001b[49m\u001b[43mlevel\u001b[49m\u001b[38;5;241;43m=\u001b[39;49m\u001b[43mlevel\u001b[49m\u001b[43m,\u001b[49m\u001b[43m \u001b[49m\u001b[43merrors\u001b[49m\u001b[38;5;241;43m=\u001b[39;49m\u001b[43merrors\u001b[49m\u001b[43m)\u001b[49m\n\u001b[1;32m   4790\u001b[0m \u001b[38;5;28;01mif\u001b[39;00m inplace:\n\u001b[1;32m   4791\u001b[0m     \u001b[38;5;28mself\u001b[39m\u001b[38;5;241m.\u001b[39m_update_inplace(obj)\n",
      "File \u001b[0;32m/workspaces/bakery_sales_prediction/.venv/lib/python3.12/site-packages/pandas/core/generic.py:4830\u001b[0m, in \u001b[0;36mNDFrame._drop_axis\u001b[0;34m(self, labels, axis, level, errors, only_slice)\u001b[0m\n\u001b[1;32m   4828\u001b[0m         new_axis \u001b[38;5;241m=\u001b[39m axis\u001b[38;5;241m.\u001b[39mdrop(labels, level\u001b[38;5;241m=\u001b[39mlevel, errors\u001b[38;5;241m=\u001b[39merrors)\n\u001b[1;32m   4829\u001b[0m     \u001b[38;5;28;01melse\u001b[39;00m:\n\u001b[0;32m-> 4830\u001b[0m         new_axis \u001b[38;5;241m=\u001b[39m \u001b[43maxis\u001b[49m\u001b[38;5;241;43m.\u001b[39;49m\u001b[43mdrop\u001b[49m\u001b[43m(\u001b[49m\u001b[43mlabels\u001b[49m\u001b[43m,\u001b[49m\u001b[43m \u001b[49m\u001b[43merrors\u001b[49m\u001b[38;5;241;43m=\u001b[39;49m\u001b[43merrors\u001b[49m\u001b[43m)\u001b[49m\n\u001b[1;32m   4831\u001b[0m     indexer \u001b[38;5;241m=\u001b[39m axis\u001b[38;5;241m.\u001b[39mget_indexer(new_axis)\n\u001b[1;32m   4833\u001b[0m \u001b[38;5;66;03m# Case for non-unique axis\u001b[39;00m\n\u001b[1;32m   4834\u001b[0m \u001b[38;5;28;01melse\u001b[39;00m:\n",
      "File \u001b[0;32m/workspaces/bakery_sales_prediction/.venv/lib/python3.12/site-packages/pandas/core/indexes/base.py:7070\u001b[0m, in \u001b[0;36mIndex.drop\u001b[0;34m(self, labels, errors)\u001b[0m\n\u001b[1;32m   7068\u001b[0m \u001b[38;5;28;01mif\u001b[39;00m mask\u001b[38;5;241m.\u001b[39many():\n\u001b[1;32m   7069\u001b[0m     \u001b[38;5;28;01mif\u001b[39;00m errors \u001b[38;5;241m!=\u001b[39m \u001b[38;5;124m\"\u001b[39m\u001b[38;5;124mignore\u001b[39m\u001b[38;5;124m\"\u001b[39m:\n\u001b[0;32m-> 7070\u001b[0m         \u001b[38;5;28;01mraise\u001b[39;00m \u001b[38;5;167;01mKeyError\u001b[39;00m(\u001b[38;5;124mf\u001b[39m\u001b[38;5;124m\"\u001b[39m\u001b[38;5;132;01m{\u001b[39;00mlabels[mask]\u001b[38;5;241m.\u001b[39mtolist()\u001b[38;5;132;01m}\u001b[39;00m\u001b[38;5;124m not found in axis\u001b[39m\u001b[38;5;124m\"\u001b[39m)\n\u001b[1;32m   7071\u001b[0m     indexer \u001b[38;5;241m=\u001b[39m indexer[\u001b[38;5;241m~\u001b[39mmask]\n\u001b[1;32m   7072\u001b[0m \u001b[38;5;28;01mreturn\u001b[39;00m \u001b[38;5;28mself\u001b[39m\u001b[38;5;241m.\u001b[39mdelete(indexer)\n",
      "\u001b[0;31mKeyError\u001b[0m: \"['Warengruppe_1', 'Warengruppe_2', 'Warengruppe_3', 'Warengruppe_4', 'Warengruppe_5', 'Warengruppe_6'] not found in axis\""
     ]
    }
   ],
   "source": [
    "# suche miteinander korrelierrende features\n",
    "df = df.drop(columns=[\"Warengruppe_1\", \"Warengruppe_2\", \"Warengruppe_3\", \"Warengruppe_4\", \"Warengruppe_5\", \"Warengruppe_6\"])"
   ]
  },
  {
   "cell_type": "code",
   "execution_count": 47,
   "metadata": {},
   "outputs": [
    {
     "name": "stdout",
     "output_type": "stream",
     "text": [
      "Stark korrelierte Feature-Paare:\n",
      "{('Weather_Moderate', 'Weather_Light_Issues'), ('Winter', 'Temp_Mild'), ('Werktag', 'Sonntag'), ('Cloud_Cloudy', 'Cloud_Partly_Cloudy'), ('Heimspiel', 'Samstag'), ('Temp_Mild', 'Temp_Cold'), ('Sommer', 'Temp_Cold'), ('Wind_Moderate', 'Wind_Light'), ('Weather_Light_Issues', 'Weather_Good'), ('Sommer', 'Temp_Warm'), ('Wind_Strong', 'Wind_Moderate'), ('Winter', 'Temp_Cold'), ('Cloud_Cloudy', 'Cloud_Clear'), ('Ship', 'Number_of_ships'), ('Werktag', 'Samstag')}\n"
     ]
    }
   ],
   "source": [
    "\n",
    "# Korrelationsmatrix berechnen\n",
    "corr_matrix = df.corr()\n",
    "\n",
    "# Schwellenwert für \"stark korreliert\"\n",
    "threshold = 0.4\n",
    "\n",
    "# Finde die Paare mit starker Korrelation\n",
    "strong_corr_pairs = set()\n",
    "\n",
    "# Iteriere über die obere Dreiecksmatrix der Korrelationsmatrix\n",
    "for i in range(len(corr_matrix.columns)):\n",
    "    for j in range(i):\n",
    "        if abs(corr_matrix.iloc[i, j]) > threshold:  # Korrelation über dem Schwellenwert\n",
    "            strong_corr_pairs.add((corr_matrix.columns[i], corr_matrix.columns[j]))\n",
    "\n",
    "# Anzeigen der Paare starker Korrelationen\n",
    "print(\"Stark korrelierte Feature-Paare:\")\n",
    "print(strong_corr_pairs)\n"
   ]
  },
  {
   "cell_type": "markdown",
   "metadata": {},
   "source": []
  },
  {
   "cell_type": "code",
   "execution_count": null,
   "metadata": {},
   "outputs": [],
   "source": []
  }
 ],
 "metadata": {
  "kernelspec": {
   "display_name": ".venv",
   "language": "python",
   "name": "python3"
  },
  "language_info": {
   "codemirror_mode": {
    "name": "ipython",
    "version": 3
   },
   "file_extension": ".py",
   "mimetype": "text/x-python",
   "name": "python",
   "nbconvert_exporter": "python",
   "pygments_lexer": "ipython3",
   "version": "3.12.1"
  }
 },
 "nbformat": 4,
 "nbformat_minor": 2
}
