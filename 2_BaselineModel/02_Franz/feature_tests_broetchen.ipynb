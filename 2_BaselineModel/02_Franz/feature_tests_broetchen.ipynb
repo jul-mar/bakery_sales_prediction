{
 "cells": [
  {
   "cell_type": "code",
   "execution_count": 17,
   "metadata": {},
   "outputs": [
    {
     "name": "stdout",
     "output_type": "stream",
     "text": [
      "          Umsatz  Temp_Very_Cold  Temp_Cold  Temp_Mild  Temp_Warm  Temp_Hot  \\\n",
      "1819  535.856285               0          0          1          0         0   \n",
      "1820  546.780787               0          0          1          0         0   \n",
      "1821  427.343259               0          0          0          1         0   \n",
      "1822  454.859641               0          0          1          0         0   \n",
      "1823  492.818804               0          0          1          0         0   \n",
      "...          ...             ...        ...        ...        ...       ...   \n",
      "3633  677.415844               0          0          0          0         1   \n",
      "3634  716.576825               0          0          0          0         1   \n",
      "3635  721.822447               0          0          0          1         0   \n",
      "3636  616.358562               0          0          0          0         1   \n",
      "3637  586.081666               0          0          0          0         1   \n",
      "\n",
      "      Cloud_Clear  Cloud_Partly_Cloudy  Cloud_Cloudy  Wind_Light  ...  \\\n",
      "1819            0                    0             1           0  ...   \n",
      "1820            0                    1             0           0  ...   \n",
      "1821            0                    0             1           1  ...   \n",
      "1822            0                    0             1           1  ...   \n",
      "1823            0                    1             0           0  ...   \n",
      "...           ...                  ...           ...         ...  ...   \n",
      "3633            1                    0             0           0  ...   \n",
      "3634            0                    1             0           0  ...   \n",
      "3635            1                    0             0           1  ...   \n",
      "3636            0                    0             1           0  ...   \n",
      "3637            0                    1             0           0  ...   \n",
      "\n",
      "      Weihnachtsmarkt  Markt  Ostertag  Silvester  Werktag  Frühling  Sommer  \\\n",
      "1819                0      0         0          0        1         0       1   \n",
      "1820                0      0         0          0        1         0       1   \n",
      "1821                0      0         0          0        1         0       1   \n",
      "1822                0      0         0          0        1         0       1   \n",
      "1823                0      0         0          0        1         0       1   \n",
      "...               ...    ...       ...        ...      ...       ...     ...   \n",
      "3633                0      0         0          0        1         0       1   \n",
      "3634                0      0         0          0        0         0       1   \n",
      "3635                0      0         0          0        0         0       1   \n",
      "3636                0      0         0          0        1         0       1   \n",
      "3637                0      0         0          0        1         0       1   \n",
      "\n",
      "      Herbst  Winter  Number_of_ships_scaled  \n",
      "1819       0       0                     0.0  \n",
      "1820       0       0                     0.0  \n",
      "1821       0       0                     0.0  \n",
      "1822       0       0                     0.0  \n",
      "1823       0       0                     0.2  \n",
      "...      ...     ...                     ...  \n",
      "3633       0       0                     0.0  \n",
      "3634       0       0                     0.6  \n",
      "3635       0       0                     0.4  \n",
      "3636       0       0                     0.6  \n",
      "3637       0       0                     0.4  \n",
      "\n",
      "[1819 rows x 40 columns]\n"
     ]
    }
   ],
   "source": [
    "import pandas as pd\n",
    "import statsmodels.formula.api as smf\n",
    "import numpy as np\n",
    "\n",
    "data = pd.read_csv(\"/workspaces/bakery_sales_prediction/0_DataPreparation/00_data/data_long.csv\")\n",
    "#print(data.head())\n",
    "#data brot:\n",
    "df= data[data[\"Warengruppe_2\"] == 1].copy()\n",
    "\n",
    "#Werktag\n",
    "df['Werktag'] = (\n",
    "    df[['Montag', 'Dienstag', 'Mittwoch', 'Donnerstag', 'Freitag']].sum(axis=1) > 0\n",
    ") & (df['Feiertag'] == 0)\n",
    "# In 0/1 umwandeln\n",
    "df['Werktag'] = df['Werktag'].astype(int)\n",
    "\n",
    "# Sicherstellen, dass \"Datum\" im Datumsformat ist\n",
    "df['Datum'] = pd.to_datetime(df['Datum'])\n",
    "# Jahreszeiten zuweisen\n",
    "df['Frühling'] = df['Datum'].dt.month.isin([3, 4, 5]).astype(int)\n",
    "df['Sommer'] = df['Datum'].dt.month.isin([6, 7, 8]).astype(int)\n",
    "df['Herbst'] = df['Datum'].dt.month.isin([9, 10, 11]).astype(int)\n",
    "df['Winter'] = df['Datum'].dt.month.isin([12, 1, 2]).astype(int)\n",
    "\n",
    "#Number of Ships skalieren\n",
    "# Min-Max-Skalierung manuell berechnen\n",
    "df['Number_of_ships_scaled'] = (\n",
    "    df['Number_of_ships'] - df['Number_of_ships'].min()\n",
    ") / (df['Number_of_ships'].max() - df['Number_of_ships'].min())\n",
    "\n",
    "df = df.drop(columns=[\"Warengruppe_1\", \"Warengruppe_2\", \"Warengruppe_3\", \"Warengruppe_4\", \"Warengruppe_5\", \"Warengruppe_6\"])\n",
    "df = df.drop(columns=[\"Datum\"])\n",
    "print(df)\n",
    "\n"
   ]
  },
  {
   "cell_type": "code",
   "execution_count": 18,
   "metadata": {},
   "outputs": [
    {
     "name": "stdout",
     "output_type": "stream",
     "text": [
      "Umsatz                    1.000000\n",
      "Sommer                    0.565432\n",
      "is_holiday                0.402799\n",
      "Sonntag                   0.385942\n",
      "Temp_Warm                 0.319574\n",
      "Number_of_ships           0.261063\n",
      "Number_of_ships_scaled    0.261063\n",
      "Ship                      0.254392\n",
      "Samstag                   0.224064\n",
      "Temp_Hot                  0.207087\n",
      "Temp_Mild                 0.185650\n",
      "Feiertag                  0.170925\n",
      "KielerWoche               0.155228\n",
      "Cloud_Clear               0.119683\n",
      "Cloud_Partly_Cloudy       0.117566\n",
      "Ostertag                  0.089856\n",
      "Wind_Moderate             0.085326\n",
      "Silvester                 0.074378\n",
      "Heimspiel                 0.061620\n",
      "Weather_Light_Issues      0.037564\n",
      "Markt                     0.017463\n",
      "Weather_Good              0.010019\n",
      "Weather_Severe           -0.018105\n",
      "Wind_Strong              -0.027271\n",
      "Weather_Moderate         -0.046303\n",
      "VPI                      -0.047680\n",
      "Wind_Light               -0.071655\n",
      "Freitag                  -0.091257\n",
      "Montag                   -0.105254\n",
      "Herbst                   -0.109866\n",
      "Donnerstag               -0.115101\n",
      "Frühling                 -0.133276\n",
      "Temp_Very_Cold           -0.138205\n",
      "Dienstag                 -0.140692\n",
      "Mittwoch                 -0.157966\n",
      "Cloud_Cloudy             -0.203615\n",
      "Weihnachtsmarkt          -0.216563\n",
      "Winter                   -0.340529\n",
      "Temp_Cold                -0.425957\n",
      "Werktag                  -0.496189\n",
      "Name: Umsatz, dtype: float64\n"
     ]
    }
   ],
   "source": [
    "# 1. Schritt 1: Untersuche lineare Korrelation zwischen den einzelnen Features mit der Zielvariable\n",
    "# mit Korrelationsmatrix\n",
    "import pandas as pd\n",
    "\n",
    "# Korrelationsmatrix erstellen\n",
    "correlation_matrix = df.corr()\n",
    "\n",
    "# Korrelation mit der Zielvariable\n",
    "correlation_with_target = correlation_matrix[\"Umsatz\"].sort_values(ascending=False)\n",
    "print(correlation_with_target)\n",
    "\n",
    "\n"
   ]
  },
  {
   "cell_type": "code",
   "execution_count": 19,
   "metadata": {},
   "outputs": [
    {
     "name": "stdout",
     "output_type": "stream",
     "text": [
      "VPI                       0.270371\n",
      "Sommer                    0.200458\n",
      "Werktag                   0.165373\n",
      "Temp_Cold                 0.125101\n",
      "Sonntag                   0.103903\n",
      "is_holiday                0.091818\n",
      "Winter                    0.083544\n",
      "Temp_Warm                 0.060112\n",
      "Temp_Mild                 0.056648\n",
      "Ship                      0.053259\n",
      "Number_of_ships_scaled    0.046259\n",
      "Number_of_ships           0.045674\n",
      "Cloud_Partly_Cloudy       0.035926\n",
      "Samstag                   0.034021\n",
      "Frühling                  0.030156\n",
      "Cloud_Cloudy              0.029113\n",
      "Herbst                    0.028793\n",
      "Dienstag                  0.026578\n",
      "Weihnachtsmarkt           0.023151\n",
      "KielerWoche               0.020005\n",
      "Mittwoch                  0.019813\n",
      "Temp_Hot                  0.018799\n",
      "Feiertag                  0.018543\n",
      "Donnerstag                0.016943\n",
      "Temp_Very_Cold            0.011742\n",
      "Freitag                   0.011613\n",
      "Montag                    0.007884\n",
      "Markt                     0.004057\n",
      "Heimspiel                 0.003915\n",
      "Ostertag                  0.003789\n",
      "Weather_Good              0.003788\n",
      "Weather_Moderate          0.003529\n",
      "Silvester                 0.003074\n",
      "Weather_Light_Issues      0.001949\n",
      "Cloud_Clear               0.000000\n",
      "Wind_Strong               0.000000\n",
      "Wind_Moderate             0.000000\n",
      "Wind_Light                0.000000\n",
      "Weather_Severe            0.000000\n",
      "dtype: float64\n"
     ]
    }
   ],
   "source": [
    "from sklearn.feature_selection import mutual_info_regression\n",
    "\n",
    "# Nicht-lineare Zusammenhänge analysieren\n",
    "X = df.drop(\"Umsatz\", axis=1)\n",
    "y = df[\"Umsatz\"]\n",
    "mi = mutual_info_regression(X, y)\n",
    "mi_series = pd.Series(mi, index=X.columns).sort_values(ascending=False)\n",
    "print(mi_series)\n"
   ]
  },
  {
   "cell_type": "code",
   "execution_count": 20,
   "metadata": {},
   "outputs": [
    {
     "name": "stdout",
     "output_type": "stream",
     "text": [
      "Stark korrelierte Features: ['Wind_Light', 'Wind_Moderate', 'Number_of_ships', 'Ship', 'Number_of_ships_scaled']\n"
     ]
    }
   ],
   "source": [
    "\n",
    "import numpy as np\n",
    "\n",
    "# Korrelationsmatrix berechnen\n",
    "corr_matrix = df.corr()\n",
    "\n",
    "# Stark korrelierte Features (> 0.5) finden\n",
    "high_corr = corr_matrix.abs() > 0.7\n",
    "np.fill_diagonal(high_corr.values, False)  # Hauptdiagonale ignorieren\n",
    "correlated_features = [column for column in high_corr.columns if any(high_corr[column])]\n",
    "print(f\"Stark korrelierte Features:\", correlated_features)"
   ]
  },
  {
   "cell_type": "code",
   "execution_count": 21,
   "metadata": {},
   "outputs": [
    {
     "name": "stderr",
     "output_type": "stream",
     "text": [
      "/workspaces/bakery_sales_prediction/.venv/lib/python3.12/site-packages/statsmodels/stats/outliers_influence.py:197: RuntimeWarning: divide by zero encountered in scalar divide\n",
      "  vif = 1. / (1. - r_squared_i)\n"
     ]
    },
    {
     "name": "stdout",
     "output_type": "stream",
     "text": [
      "                   Feature           VIF\n",
      "0           Temp_Very_Cold           inf\n",
      "1                Temp_Cold           inf\n",
      "2                Temp_Mild           inf\n",
      "3                Temp_Warm  2.420713e+04\n",
      "4                 Temp_Hot  9.317306e+07\n",
      "5              Cloud_Clear           inf\n",
      "6      Cloud_Partly_Cloudy           inf\n",
      "7             Cloud_Cloudy           inf\n",
      "8               Wind_Light  8.637480e+03\n",
      "9            Wind_Moderate  1.756572e+04\n",
      "10             Wind_Strong  1.756503e+06\n",
      "11            Weather_Good           inf\n",
      "12    Weather_Light_Issues  4.001014e+03\n",
      "13        Weather_Moderate           inf\n",
      "14          Weather_Severe           inf\n",
      "15             KielerWoche  1.165031e+00\n",
      "16                  Montag  2.833464e+06\n",
      "17                Dienstag  5.449233e+06\n",
      "18                Mittwoch  2.231505e+04\n",
      "19              Donnerstag  7.410192e+06\n",
      "20                 Freitag  9.134459e+05\n",
      "21                 Samstag  7.821887e+05\n",
      "22                 Sonntag  2.200427e+05\n",
      "23                     VPI  1.106194e+00\n",
      "24         Number_of_ships  1.511093e+05\n",
      "25                    Ship  4.129475e+00\n",
      "26               Heimspiel  1.234344e+00\n",
      "27                Feiertag  2.613869e+00\n",
      "28              is_holiday  1.198137e+00\n",
      "29         Weihnachtsmarkt  1.225059e+00\n",
      "30                   Markt  1.106946e+00\n",
      "31                Ostertag  1.065816e+00\n",
      "32               Silvester  1.029430e+00\n",
      "33                 Werktag  5.474470e+01\n",
      "34                Frühling           inf\n",
      "35                  Sommer           inf\n",
      "36                  Herbst           inf\n",
      "37                  Winter           inf\n",
      "38  Number_of_ships_scaled  5.252916e+06\n"
     ]
    }
   ],
   "source": [
    "from statsmodels.stats.outliers_influence import variance_inflation_factor\n",
    "\n",
    "# VIF für alle Features berechnen\n",
    "X = df.drop(\"Umsatz\", axis=1)\n",
    "vif = pd.DataFrame()\n",
    "vif[\"Feature\"] = X.columns\n",
    "vif[\"VIF\"] = [variance_inflation_factor(X.values, i) for i in range(X.shape[1])]\n",
    "print(vif)\n",
    "\n"
   ]
  },
  {
   "cell_type": "markdown",
   "metadata": {},
   "source": []
  },
  {
   "cell_type": "code",
   "execution_count": 22,
   "metadata": {},
   "outputs": [],
   "source": [
    "# suche miteinander korrelierrende features"
   ]
  },
  {
   "cell_type": "code",
   "execution_count": 23,
   "metadata": {},
   "outputs": [
    {
     "name": "stdout",
     "output_type": "stream",
     "text": [
      "Stark korrelierte Feature-Paare:\n",
      "{('Number_of_ships_scaled', 'Number_of_ships'), ('Werktag', 'Umsatz'), ('Werktag', 'Sonntag'), ('Winter', 'Temp_Mild'), ('Wind_Strong', 'Wind_Moderate'), ('Sommer', 'Temp_Cold'), ('Cloud_Cloudy', 'Cloud_Clear'), ('Weather_Light_Issues', 'Weather_Good'), ('Wind_Moderate', 'Wind_Light'), ('is_holiday', 'Umsatz'), ('Sommer', 'Umsatz'), ('Temp_Cold', 'Umsatz'), ('Werktag', 'Samstag'), ('Winter', 'Temp_Cold'), ('Heimspiel', 'Samstag'), ('Cloud_Cloudy', 'Cloud_Partly_Cloudy'), ('Number_of_ships_scaled', 'Ship'), ('Ship', 'Number_of_ships'), ('Weather_Moderate', 'Weather_Light_Issues'), ('Sommer', 'Temp_Warm'), ('Temp_Mild', 'Temp_Cold')}\n"
     ]
    }
   ],
   "source": [
    "\n",
    "# Korrelationsmatrix berechnen\n",
    "corr_matrix = df.corr()\n",
    "\n",
    "# Schwellenwert für \"stark korreliert\"\n",
    "threshold = 0.4\n",
    "\n",
    "# Finde die Paare mit starker Korrelation\n",
    "strong_corr_pairs = set()\n",
    "\n",
    "# Iteriere über die obere Dreiecksmatrix der Korrelationsmatrix\n",
    "for i in range(len(corr_matrix.columns)):\n",
    "    for j in range(i):\n",
    "        if abs(corr_matrix.iloc[i, j]) > threshold:  # Korrelation über dem Schwellenwert\n",
    "            strong_corr_pairs.add((corr_matrix.columns[i], corr_matrix.columns[j]))\n",
    "\n",
    "# Anzeigen der Paare starker Korrelationen\n",
    "print(\"Stark korrelierte Feature-Paare:\")\n",
    "print(strong_corr_pairs)\n"
   ]
  },
  {
   "cell_type": "markdown",
   "metadata": {},
   "source": []
  },
  {
   "cell_type": "code",
   "execution_count": null,
   "metadata": {},
   "outputs": [],
   "source": []
  }
 ],
 "metadata": {
  "kernelspec": {
   "display_name": ".venv",
   "language": "python",
   "name": "python3"
  },
  "language_info": {
   "codemirror_mode": {
    "name": "ipython",
    "version": 3
   },
   "file_extension": ".py",
   "mimetype": "text/x-python",
   "name": "python",
   "nbconvert_exporter": "python",
   "pygments_lexer": "ipython3",
   "version": "3.12.1"
  }
 },
 "nbformat": 4,
 "nbformat_minor": 2
}
