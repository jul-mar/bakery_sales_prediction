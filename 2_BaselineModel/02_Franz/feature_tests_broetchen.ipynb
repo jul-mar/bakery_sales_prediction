{
 "cells": [
  {
   "cell_type": "code",
   "execution_count": 1,
   "metadata": {},
   "outputs": [
    {
     "name": "stdout",
     "output_type": "stream",
     "text": [
      "          Umsatz  Temp_Very_Cold  Temp_Cold  Temp_Mild  Temp_Warm  Temp_Hot  \\\n",
      "0     535.856285               0          0          1          0         0   \n",
      "1     546.780787               0          0          1          0         0   \n",
      "2     427.343259               0          0          0          1         0   \n",
      "3     454.859641               0          0          1          0         0   \n",
      "4     492.818804               0          0          1          0         0   \n",
      "...          ...             ...        ...        ...        ...       ...   \n",
      "1814  677.415844               0          0          0          0         1   \n",
      "1815  716.576825               0          0          0          0         1   \n",
      "1816  721.822447               0          0          0          1         0   \n",
      "1817  616.358562               0          0          0          0         1   \n",
      "1818  586.081666               0          0          0          0         1   \n",
      "\n",
      "      Cloud_Clear  Cloud_Partly_Cloudy  Cloud_Cloudy  Wind_Light  ...  \\\n",
      "0               0                    0             1           0  ...   \n",
      "1               0                    1             0           0  ...   \n",
      "2               0                    0             1           1  ...   \n",
      "3               0                    0             1           1  ...   \n",
      "4               0                    1             0           0  ...   \n",
      "...           ...                  ...           ...         ...  ...   \n",
      "1814            1                    0             0           0  ...   \n",
      "1815            0                    1             0           0  ...   \n",
      "1816            1                    0             0           1  ...   \n",
      "1817            0                    0             1           0  ...   \n",
      "1818            0                    1             0           0  ...   \n",
      "\n",
      "      Ostertag  Silvester  Werktag  Frühling  Sommer  Herbst  Winter  \\\n",
      "0            0          0        1         0       1       0       0   \n",
      "1            0          0        1         0       1       0       0   \n",
      "2            0          0        1         0       1       0       0   \n",
      "3            0          0        1         0       1       0       0   \n",
      "4            0          0        1         0       1       0       0   \n",
      "...        ...        ...      ...       ...     ...     ...     ...   \n",
      "1814         0          0        1         0       1       0       0   \n",
      "1815         0          0        0         0       1       0       0   \n",
      "1816         0          0        0         0       1       0       0   \n",
      "1817         0          0        1         0       1       0       0   \n",
      "1818         0          0        1         0       1       0       0   \n",
      "\n",
      "      Number_of_ships_scaled  wetter_sehr_schön  wetter_sehr_schlecht  \n",
      "0                        0.0                  0                     0  \n",
      "1                        0.0                  0                     0  \n",
      "2                        0.0                  0                     1  \n",
      "3                        0.0                  0                     0  \n",
      "4                        0.2                  0                     0  \n",
      "...                      ...                ...                   ...  \n",
      "1814                     0.0                  0                     0  \n",
      "1815                     0.6                  0                     0  \n",
      "1816                     0.4                  1                     0  \n",
      "1817                     0.6                  1                     0  \n",
      "1818                     0.4                  0                     0  \n",
      "\n",
      "[1819 rows x 42 columns]\n"
     ]
    }
   ],
   "source": [
    "import pandas as pd\n",
    "import statsmodels.formula.api as smf\n",
    "import numpy as np\n",
    "\n",
    "data = pd.read_csv(\"/workspaces/bakery_sales_prediction/0_DataPreparation/00_data/data_long.csv\")\n",
    "#print(data.head())\n",
    "#data brot:\n",
    "df= data[data[\"Warengruppe_2\"] == 1].copy()\n",
    "data_wetter = pd.read_csv(\"/workspaces/bakery_sales_prediction/2_BaselineModel/02_Franz/weather_data_with_flags.csv\")\n",
    "\n",
    "\n",
    "#Werktag\n",
    "df['Werktag'] = (\n",
    "    df[['Montag', 'Dienstag', 'Mittwoch', 'Donnerstag', 'Freitag']].sum(axis=1) > 0\n",
    ") & (df['Feiertag'] == 0)\n",
    "# In 0/1 umwandeln\n",
    "df['Werktag'] = df['Werktag'].astype(int)\n",
    "\n",
    "# Sicherstellen, dass \"Datum\" im Datumsformat ist\n",
    "df['Datum'] = pd.to_datetime(df['Datum'])\n",
    "# Jahreszeiten zuweisen\n",
    "df['Frühling'] = df['Datum'].dt.month.isin([3, 4, 5]).astype(int)\n",
    "df['Sommer'] = df['Datum'].dt.month.isin([6, 7, 8]).astype(int)\n",
    "df['Herbst'] = df['Datum'].dt.month.isin([9, 10, 11]).astype(int)\n",
    "df['Winter'] = df['Datum'].dt.month.isin([12, 1, 2]).astype(int)\n",
    "\n",
    "#Number of Ships skalieren\n",
    "# Min-Max-Skalierung manuell berechnen\n",
    "df['Number_of_ships_scaled'] = (\n",
    "    df['Number_of_ships'] - df['Number_of_ships'].min()\n",
    ") / (df['Number_of_ships'].max() - df['Number_of_ships'].min())\n",
    "\n",
    "#neue Wetterkategorien\n",
    "data_wetter[\"date\"] = pd.to_datetime(data_wetter[\"date\"])\n",
    "df = df.merge(data_wetter, how=\"left\", left_on=\"Datum\", right_on=\"date\").drop(columns=[\"date\"])\n",
    "\n",
    "df = df.drop(columns=[\"Warengruppe_1\", \"Warengruppe_2\", \"Warengruppe_3\", \"Warengruppe_4\", \"Warengruppe_5\", \"Warengruppe_6\"])\n",
    "df = df.drop(columns=[\"Datum\"])\n",
    "print(df)\n",
    "\n"
   ]
  },
  {
   "cell_type": "code",
   "execution_count": 2,
   "metadata": {},
   "outputs": [
    {
     "name": "stdout",
     "output_type": "stream",
     "text": [
      "Umsatz                    1.000000\n",
      "Sommer                    0.565432\n",
      "is_holiday                0.402799\n",
      "Sonntag                   0.385942\n",
      "Temp_Warm                 0.319574\n",
      "Number_of_ships           0.261063\n",
      "Number_of_ships_scaled    0.261063\n",
      "Ship                      0.254392\n",
      "wetter_sehr_schön         0.238536\n",
      "Samstag                   0.224064\n",
      "Temp_Hot                  0.207087\n",
      "Temp_Mild                 0.185650\n",
      "Feiertag                  0.170925\n",
      "KielerWoche               0.155228\n",
      "Cloud_Clear               0.119683\n",
      "Cloud_Partly_Cloudy       0.117566\n",
      "Ostertag                  0.089856\n",
      "Wind_Moderate             0.085326\n",
      "Silvester                 0.074378\n",
      "Heimspiel                 0.061620\n",
      "Weather_Light_Issues      0.037564\n",
      "Markt                     0.017463\n",
      "Weather_Good              0.010019\n",
      "Weather_Severe           -0.018105\n",
      "Wind_Strong              -0.027271\n",
      "Weather_Moderate         -0.046303\n",
      "VPI                      -0.047680\n",
      "Wind_Light               -0.071655\n",
      "Freitag                  -0.091257\n",
      "wetter_sehr_schlecht     -0.100874\n",
      "Montag                   -0.105254\n",
      "Herbst                   -0.109866\n",
      "Donnerstag               -0.115101\n",
      "Frühling                 -0.133276\n",
      "Temp_Very_Cold           -0.138205\n",
      "Dienstag                 -0.140692\n",
      "Mittwoch                 -0.157966\n",
      "Cloud_Cloudy             -0.203615\n",
      "Weihnachtsmarkt          -0.216563\n",
      "Winter                   -0.340529\n",
      "Temp_Cold                -0.425957\n",
      "Werktag                  -0.496189\n",
      "Name: Umsatz, dtype: float64\n"
     ]
    }
   ],
   "source": [
    "# 1. Schritt 1: Untersuche lineare Korrelation zwischen den einzelnen Features mit der Zielvariable\n",
    "# mit Korrelationsmatrix\n",
    "import pandas as pd\n",
    "\n",
    "# Korrelationsmatrix erstellen\n",
    "correlation_matrix = df.corr()\n",
    "\n",
    "# Korrelation mit der Zielvariable\n",
    "correlation_with_target = correlation_matrix[\"Umsatz\"].sort_values(ascending=False)\n",
    "print(correlation_with_target)\n",
    "\n",
    "\n"
   ]
  },
  {
   "cell_type": "code",
   "execution_count": 3,
   "metadata": {},
   "outputs": [
    {
     "name": "stdout",
     "output_type": "stream",
     "text": [
      "VPI                       0.265282\n",
      "Sommer                    0.200458\n",
      "Werktag                   0.165373\n",
      "Temp_Cold                 0.125101\n",
      "Sonntag                   0.103903\n",
      "is_holiday                0.091818\n",
      "Winter                    0.083544\n",
      "Temp_Warm                 0.060112\n",
      "Temp_Mild                 0.056648\n",
      "Ship                      0.053259\n",
      "Number_of_ships           0.046435\n",
      "Number_of_ships_scaled    0.045650\n",
      "Cloud_Partly_Cloudy       0.035926\n",
      "wetter_sehr_schön         0.035051\n",
      "Samstag                   0.034021\n",
      "Frühling                  0.030156\n",
      "Cloud_Cloudy              0.029113\n",
      "Herbst                    0.028793\n",
      "Dienstag                  0.026578\n",
      "Weihnachtsmarkt           0.023151\n",
      "KielerWoche               0.020005\n",
      "Mittwoch                  0.019813\n",
      "Temp_Hot                  0.018799\n",
      "Feiertag                  0.018543\n",
      "Donnerstag                0.016943\n",
      "wetter_sehr_schlecht      0.012164\n",
      "Temp_Very_Cold            0.011742\n",
      "Freitag                   0.011613\n",
      "Montag                    0.007628\n",
      "Markt                     0.004057\n",
      "Heimspiel                 0.003915\n",
      "Ostertag                  0.003789\n",
      "Weather_Good              0.003788\n",
      "Weather_Moderate          0.003529\n",
      "Silvester                 0.003074\n",
      "Weather_Light_Issues      0.001949\n",
      "Cloud_Clear               0.000000\n",
      "Wind_Light                0.000000\n",
      "Wind_Moderate             0.000000\n",
      "Weather_Severe            0.000000\n",
      "Wind_Strong               0.000000\n",
      "dtype: float64\n"
     ]
    }
   ],
   "source": [
    "from sklearn.feature_selection import mutual_info_regression\n",
    "\n",
    "# Nicht-lineare Zusammenhänge analysieren\n",
    "X = df.drop(\"Umsatz\", axis=1)\n",
    "y = df[\"Umsatz\"]\n",
    "mi = mutual_info_regression(X, y)\n",
    "mi_series = pd.Series(mi, index=X.columns).sort_values(ascending=False)\n",
    "print(mi_series)\n"
   ]
  },
  {
   "cell_type": "code",
   "execution_count": 4,
   "metadata": {},
   "outputs": [
    {
     "name": "stdout",
     "output_type": "stream",
     "text": [
      "Stark korrelierte Features: ['Wind_Light', 'Wind_Moderate', 'Number_of_ships', 'Ship', 'Number_of_ships_scaled']\n"
     ]
    }
   ],
   "source": [
    "\n",
    "import numpy as np\n",
    "\n",
    "# Korrelationsmatrix berechnen\n",
    "corr_matrix = df.corr()\n",
    "\n",
    "# Stark korrelierte Features (> 0.5) finden\n",
    "high_corr = corr_matrix.abs() > 0.7\n",
    "np.fill_diagonal(high_corr.values, False)  # Hauptdiagonale ignorieren\n",
    "correlated_features = [column for column in high_corr.columns if any(high_corr[column])]\n",
    "print(f\"Stark korrelierte Features:\", correlated_features)"
   ]
  },
  {
   "cell_type": "code",
   "execution_count": 5,
   "metadata": {},
   "outputs": [
    {
     "name": "stderr",
     "output_type": "stream",
     "text": [
      "/workspaces/bakery_sales_prediction/.venv/lib/python3.12/site-packages/statsmodels/stats/outliers_influence.py:197: RuntimeWarning: divide by zero encountered in scalar divide\n",
      "  vif = 1. / (1. - r_squared_i)\n"
     ]
    },
    {
     "name": "stdout",
     "output_type": "stream",
     "text": [
      "                   Feature        VIF\n",
      "0           Temp_Very_Cold        inf\n",
      "1                Temp_Cold        inf\n",
      "2                Temp_Mild        inf\n",
      "3                Temp_Warm        inf\n",
      "4                 Temp_Hot        inf\n",
      "5              Cloud_Clear        inf\n",
      "6      Cloud_Partly_Cloudy        inf\n",
      "7             Cloud_Cloudy        inf\n",
      "8               Wind_Light        inf\n",
      "9            Wind_Moderate        inf\n",
      "10             Wind_Strong        inf\n",
      "11            Weather_Good        inf\n",
      "12    Weather_Light_Issues        inf\n",
      "13        Weather_Moderate        inf\n",
      "14          Weather_Severe        inf\n",
      "15             KielerWoche   1.167559\n",
      "16                  Montag        inf\n",
      "17                Dienstag        inf\n",
      "18                Mittwoch        inf\n",
      "19              Donnerstag        inf\n",
      "20                 Freitag        inf\n",
      "21                 Samstag        inf\n",
      "22                 Sonntag        inf\n",
      "23                     VPI   1.108406\n",
      "24         Number_of_ships        inf\n",
      "25                    Ship   4.146443\n",
      "26               Heimspiel   1.234629\n",
      "27                Feiertag   2.618761\n",
      "28              is_holiday   1.201181\n",
      "29         Weihnachtsmarkt   1.226262\n",
      "30                   Markt   1.108218\n",
      "31                Ostertag   1.067842\n",
      "32               Silvester   1.029592\n",
      "33                 Werktag  55.134618\n",
      "34                Frühling        inf\n",
      "35                  Sommer        inf\n",
      "36                  Herbst        inf\n",
      "37                  Winter        inf\n",
      "38  Number_of_ships_scaled        inf\n",
      "39       wetter_sehr_schön   1.705296\n",
      "40    wetter_sehr_schlecht   1.322832\n"
     ]
    }
   ],
   "source": [
    "from statsmodels.stats.outliers_influence import variance_inflation_factor\n",
    "\n",
    "# VIF für alle Features berechnen\n",
    "X = df.drop(\"Umsatz\", axis=1)\n",
    "vif = pd.DataFrame()\n",
    "vif[\"Feature\"] = X.columns\n",
    "vif[\"VIF\"] = [variance_inflation_factor(X.values, i) for i in range(X.shape[1])]\n",
    "print(vif)\n",
    "\n"
   ]
  },
  {
   "cell_type": "markdown",
   "metadata": {},
   "source": []
  },
  {
   "cell_type": "code",
   "execution_count": 6,
   "metadata": {},
   "outputs": [],
   "source": [
    "# suche miteinander korrelierrende features\n"
   ]
  },
  {
   "cell_type": "code",
   "execution_count": 7,
   "metadata": {},
   "outputs": [
    {
     "name": "stdout",
     "output_type": "stream",
     "text": [
      "Stark korrelierte Feature-Paare:\n",
      "{('Weather_Moderate', 'Weather_Light_Issues'), ('Werktag', 'Samstag'), ('Number_of_ships_scaled', 'Ship'), ('Sommer', 'Temp_Warm'), ('Wind_Moderate', 'Wind_Light'), ('Werktag', 'Sonntag'), ('Sommer', 'Umsatz'), ('Ship', 'Number_of_ships'), ('Sommer', 'Temp_Cold'), ('Winter', 'Temp_Cold'), ('Temp_Cold', 'Umsatz'), ('Wind_Strong', 'Wind_Moderate'), ('is_holiday', 'Umsatz'), ('Temp_Mild', 'Temp_Cold'), ('Weather_Light_Issues', 'Weather_Good'), ('Winter', 'Temp_Mild'), ('wetter_sehr_schön', 'Temp_Hot'), ('Number_of_ships_scaled', 'Number_of_ships'), ('Cloud_Cloudy', 'Cloud_Clear'), ('Cloud_Cloudy', 'Cloud_Partly_Cloudy'), ('Heimspiel', 'Samstag'), ('Werktag', 'Umsatz')}\n"
     ]
    }
   ],
   "source": [
    "\n",
    "# Korrelationsmatrix berechnen\n",
    "corr_matrix = df.corr()\n",
    "\n",
    "# Schwellenwert für \"stark korreliert\"\n",
    "threshold = 0.4\n",
    "\n",
    "# Finde die Paare mit starker Korrelation\n",
    "strong_corr_pairs = set()\n",
    "\n",
    "# Iteriere über die obere Dreiecksmatrix der Korrelationsmatrix\n",
    "for i in range(len(corr_matrix.columns)):\n",
    "    for j in range(i):\n",
    "        if abs(corr_matrix.iloc[i, j]) > threshold:  # Korrelation über dem Schwellenwert\n",
    "            strong_corr_pairs.add((corr_matrix.columns[i], corr_matrix.columns[j]))\n",
    "\n",
    "# Anzeigen der Paare starker Korrelationen\n",
    "print(\"Stark korrelierte Feature-Paare:\")\n",
    "print(strong_corr_pairs)\n"
   ]
  },
  {
   "cell_type": "markdown",
   "metadata": {},
   "source": []
  },
  {
   "cell_type": "code",
   "execution_count": null,
   "metadata": {},
   "outputs": [],
   "source": []
  }
 ],
 "metadata": {
  "kernelspec": {
   "display_name": ".venv",
   "language": "python",
   "name": "python3"
  },
  "language_info": {
   "codemirror_mode": {
    "name": "ipython",
    "version": 3
   },
   "file_extension": ".py",
   "mimetype": "text/x-python",
   "name": "python",
   "nbconvert_exporter": "python",
   "pygments_lexer": "ipython3",
   "version": "3.12.1"
  }
 },
 "nbformat": 4,
 "nbformat_minor": 2
}
