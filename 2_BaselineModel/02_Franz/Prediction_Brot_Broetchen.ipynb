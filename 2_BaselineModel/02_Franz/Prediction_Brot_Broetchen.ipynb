{
 "cells": [
  {
   "cell_type": "code",
   "execution_count": 21,
   "metadata": {},
   "outputs": [
    {
     "name": "stdout",
     "output_type": "stream",
     "text": [
      "                            OLS Regression Results                            \n",
      "==============================================================================\n",
      "Dep. Variable:              Broetchen   R-squared:                       0.046\n",
      "Model:                            OLS   Adj. R-squared:                  0.045\n",
      "Method:                 Least Squares   F-statistic:                     70.49\n",
      "Date:                Thu, 05 Dec 2024   Prob (F-statistic):           1.08e-16\n",
      "Time:                        22:42:34   Log-Likelihood:                -9279.3\n",
      "No. Observations:                1462   AIC:                         1.856e+04\n",
      "Df Residuals:                    1460   BIC:                         1.857e+04\n",
      "Df Model:                           1                                         \n",
      "Covariance Type:            nonrobust                                         \n",
      "===================================================================================\n",
      "                      coef    std err          t      P>|t|      [0.025      0.975]\n",
      "-----------------------------------------------------------------------------------\n",
      "const             419.7514      3.776    111.177      0.000     412.345     427.157\n",
      "Weihnachtsmarkt  -109.7357     13.070     -8.396      0.000    -135.373     -84.098\n",
      "==============================================================================\n",
      "Omnibus:                      145.251   Durbin-Watson:                   0.605\n",
      "Prob(Omnibus):                  0.000   Jarque-Bera (JB):              189.097\n",
      "Skew:                           0.832   Prob(JB):                     8.67e-42\n",
      "Kurtosis:                       3.576   Cond. No.                         3.64\n",
      "==============================================================================\n",
      "\n",
      "Notes:\n",
      "[1] Standard Errors assume that the covariance matrix of the errors is correctly specified.\n",
      "\n",
      "- - - - - Predictions for test data: - - - - -\n",
      " 0      419.751435\n",
      "1      419.751435\n",
      "2      419.751435\n",
      "3      419.751435\n",
      "4      419.751435\n",
      "          ...    \n",
      "352    419.751435\n",
      "353    419.751435\n",
      "354    419.751435\n",
      "355    419.751435\n",
      "356    419.751435\n",
      "Length: 357, dtype: float64\n"
     ]
    }
   ],
   "source": [
    "import pandas as pd  # For data manipulation and handling\n",
    "import statsmodels.formula.api as smf  # For statistical modeling\n",
    "import statsmodels.api as sm  # Building and summarizing regression models\n",
    "from sklearn.preprocessing import StandardScaler  # Scaling features for regression\n",
    "from sklearn.model_selection import train_test_split  # Splitting data into train and test sets\n",
    "import matplotlib.pyplot as plt  # Visualization library\n",
    "import seaborn as sns  # Advanced data visualizations\n",
    "\n",
    "data_train = pd.read_csv(\"/workspaces/bakery_sales_prediction/0_DataPreparation/Trainingsdaten.csv\")\n",
    "data_vali = pd.read_csv(\"/workspaces/bakery_sales_prediction/0_DataPreparation/Validierungsdaten.csv\")\n",
    "\n",
    "# Select features and target variable\n",
    "features = ['Weihnachtsmarkt']\n",
    "X_train = data_train[features]\n",
    "y_train = data_train['Broetchen']\n",
    "X_vali = data_vali[features]\n",
    "y_vali = data_vali['Broetchen']\n",
    "\n",
    "# Scale the feature data to standardize the range (notwendig wegen unterschiedlicher Einheiten)\n",
    "scaler = StandardScaler()\n",
    "X_scaled = scaler.fit_transform(X_train)\n",
    "\n",
    "# Add a constant term to the training data for the regression intercept\n",
    "X_train = sm.add_constant(X_train)\n",
    "\n",
    "# Train the linear regression model using Statsmodels\n",
    "model = sm.OLS(y_train, X_train).fit()\n",
    "\n",
    "# Print the summary of the regression model\n",
    "print(model.summary())\n",
    "\n",
    "# Make predictions on the test set\n",
    "X_vali = sm.add_constant(X_vali)  # Add constant to test set for predictions\n",
    "predictions = model.predict(X_vali)\n",
    "print(\"\\n- - - - - Predictions for test data: - - - - -\\n\", predictions)\n",
    "\n",
    "# das hier zeigt alle Daten an\n",
    "# print(predictions.to_string())\n"
   ]
  },
  {
   "cell_type": "code",
   "execution_count": null,
   "metadata": {},
   "outputs": [],
   "source": []
  }
 ],
 "metadata": {
  "kernelspec": {
   "display_name": ".venv",
   "language": "python",
   "name": "python3"
  },
  "language_info": {
   "codemirror_mode": {
    "name": "ipython",
    "version": 3
   },
   "file_extension": ".py",
   "mimetype": "text/x-python",
   "name": "python",
   "nbconvert_exporter": "python",
   "pygments_lexer": "ipython3",
   "version": "3.12.1"
  }
 },
 "nbformat": 4,
 "nbformat_minor": 2
}
