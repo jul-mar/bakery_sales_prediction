{
 "cells": [
  {
   "cell_type": "code",
   "execution_count": null,
   "metadata": {},
   "outputs": [],
   "source": [
    "import pandas as pd\n",
    "import numpy as np\n",
    "# import the stats packages i need\n",
    "from scipy import stats\n",
    "import statsmodels.api as sm\n",
    "import statsmodels.formula.api as smf\n",
    "import matplotlib.pyplot as plt"
   ]
  },
  {
   "cell_type": "code",
   "execution_count": null,
   "metadata": {},
   "outputs": [],
   "source": [
    "#import the training and validation data\n",
    "train = pd.read_csv('../../0_DataPreparation/Trainingsdaten.csv')\n",
    "#convert the ship colum from True and False to 1 and 0\n",
    "train['Ship'] = train['Ship'].astype(int)\n",
    "#add a colum with true/false for the day before a Feiertag\n",
    "train['Feiertag-1'] = train['Feiertag'].shift(1)\n",
    "print(train.head())\n",
    "validierung = pd.read_csv('../../0_DataPreparation/Validierungsdaten.csv')\n",
    "validierung['Ship'] = validierung['Ship'].astype(int)\n",
    "validierung['Feiertag-1'] = validierung['Feiertag'].shift(1)"
   ]
  },
  {
   "cell_type": "code",
   "execution_count": null,
   "metadata": {},
   "outputs": [],
   "source": [
    "#lets start with a simple linear regression model using the smf package\n",
    "#we will use the training data\n",
    "#fit the linear regression model\n",
    "lm = smf.ols(formula='Ship ~ Umsatz_total', data=train).fit()\n",
    "#print the summary of the model\n",
    "print(lm.summary())"
   ]
  },
  {
   "cell_type": "code",
   "execution_count": null,
   "metadata": {},
   "outputs": [],
   "source": [
    "#lets build a multiple linear regression model\n",
    "#remove all rows wuth missing values from the training data\n",
    "train = train.dropna()\n",
    "#select the features for the model\n",
    "features = ['Ship', 'Feiertag', 'Feiertag-1', 'Croissant', 'Konditorei']\n",
    "x_train = train[features]\n",
    "print(x_train.head())\n",
    "#remove all rows wuth missing values\n",
    "x_train = x_train.dropna()\n",
    "y_train = train['Umsatz_total']\n",
    "\n",
    "#lets scale the features\n",
    "scaler = StandardScaler()\n",
    "x_train = scaler.fit_transform(x_train)\n",
    "\n",
    "# Add a constant term to the training data for the regression intercept\n",
    "x_train = sm.add_constant(x_train)\n",
    "\n",
    "# Train the linear regression model using Statsmodels\n",
    "model = sm.OLS(y_train, x_train).fit()\n",
    "\n",
    "# Print the summary of the regression model\n",
    "# Includes metrics like R-squared, coefficients, and p-values for each feature\n",
    "print(model.summary())\n",
    "\n",
    "#lets predict the validation data\n",
    "validierung = validierung.dropna()\n",
    "x_validierung = validierung[features]\n",
    "print(x_validierung.head())\n",
    "x_validierung = scaler.fit_transform(x_validierung)  # Use transform instead of fit_transform\n",
    "x_validierung = sm.add_constant(x_validierung)  # Add constant after scaling\n",
    "y_validierung = validierung['Umsatz_total']\n",
    "\n",
    "#predict the validation data\n",
    "predictions = model.predict(x_validierung)\n",
    "print(predictions)\n",
    "\n",
    "# Calculate Mean Absolute Percentage Error (MAPE) for error evaluation\n",
    "mape = (abs((y_validierung - predictions) / y_validierung).mean()) * 100\n",
    "print(f\"Mean Absolute Percentage Error (MAPE): {mape:.2f}%\")\n",
    "\n"
   ]
  }
 ],
 "metadata": {
  "kernelspec": {
   "display_name": "Python 3",
   "language": "python",
   "name": "python3"
  },
  "language_info": {
   "name": "python",
   "version": "3.12.1"
  }
 },
 "nbformat": 4,
 "nbformat_minor": 2
}
