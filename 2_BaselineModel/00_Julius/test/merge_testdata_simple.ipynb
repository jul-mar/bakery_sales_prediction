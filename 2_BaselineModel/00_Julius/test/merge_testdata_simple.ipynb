{
 "cells": [
  {
   "cell_type": "code",
   "execution_count": 1,
   "metadata": {},
   "outputs": [],
   "source": [
    "#packete für data handling laden\n",
    "import pandas as pd\n",
    "import numpy as np\n",
    "import matplotlib.pyplot as plt\n",
    "import seaborn as sns\n",
    "import os"
   ]
  },
  {
   "cell_type": "code",
   "execution_count": 2,
   "metadata": {},
   "outputs": [
    {
     "name": "stdout",
     "output_type": "stream",
     "text": [
      "        id       Datum  Warengruppe\n",
      "0  1808011  2018-08-01            1\n",
      "1  1808021  2018-08-02            1\n",
      "2  1808031  2018-08-03            1\n",
      "3  1808041  2018-08-04            1\n",
      "4  1808051  2018-08-05            1\n",
      "           id       Datum  Warengruppe\n",
      "1825  1812226  2018-12-22            6\n",
      "1826  1812236  2018-12-23            6\n",
      "1827  1812246  2018-12-24            6\n",
      "1828  1812276  2018-12-27            6\n",
      "1829  1812286  2018-12-28            6\n",
      "(1830, 3)\n"
     ]
    }
   ],
   "source": [
    "#Einlesen der Testdaten von Kaggle\n",
    "\n",
    "#Umsatzdaten\n",
    "umsatz = pd.read_csv(\"/workspaces/bakery_sales_prediction/2_BaselineModel/test.csv\")\n",
    "print(umsatz.head())\n",
    "print(umsatz.tail())\n",
    "print(umsatz.shape)"
   ]
  },
  {
   "cell_type": "code",
   "execution_count": 3,
   "metadata": {},
   "outputs": [
    {
     "name": "stdout",
     "output_type": "stream",
     "text": [
      "        id       Datum  Warengruppe_1  Warengruppe_2  Warengruppe_3  \\\n",
      "0  1808011  2018-08-01              1              0              0   \n",
      "1  1808021  2018-08-02              1              0              0   \n",
      "2  1808031  2018-08-03              1              0              0   \n",
      "3  1808041  2018-08-04              1              0              0   \n",
      "4  1808051  2018-08-05              1              0              0   \n",
      "\n",
      "   Warengruppe_4  Warengruppe_5  Warengruppe_6  \n",
      "0              0              0              0  \n",
      "1              0              0              0  \n",
      "2              0              0              0  \n",
      "3              0              0              0  \n",
      "4              0              0              0  \n",
      "(1830, 8)\n"
     ]
    }
   ],
   "source": [
    "#Warengruppen one hot encoden\n",
    "\n",
    "umsatz = pd.get_dummies(umsatz, columns=['Warengruppe'])\n",
    "umsatz = umsatz * 1\n",
    "print(umsatz.head())\n",
    "print(umsatz.shape)"
   ]
  },
  {
   "cell_type": "code",
   "execution_count": 4,
   "metadata": {},
   "outputs": [
    {
     "name": "stdout",
     "output_type": "stream",
     "text": [
      "        Datum  Temp_Very_Cold  Temp_Cold  Temp_Mild  Temp_Warm  Temp_Hot  \\\n",
      "0  2012-01-01               0          1          0          0         0   \n",
      "1  2012-01-02               0          1          0          0         0   \n",
      "2  2012-01-03               0          1          0          0         0   \n",
      "3  2012-01-04               0          1          0          0         0   \n",
      "4  2012-01-05               0          1          0          0         0   \n",
      "\n",
      "   Cloud_Clear  Cloud_Partly_Cloudy  Cloud_Cloudy  Wind_Light  Wind_Moderate  \\\n",
      "0            0                    0             1           0              1   \n",
      "1            0                    0             1           0              1   \n",
      "2            0                    0             1           0              0   \n",
      "3            0                    1             0           0              0   \n",
      "4            0                    0             1           0              0   \n",
      "\n",
      "   Wind_Strong  Weather_Good  Weather_Light_Issues  Weather_Moderate  \\\n",
      "0            0             0                     1                 0   \n",
      "1            0             0                     1                 0   \n",
      "2            1             0                     1                 0   \n",
      "3            1             0                     0                 0   \n",
      "4            1             0                     0                 0   \n",
      "\n",
      "   Weather_Severe  \n",
      "0               0  \n",
      "1               0  \n",
      "2               0  \n",
      "3               1  \n",
      "4               1  \n",
      "           Datum  Temp_Very_Cold  Temp_Cold  Temp_Mild  Temp_Warm  Temp_Hot  \\\n",
      "2765  2019-07-28               0          0          0          1         0   \n",
      "2766  2019-07-29               0          0          0          0         1   \n",
      "2767  2019-07-30               0          0          0          1         0   \n",
      "2768  2019-07-31               0          0          0          1         0   \n",
      "2769  2019-08-01               0          0          0          1         0   \n",
      "\n",
      "      Cloud_Clear  Cloud_Partly_Cloudy  Cloud_Cloudy  Wind_Light  \\\n",
      "2765            0                    1             0           0   \n",
      "2766            0                    0             1           1   \n",
      "2767            0                    0             1           1   \n",
      "2768            0                    0             1           1   \n",
      "2769            0                    1             0           0   \n",
      "\n",
      "      Wind_Moderate  Wind_Strong  Weather_Good  Weather_Light_Issues  \\\n",
      "2765              1            0             0                     0   \n",
      "2766              0            0             0                     1   \n",
      "2767              0            0             0                     1   \n",
      "2768              0            0             0                     1   \n",
      "2769              1            0             0                     1   \n",
      "\n",
      "      Weather_Moderate  Weather_Severe  \n",
      "2765                 1               0  \n",
      "2766                 0               0  \n",
      "2767                 0               0  \n",
      "2768                 0               0  \n",
      "2769                 0               0  \n",
      "(2770, 16)\n"
     ]
    }
   ],
   "source": [
    "#Wetterdaten\n",
    "wetter = pd.read_csv(\"/workspaces/bakery_sales_prediction/0_DataPreparation/07_Wetter/07_wetter.csv\")\n",
    "print(wetter.head())\n",
    "print(wetter.tail())\n",
    "print(wetter.shape)"
   ]
  },
  {
   "cell_type": "code",
   "execution_count": 5,
   "metadata": {},
   "outputs": [
    {
     "name": "stdout",
     "output_type": "stream",
     "text": [
      "        id       Datum  Warengruppe_1  Warengruppe_2  Warengruppe_3  \\\n",
      "0  1808011  2018-08-01              1              0              0   \n",
      "1  1808021  2018-08-02              1              0              0   \n",
      "2  1808031  2018-08-03              1              0              0   \n",
      "3  1808041  2018-08-04              1              0              0   \n",
      "4  1808051  2018-08-05              1              0              0   \n",
      "\n",
      "   Warengruppe_4  Warengruppe_5  Warengruppe_6  Temp_Very_Cold  Temp_Cold  \\\n",
      "0              0              0              0               0          0   \n",
      "1              0              0              0               0          0   \n",
      "2              0              0              0               0          0   \n",
      "3              0              0              0               0          0   \n",
      "4              0              0              0               0          0   \n",
      "\n",
      "   ...  Cloud_Clear  Cloud_Partly_Cloudy  Cloud_Cloudy  Wind_Light  \\\n",
      "0  ...            1                    0             0           0   \n",
      "1  ...            1                    0             0           0   \n",
      "2  ...            1                    0             0           0   \n",
      "3  ...            0                    1             0           0   \n",
      "4  ...            0                    0             1           0   \n",
      "\n",
      "   Wind_Moderate  Wind_Strong  Weather_Good  Weather_Light_Issues  \\\n",
      "0              1            0             1                     0   \n",
      "1              1            0             1                     0   \n",
      "2              1            0             1                     0   \n",
      "3              1            0             1                     0   \n",
      "4              1            0             0                     1   \n",
      "\n",
      "   Weather_Moderate  Weather_Severe  \n",
      "0                 0               0  \n",
      "1                 0               0  \n",
      "2                 0               0  \n",
      "3                 0               0  \n",
      "4                 0               0  \n",
      "\n",
      "[5 rows x 23 columns]\n",
      "(1830, 23)\n"
     ]
    }
   ],
   "source": [
    "#nun können die Umsatzdaten mit den Wetterdaten zusammengeführt werden\n",
    "#merge the data\n",
    "data = pd.merge(umsatz,wetter, how='left', on='Datum')\n",
    "print(data.head())\n",
    "print(data.shape)\n",
    "\n",
    "#es werden nur die Zeilen behalten, für welche es Umsatzdaten gibt"
   ]
  },
  {
   "cell_type": "code",
   "execution_count": 6,
   "metadata": {},
   "outputs": [
    {
     "name": "stdout",
     "output_type": "stream",
     "text": [
      "        Datum  KielerWoche\n",
      "0  2012-06-16            1\n",
      "1  2012-06-17            1\n",
      "2  2012-06-18            1\n",
      "3  2012-06-19            1\n",
      "4  2012-06-20            1\n",
      "         Datum  KielerWoche\n",
      "67  2019-06-26            1\n",
      "68  2019-06-27            1\n",
      "69  2019-06-28            1\n",
      "70  2019-06-29            1\n",
      "71  2019-06-30            1\n",
      "(72, 2)\n"
     ]
    }
   ],
   "source": [
    "#Kieler Woche Daten\n",
    "kiwo = pd.read_csv(\"/workspaces/bakery_sales_prediction/0_DataPreparation/kiwo.csv\")\n",
    "print(kiwo.head())\n",
    "print(kiwo.tail())\n",
    "print(kiwo.shape)"
   ]
  },
  {
   "cell_type": "code",
   "execution_count": 7,
   "metadata": {},
   "outputs": [
    {
     "name": "stdout",
     "output_type": "stream",
     "text": [
      "        id       Datum  Warengruppe_1  Warengruppe_2  Warengruppe_3  \\\n",
      "0  1808011  2018-08-01              1              0              0   \n",
      "1  1808021  2018-08-02              1              0              0   \n",
      "2  1808031  2018-08-03              1              0              0   \n",
      "3  1808041  2018-08-04              1              0              0   \n",
      "4  1808051  2018-08-05              1              0              0   \n",
      "\n",
      "   Warengruppe_4  Warengruppe_5  Warengruppe_6  Temp_Very_Cold  Temp_Cold  \\\n",
      "0              0              0              0               0          0   \n",
      "1              0              0              0               0          0   \n",
      "2              0              0              0               0          0   \n",
      "3              0              0              0               0          0   \n",
      "4              0              0              0               0          0   \n",
      "\n",
      "   ...  Cloud_Partly_Cloudy  Cloud_Cloudy  Wind_Light  Wind_Moderate  \\\n",
      "0  ...                    0             0           0              1   \n",
      "1  ...                    0             0           0              1   \n",
      "2  ...                    0             0           0              1   \n",
      "3  ...                    1             0           0              1   \n",
      "4  ...                    0             1           0              1   \n",
      "\n",
      "   Wind_Strong  Weather_Good  Weather_Light_Issues  Weather_Moderate  \\\n",
      "0            0             1                     0                 0   \n",
      "1            0             1                     0                 0   \n",
      "2            0             1                     0                 0   \n",
      "3            0             1                     0                 0   \n",
      "4            0             0                     1                 0   \n",
      "\n",
      "   Weather_Severe  KielerWoche  \n",
      "0               0          NaN  \n",
      "1               0          NaN  \n",
      "2               0          NaN  \n",
      "3               0          NaN  \n",
      "4               0          NaN  \n",
      "\n",
      "[5 rows x 24 columns]\n",
      "(1830, 24)\n",
      "        id       Datum  Warengruppe_1  Warengruppe_2  Warengruppe_3  \\\n",
      "0  1808011  2018-08-01              1              0              0   \n",
      "1  1808021  2018-08-02              1              0              0   \n",
      "2  1808031  2018-08-03              1              0              0   \n",
      "3  1808041  2018-08-04              1              0              0   \n",
      "4  1808051  2018-08-05              1              0              0   \n",
      "\n",
      "   Warengruppe_4  Warengruppe_5  Warengruppe_6  Temp_Very_Cold  Temp_Cold  \\\n",
      "0              0              0              0               0          0   \n",
      "1              0              0              0               0          0   \n",
      "2              0              0              0               0          0   \n",
      "3              0              0              0               0          0   \n",
      "4              0              0              0               0          0   \n",
      "\n",
      "   ...  Cloud_Partly_Cloudy  Cloud_Cloudy  Wind_Light  Wind_Moderate  \\\n",
      "0  ...                    0             0           0              1   \n",
      "1  ...                    0             0           0              1   \n",
      "2  ...                    0             0           0              1   \n",
      "3  ...                    1             0           0              1   \n",
      "4  ...                    0             1           0              1   \n",
      "\n",
      "   Wind_Strong  Weather_Good  Weather_Light_Issues  Weather_Moderate  \\\n",
      "0            0             1                     0                 0   \n",
      "1            0             1                     0                 0   \n",
      "2            0             1                     0                 0   \n",
      "3            0             1                     0                 0   \n",
      "4            0             0                     1                 0   \n",
      "\n",
      "   Weather_Severe  KielerWoche  \n",
      "0               0            0  \n",
      "1               0            0  \n",
      "2               0            0  \n",
      "3               0            0  \n",
      "4               0            0  \n",
      "\n",
      "[5 rows x 24 columns]\n",
      "(1830, 24)\n"
     ]
    }
   ],
   "source": [
    "# und nun noch die Kieler Woche Daten hinzufügen\n",
    "data = pd.merge(data, kiwo, how='left', on='Datum')\n",
    "print(data.head())\n",
    "print(data.shape)\n",
    "\n",
    "#im moment steht da eine 1.0 wenn es Kieler Woche ist und eine NaN wenn nicht. Das ändern wir jetzt\n",
    "data['KielerWoche'] = data['KielerWoche'].fillna(0)\n",
    "data['KielerWoche'] = data['KielerWoche'].astype(int)\n",
    "print(data.head())\n",
    "print(data.shape)"
   ]
  },
  {
   "cell_type": "code",
   "execution_count": 11,
   "metadata": {},
   "outputs": [],
   "source": [
    "data = data.drop(['id'], axis=1)"
   ]
  },
  {
   "cell_type": "code",
   "execution_count": 12,
   "metadata": {},
   "outputs": [],
   "source": [
    "#exportieren der Daten als csv\n",
    "data.to_csv(\"testdata_simple.csv\", index=False)"
   ]
  }
 ],
 "metadata": {
  "kernelspec": {
   "display_name": "Python 3",
   "language": "python",
   "name": "python3"
  },
  "language_info": {
   "codemirror_mode": {
    "name": "ipython",
    "version": 3
   },
   "file_extension": ".py",
   "mimetype": "text/x-python",
   "name": "python",
   "nbconvert_exporter": "python",
   "pygments_lexer": "ipython3",
   "version": "3.12.1"
  }
 },
 "nbformat": 4,
 "nbformat_minor": 2
}
