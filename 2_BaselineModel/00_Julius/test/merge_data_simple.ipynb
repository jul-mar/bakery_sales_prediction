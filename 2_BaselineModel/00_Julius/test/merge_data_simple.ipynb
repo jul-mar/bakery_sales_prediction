{
 "cells": [
  {
   "cell_type": "code",
   "execution_count": 5,
   "metadata": {},
   "outputs": [],
   "source": [
    "#packete für data handling laden\n",
    "import pandas as pd\n",
    "import numpy as np\n",
    "import matplotlib.pyplot as plt\n",
    "import seaborn as sns\n",
    "import os"
   ]
  },
  {
   "cell_type": "code",
   "execution_count": 6,
   "metadata": {},
   "outputs": [
    {
     "name": "stdout",
     "output_type": "stream",
     "text": [
      "        Datum  Warengruppe      Umsatz\n",
      "0  2013-07-01            1  148.828353\n",
      "1  2013-07-02            1  159.793757\n",
      "2  2013-07-03            1  111.885594\n",
      "3  2013-07-04            1  168.864941\n",
      "4  2013-07-05            1  171.280754\n",
      "           Datum  Warengruppe     Umsatz\n",
      "9329  2017-12-21            6  87.471228\n",
      "9330  2017-12-22            6  71.911652\n",
      "9331  2017-12-23            6  84.062223\n",
      "9332  2017-12-24            6  60.981969\n",
      "9333  2017-12-27            6  34.972644\n",
      "(9334, 3)\n"
     ]
    }
   ],
   "source": [
    "#Einlesen der Testdaten von Kaggle\n",
    "\n",
    "#Umsatzdaten\n",
    "umsatz = pd.read_csv(\"/workspaces/bakery_sales_prediction/0_DataPreparation/umsatzdaten_gekuerzt.csv\")\n",
    "print(umsatz.head())\n",
    "print(umsatz.tail())\n",
    "print(umsatz.shape)"
   ]
  },
  {
   "cell_type": "code",
   "execution_count": 7,
   "metadata": {},
   "outputs": [
    {
     "name": "stdout",
     "output_type": "stream",
     "text": [
      "        Datum      Umsatz  Warengruppe_1  Warengruppe_2  Warengruppe_3  \\\n",
      "0  2013-07-01  148.828353              1              0              0   \n",
      "1  2013-07-02  159.793757              1              0              0   \n",
      "2  2013-07-03  111.885594              1              0              0   \n",
      "3  2013-07-04  168.864941              1              0              0   \n",
      "4  2013-07-05  171.280754              1              0              0   \n",
      "\n",
      "   Warengruppe_4  Warengruppe_5  Warengruppe_6  \n",
      "0              0              0              0  \n",
      "1              0              0              0  \n",
      "2              0              0              0  \n",
      "3              0              0              0  \n",
      "4              0              0              0  \n",
      "(9334, 8)\n"
     ]
    }
   ],
   "source": [
    "#Warengruppen one hot encoden\n",
    "\n",
    "umsatz = pd.get_dummies(umsatz, columns=['Warengruppe'])\n",
    "umsatz = umsatz * 1\n",
    "print(umsatz.head())\n",
    "print(umsatz.shape)"
   ]
  },
  {
   "cell_type": "code",
   "execution_count": 8,
   "metadata": {},
   "outputs": [
    {
     "name": "stdout",
     "output_type": "stream",
     "text": [
      "        Datum  Temp_Very_Cold  Temp_Cold  Temp_Mild  Temp_Warm  Temp_Hot  \\\n",
      "0  2012-01-01               0          1          0          0         0   \n",
      "1  2012-01-02               0          1          0          0         0   \n",
      "2  2012-01-03               0          1          0          0         0   \n",
      "3  2012-01-04               0          1          0          0         0   \n",
      "4  2012-01-05               0          1          0          0         0   \n",
      "\n",
      "   Cloud_Clear  Cloud_Partly_Cloudy  Cloud_Cloudy  Wind_Light  Wind_Moderate  \\\n",
      "0            0                    0             1           0              1   \n",
      "1            0                    0             1           0              1   \n",
      "2            0                    0             1           0              0   \n",
      "3            0                    1             0           0              0   \n",
      "4            0                    0             1           0              0   \n",
      "\n",
      "   Wind_Strong  Weather_Good  Weather_Light_Issues  Weather_Moderate  \\\n",
      "0            0             0                     1                 0   \n",
      "1            0             0                     1                 0   \n",
      "2            1             0                     1                 0   \n",
      "3            1             0                     0                 0   \n",
      "4            1             0                     0                 0   \n",
      "\n",
      "   Weather_Severe  \n",
      "0               0  \n",
      "1               0  \n",
      "2               0  \n",
      "3               1  \n",
      "4               1  \n",
      "           Datum  Temp_Very_Cold  Temp_Cold  Temp_Mild  Temp_Warm  Temp_Hot  \\\n",
      "2765  2019-07-28               0          0          0          1         0   \n",
      "2766  2019-07-29               0          0          0          0         1   \n",
      "2767  2019-07-30               0          0          0          1         0   \n",
      "2768  2019-07-31               0          0          0          1         0   \n",
      "2769  2019-08-01               0          0          0          1         0   \n",
      "\n",
      "      Cloud_Clear  Cloud_Partly_Cloudy  Cloud_Cloudy  Wind_Light  \\\n",
      "2765            0                    1             0           0   \n",
      "2766            0                    0             1           1   \n",
      "2767            0                    0             1           1   \n",
      "2768            0                    0             1           1   \n",
      "2769            0                    1             0           0   \n",
      "\n",
      "      Wind_Moderate  Wind_Strong  Weather_Good  Weather_Light_Issues  \\\n",
      "2765              1            0             0                     0   \n",
      "2766              0            0             0                     1   \n",
      "2767              0            0             0                     1   \n",
      "2768              0            0             0                     1   \n",
      "2769              1            0             0                     1   \n",
      "\n",
      "      Weather_Moderate  Weather_Severe  \n",
      "2765                 1               0  \n",
      "2766                 0               0  \n",
      "2767                 0               0  \n",
      "2768                 0               0  \n",
      "2769                 0               0  \n",
      "(2770, 16)\n"
     ]
    }
   ],
   "source": [
    "#Wetterdaten\n",
    "wetter = pd.read_csv(\"/workspaces/bakery_sales_prediction/0_DataPreparation/07_Wetter/07_wetter.csv\")\n",
    "print(wetter.head())\n",
    "print(wetter.tail())\n",
    "print(wetter.shape)"
   ]
  },
  {
   "cell_type": "code",
   "execution_count": 9,
   "metadata": {},
   "outputs": [
    {
     "name": "stdout",
     "output_type": "stream",
     "text": [
      "        Datum      Umsatz  Warengruppe_1  Warengruppe_2  Warengruppe_3  \\\n",
      "0  2013-07-01  148.828353              1              0              0   \n",
      "1  2013-07-02  159.793757              1              0              0   \n",
      "2  2013-07-03  111.885594              1              0              0   \n",
      "3  2013-07-04  168.864941              1              0              0   \n",
      "4  2013-07-05  171.280754              1              0              0   \n",
      "\n",
      "   Warengruppe_4  Warengruppe_5  Warengruppe_6  Temp_Very_Cold  Temp_Cold  \\\n",
      "0              0              0              0               0          0   \n",
      "1              0              0              0               0          0   \n",
      "2              0              0              0               0          0   \n",
      "3              0              0              0               0          0   \n",
      "4              0              0              0               0          0   \n",
      "\n",
      "   ...  Cloud_Clear  Cloud_Partly_Cloudy  Cloud_Cloudy  Wind_Light  \\\n",
      "0  ...            0                    0             1           0   \n",
      "1  ...            0                    1             0           0   \n",
      "2  ...            0                    0             1           1   \n",
      "3  ...            0                    0             1           1   \n",
      "4  ...            0                    1             0           0   \n",
      "\n",
      "   Wind_Moderate  Wind_Strong  Weather_Good  Weather_Light_Issues  \\\n",
      "0              1            0             0                     1   \n",
      "1              1            0             0                     1   \n",
      "2              0            0             0                     1   \n",
      "3              0            0             0                     1   \n",
      "4              1            0             0                     1   \n",
      "\n",
      "   Weather_Moderate  Weather_Severe  \n",
      "0                 0               0  \n",
      "1                 0               0  \n",
      "2                 0               0  \n",
      "3                 0               0  \n",
      "4                 0               0  \n",
      "\n",
      "[5 rows x 23 columns]\n",
      "(9334, 23)\n"
     ]
    }
   ],
   "source": [
    "#nun können die Umsatzdaten mit den Wetterdaten zusammengeführt werden\n",
    "#merge the data\n",
    "data = pd.merge(umsatz,wetter, how='left', on='Datum')\n",
    "print(data.head())\n",
    "print(data.shape)\n",
    "\n",
    "#es werden nur die Zeilen behalten, für welche es Umsatzdaten gibt"
   ]
  },
  {
   "cell_type": "code",
   "execution_count": 10,
   "metadata": {},
   "outputs": [
    {
     "name": "stdout",
     "output_type": "stream",
     "text": [
      "        Datum  KielerWoche\n",
      "0  2012-06-16            1\n",
      "1  2012-06-17            1\n",
      "2  2012-06-18            1\n",
      "3  2012-06-19            1\n",
      "4  2012-06-20            1\n",
      "         Datum  KielerWoche\n",
      "67  2019-06-26            1\n",
      "68  2019-06-27            1\n",
      "69  2019-06-28            1\n",
      "70  2019-06-29            1\n",
      "71  2019-06-30            1\n",
      "(72, 2)\n"
     ]
    }
   ],
   "source": [
    "#Kieler Woche Daten\n",
    "kiwo = pd.read_csv(\"/workspaces/bakery_sales_prediction/0_DataPreparation/kiwo.csv\")\n",
    "print(kiwo.head())\n",
    "print(kiwo.tail())\n",
    "print(kiwo.shape)"
   ]
  },
  {
   "cell_type": "code",
   "execution_count": 11,
   "metadata": {},
   "outputs": [
    {
     "name": "stdout",
     "output_type": "stream",
     "text": [
      "        Datum      Umsatz  Warengruppe_1  Warengruppe_2  Warengruppe_3  \\\n",
      "0  2013-07-01  148.828353              1              0              0   \n",
      "1  2013-07-02  159.793757              1              0              0   \n",
      "2  2013-07-03  111.885594              1              0              0   \n",
      "3  2013-07-04  168.864941              1              0              0   \n",
      "4  2013-07-05  171.280754              1              0              0   \n",
      "\n",
      "   Warengruppe_4  Warengruppe_5  Warengruppe_6  Temp_Very_Cold  Temp_Cold  \\\n",
      "0              0              0              0               0          0   \n",
      "1              0              0              0               0          0   \n",
      "2              0              0              0               0          0   \n",
      "3              0              0              0               0          0   \n",
      "4              0              0              0               0          0   \n",
      "\n",
      "   ...  Cloud_Partly_Cloudy  Cloud_Cloudy  Wind_Light  Wind_Moderate  \\\n",
      "0  ...                    0             1           0              1   \n",
      "1  ...                    1             0           0              1   \n",
      "2  ...                    0             1           1              0   \n",
      "3  ...                    0             1           1              0   \n",
      "4  ...                    1             0           0              1   \n",
      "\n",
      "   Wind_Strong  Weather_Good  Weather_Light_Issues  Weather_Moderate  \\\n",
      "0            0             0                     1                 0   \n",
      "1            0             0                     1                 0   \n",
      "2            0             0                     1                 0   \n",
      "3            0             0                     1                 0   \n",
      "4            0             0                     1                 0   \n",
      "\n",
      "   Weather_Severe  KielerWoche  \n",
      "0               0          NaN  \n",
      "1               0          NaN  \n",
      "2               0          NaN  \n",
      "3               0          NaN  \n",
      "4               0          NaN  \n",
      "\n",
      "[5 rows x 24 columns]\n",
      "(9334, 24)\n",
      "        Datum      Umsatz  Warengruppe_1  Warengruppe_2  Warengruppe_3  \\\n",
      "0  2013-07-01  148.828353              1              0              0   \n",
      "1  2013-07-02  159.793757              1              0              0   \n",
      "2  2013-07-03  111.885594              1              0              0   \n",
      "3  2013-07-04  168.864941              1              0              0   \n",
      "4  2013-07-05  171.280754              1              0              0   \n",
      "\n",
      "   Warengruppe_4  Warengruppe_5  Warengruppe_6  Temp_Very_Cold  Temp_Cold  \\\n",
      "0              0              0              0               0          0   \n",
      "1              0              0              0               0          0   \n",
      "2              0              0              0               0          0   \n",
      "3              0              0              0               0          0   \n",
      "4              0              0              0               0          0   \n",
      "\n",
      "   ...  Cloud_Partly_Cloudy  Cloud_Cloudy  Wind_Light  Wind_Moderate  \\\n",
      "0  ...                    0             1           0              1   \n",
      "1  ...                    1             0           0              1   \n",
      "2  ...                    0             1           1              0   \n",
      "3  ...                    0             1           1              0   \n",
      "4  ...                    1             0           0              1   \n",
      "\n",
      "   Wind_Strong  Weather_Good  Weather_Light_Issues  Weather_Moderate  \\\n",
      "0            0             0                     1                 0   \n",
      "1            0             0                     1                 0   \n",
      "2            0             0                     1                 0   \n",
      "3            0             0                     1                 0   \n",
      "4            0             0                     1                 0   \n",
      "\n",
      "   Weather_Severe  KielerWoche  \n",
      "0               0            0  \n",
      "1               0            0  \n",
      "2               0            0  \n",
      "3               0            0  \n",
      "4               0            0  \n",
      "\n",
      "[5 rows x 24 columns]\n",
      "(9334, 24)\n"
     ]
    }
   ],
   "source": [
    "# und nun noch die Kieler Woche Daten hinzufügen\n",
    "data = pd.merge(data, kiwo, how='left', on='Datum')\n",
    "print(data.head())\n",
    "print(data.shape)\n",
    "\n",
    "#im moment steht da eine 1.0 wenn es Kieler Woche ist und eine NaN wenn nicht. Das ändern wir jetzt\n",
    "data['KielerWoche'] = data['KielerWoche'].fillna(0)\n",
    "data['KielerWoche'] = data['KielerWoche'].astype(int)\n",
    "print(data.head())\n",
    "print(data.shape)"
   ]
  },
  {
   "cell_type": "code",
   "execution_count": 12,
   "metadata": {},
   "outputs": [],
   "source": [
    "#exportieren der Daten als csv\n",
    "data.to_csv(\"data_simple.csv\", index=False)"
   ]
  }
 ],
 "metadata": {
  "kernelspec": {
   "display_name": "Python 3",
   "language": "python",
   "name": "python3"
  },
  "language_info": {
   "codemirror_mode": {
    "name": "ipython",
    "version": 3
   },
   "file_extension": ".py",
   "mimetype": "text/x-python",
   "name": "python",
   "nbconvert_exporter": "python",
   "pygments_lexer": "ipython3",
   "version": "3.12.1"
  }
 },
 "nbformat": 4,
 "nbformat_minor": 2
}
