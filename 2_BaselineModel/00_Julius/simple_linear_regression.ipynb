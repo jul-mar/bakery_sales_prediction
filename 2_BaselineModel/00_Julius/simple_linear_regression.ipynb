{
 "cells": [
  {
   "cell_type": "code",
   "execution_count": 2,
   "metadata": {},
   "outputs": [],
   "source": [
    "# Import necessary libraries\n",
    "import pandas as pd  # Data manipulation and handling\n",
    "import statsmodels.api as sm  # Building and summarizing regression models\n",
    "from sklearn.preprocessing import StandardScaler  # Scaling features for regression\n",
    "from sklearn.model_selection import train_test_split  # Splitting data into train and test sets\n",
    "import matplotlib.pyplot as plt  # Visualization library\n",
    "import seaborn as sns  # Advanced data visualizations"
   ]
  },
  {
   "cell_type": "code",
   "execution_count": 6,
   "metadata": {},
   "outputs": [
    {
     "name": "stdout",
     "output_type": "stream",
     "text": [
      "        Datum  Warengruppe      Umsatz  Temp_Very_Cold  Temp_Cold  Temp_Mild  \\\n",
      "0  2013-07-01            1  148.828353               0          0          1   \n",
      "1  2013-07-02            1  159.793757               0          0          1   \n",
      "2  2013-07-03            1  111.885594               0          0          0   \n",
      "3  2013-07-04            1  168.864941               0          0          1   \n",
      "4  2013-07-05            1  171.280754               0          0          1   \n",
      "\n",
      "   Temp_Warm  Temp_Hot  Cloud_Clear  Cloud_Partly_Cloudy  ...  Samstag  \\\n",
      "0          0         0            0                    0  ...        0   \n",
      "1          0         0            0                    1  ...        0   \n",
      "2          1         0            0                    0  ...        0   \n",
      "3          0         0            0                    0  ...        0   \n",
      "4          0         0            0                    1  ...        0   \n",
      "\n",
      "   Sonntag   VPI  Number_of_ships  Ship  Heimspiel  Feiertag  is_holiday  \\\n",
      "0        0  98.9              0.0     0          0         0           0   \n",
      "1        0  98.9              0.0     0          0         0           0   \n",
      "2        0  98.9              0.0     0          0         0           0   \n",
      "3        0  98.9              0.0     0          0         0           0   \n",
      "4        0  98.9              1.0     1          0         0           0   \n",
      "\n",
      "   Weihnachtsmarkt  Markt  \n",
      "0                0      0  \n",
      "1                0      0  \n",
      "2                0      0  \n",
      "3                0      0  \n",
      "4                0      0  \n",
      "\n",
      "[5 rows x 34 columns]\n",
      "(7493, 34)\n"
     ]
    }
   ],
   "source": [
    "#Load the data\n",
    "data = pd.read_csv('/workspaces/bakery_sales_prediction/0_DataPreparation/00_data/Trainingsdaten_long.csv')\n",
    "# Display the first few rows of the dataset for inspection\n",
    "print(data.head())\n",
    "print(data.shape)"
   ]
  },
  {
   "cell_type": "code",
   "execution_count": null,
   "metadata": {},
   "outputs": [],
   "source": [
    "# Select features and target variable\n",
    "features = ['is_holiday', 'Temp_Very_Cold', 'Temp_Cold', 'Temp_Mild', 'Temp_Warm', 'Temp_Hot', 'Cloud_Clear', 'Cloud_Partly_Cloudy', 'Cloud_Cloudy', 'Wind_Light', 'Wind_Moderate', 'Wind_Strong', 'Weather_Good', 'Weather_Light_Issues', 'Weather_Moderate', 'Weather_Severe', 'Weather_Unknown']\n",
    "X = data[features[0:5]]\n",
    "y = data['Umsatz_total']  # Target variable: Umsatz_total\n",
    "print(X)\n",
    "print(y)"
   ]
  }
 ],
 "metadata": {
  "kernelspec": {
   "display_name": "Python 3",
   "language": "python",
   "name": "python3"
  },
  "language_info": {
   "codemirror_mode": {
    "name": "ipython",
    "version": 3
   },
   "file_extension": ".py",
   "mimetype": "text/x-python",
   "name": "python",
   "nbconvert_exporter": "python",
   "pygments_lexer": "ipython3",
   "version": "3.12.1"
  }
 },
 "nbformat": 4,
 "nbformat_minor": 2
}
