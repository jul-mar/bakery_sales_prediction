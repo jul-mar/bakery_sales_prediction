{
 "cells": [
  {
   "cell_type": "code",
   "execution_count": 2,
   "metadata": {},
   "outputs": [],
   "source": [
    "# Import necessary libraries\n",
    "import pandas as pd  # Data manipulation and handling\n",
    "import statsmodels.api as sm  # Building and summarizing regression models\n",
    "from sklearn.preprocessing import StandardScaler  # Scaling features for regression\n",
    "from sklearn.model_selection import train_test_split  # Splitting data into train and test sets\n",
    "import matplotlib.pyplot as plt  # Visualization library\n",
    "import seaborn as sns  # Advanced data visualizations"
   ]
  },
  {
   "cell_type": "code",
   "execution_count": 1,
   "metadata": {},
   "outputs": [
    {
     "ename": "NameError",
     "evalue": "name 'pd' is not defined",
     "output_type": "error",
     "traceback": [
      "\u001b[0;31m---------------------------------------------------------------------------\u001b[0m",
      "\u001b[0;31mNameError\u001b[0m                                 Traceback (most recent call last)",
      "Cell \u001b[0;32mIn[1], line 2\u001b[0m\n\u001b[1;32m      1\u001b[0m \u001b[38;5;66;03m#Load the data\u001b[39;00m\n\u001b[0;32m----> 2\u001b[0m data \u001b[38;5;241m=\u001b[39m \u001b[43mpd\u001b[49m\u001b[38;5;241m.\u001b[39mread_csv(\u001b[38;5;124m'\u001b[39m\u001b[38;5;124m/workspaces/bakery_sales_prediction/0_DataPreparation/Trainingsdaten.csv\u001b[39m\u001b[38;5;124m'\u001b[39m)\n\u001b[1;32m      3\u001b[0m \u001b[38;5;66;03m# Display the first few rows of the dataset for inspection\u001b[39;00m\n\u001b[1;32m      4\u001b[0m \u001b[38;5;28mprint\u001b[39m(data\u001b[38;5;241m.\u001b[39mhead())\n",
      "\u001b[0;31mNameError\u001b[0m: name 'pd' is not defined"
     ]
    }
   ],
   "source": [
    "#Load the data\n",
    "data = pd.read_csv('/workspaces/bakery_sales_prediction/0_DataPreparation/Trainingsdaten.csv')\n",
    "# Display the first few rows of the dataset for inspection\n",
    "print(data.head())"
   ]
  },
  {
   "cell_type": "code",
   "execution_count": 19,
   "metadata": {},
   "outputs": [
    {
     "name": "stdout",
     "output_type": "stream",
     "text": [
      "['Kuchen', 'Saisonbrot', 'Temp_Very_Cold', 'Temp_Cold', 'Temp_Mild', 'Temp_Warm', 'Temp_Hot', 'Cloud_Clear', 'Cloud_Partly_Cloudy', 'Cloud_Cloudy', 'Wind_Light', 'Wind_Moderate', 'Wind_Strong', 'Weather_Good', 'Weather_Light_Issues', 'Weather_Moderate', 'Weather_Severe', 'Weather_Unknown', 'VPI', 'is_holiday']\n"
     ]
    }
   ],
   "source": [
    "#Because of all the temperature variables, here is a function to split the copied string from the csv headers into a list of strings with all the variables\n",
    "def split_temperature_cloud_string(input_string):\n",
    "    return input_string.split(',')\n",
    "\n",
    "# Example usage\n",
    "input_str = \"Kuchen,Saisonbrot,Temp_Very_Cold,Temp_Cold,Temp_Mild,Temp_Warm,Temp_Hot,Cloud_Clear,Cloud_Partly_Cloudy,Cloud_Cloudy,Wind_Light,Wind_Moderate,Wind_Strong,Weather_Good,Weather_Light_Issues,Weather_Moderate,Weather_Severe,Weather_Unknown,VPI,is_holiday\"\n",
    "result = split_temperature_cloud_string(input_str)\n",
    "print(result)"
   ]
  },
  {
   "cell_type": "code",
   "execution_count": 12,
   "metadata": {},
   "outputs": [
    {
     "name": "stdout",
     "output_type": "stream",
     "text": [
      "        VPI      Kuchen  Saisonbrot  is_holiday  Temp_Very_Cold\n",
      "0      98.9  317.475875         0.0           0             0.0\n",
      "1      98.9  383.628682         0.0           0             0.0\n",
      "2      98.9  305.523072         0.0           0             0.0\n",
      "3      98.9  308.408168         0.0           0             0.0\n",
      "4      98.9  355.518770         0.0           0             0.0\n",
      "...     ...         ...         ...         ...             ...\n",
      "1457  102.5  274.724778         0.0           0             0.0\n",
      "1458  102.5  265.400900         0.0           0             0.0\n",
      "1459  102.5  260.119811         0.0           0             0.0\n",
      "1460  102.5  294.303759         0.0           0             0.0\n",
      "1461  102.5  222.684256         0.0           0             0.0\n",
      "\n",
      "[1462 rows x 5 columns]\n",
      "0       1269\n",
      "1       1430\n",
      "2       1124\n",
      "3       1184\n",
      "4       1288\n",
      "        ... \n",
      "1457    1472\n",
      "1458    1374\n",
      "1459    1454\n",
      "1460    1438\n",
      "1461    1315\n",
      "Name: Umsatz_total, Length: 1462, dtype: int64\n"
     ]
    }
   ],
   "source": [
    "# Select features and target variable\n",
    "features = ['VPI', 'Kuchen', 'Saisonbrot', 'is_holiday', 'Temp_Very_Cold', 'Temp_Cold', 'Temp_Mild', 'Temp_Warm', 'Temp_Hot', 'Cloud_Clear', 'Cloud_Partly_Cloudy', 'Cloud_Cloudy', 'Wind_Light', 'Wind_Moderate', 'Wind_Strong', 'Weather_Good', 'Weather_Light_Issues', 'Weather_Moderate', 'Weather_Severe', 'Weather_Unknown']\n",
    "X = data[features[0:5]]\n",
    "y = data['Umsatz_total']  # Target variable: Umsatz_total\n",
    "print(X)\n",
    "print(y)"
   ]
  },
  {
   "cell_type": "code",
   "execution_count": 13,
   "metadata": {},
   "outputs": [],
   "source": [
    "# Scale the feature data to standardize the range\n",
    "scaler = StandardScaler()\n",
    "X_scaled = scaler.fit_transform(X)"
   ]
  },
  {
   "cell_type": "code",
   "execution_count": 14,
   "metadata": {},
   "outputs": [],
   "source": [
    "# Split the data into training and testing sets (80% training, 20% testing)\n",
    "X_train, X_test, y_train, y_test = train_test_split(X_scaled, y, test_size=0.2, random_state=42)"
   ]
  },
  {
   "cell_type": "code",
   "execution_count": null,
   "metadata": {},
   "outputs": [],
   "source": [
    "# Add a constant term to the training data for the regression intercept\n",
    "X_train = sm.add_constant(X_train)"
   ]
  },
  {
   "cell_type": "code",
   "execution_count": 16,
   "metadata": {},
   "outputs": [],
   "source": [
    "# Train the linear regression model using Statsmodels\n",
    "model = sm.OLS(y_train, X_train).fit()"
   ]
  },
  {
   "cell_type": "code",
   "execution_count": 17,
   "metadata": {},
   "outputs": [
    {
     "name": "stdout",
     "output_type": "stream",
     "text": [
      "                            OLS Regression Results                            \n",
      "==============================================================================\n",
      "Dep. Variable:           Umsatz_total   R-squared:                       0.265\n",
      "Model:                            OLS   Adj. R-squared:                  0.262\n",
      "Method:                 Least Squares   F-statistic:                     104.8\n",
      "Date:                Wed, 04 Dec 2024   Prob (F-statistic):           2.70e-76\n",
      "Time:                        20:30:34   Log-Likelihood:                -8581.9\n",
      "No. Observations:                1169   AIC:                         1.717e+04\n",
      "Df Residuals:                    1164   BIC:                         1.720e+04\n",
      "Df Model:                           4                                         \n",
      "Covariance Type:            nonrobust                                         \n",
      "==============================================================================\n",
      "                 coef    std err          t      P>|t|      [0.025      0.975]\n",
      "------------------------------------------------------------------------------\n",
      "const       1082.0807     10.943     98.881      0.000    1060.610    1103.551\n",
      "x1            20.8349     11.267      1.849      0.065      -1.271      42.941\n",
      "x2           227.5453     11.346     20.054      0.000     205.284     249.807\n",
      "x3            17.3206     11.046      1.568      0.117      -4.352      38.993\n",
      "x4                  0          0        nan        nan           0           0\n",
      "x5           -25.2270     10.967     -2.300      0.022     -46.744      -3.710\n",
      "==============================================================================\n",
      "Omnibus:                     2681.939   Durbin-Watson:                   1.901\n",
      "Prob(Omnibus):                  0.000   Jarque-Bera (JB):         17499428.793\n",
      "Skew:                          20.623   Prob(JB):                         0.00\n",
      "Kurtosis:                     600.970   Cond. No.                     1.25e+19\n",
      "==============================================================================\n",
      "\n",
      "Notes:\n",
      "[1] Standard Errors assume that the covariance matrix of the errors is correctly specified.\n",
      "[2] The smallest eigenvalue is 9.19e-36. This might indicate that there are\n",
      "strong multicollinearity problems or that the design matrix is singular.\n"
     ]
    }
   ],
   "source": [
    "# Print the summary of the regression model\n",
    "# Includes metrics like R-squared, coefficients, and p-values for each feature\n",
    "print(model.summary())"
   ]
  }
 ],
 "metadata": {
  "kernelspec": {
   "display_name": "Python 3",
   "language": "python",
   "name": "python3"
  },
  "language_info": {
   "codemirror_mode": {
    "name": "ipython",
    "version": 3
   },
   "file_extension": ".py",
   "mimetype": "text/x-python",
   "name": "python",
   "nbconvert_exporter": "python",
   "pygments_lexer": "ipython3",
   "version": "3.12.1"
  }
 },
 "nbformat": 4,
 "nbformat_minor": 2
}
