{
 "cells": [
  {
   "cell_type": "markdown",
   "metadata": {},
   "source": [
    "Nachdem jeder von uns eine lineare Regression über 2 Warengruppen berechnet hat und bereits mit der richtigen id zum hochkaden versehen hat werden diese files nun hier zusammen geführt. Die finale datei kann dann bei kaggle hochgeladen werden."
   ]
  },
  {
   "cell_type": "code",
   "execution_count": 7,
   "metadata": {},
   "outputs": [],
   "source": [
    "import pandas as pd\n",
    "import numpy as np"
   ]
  },
  {
   "cell_type": "code",
   "execution_count": 8,
   "metadata": {},
   "outputs": [
    {
     "name": "stdout",
     "output_type": "stream",
     "text": [
      "        id      Umsatz\n",
      "0  1808011  136.312455\n",
      "1  1808021  152.319869\n",
      "2  1808031  144.021737\n",
      "3  1808041  163.872037\n",
      "4  1808051   94.088221\n",
      "        id      Umsatz\n",
      "0  1808012  510.034425\n",
      "1  1808022  521.377082\n",
      "2  1808032  529.906651\n",
      "3  1808042  668.994872\n",
      "4  1808052  724.025789\n",
      "        id      Umsatz\n",
      "0  1808013  239.649219\n",
      "1  1808023  232.736675\n",
      "2  1808033  239.320965\n",
      "3  1808043  307.512735\n",
      "4  1808053  313.222980\n",
      "        id      Umsatz\n",
      "0  1808014   71.295503\n",
      "1  1808024   64.213064\n",
      "2  1808034   66.859881\n",
      "3  1808044   69.772785\n",
      "4  1808054  127.427443\n",
      "        id      Umsatz\n",
      "0  1808015  303.031586\n",
      "1  1808025  270.447776\n",
      "2  1808035  270.447776\n",
      "3  1808045  277.672660\n",
      "4  1808055  313.621086\n",
      "        id     Umsatz\n",
      "0  1811016  46.564502\n",
      "1  1811026  53.124108\n",
      "2  1811036  80.750774\n",
      "3  1811046  71.680140\n",
      "4  1811056  53.765667\n"
     ]
    }
   ],
   "source": [
    "#load the data\n",
    "#Warengruppe_1 = Brot\n",
    "df_1 = pd.read_csv('./02_Franz/Umsatzvorhersage_Brot_Hochladeformat.csv')\n",
    "print(df_1.head())\n",
    "\n",
    "#Warengruppe_2 = Brötchen\n",
    "df_2 = pd.read_csv('./02_Franz/Umsatzvorhersage_Broetchen_Hochladeformat.csv')\n",
    "print(df_2.head())\n",
    "\n",
    "#Warengruppe_3 = Croissants\n",
    "df_3 = pd.read_csv('./Croissants_sample_submission.csv')\n",
    "print(df_3.head())\n",
    "\n",
    "#Warengruppe_4 = Konditorei\n",
    "df_4 = pd.read_csv('./Konditorei_sample_submission.csv')\n",
    "print(df_4.head())\n",
    "\n",
    "#Warengruppe_5 = Kuchen\n",
    "df_5 = pd.read_csv('./kuchen_sample_submission.csv')\n",
    "print(df_5.head())\n",
    "\n",
    "#Warengruppe_6 = Saisonbrot\n",
    "df_6 = pd.read_csv('./saisonbrot_sample_submission.csv')\n",
    "print(df_6.head())"
   ]
  },
  {
   "cell_type": "code",
   "execution_count": 10,
   "metadata": {},
   "outputs": [
    {
     "name": "stdout",
     "output_type": "stream",
     "text": [
      "        id      Umsatz\n",
      "0  1808011  136.312455\n",
      "1  1808021  152.319869\n",
      "2  1808031  144.021737\n",
      "3  1808041  163.872037\n",
      "4  1808051   94.088221\n",
      "         id     Umsatz\n",
      "51  1812226  72.247372\n",
      "52  1812236  71.038581\n",
      "53  1812246  71.038581\n",
      "54  1812276  71.038581\n",
      "55  1812286  71.038581\n",
      "(1830, 2)\n"
     ]
    }
   ],
   "source": [
    "#concatenate the data\n",
    "df = pd.concat([df_1, df_2, df_3, df_4, df_5, df_6])\n",
    "print(df.head())\n",
    "print(df.tail())\n",
    "\n",
    "print(df.shape)"
   ]
  },
  {
   "cell_type": "code",
   "execution_count": 11,
   "metadata": {},
   "outputs": [
    {
     "name": "stdout",
     "output_type": "stream",
     "text": [
      "        id  Umsatz\n",
      "0  1808011       0\n",
      "1  1808021       0\n",
      "2  1808031       0\n",
      "3  1808041       0\n",
      "4  1808051       0\n",
      "           id  Umsatz\n",
      "1825  1812226       0\n",
      "1826  1812236       0\n",
      "1827  1812246       0\n",
      "1828  1812276       0\n",
      "1829  1812286       0\n",
      "(1830, 2)\n"
     ]
    }
   ],
   "source": [
    "#als kontrolle einmal die samplesubmission einlesen\n",
    "df_sample = pd.read_csv('./sample_submission.csv')\n",
    "print(df_sample.head())\n",
    "print(df_sample.tail())\n",
    "print(df_sample.shape)"
   ]
  },
  {
   "cell_type": "code",
   "execution_count": 12,
   "metadata": {},
   "outputs": [],
   "source": [
    "#export the data\n",
    "df.to_csv('./Umsatzvorhersage_Team12.csv', index=False)"
   ]
  },
  {
   "cell_type": "code",
   "execution_count": null,
   "metadata": {},
   "outputs": [],
   "source": []
  }
 ],
 "metadata": {
  "kernelspec": {
   "display_name": "Python 3",
   "language": "python",
   "name": "python3"
  },
  "language_info": {
   "codemirror_mode": {
    "name": "ipython",
    "version": 3
   },
   "file_extension": ".py",
   "mimetype": "text/x-python",
   "name": "python",
   "nbconvert_exporter": "python",
   "pygments_lexer": "ipython3",
   "version": "3.12.1"
  }
 },
 "nbformat": 4,
 "nbformat_minor": 2
}
